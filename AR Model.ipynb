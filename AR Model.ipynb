{
 "cells": [
  {
   "cell_type": "code",
   "execution_count": 2,
   "id": "670cc390",
   "metadata": {
    "scrolled": true
   },
   "outputs": [
    {
     "name": "stdout",
     "output_type": "stream",
     "text": [
      "Requirement already satisfied: pandas in c:\\users\\erica zhao\\anaconda3\\lib\\site-packages (1.2.4)\n",
      "Requirement already satisfied: python-dateutil>=2.7.3 in c:\\users\\erica zhao\\anaconda3\\lib\\site-packages (from pandas) (2.8.1)\n",
      "Requirement already satisfied: numpy>=1.16.5 in c:\\users\\erica zhao\\anaconda3\\lib\\site-packages (from pandas) (1.20.1)\n",
      "Requirement already satisfied: pytz>=2017.3 in c:\\users\\erica zhao\\anaconda3\\lib\\site-packages (from pandas) (2021.1)\n",
      "Requirement already satisfied: six>=1.5 in c:\\users\\erica zhao\\anaconda3\\lib\\site-packages (from python-dateutil>=2.7.3->pandas) (1.15.0)\n"
     ]
    }
   ],
   "source": [
    "!pip install pandas\n",
    "import pandas as pd"
   ]
  },
  {
   "cell_type": "code",
   "execution_count": 3,
   "id": "b1026e6d",
   "metadata": {},
   "outputs": [],
   "source": [
    "carbon_price_url = 'https://raw.githubusercontent.com/Erica-zya/Honor-Thesis/main/Data/Daily%20Carbon%20Price_EU.csv'\n",
    "carbon_price = pd.read_csv(carbon_price_url, header=0)\n",
    "carbon_price['Date'] = pd.to_datetime(carbon_price['Date'])\n",
    "\n",
    "oil_price_url = 'https://raw.githubusercontent.com/Erica-zya/Honor-Thesis/main/Data/Daily%20Crude%20Oil%20Price_Brent%20Oil%20Futures.csv'\n",
    "oil_price = pd.read_csv(oil_price_url, header=0)\n",
    "oil_price['Date'] = pd.to_datetime(oil_price['Date'])\n",
    "\n",
    "coal_price_url = 'https://raw.githubusercontent.com/Erica-zya/Honor-Thesis/main/Data/Daily%20Coal%20Price_Rotterdam%20Coal.csv'\n",
    "coal_price = pd.read_csv(coal_price_url, header=0)\n",
    "coal_price['Date'] = pd.to_datetime(coal_price['Date'])\n",
    "\n",
    "gas_price_url = 'https://raw.githubusercontent.com/Erica-zya/Honor-Thesis/main/Data/Daily%20Natural%20Gas%20Price_Dutch%20TTF.csv'\n",
    "gas_price = pd.read_csv(gas_price_url, header=0)\n",
    "gas_price['Date'] = pd.to_datetime(gas_price['Date'])"
   ]
  },
  {
   "cell_type": "markdown",
   "id": "469f5d43",
   "metadata": {},
   "source": [
    "# AR Model"
   ]
  },
  {
   "cell_type": "markdown",
   "id": "ac5d2f95",
   "metadata": {},
   "source": [
    "### AR(1) Model"
   ]
  },
  {
   "cell_type": "code",
   "execution_count": 4,
   "id": "8d7e53de",
   "metadata": {
    "scrolled": false
   },
   "outputs": [
    {
     "name": "stdout",
     "output_type": "stream",
     "text": [
      "                            AutoReg Model Results                             \n",
      "==============================================================================\n",
      "Dep. Variable:                  Price   No. Observations:                 4876\n",
      "Model:                     AutoReg(1)   Log Likelihood               -6799.833\n",
      "Method:               Conditional MLE   S.D. of innovations              0.976\n",
      "Date:                Mon, 18 Mar 2024   AIC                             -0.047\n",
      "Time:                        19:47:18   BIC                             -0.043\n",
      "Sample:                             1   HQIC                            -0.046\n",
      "                                 4876                                         \n",
      "==============================================================================\n",
      "                 coef    std err          z      P>|z|      [0.025      0.975]\n",
      "------------------------------------------------------------------------------\n",
      "intercept      0.0217      0.019      1.136      0.256      -0.016       0.059\n",
      "Price.L1       0.9994      0.001   1743.279      0.000       0.998       1.001\n",
      "                                    Roots                                    \n",
      "=============================================================================\n",
      "                  Real          Imaginary           Modulus         Frequency\n",
      "-----------------------------------------------------------------------------\n",
      "AR.1            1.0006           +0.0000j            1.0006            0.0000\n",
      "-----------------------------------------------------------------------------\n"
     ]
    },
    {
     "name": "stderr",
     "output_type": "stream",
     "text": [
      "C:\\Users\\Erica Zhao\\anaconda3\\lib\\site-packages\\statsmodels\\tsa\\base\\tsa_model.py:581: ValueWarning: A date index has been provided, but it has no associated frequency information and so will be ignored when e.g. forecasting.\n",
      "  warnings.warn('A date index has been provided, but it has no'\n",
      "C:\\Users\\Erica Zhao\\anaconda3\\lib\\site-packages\\statsmodels\\tsa\\ar_model.py:248: FutureWarning: The parameter names will change after 0.12 is released. Set old_names to False to use the new names now. Set old_names to True to use the old names. \n",
      "  warnings.warn(\n"
     ]
    }
   ],
   "source": [
    "from statsmodels.tsa.ar_model import AutoReg\n",
    "\n",
    "carbon_price.set_index('Date', inplace=True)\n",
    "carbon_price.sort_index(inplace=True)\n",
    "\n",
    "y = carbon_price['Price']\n",
    "\n",
    "model = AutoReg(y, lags=1)\n",
    "results = model.fit()\n",
    "\n",
    "print(results.summary())"
   ]
  },
  {
   "cell_type": "markdown",
   "id": "71a40822",
   "metadata": {},
   "source": [
    "### AR(1) Model With Data After 2018/1/1"
   ]
  },
  {
   "cell_type": "code",
   "execution_count": 5,
   "id": "bbc92095",
   "metadata": {
    "scrolled": false
   },
   "outputs": [
    {
     "name": "stdout",
     "output_type": "stream",
     "text": [
      "                            AutoReg Model Results                             \n",
      "==============================================================================\n",
      "Dep. Variable:                  Price   No. Observations:                 1572\n",
      "Model:                     AutoReg(1)   Log Likelihood               -2894.100\n",
      "Method:               Conditional MLE   S.D. of innovations              1.527\n",
      "Date:                Mon, 18 Mar 2024   AIC                              0.850\n",
      "Time:                        19:47:18   BIC                              0.861\n",
      "Sample:                             1   HQIC                             0.854\n",
      "                                 1572                                         \n",
      "==============================================================================\n",
      "                 coef    std err          z      P>|z|      [0.025      0.975]\n",
      "------------------------------------------------------------------------------\n",
      "intercept      0.1354      0.077      1.750      0.080      -0.016       0.287\n",
      "Price.L1       0.9979      0.001    720.593      0.000       0.995       1.001\n",
      "                                    Roots                                    \n",
      "=============================================================================\n",
      "                  Real          Imaginary           Modulus         Frequency\n",
      "-----------------------------------------------------------------------------\n",
      "AR.1            1.0021           +0.0000j            1.0021            0.0000\n",
      "-----------------------------------------------------------------------------\n"
     ]
    },
    {
     "name": "stderr",
     "output_type": "stream",
     "text": [
      "C:\\Users\\Erica Zhao\\anaconda3\\lib\\site-packages\\statsmodels\\tsa\\base\\tsa_model.py:581: ValueWarning: A date index has been provided, but it has no associated frequency information and so will be ignored when e.g. forecasting.\n",
      "  warnings.warn('A date index has been provided, but it has no'\n",
      "C:\\Users\\Erica Zhao\\anaconda3\\lib\\site-packages\\statsmodels\\tsa\\ar_model.py:248: FutureWarning: The parameter names will change after 0.12 is released. Set old_names to False to use the new names now. Set old_names to True to use the old names. \n",
      "  warnings.warn(\n"
     ]
    }
   ],
   "source": [
    "filtered_data = carbon_price[carbon_price.index > '2018-01-01']\n",
    "\n",
    "y = filtered_data['Price']\n",
    "\n",
    "model = AutoReg(y, lags=1)\n",
    "results = model.fit()\n",
    "\n",
    "print(results.summary())"
   ]
  },
  {
   "cell_type": "markdown",
   "id": "ee63bc1e",
   "metadata": {},
   "source": [
    "### AR(2) Model"
   ]
  },
  {
   "cell_type": "code",
   "execution_count": 6,
   "id": "415a0814",
   "metadata": {},
   "outputs": [
    {
     "name": "stdout",
     "output_type": "stream",
     "text": [
      "                            AutoReg Model Results                             \n",
      "==============================================================================\n",
      "Dep. Variable:                  Price   No. Observations:                 4876\n",
      "Model:                     AutoReg(2)   Log Likelihood               -6797.394\n",
      "Method:               Conditional MLE   S.D. of innovations              0.976\n",
      "Date:                Mon, 18 Mar 2024   AIC                             -0.047\n",
      "Time:                        19:47:18   BIC                             -0.042\n",
      "Sample:                             2   HQIC                            -0.045\n",
      "                                 4876                                         \n",
      "==============================================================================\n",
      "                 coef    std err          z      P>|z|      [0.025      0.975]\n",
      "------------------------------------------------------------------------------\n",
      "intercept      0.0215      0.019      1.122      0.262      -0.016       0.059\n",
      "Price.L1       0.9748      0.014     68.052      0.000       0.947       1.003\n",
      "Price.L2       0.0246      0.014      1.718      0.086      -0.003       0.053\n",
      "                                    Roots                                    \n",
      "=============================================================================\n",
      "                  Real          Imaginary           Modulus         Frequency\n",
      "-----------------------------------------------------------------------------\n",
      "AR.1            1.0005           +0.0000j            1.0005            0.0000\n",
      "AR.2          -40.6030           +0.0000j           40.6030            0.5000\n",
      "-----------------------------------------------------------------------------\n"
     ]
    },
    {
     "name": "stderr",
     "output_type": "stream",
     "text": [
      "C:\\Users\\Erica Zhao\\anaconda3\\lib\\site-packages\\statsmodels\\tsa\\base\\tsa_model.py:581: ValueWarning: A date index has been provided, but it has no associated frequency information and so will be ignored when e.g. forecasting.\n",
      "  warnings.warn('A date index has been provided, but it has no'\n",
      "C:\\Users\\Erica Zhao\\anaconda3\\lib\\site-packages\\statsmodels\\tsa\\ar_model.py:248: FutureWarning: The parameter names will change after 0.12 is released. Set old_names to False to use the new names now. Set old_names to True to use the old names. \n",
      "  warnings.warn(\n"
     ]
    }
   ],
   "source": [
    "y = carbon_price['Price']\n",
    "\n",
    "model = AutoReg(y, lags=2)\n",
    "results = model.fit()\n",
    "\n",
    "print(results.summary())"
   ]
  },
  {
   "cell_type": "markdown",
   "id": "f8fbe877",
   "metadata": {},
   "source": [
    "### AR(1) Model With Data After 2018/1/1"
   ]
  },
  {
   "cell_type": "code",
   "execution_count": 7,
   "id": "7d568f54",
   "metadata": {},
   "outputs": [
    {
     "name": "stdout",
     "output_type": "stream",
     "text": [
      "                            AutoReg Model Results                             \n",
      "==============================================================================\n",
      "Dep. Variable:                  Price   No. Observations:                 1572\n",
      "Model:                     AutoReg(2)   Log Likelihood               -2890.460\n",
      "Method:               Conditional MLE   S.D. of innovations              1.525\n",
      "Date:                Mon, 18 Mar 2024   AIC                              0.849\n",
      "Time:                        19:47:18   BIC                              0.863\n",
      "Sample:                             2   HQIC                             0.854\n",
      "                                 1572                                         \n",
      "==============================================================================\n",
      "                 coef    std err          z      P>|z|      [0.025      0.975]\n",
      "------------------------------------------------------------------------------\n",
      "intercept      0.1350      0.077      1.746      0.081      -0.017       0.287\n",
      "Price.L1       0.9439      0.025     37.436      0.000       0.894       0.993\n",
      "Price.L2       0.0540      0.025      2.144      0.032       0.005       0.103\n",
      "                                    Roots                                    \n",
      "=============================================================================\n",
      "                  Real          Imaginary           Modulus         Frequency\n",
      "-----------------------------------------------------------------------------\n",
      "AR.1            1.0020           +0.0000j            1.0020            0.0000\n",
      "AR.2          -18.4731           +0.0000j           18.4731            0.5000\n",
      "-----------------------------------------------------------------------------\n"
     ]
    },
    {
     "name": "stderr",
     "output_type": "stream",
     "text": [
      "C:\\Users\\Erica Zhao\\anaconda3\\lib\\site-packages\\statsmodels\\tsa\\base\\tsa_model.py:581: ValueWarning: A date index has been provided, but it has no associated frequency information and so will be ignored when e.g. forecasting.\n",
      "  warnings.warn('A date index has been provided, but it has no'\n",
      "C:\\Users\\Erica Zhao\\anaconda3\\lib\\site-packages\\statsmodels\\tsa\\ar_model.py:248: FutureWarning: The parameter names will change after 0.12 is released. Set old_names to False to use the new names now. Set old_names to True to use the old names. \n",
      "  warnings.warn(\n"
     ]
    }
   ],
   "source": [
    "y = filtered_data['Price']\n",
    "\n",
    "model = AutoReg(y, lags=2)\n",
    "results = model.fit()\n",
    "\n",
    "print(results.summary())"
   ]
  },
  {
   "cell_type": "markdown",
   "id": "ec406d37",
   "metadata": {},
   "source": [
    "# ARIMA Model"
   ]
  },
  {
   "cell_type": "code",
   "execution_count": 26,
   "id": "bbe45d8e",
   "metadata": {},
   "outputs": [
    {
     "data": {
      "text/plain": [
       "0      2017-10-23\n",
       "1      2017-10-24\n",
       "2      2017-10-25\n",
       "3      2017-10-26\n",
       "4      2017-10-27\n",
       "          ...    \n",
       "1573   2024-02-05\n",
       "1574   2024-02-06\n",
       "1575   2024-02-07\n",
       "1576   2024-02-08\n",
       "1577   2024-02-09\n",
       "Name: Date, Length: 1578, dtype: datetime64[ns]"
      ]
     },
     "execution_count": 26,
     "metadata": {},
     "output_type": "execute_result"
    }
   ],
   "source": [
    "# Copy and rename the 'Price' column for each DataFrame\n",
    "# Use reset_index to turn the 'Date' index back into a column for the merge\n",
    "carbon_price_copy = carbon_price.reset_index()[['Date', 'Price']].copy()\n",
    "carbon_price_copy.rename(columns={'Price': 'Carbon_Price'}, inplace=True)\n",
    "\n",
    "oil_price_copy = oil_price.reset_index()[['Date', 'Price']].copy()\n",
    "oil_price_copy.rename(columns={'Price': 'Oil_Price'}, inplace=True)\n",
    "\n",
    "coal_price_copy = coal_price.reset_index()[['Date', 'Price']].copy()\n",
    "coal_price_copy.rename(columns={'Price': 'Coal_Price'}, inplace=True)\n",
    "\n",
    "gas_price_copy = gas_price.reset_index()[['Date', 'Price']].copy()\n",
    "gas_price_copy.rename(columns={'Price': 'Gas_Price'}, inplace=True)\n",
    "\n",
    "# Perform the merges\n",
    "data_merged = pd.merge(carbon_price_copy, oil_price_copy, on='Date', how='inner')\n",
    "data_merged = pd.merge(data_merged, coal_price_copy, on='Date', how='inner')\n",
    "data_merged = pd.merge(data_merged, gas_price_copy, on='Date', how='inner')\n",
    "pd.to_datetime(data_merged['Date'])"
   ]
  },
  {
   "cell_type": "markdown",
   "id": "6c682a90",
   "metadata": {},
   "source": [
    "### ARIMA(1,1,1) Model"
   ]
  },
  {
   "cell_type": "code",
   "execution_count": 28,
   "id": "d56677a4",
   "metadata": {},
   "outputs": [
    {
     "name": "stdout",
     "output_type": "stream",
     "text": [
      "                               SARIMAX Results                                \n",
      "==============================================================================\n",
      "Dep. Variable:           Carbon_Price   No. Observations:                 1578\n",
      "Model:                 ARIMA(1, 1, 1)   Log Likelihood               -2880.904\n",
      "Date:                Mon, 18 Mar 2024   AIC                           5773.808\n",
      "Time:                        19:53:48   BIC                           5805.987\n",
      "Sample:                             0   HQIC                          5785.766\n",
      "                               - 1578                                         \n",
      "Covariance Type:                  opg                                         \n",
      "==============================================================================\n",
      "                 coef    std err          z      P>|z|      [0.025      0.975]\n",
      "------------------------------------------------------------------------------\n",
      "Oil_Price      0.0639      0.016      3.967      0.000       0.032       0.095\n",
      "Coal_Price    -0.0093      0.003     -3.356      0.001      -0.015      -0.004\n",
      "Gas_Price     -0.0055      0.003     -1.662      0.097      -0.012       0.001\n",
      "ar.L1         -0.7348      0.104     -7.095      0.000      -0.938      -0.532\n",
      "ma.L1          0.6780      0.112      6.072      0.000       0.459       0.897\n",
      "sigma2         2.2609      0.038     59.549      0.000       2.186       2.335\n",
      "===================================================================================\n",
      "Ljung-Box (L1) (Q):                   0.13   Jarque-Bera (JB):              7741.34\n",
      "Prob(Q):                              0.71   Prob(JB):                         0.00\n",
      "Heteroskedasticity (H):              13.80   Skew:                            -0.98\n",
      "Prob(H) (two-sided):                  0.00   Kurtosis:                        13.67\n",
      "===================================================================================\n",
      "\n",
      "Warnings:\n",
      "[1] Covariance matrix calculated using the outer product of gradients (complex-step).\n"
     ]
    }
   ],
   "source": [
    "from statsmodels.tsa.arima.model import ARIMA\n",
    "\n",
    "X = data_merged[['Oil_Price', 'Coal_Price', 'Gas_Price']]\n",
    "_y = data_merged['Carbon_Price']\n",
    "\n",
    "model_arima = ARIMA(_y, exog=X, order=(1,1,1))\n",
    "model_arima_fit = model_arima.fit()\n",
    "\n",
    "print(model_arima_fit.summary())"
   ]
  },
  {
   "cell_type": "markdown",
   "id": "11af0cf2",
   "metadata": {},
   "source": [
    "### ARIMA(1,1,1) Model With Data After 2018/1/1"
   ]
  },
  {
   "cell_type": "code",
   "execution_count": 16,
   "id": "f80f6c3b",
   "metadata": {
    "scrolled": false
   },
   "outputs": [
    {
     "data": {
      "text/html": [
       "<div>\n",
       "<style scoped>\n",
       "    .dataframe tbody tr th:only-of-type {\n",
       "        vertical-align: middle;\n",
       "    }\n",
       "\n",
       "    .dataframe tbody tr th {\n",
       "        vertical-align: top;\n",
       "    }\n",
       "\n",
       "    .dataframe thead th {\n",
       "        text-align: right;\n",
       "    }\n",
       "</style>\n",
       "<table border=\"1\" class=\"dataframe\">\n",
       "  <thead>\n",
       "    <tr style=\"text-align: right;\">\n",
       "      <th></th>\n",
       "      <th>Date</th>\n",
       "      <th>Carbon_Price</th>\n",
       "      <th>Oil_Price</th>\n",
       "      <th>Coal_Price</th>\n",
       "      <th>Gas_Price</th>\n",
       "    </tr>\n",
       "  </thead>\n",
       "  <tbody>\n",
       "    <tr>\n",
       "      <th>0</th>\n",
       "      <td>2017-10-23</td>\n",
       "      <td>7.87</td>\n",
       "      <td>57.37</td>\n",
       "      <td>91.80</td>\n",
       "      <td>18.09</td>\n",
       "    </tr>\n",
       "    <tr>\n",
       "      <th>1</th>\n",
       "      <td>2017-10-24</td>\n",
       "      <td>7.91</td>\n",
       "      <td>58.33</td>\n",
       "      <td>92.35</td>\n",
       "      <td>17.96</td>\n",
       "    </tr>\n",
       "    <tr>\n",
       "      <th>2</th>\n",
       "      <td>2017-10-25</td>\n",
       "      <td>7.84</td>\n",
       "      <td>58.44</td>\n",
       "      <td>91.95</td>\n",
       "      <td>18.11</td>\n",
       "    </tr>\n",
       "    <tr>\n",
       "      <th>3</th>\n",
       "      <td>2017-10-26</td>\n",
       "      <td>7.64</td>\n",
       "      <td>59.30</td>\n",
       "      <td>92.15</td>\n",
       "      <td>18.07</td>\n",
       "    </tr>\n",
       "    <tr>\n",
       "      <th>4</th>\n",
       "      <td>2017-10-27</td>\n",
       "      <td>7.61</td>\n",
       "      <td>60.44</td>\n",
       "      <td>92.35</td>\n",
       "      <td>18.15</td>\n",
       "    </tr>\n",
       "  </tbody>\n",
       "</table>\n",
       "</div>"
      ],
      "text/plain": [
       "        Date  Carbon_Price  Oil_Price  Coal_Price  Gas_Price\n",
       "0 2017-10-23          7.87      57.37       91.80      18.09\n",
       "1 2017-10-24          7.91      58.33       92.35      17.96\n",
       "2 2017-10-25          7.84      58.44       91.95      18.11\n",
       "3 2017-10-26          7.64      59.30       92.15      18.07\n",
       "4 2017-10-27          7.61      60.44       92.35      18.15"
      ]
     },
     "execution_count": 16,
     "metadata": {},
     "output_type": "execute_result"
    }
   ],
   "source": [
    "data_merged.head()"
   ]
  },
  {
   "cell_type": "code",
   "execution_count": 31,
   "id": "31be0874",
   "metadata": {
    "scrolled": false
   },
   "outputs": [
    {
     "name": "stderr",
     "output_type": "stream",
     "text": [
      "C:\\Users\\Erica Zhao\\anaconda3\\lib\\site-packages\\statsmodels\\tsa\\base\\tsa_model.py:578: ValueWarning: An unsupported index was provided and will be ignored when e.g. forecasting.\n",
      "  warnings.warn('An unsupported index was provided and will be'\n",
      "C:\\Users\\Erica Zhao\\anaconda3\\lib\\site-packages\\statsmodels\\tsa\\base\\tsa_model.py:578: ValueWarning: An unsupported index was provided and will be ignored when e.g. forecasting.\n",
      "  warnings.warn('An unsupported index was provided and will be'\n",
      "C:\\Users\\Erica Zhao\\anaconda3\\lib\\site-packages\\statsmodels\\tsa\\base\\tsa_model.py:578: ValueWarning: An unsupported index was provided and will be ignored when e.g. forecasting.\n",
      "  warnings.warn('An unsupported index was provided and will be'\n"
     ]
    },
    {
     "name": "stdout",
     "output_type": "stream",
     "text": [
      "                               SARIMAX Results                                \n",
      "==============================================================================\n",
      "Dep. Variable:           Carbon_Price   No. Observations:                 1531\n",
      "Model:                 ARIMA(1, 1, 1)   Log Likelihood               -2817.954\n",
      "Date:                Mon, 18 Mar 2024   AIC                           5647.907\n",
      "Time:                        19:54:30   BIC                           5679.906\n",
      "Sample:                             0   HQIC                          5659.816\n",
      "                               - 1531                                         \n",
      "Covariance Type:                  opg                                         \n",
      "==============================================================================\n",
      "                 coef    std err          z      P>|z|      [0.025      0.975]\n",
      "------------------------------------------------------------------------------\n",
      "Oil_Price      0.0641      0.017      3.862      0.000       0.032       0.097\n",
      "Coal_Price    -0.0094      0.003     -3.259      0.001      -0.015      -0.004\n",
      "Gas_Price     -0.0055      0.003     -1.616      0.106      -0.012       0.001\n",
      "ar.L1         -0.7348      0.107     -6.889      0.000      -0.944      -0.526\n",
      "ma.L1          0.6779      0.115      5.895      0.000       0.453       0.903\n",
      "sigma2         2.3296      0.040     57.697      0.000       2.250       2.409\n",
      "===================================================================================\n",
      "Ljung-Box (L1) (Q):                   0.13   Jarque-Bera (JB):              6975.22\n",
      "Prob(Q):                              0.72   Prob(JB):                         0.00\n",
      "Heteroskedasticity (H):              12.74   Skew:                            -0.97\n",
      "Prob(H) (two-sided):                  0.00   Kurtosis:                        13.28\n",
      "===================================================================================\n",
      "\n",
      "Warnings:\n",
      "[1] Covariance matrix calculated using the outer product of gradients (complex-step).\n"
     ]
    }
   ],
   "source": [
    "data_filtered = data_merged[data_merged['Date'] > '2018-01-01']\n",
    "_X = data_filtered[['Oil_Price', 'Coal_Price', 'Gas_Price']]\n",
    "_y_ = data_filtered['Carbon_Price']\n",
    "\n",
    "model_arima = ARIMA(_y_, exog=_X, order=(1,1,1))\n",
    "model_arima_fit = model_arima.fit()\n",
    "\n",
    "print(model_arima_fit.summary())"
   ]
  }
 ],
 "metadata": {
  "kernelspec": {
   "display_name": "Python 3",
   "language": "python",
   "name": "python3"
  },
  "language_info": {
   "codemirror_mode": {
    "name": "ipython",
    "version": 3
   },
   "file_extension": ".py",
   "mimetype": "text/x-python",
   "name": "python",
   "nbconvert_exporter": "python",
   "pygments_lexer": "ipython3",
   "version": "3.8.8"
  }
 },
 "nbformat": 4,
 "nbformat_minor": 5
}
