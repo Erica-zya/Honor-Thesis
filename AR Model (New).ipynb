{
 "cells": [
  {
   "cell_type": "code",
   "execution_count": 17,
   "id": "8a07aa96",
   "metadata": {
    "scrolled": true
   },
   "outputs": [
    {
     "name": "stdout",
     "output_type": "stream",
     "text": [
      "Requirement already satisfied: pandas in c:\\users\\erica zhao\\anaconda3\\lib\\site-packages (1.2.4)\n",
      "Requirement already satisfied: pytz>=2017.3 in c:\\users\\erica zhao\\anaconda3\\lib\\site-packages (from pandas) (2021.1)\n",
      "Requirement already satisfied: python-dateutil>=2.7.3 in c:\\users\\erica zhao\\anaconda3\\lib\\site-packages (from pandas) (2.8.1)\n",
      "Requirement already satisfied: numpy>=1.16.5 in c:\\users\\erica zhao\\anaconda3\\lib\\site-packages (from pandas) (1.20.1)\n",
      "Requirement already satisfied: six>=1.5 in c:\\users\\erica zhao\\anaconda3\\lib\\site-packages (from python-dateutil>=2.7.3->pandas) (1.15.0)\n"
     ]
    }
   ],
   "source": [
    "!pip install pandas\n",
    "import pandas as pd\n",
    "import numpy as np"
   ]
  },
  {
   "cell_type": "markdown",
   "id": "e1d04fc5",
   "metadata": {},
   "source": [
    "# AR Model"
   ]
  },
  {
   "cell_type": "code",
   "execution_count": 18,
   "id": "bdbf3352",
   "metadata": {},
   "outputs": [],
   "source": [
    "carbon_price_url = 'https://raw.githubusercontent.com/Erica-zya/Honor-Thesis/main/Data/Data_New/Daily%20Carbon%20Price.csv'\n",
    "carbon_price = pd.read_csv(carbon_price_url, header=0)\n",
    "carbon_price['Date'] = pd.to_datetime(carbon_price['Date'])"
   ]
  },
  {
   "cell_type": "code",
   "execution_count": 19,
   "id": "0a8f5fae",
   "metadata": {
    "scrolled": true
   },
   "outputs": [],
   "source": [
    "carbon_price = carbon_price.replace([np.inf, -np.inf], np.nan)\n",
    "carbon_price.dropna(subset=['Carbon'], inplace=True)"
   ]
  },
  {
   "cell_type": "markdown",
   "id": "d71f039e",
   "metadata": {},
   "source": [
    "### AR(1) Model"
   ]
  },
  {
   "cell_type": "code",
   "execution_count": 20,
   "id": "e76de8bc",
   "metadata": {
    "scrolled": false
   },
   "outputs": [
    {
     "name": "stdout",
     "output_type": "stream",
     "text": [
      "                            AutoReg Model Results                             \n",
      "==============================================================================\n",
      "Dep. Variable:                 Carbon   No. Observations:                  794\n",
      "Model:                     AutoReg(1)   Log Likelihood               -1691.983\n",
      "Method:               Conditional MLE   S.D. of innovations              2.044\n",
      "Date:                Tue, 26 Mar 2024   AIC                              1.437\n",
      "Time:                        08:41:38   BIC                              1.455\n",
      "Sample:                             1   HQIC                             1.444\n",
      "                                  794                                         \n",
      "==============================================================================\n",
      "                 coef    std err          z      P>|z|      [0.025      0.975]\n",
      "------------------------------------------------------------------------------\n",
      "intercept      0.2809      0.332      0.846      0.397      -0.370       0.932\n",
      "Carbon.L1      0.9956      0.004    224.563      0.000       0.987       1.004\n",
      "                                    Roots                                    \n",
      "=============================================================================\n",
      "                  Real          Imaginary           Modulus         Frequency\n",
      "-----------------------------------------------------------------------------\n",
      "AR.1            1.0044           +0.0000j            1.0044            0.0000\n",
      "-----------------------------------------------------------------------------\n"
     ]
    },
    {
     "name": "stderr",
     "output_type": "stream",
     "text": [
      "C:\\Users\\Erica Zhao\\anaconda3\\lib\\site-packages\\statsmodels\\tsa\\base\\tsa_model.py:578: ValueWarning: An unsupported index was provided and will be ignored when e.g. forecasting.\n",
      "  warnings.warn('An unsupported index was provided and will be'\n",
      "C:\\Users\\Erica Zhao\\anaconda3\\lib\\site-packages\\statsmodels\\tsa\\ar_model.py:248: FutureWarning: The parameter names will change after 0.12 is released. Set old_names to False to use the new names now. Set old_names to True to use the old names. \n",
      "  warnings.warn(\n"
     ]
    }
   ],
   "source": [
    "from statsmodels.tsa.ar_model import AutoReg\n",
    "\n",
    "y = carbon_price['Carbon']\n",
    "\n",
    "modelAR1 = AutoReg(y, lags=1)\n",
    "resultAR1 = modelAR1.fit()\n",
    "\n",
    "print(resultAR1.summary())"
   ]
  },
  {
   "cell_type": "markdown",
   "id": "31bb42fc",
   "metadata": {},
   "source": [
    "### Unit Root Test"
   ]
  },
  {
   "cell_type": "code",
   "execution_count": 21,
   "id": "dc24c7c4",
   "metadata": {
    "scrolled": false
   },
   "outputs": [
    {
     "name": "stdout",
     "output_type": "stream",
     "text": [
      "ADF Statistic: -0.864804\n",
      "p-value: 0.799342\n",
      "Critical Values:\n",
      "\t1%: -3.439\n",
      "\t5%: -2.865\n",
      "\t10%: -2.569\n"
     ]
    }
   ],
   "source": [
    "from statsmodels.tsa.stattools import adfuller\n",
    "\n",
    "adf_result = adfuller(y)\n",
    "\n",
    "print('ADF Statistic: %f' % adf_result[0])\n",
    "print('p-value: %f' % adf_result[1])\n",
    "print('Critical Values:')\n",
    "for key, value in adf_result[4].items():\n",
    "    print('\\t%s: %.3f' % (key, value))"
   ]
  },
  {
   "cell_type": "markdown",
   "id": "3d15656f",
   "metadata": {},
   "source": [
    "### Differencing"
   ]
  },
  {
   "cell_type": "code",
   "execution_count": 22,
   "id": "52b18101",
   "metadata": {},
   "outputs": [
    {
     "name": "stdout",
     "output_type": "stream",
     "text": [
      "                            AutoReg Model Results                             \n",
      "==============================================================================\n",
      "Dep. Variable:                 Carbon   No. Observations:                  793\n",
      "Model:                     AutoReg(1)   Log Likelihood               -1689.551\n",
      "Method:               Conditional MLE   S.D. of innovations              2.043\n",
      "Date:                Tue, 26 Mar 2024   AIC                              1.436\n",
      "Time:                        08:41:46   BIC                              1.454\n",
      "Sample:                             1   HQIC                             1.443\n",
      "                                  793                                         \n",
      "==============================================================================\n",
      "                 coef    std err          z      P>|z|      [0.025      0.975]\n",
      "------------------------------------------------------------------------------\n",
      "intercept     -0.0403      0.073     -0.555      0.579      -0.183       0.102\n",
      "Carbon.L1     -0.0566      0.035     -1.595      0.111      -0.126       0.013\n",
      "                                    Roots                                    \n",
      "=============================================================================\n",
      "                  Real          Imaginary           Modulus         Frequency\n",
      "-----------------------------------------------------------------------------\n",
      "AR.1          -17.6747           +0.0000j           17.6747            0.5000\n",
      "-----------------------------------------------------------------------------\n"
     ]
    },
    {
     "name": "stderr",
     "output_type": "stream",
     "text": [
      "C:\\Users\\Erica Zhao\\anaconda3\\lib\\site-packages\\statsmodels\\tsa\\base\\tsa_model.py:578: ValueWarning: An unsupported index was provided and will be ignored when e.g. forecasting.\n",
      "  warnings.warn('An unsupported index was provided and will be'\n",
      "C:\\Users\\Erica Zhao\\anaconda3\\lib\\site-packages\\statsmodels\\tsa\\ar_model.py:248: FutureWarning: The parameter names will change after 0.12 is released. Set old_names to False to use the new names now. Set old_names to True to use the old names. \n",
      "  warnings.warn(\n"
     ]
    }
   ],
   "source": [
    "y_diff = y.diff().dropna()\n",
    "\n",
    "\n",
    "modelAR1_diff = AutoReg(y_diff, lags=1)\n",
    "resultAR1_diff = modelAR1_diff.fit()\n",
    "\n",
    "print(resultAR1_diff.summary())"
   ]
  },
  {
   "cell_type": "code",
   "execution_count": 23,
   "id": "50d65349",
   "metadata": {},
   "outputs": [
    {
     "name": "stdout",
     "output_type": "stream",
     "text": [
      "ADF Statistic: -13.173512\n",
      "p-value: 0.000000\n",
      "Critical Values:\n",
      "\t1%: -3.439\n",
      "\t5%: -2.865\n",
      "\t10%: -2.569\n"
     ]
    }
   ],
   "source": [
    "y_diff = y.diff().dropna()\n",
    "\n",
    "adf_result_diff = adfuller(y_diff)\n",
    "\n",
    "print('ADF Statistic: %f' % adf_result_diff[0])\n",
    "print('p-value: %f' % adf_result_diff[1])\n",
    "print('Critical Values:')\n",
    "for key, value in adf_result_diff[4].items():\n",
    "    print('\\t%s: %.3f' % (key, value))"
   ]
  },
  {
   "cell_type": "markdown",
   "id": "3ea7fbc8",
   "metadata": {},
   "source": [
    "### AR(2) Model"
   ]
  },
  {
   "cell_type": "code",
   "execution_count": 66,
   "id": "4914090c",
   "metadata": {},
   "outputs": [
    {
     "name": "stdout",
     "output_type": "stream",
     "text": [
      "                            AutoReg Model Results                             \n",
      "==============================================================================\n",
      "Dep. Variable:                 Carbon   No. Observations:                  794\n",
      "Model:                     AutoReg(2)   Log Likelihood               -1689.191\n",
      "Method:               Conditional MLE   S.D. of innovations              2.042\n",
      "Date:                Tue, 26 Mar 2024   AIC                              1.438\n",
      "Time:                        09:49:20   BIC                              1.461\n",
      "Sample:                             2   HQIC                             1.447\n",
      "                                  794                                         \n",
      "==============================================================================\n",
      "                 coef    std err          z      P>|z|      [0.025      0.975]\n",
      "------------------------------------------------------------------------------\n",
      "intercept      0.2357      0.333      0.707      0.479      -0.417       0.889\n",
      "Carbon.L1      0.9424      0.035     26.559      0.000       0.873       1.012\n",
      "Carbon.L2      0.0538      0.036      1.511      0.131      -0.016       0.124\n",
      "                                    Roots                                    \n",
      "=============================================================================\n",
      "                  Real          Imaginary           Modulus         Frequency\n",
      "-----------------------------------------------------------------------------\n",
      "AR.1            1.0036           +0.0000j            1.0036            0.0000\n",
      "AR.2          -18.5120           +0.0000j           18.5120            0.5000\n",
      "-----------------------------------------------------------------------------\n"
     ]
    },
    {
     "name": "stderr",
     "output_type": "stream",
     "text": [
      "C:\\Users\\Erica Zhao\\anaconda3\\lib\\site-packages\\statsmodels\\tsa\\base\\tsa_model.py:578: ValueWarning: An unsupported index was provided and will be ignored when e.g. forecasting.\n",
      "  warnings.warn('An unsupported index was provided and will be'\n",
      "C:\\Users\\Erica Zhao\\anaconda3\\lib\\site-packages\\statsmodels\\tsa\\ar_model.py:248: FutureWarning: The parameter names will change after 0.12 is released. Set old_names to False to use the new names now. Set old_names to True to use the old names. \n",
      "  warnings.warn(\n"
     ]
    }
   ],
   "source": [
    "modelAR2 = AutoReg(y, lags=2)\n",
    "resultAR2 = modelAR2.fit()\n",
    "\n",
    "print(resultAR2.summary())"
   ]
  },
  {
   "cell_type": "markdown",
   "id": "332d8b36",
   "metadata": {},
   "source": [
    "# ARIMA Model"
   ]
  },
  {
   "cell_type": "code",
   "execution_count": 53,
   "id": "fabf4b23",
   "metadata": {},
   "outputs": [],
   "source": [
    "carbon_price_copy = pd.read_csv(carbon_price_url, header=0)\n",
    "carbon_price_copy['Date'] = pd.to_datetime(carbon_price['Date'])\n",
    "\n",
    "energy_price_url = 'https://raw.githubusercontent.com/Erica-zya/Honor-Thesis/main/Data/Data_New/Daily%20Energy.csv'\n",
    "energy_price = pd.read_csv(energy_price_url, header=0)\n",
    "energy_price['Date'] = pd.to_datetime(energy_price['Date'])\n",
    "\n",
    "# Perform the merges\n",
    "merged_df = pd.merge(carbon_price_copy, energy_price, on='Date', how='inner')"
   ]
  },
  {
   "cell_type": "code",
   "execution_count": 54,
   "id": "ec71866d",
   "metadata": {},
   "outputs": [],
   "source": [
    "merged_df = merged_df.replace([np.inf, -np.inf], np.nan)\n",
    "merged_df.dropna(subset=['Carbon'], inplace=True)\n",
    "merged_df.dropna(subset=['Coal'], inplace=True)\n",
    "merged_df.dropna(subset=['Crude Oil'], inplace=True)\n",
    "merged_df.dropna(subset=['Natural Gas'], inplace=True)"
   ]
  },
  {
   "cell_type": "code",
   "execution_count": 55,
   "id": "5ad8653a",
   "metadata": {},
   "outputs": [],
   "source": [
    "from statsmodels.tsa.arima.model import ARIMA\n",
    "\n",
    "X = merged_df[['Coal', 'Crude Oil', 'Natural Gas']]\n",
    "_y = merged_df['Carbon']"
   ]
  },
  {
   "cell_type": "markdown",
   "id": "5b4da854",
   "metadata": {},
   "source": [
    "### ARIMA(0,0,0)"
   ]
  },
  {
   "cell_type": "code",
   "execution_count": 58,
   "id": "5f8f719d",
   "metadata": {},
   "outputs": [
    {
     "name": "stderr",
     "output_type": "stream",
     "text": [
      "C:\\Users\\Erica Zhao\\anaconda3\\lib\\site-packages\\statsmodels\\tsa\\base\\tsa_model.py:578: ValueWarning: An unsupported index was provided and will be ignored when e.g. forecasting.\n",
      "  warnings.warn('An unsupported index was provided and will be'\n",
      "C:\\Users\\Erica Zhao\\anaconda3\\lib\\site-packages\\statsmodels\\tsa\\base\\tsa_model.py:578: ValueWarning: An unsupported index was provided and will be ignored when e.g. forecasting.\n",
      "  warnings.warn('An unsupported index was provided and will be'\n",
      "C:\\Users\\Erica Zhao\\anaconda3\\lib\\site-packages\\statsmodels\\tsa\\base\\tsa_model.py:578: ValueWarning: An unsupported index was provided and will be ignored when e.g. forecasting.\n",
      "  warnings.warn('An unsupported index was provided and will be'\n"
     ]
    },
    {
     "name": "stdout",
     "output_type": "stream",
     "text": [
      "                               SARIMAX Results                                \n",
      "==============================================================================\n",
      "Dep. Variable:                 Carbon   No. Observations:                  771\n",
      "Model:                          ARIMA   Log Likelihood               -3036.552\n",
      "Date:                Tue, 26 Mar 2024   AIC                           6083.104\n",
      "Time:                        09:26:36   BIC                           6106.342\n",
      "Sample:                             0   HQIC                          6092.046\n",
      "                                - 771                                         \n",
      "Covariance Type:                  opg                                         \n",
      "===============================================================================\n",
      "                  coef    std err          z      P>|z|      [0.025      0.975]\n",
      "-------------------------------------------------------------------------------\n",
      "const          -8.9801      3.917     -2.292      0.022     -16.658      -1.302\n",
      "Coal           -0.1496      0.021     -7.177      0.000      -0.190      -0.109\n",
      "Crude Oil       1.1761      0.070     16.904      0.000       1.040       1.312\n",
      "Natural Gas     0.1353      0.025      5.333      0.000       0.086       0.185\n",
      "sigma2        154.3248      9.916     15.564      0.000     134.890     173.759\n",
      "===================================================================================\n",
      "Ljung-Box (L1) (Q):                 716.58   Jarque-Bera (JB):                14.38\n",
      "Prob(Q):                              0.00   Prob(JB):                         0.00\n",
      "Heteroskedasticity (H):               0.77   Skew:                             0.17\n",
      "Prob(H) (two-sided):                  0.03   Kurtosis:                         2.43\n",
      "===================================================================================\n",
      "\n",
      "Warnings:\n",
      "[1] Covariance matrix calculated using the outer product of gradients (complex-step).\n"
     ]
    }
   ],
   "source": [
    "model_arima000 = ARIMA(_y, exog=X, order=(0,0,0))\n",
    "model_arima000_fit = model_arima000.fit()\n",
    "\n",
    "print(model_arima000_fit.summary())"
   ]
  },
  {
   "cell_type": "markdown",
   "id": "35ad24d1",
   "metadata": {},
   "source": [
    "### ARIMA(1,0,0)"
   ]
  },
  {
   "cell_type": "code",
   "execution_count": 59,
   "id": "15a84a8c",
   "metadata": {},
   "outputs": [
    {
     "name": "stderr",
     "output_type": "stream",
     "text": [
      "C:\\Users\\Erica Zhao\\anaconda3\\lib\\site-packages\\statsmodels\\tsa\\base\\tsa_model.py:578: ValueWarning: An unsupported index was provided and will be ignored when e.g. forecasting.\n",
      "  warnings.warn('An unsupported index was provided and will be'\n",
      "C:\\Users\\Erica Zhao\\anaconda3\\lib\\site-packages\\statsmodels\\tsa\\base\\tsa_model.py:578: ValueWarning: An unsupported index was provided and will be ignored when e.g. forecasting.\n",
      "  warnings.warn('An unsupported index was provided and will be'\n",
      "C:\\Users\\Erica Zhao\\anaconda3\\lib\\site-packages\\statsmodels\\tsa\\base\\tsa_model.py:578: ValueWarning: An unsupported index was provided and will be ignored when e.g. forecasting.\n",
      "  warnings.warn('An unsupported index was provided and will be'\n"
     ]
    },
    {
     "name": "stdout",
     "output_type": "stream",
     "text": [
      "                               SARIMAX Results                                \n",
      "==============================================================================\n",
      "Dep. Variable:                 Carbon   No. Observations:                  771\n",
      "Model:                 ARIMA(1, 0, 0)   Log Likelihood               -1651.890\n",
      "Date:                Tue, 26 Mar 2024   AIC                           3315.780\n",
      "Time:                        09:27:34   BIC                           3343.666\n",
      "Sample:                             0   HQIC                          3326.511\n",
      "                                - 771                                         \n",
      "Covariance Type:                  opg                                         \n",
      "===============================================================================\n",
      "                  coef    std err          z      P>|z|      [0.025      0.975]\n",
      "-------------------------------------------------------------------------------\n",
      "const          -7.2167     63.353     -0.114      0.909    -131.387     116.954\n",
      "Coal           -0.0063      0.005     -1.242      0.214      -0.016       0.004\n",
      "Crude Oil       0.0532      0.031      1.722      0.085      -0.007       0.114\n",
      "Natural Gas    -0.0074      0.006     -1.233      0.218      -0.019       0.004\n",
      "ar.L1           0.9995      0.001    953.416      0.000       0.997       1.002\n",
      "sigma2          4.2133      0.134     31.419      0.000       3.950       4.476\n",
      "===================================================================================\n",
      "Ljung-Box (L1) (Q):                   2.12   Jarque-Bera (JB):               872.29\n",
      "Prob(Q):                              0.15   Prob(JB):                         0.00\n",
      "Heteroskedasticity (H):               1.00   Skew:                             0.77\n",
      "Prob(H) (two-sided):                  0.97   Kurtosis:                         7.98\n",
      "===================================================================================\n",
      "\n",
      "Warnings:\n",
      "[1] Covariance matrix calculated using the outer product of gradients (complex-step).\n"
     ]
    }
   ],
   "source": [
    "model_arima100 = ARIMA(_y, exog=X, order=(1,0,0))\n",
    "model_arima100_fit = model_arima100.fit()\n",
    "\n",
    "print(model_arima100_fit.summary())"
   ]
  },
  {
   "cell_type": "markdown",
   "id": "e9fa90d2",
   "metadata": {},
   "source": [
    "### ARIMA(0,1,0)"
   ]
  },
  {
   "cell_type": "code",
   "execution_count": 60,
   "id": "fd77662c",
   "metadata": {},
   "outputs": [
    {
     "name": "stderr",
     "output_type": "stream",
     "text": [
      "C:\\Users\\Erica Zhao\\anaconda3\\lib\\site-packages\\statsmodels\\tsa\\base\\tsa_model.py:578: ValueWarning: An unsupported index was provided and will be ignored when e.g. forecasting.\n",
      "  warnings.warn('An unsupported index was provided and will be'\n",
      "C:\\Users\\Erica Zhao\\anaconda3\\lib\\site-packages\\statsmodels\\tsa\\base\\tsa_model.py:578: ValueWarning: An unsupported index was provided and will be ignored when e.g. forecasting.\n",
      "  warnings.warn('An unsupported index was provided and will be'\n",
      "C:\\Users\\Erica Zhao\\anaconda3\\lib\\site-packages\\statsmodels\\tsa\\base\\tsa_model.py:578: ValueWarning: An unsupported index was provided and will be ignored when e.g. forecasting.\n",
      "  warnings.warn('An unsupported index was provided and will be'\n"
     ]
    },
    {
     "name": "stdout",
     "output_type": "stream",
     "text": [
      "                               SARIMAX Results                                \n",
      "==============================================================================\n",
      "Dep. Variable:                 Carbon   No. Observations:                  771\n",
      "Model:                 ARIMA(0, 1, 0)   Log Likelihood               -1646.482\n",
      "Date:                Tue, 26 Mar 2024   AIC                           3300.964\n",
      "Time:                        09:28:02   BIC                           3319.549\n",
      "Sample:                             0   HQIC                          3308.116\n",
      "                                - 771                                         \n",
      "Covariance Type:                  opg                                         \n",
      "===============================================================================\n",
      "                  coef    std err          z      P>|z|      [0.025      0.975]\n",
      "-------------------------------------------------------------------------------\n",
      "Coal           -0.0064      0.005     -1.246      0.213      -0.016       0.004\n",
      "Crude Oil       0.0517      0.031      1.677      0.094      -0.009       0.112\n",
      "Natural Gas    -0.0074      0.006     -1.225      0.221      -0.019       0.004\n",
      "sigma2          4.2152      0.132     31.949      0.000       3.957       4.474\n",
      "===================================================================================\n",
      "Ljung-Box (L1) (Q):                   2.13   Jarque-Bera (JB):               874.63\n",
      "Prob(Q):                              0.14   Prob(JB):                         0.00\n",
      "Heteroskedasticity (H):               1.02   Skew:                             0.77\n",
      "Prob(H) (two-sided):                  0.89   Kurtosis:                         7.99\n",
      "===================================================================================\n",
      "\n",
      "Warnings:\n",
      "[1] Covariance matrix calculated using the outer product of gradients (complex-step).\n"
     ]
    }
   ],
   "source": [
    "model_arima010 = ARIMA(_y, exog=X, order=(0,1,0))\n",
    "model_arima010_fit = model_arima010.fit()\n",
    "\n",
    "print(model_arima010_fit.summary())"
   ]
  },
  {
   "cell_type": "markdown",
   "id": "b94373e0",
   "metadata": {},
   "source": [
    "### ARIMA(0,0,1)"
   ]
  },
  {
   "cell_type": "code",
   "execution_count": 61,
   "id": "2d216226",
   "metadata": {},
   "outputs": [
    {
     "name": "stderr",
     "output_type": "stream",
     "text": [
      "C:\\Users\\Erica Zhao\\anaconda3\\lib\\site-packages\\statsmodels\\tsa\\base\\tsa_model.py:578: ValueWarning: An unsupported index was provided and will be ignored when e.g. forecasting.\n",
      "  warnings.warn('An unsupported index was provided and will be'\n",
      "C:\\Users\\Erica Zhao\\anaconda3\\lib\\site-packages\\statsmodels\\tsa\\base\\tsa_model.py:578: ValueWarning: An unsupported index was provided and will be ignored when e.g. forecasting.\n",
      "  warnings.warn('An unsupported index was provided and will be'\n",
      "C:\\Users\\Erica Zhao\\anaconda3\\lib\\site-packages\\statsmodels\\tsa\\base\\tsa_model.py:578: ValueWarning: An unsupported index was provided and will be ignored when e.g. forecasting.\n",
      "  warnings.warn('An unsupported index was provided and will be'\n"
     ]
    },
    {
     "name": "stdout",
     "output_type": "stream",
     "text": [
      "                               SARIMAX Results                                \n",
      "==============================================================================\n",
      "Dep. Variable:                 Carbon   No. Observations:                  771\n",
      "Model:                 ARIMA(0, 0, 1)   Log Likelihood               -2634.488\n",
      "Date:                Tue, 26 Mar 2024   AIC                           5280.977\n",
      "Time:                        09:28:30   BIC                           5308.863\n",
      "Sample:                             0   HQIC                          5291.708\n",
      "                                - 771                                         \n",
      "Covariance Type:                  opg                                         \n",
      "===============================================================================\n",
      "                  coef    std err          z      P>|z|      [0.025      0.975]\n",
      "-------------------------------------------------------------------------------\n",
      "const           4.6355      3.667      1.264      0.206      -2.552      11.823\n",
      "Coal           -0.0891      0.017     -5.223      0.000      -0.122      -0.056\n",
      "Crude Oil       0.9339      0.063     14.939      0.000       0.811       1.056\n",
      "Natural Gas     0.0799      0.022      3.651      0.000       0.037       0.123\n",
      "ma.L1           0.8402      0.020     42.300      0.000       0.801       0.879\n",
      "sigma2         54.2987      3.560     15.253      0.000      47.322      61.276\n",
      "===================================================================================\n",
      "Ljung-Box (L1) (Q):                 400.40   Jarque-Bera (JB):                16.76\n",
      "Prob(Q):                              0.00   Prob(JB):                         0.00\n",
      "Heteroskedasticity (H):               0.93   Skew:                             0.10\n",
      "Prob(H) (two-sided):                  0.58   Kurtosis:                         2.31\n",
      "===================================================================================\n",
      "\n",
      "Warnings:\n",
      "[1] Covariance matrix calculated using the outer product of gradients (complex-step).\n"
     ]
    }
   ],
   "source": [
    "model_arima001 = ARIMA(_y, exog=X, order=(0,0,1))\n",
    "model_arima001_fit = model_arima001.fit()\n",
    "\n",
    "print(model_arima001_fit.summary())"
   ]
  },
  {
   "cell_type": "markdown",
   "id": "e6b5f7d1",
   "metadata": {},
   "source": [
    "### ARIMA(0,1,1)"
   ]
  },
  {
   "cell_type": "code",
   "execution_count": 62,
   "id": "f58c15ea",
   "metadata": {
    "scrolled": false
   },
   "outputs": [
    {
     "name": "stderr",
     "output_type": "stream",
     "text": [
      "C:\\Users\\Erica Zhao\\anaconda3\\lib\\site-packages\\statsmodels\\tsa\\base\\tsa_model.py:578: ValueWarning: An unsupported index was provided and will be ignored when e.g. forecasting.\n",
      "  warnings.warn('An unsupported index was provided and will be'\n",
      "C:\\Users\\Erica Zhao\\anaconda3\\lib\\site-packages\\statsmodels\\tsa\\base\\tsa_model.py:578: ValueWarning: An unsupported index was provided and will be ignored when e.g. forecasting.\n",
      "  warnings.warn('An unsupported index was provided and will be'\n",
      "C:\\Users\\Erica Zhao\\anaconda3\\lib\\site-packages\\statsmodels\\tsa\\base\\tsa_model.py:578: ValueWarning: An unsupported index was provided and will be ignored when e.g. forecasting.\n",
      "  warnings.warn('An unsupported index was provided and will be'\n"
     ]
    },
    {
     "name": "stdout",
     "output_type": "stream",
     "text": [
      "                               SARIMAX Results                                \n",
      "==============================================================================\n",
      "Dep. Variable:                 Carbon   No. Observations:                  771\n",
      "Model:                 ARIMA(0, 1, 1)   Log Likelihood               -1645.524\n",
      "Date:                Tue, 26 Mar 2024   AIC                           3301.047\n",
      "Time:                        09:29:08   BIC                           3324.279\n",
      "Sample:                             0   HQIC                          3309.988\n",
      "                                - 771                                         \n",
      "Covariance Type:                  opg                                         \n",
      "===============================================================================\n",
      "                  coef    std err          z      P>|z|      [0.025      0.975]\n",
      "-------------------------------------------------------------------------------\n",
      "Coal           -0.0088      0.005     -1.749      0.080      -0.019       0.001\n",
      "Crude Oil       0.0510      0.031      1.627      0.104      -0.010       0.112\n",
      "Natural Gas    -0.0066      0.006     -1.097      0.273      -0.018       0.005\n",
      "ma.L1          -0.0476      0.024     -1.991      0.047      -0.094      -0.001\n",
      "sigma2          4.2047      0.137     30.713      0.000       3.936       4.473\n",
      "===================================================================================\n",
      "Ljung-Box (L1) (Q):                   0.01   Jarque-Bera (JB):               827.87\n",
      "Prob(Q):                              0.91   Prob(JB):                         0.00\n",
      "Heteroskedasticity (H):               1.00   Skew:                             0.75\n",
      "Prob(H) (two-sided):                  0.97   Kurtosis:                         7.85\n",
      "===================================================================================\n",
      "\n",
      "Warnings:\n",
      "[1] Covariance matrix calculated using the outer product of gradients (complex-step).\n"
     ]
    }
   ],
   "source": [
    "model_arima011 = ARIMA(_y, exog=X, order=(0,1,1))\n",
    "model_arima011_fit = model_arima011.fit()\n",
    "\n",
    "print(model_arima011_fit.summary())"
   ]
  },
  {
   "cell_type": "markdown",
   "id": "ddcbf0f0",
   "metadata": {},
   "source": [
    "### ARIMA(1,0,1)"
   ]
  },
  {
   "cell_type": "code",
   "execution_count": 63,
   "id": "380015d7",
   "metadata": {
    "scrolled": false
   },
   "outputs": [
    {
     "name": "stderr",
     "output_type": "stream",
     "text": [
      "C:\\Users\\Erica Zhao\\anaconda3\\lib\\site-packages\\statsmodels\\tsa\\base\\tsa_model.py:578: ValueWarning: An unsupported index was provided and will be ignored when e.g. forecasting.\n",
      "  warnings.warn('An unsupported index was provided and will be'\n",
      "C:\\Users\\Erica Zhao\\anaconda3\\lib\\site-packages\\statsmodels\\tsa\\base\\tsa_model.py:578: ValueWarning: An unsupported index was provided and will be ignored when e.g. forecasting.\n",
      "  warnings.warn('An unsupported index was provided and will be'\n",
      "C:\\Users\\Erica Zhao\\anaconda3\\lib\\site-packages\\statsmodels\\tsa\\base\\tsa_model.py:578: ValueWarning: An unsupported index was provided and will be ignored when e.g. forecasting.\n",
      "  warnings.warn('An unsupported index was provided and will be'\n"
     ]
    },
    {
     "name": "stdout",
     "output_type": "stream",
     "text": [
      "                               SARIMAX Results                                \n",
      "==============================================================================\n",
      "Dep. Variable:                 Carbon   No. Observations:                  771\n",
      "Model:                 ARIMA(1, 0, 1)   Log Likelihood               -1650.943\n",
      "Date:                Tue, 26 Mar 2024   AIC                           3315.886\n",
      "Time:                        09:29:41   BIC                           3348.420\n",
      "Sample:                             0   HQIC                          3328.406\n",
      "                                - 771                                         \n",
      "Covariance Type:                  opg                                         \n",
      "===============================================================================\n",
      "                  coef    std err          z      P>|z|      [0.025      0.975]\n",
      "-------------------------------------------------------------------------------\n",
      "const          -7.3711     63.339     -0.116      0.907    -131.512     116.770\n",
      "Coal           -0.0088      0.005     -1.737      0.082      -0.019       0.001\n",
      "Crude Oil       0.0524      0.031      1.669      0.095      -0.009       0.114\n",
      "Natural Gas    -0.0066      0.006     -1.106      0.269      -0.018       0.005\n",
      "ar.L1           0.9995      0.001   1011.493      0.000       0.998       1.001\n",
      "ma.L1          -0.0475      0.024     -1.985      0.047      -0.094      -0.001\n",
      "sigma2          4.2029      0.139     30.259      0.000       3.931       4.475\n",
      "===================================================================================\n",
      "Ljung-Box (L1) (Q):                   0.01   Jarque-Bera (JB):               825.70\n",
      "Prob(Q):                              0.90   Prob(JB):                         0.00\n",
      "Heteroskedasticity (H):               0.98   Skew:                             0.75\n",
      "Prob(H) (two-sided):                  0.89   Kurtosis:                         7.84\n",
      "===================================================================================\n",
      "\n",
      "Warnings:\n",
      "[1] Covariance matrix calculated using the outer product of gradients (complex-step).\n"
     ]
    }
   ],
   "source": [
    "model_arima101 = ARIMA(_y, exog=X, order=(1,0,1))\n",
    "model_arima101_fit = model_arima101.fit()\n",
    "\n",
    "print(model_arima101_fit.summary())"
   ]
  },
  {
   "cell_type": "markdown",
   "id": "06700fde",
   "metadata": {},
   "source": [
    "### ARIMA(1,1,0); theoretical optimal model"
   ]
  },
  {
   "cell_type": "code",
   "execution_count": 64,
   "id": "ac358426",
   "metadata": {},
   "outputs": [
    {
     "name": "stderr",
     "output_type": "stream",
     "text": [
      "C:\\Users\\Erica Zhao\\anaconda3\\lib\\site-packages\\statsmodels\\tsa\\base\\tsa_model.py:578: ValueWarning: An unsupported index was provided and will be ignored when e.g. forecasting.\n",
      "  warnings.warn('An unsupported index was provided and will be'\n",
      "C:\\Users\\Erica Zhao\\anaconda3\\lib\\site-packages\\statsmodels\\tsa\\base\\tsa_model.py:578: ValueWarning: An unsupported index was provided and will be ignored when e.g. forecasting.\n",
      "  warnings.warn('An unsupported index was provided and will be'\n",
      "C:\\Users\\Erica Zhao\\anaconda3\\lib\\site-packages\\statsmodels\\tsa\\base\\tsa_model.py:578: ValueWarning: An unsupported index was provided and will be ignored when e.g. forecasting.\n",
      "  warnings.warn('An unsupported index was provided and will be'\n"
     ]
    },
    {
     "name": "stdout",
     "output_type": "stream",
     "text": [
      "                               SARIMAX Results                                \n",
      "==============================================================================\n",
      "Dep. Variable:                 Carbon   No. Observations:                  771\n",
      "Model:                 ARIMA(1, 1, 0)   Log Likelihood               -1645.364\n",
      "Date:                Tue, 26 Mar 2024   AIC                           3300.728\n",
      "Time:                        09:30:03   BIC                           3323.960\n",
      "Sample:                             0   HQIC                          3309.669\n",
      "                                - 771                                         \n",
      "Covariance Type:                  opg                                         \n",
      "===============================================================================\n",
      "                  coef    std err          z      P>|z|      [0.025      0.975]\n",
      "-------------------------------------------------------------------------------\n",
      "Coal           -0.0092      0.005     -1.857      0.063      -0.019       0.001\n",
      "Crude Oil       0.0508      0.031      1.623      0.105      -0.011       0.112\n",
      "Natural Gas    -0.0064      0.006     -1.070      0.284      -0.018       0.005\n",
      "ar.L1          -0.0556      0.024     -2.320      0.020      -0.103      -0.009\n",
      "sigma2          4.2029      0.137     30.604      0.000       3.934       4.472\n",
      "===================================================================================\n",
      "Ljung-Box (L1) (Q):                   0.01   Jarque-Bera (JB):               818.10\n",
      "Prob(Q):                              0.92   Prob(JB):                         0.00\n",
      "Heteroskedasticity (H):               0.99   Skew:                             0.75\n",
      "Prob(H) (two-sided):                  0.95   Kurtosis:                         7.82\n",
      "===================================================================================\n",
      "\n",
      "Warnings:\n",
      "[1] Covariance matrix calculated using the outer product of gradients (complex-step).\n"
     ]
    }
   ],
   "source": [
    "model_arima110 = ARIMA(_y, exog=X, order=(1,1,0))\n",
    "model_arima110_fit = model_arima110.fit()\n",
    "\n",
    "print(model_arima110_fit.summary())"
   ]
  },
  {
   "cell_type": "markdown",
   "id": "156f35f1",
   "metadata": {},
   "source": [
    "### ARIMA(1,1,1); best performing model"
   ]
  },
  {
   "cell_type": "code",
   "execution_count": 65,
   "id": "67bc7fd6",
   "metadata": {},
   "outputs": [
    {
     "name": "stderr",
     "output_type": "stream",
     "text": [
      "C:\\Users\\Erica Zhao\\anaconda3\\lib\\site-packages\\statsmodels\\tsa\\base\\tsa_model.py:578: ValueWarning: An unsupported index was provided and will be ignored when e.g. forecasting.\n",
      "  warnings.warn('An unsupported index was provided and will be'\n",
      "C:\\Users\\Erica Zhao\\anaconda3\\lib\\site-packages\\statsmodels\\tsa\\base\\tsa_model.py:578: ValueWarning: An unsupported index was provided and will be ignored when e.g. forecasting.\n",
      "  warnings.warn('An unsupported index was provided and will be'\n",
      "C:\\Users\\Erica Zhao\\anaconda3\\lib\\site-packages\\statsmodels\\tsa\\base\\tsa_model.py:578: ValueWarning: An unsupported index was provided and will be ignored when e.g. forecasting.\n",
      "  warnings.warn('An unsupported index was provided and will be'\n"
     ]
    },
    {
     "name": "stdout",
     "output_type": "stream",
     "text": [
      "                               SARIMAX Results                                \n",
      "==============================================================================\n",
      "Dep. Variable:                 Carbon   No. Observations:                  771\n",
      "Model:                 ARIMA(1, 1, 1)   Log Likelihood               -1643.865\n",
      "Date:                Tue, 26 Mar 2024   AIC                           3299.731\n",
      "Time:                        09:30:13   BIC                           3327.609\n",
      "Sample:                             0   HQIC                          3310.460\n",
      "                                - 771                                         \n",
      "Covariance Type:                  opg                                         \n",
      "===============================================================================\n",
      "                  coef    std err          z      P>|z|      [0.025      0.975]\n",
      "-------------------------------------------------------------------------------\n",
      "Coal           -0.0095      0.005     -1.900      0.057      -0.019       0.000\n",
      "Crude Oil       0.0474      0.031      1.533      0.125      -0.013       0.108\n",
      "Natural Gas    -0.0067      0.006     -1.109      0.267      -0.018       0.005\n",
      "ar.L1          -0.7026      0.179     -3.933      0.000      -1.053      -0.352\n",
      "ma.L1           0.6427      0.192      3.349      0.001       0.267       1.019\n",
      "sigma2          4.1866      0.137     30.524      0.000       3.918       4.455\n",
      "===================================================================================\n",
      "Ljung-Box (L1) (Q):                   0.06   Jarque-Bera (JB):               787.03\n",
      "Prob(Q):                              0.81   Prob(JB):                         0.00\n",
      "Heteroskedasticity (H):               1.00   Skew:                             0.76\n",
      "Prob(H) (two-sided):                  0.99   Kurtosis:                         7.71\n",
      "===================================================================================\n",
      "\n",
      "Warnings:\n",
      "[1] Covariance matrix calculated using the outer product of gradients (complex-step).\n"
     ]
    }
   ],
   "source": [
    "model_arima111 = ARIMA(_y, exog=X, order=(1,1,1))\n",
    "model_arima111_fit = model_arima111.fit()\n",
    "\n",
    "print(model_arima111_fit.summary())"
   ]
  },
  {
   "cell_type": "code",
   "execution_count": 68,
   "id": "48d9139b",
   "metadata": {},
   "outputs": [
    {
     "data": {
      "text/plain": [
       "<Figure size 720x432 with 0 Axes>"
      ]
     },
     "metadata": {},
     "output_type": "display_data"
    },
    {
     "data": {
      "image/png": "[encoded data removed]",
      "text/plain": [
       "<Figure size 432x288 with 1 Axes>"
      ]
     },
     "metadata": {
      "needs_background": "light"
     },
     "output_type": "display_data"
    }
   ],
   "source": [
    "import matplotlib.pyplot as plt\n",
    "from statsmodels.graphics.tsaplots import plot_acf\n",
    "\n",
    "plt.figure(figsize=(10, 6))\n",
    "plot_acf(merged_df['Carbon'], lags=5, alpha=0.05)\n",
    "plt.title('Autocorrelation Function for Carbon Price')\n",
    "plt.show()"
   ]
  },
  {
   "cell_type": "code",
   "execution_count": 70,
   "id": "7b460624",
   "metadata": {},
   "outputs": [
    {
     "data": {
      "text/plain": [
       "<Figure size 720x432 with 0 Axes>"
      ]
     },
     "metadata": {},
     "output_type": "display_data"
    },
    {
     "data": {
      "image/png": "[encoded data removed]",
      "text/plain": [
       "<Figure size 432x288 with 1 Axes>"
      ]
     },
     "metadata": {
      "needs_background": "light"
     },
     "output_type": "display_data"
    }
   ],
   "source": [
    "from statsmodels.graphics.tsaplots import plot_pacf\n",
    "\n",
    "plt.figure(figsize=(10, 6))\n",
    "plot_pacf(_y, lags=5, alpha=0.05)\n",
    "plt.title('Partial Autocorrelation Function')\n",
    "plt.show()"
   ]
  }
 ],
 "metadata": {
  "kernelspec": {
   "display_name": "Python 3",
   "language": "python",
   "name": "python3"
  },
  "language_info": {
   "codemirror_mode": {
    "name": "ipython",
    "version": 3
   },
   "file_extension": ".py",
   "mimetype": "text/x-python",
   "name": "python",
   "nbconvert_exporter": "python",
   "pygments_lexer": "ipython3",
   "version": "3.8.8"
  }
 },
 "nbformat": 4,
 "nbformat_minor": 5
}
