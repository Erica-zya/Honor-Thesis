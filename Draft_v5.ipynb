{
 "cells": [
  {
   "cell_type": "code",
   "execution_count": 1,
   "id": "e4c1a1b0-26a9-4e11-bde2-2355f8a494f5",
   "metadata": {},
   "outputs": [],
   "source": [
    "import pandas as pd\n",
    "import numpy as np\n",
    "from sklearn.ensemble import RandomForestRegressor\n",
    "from sklearn.model_selection import train_test_split\n",
    "from sklearn.metrics import mean_squared_error\n",
    "from sklearn.preprocessing import StandardScaler\n",
    "from sklearn.decomposition import PCA\n",
    "from statsmodels.stats.outliers_influence import variance_inflation_factor\n",
    "import pandas as pd\n",
    "\n",
    "import matplotlib.pyplot as plt\n",
    "import matplotlib.dates as mdates\n",
    "from statsmodels.tsa.ar_model import AutoReg\n",
    "from statsmodels.tsa.arima.model import ARIMA\n",
    "import matplotlib.pyplot as plt\n",
    "from statsmodels.graphics.tsaplots import plot_acf\n",
    "from statsmodels.graphics.tsaplots import plot_pacf\n",
    "\n",
    "from sklearn.preprocessing import MinMaxScaler\n",
    "from sklearn.model_selection import train_test_split\n",
    "from tensorflow.keras.models import Sequential\n",
    "from tensorflow.keras.layers import Dense, LSTM\n",
    "from tensorflow.keras.optimizers import Adam\n",
    "\n",
    "from sklearn import linear_model\n",
    "from statsmodels.stats.diagnostic import het_white\n",
    "\n",
    "from statsmodels.tsa.stattools import adfuller\n",
    "from numpy import log\n",
    "from sklearn.metrics import r2_score\n",
    "from sklearn.metrics import mean_squared_error, mean_absolute_error"
   ]
  },
  {
   "cell_type": "markdown",
   "id": "b648310d",
   "metadata": {},
   "source": [
    "# Section I Introduction"
   ]
  },
  {
   "cell_type": "markdown",
   "id": "b6b8c054",
   "metadata": {},
   "source": [
    "# Section II Literature Review"
   ]
  },
  {
   "cell_type": "markdown",
   "id": "b84c4b98",
   "metadata": {},
   "source": [
    "# Section III Methodology"
   ]
  },
  {
   "cell_type": "markdown",
   "id": "6a14eaa2",
   "metadata": {},
   "source": [
    "## 3.1 ARIMA Model"
   ]
  },
  {
   "cell_type": "markdown",
   "id": "c6a0da89",
   "metadata": {},
   "source": [
    "ARIMA model has notable strengths for forecasting carbon prices, utilizing its robust capability to process time series data and capture the dynamic patterns in the volatile carbon prices. These features facilitate a comprehensive analysis, making ARIMA an ideal choice for short-term forecasting. However, we also need to acknowledge its potential limitations, such as the assumption of linearity and the need for data stationarity, which may cause potential issues."
   ]
  },
  {
   "cell_type": "markdown",
   "id": "7346b333",
   "metadata": {},
   "source": [
    "Central to the ARIMA model is its ability to integrate autoregressive (AR) processes, differencing (I) to achieve stationarity, and moving average (MA) processes into a unified structure. The model is parameterized by three integers: $p$, $d$, and $q$, which denote the autoregressive order, the degree of differencing, and the moving average order, respectively. Mathematically, the ARIMA($p$,$d$,$q$) model is expressed as:\n",
    "$$\n",
    "x_t = u + \\alpha_1 x_{t-1} + \\alpha_2 x_{t-2} + \\ldots + \\alpha_p x_{t-p} - \\beta_1 \\varepsilon_{t-1} - \\beta_2 \\varepsilon_{t-2} - \\ldots - \\beta_q \\varepsilon_{t-q} + \\varepsilon_t\n",
    "$$"
   ]
  },
  {
   "cell_type": "markdown",
   "id": "36d7ba22",
   "metadata": {},
   "source": [
    "Here, $x_t$ represents the forcasted carbon price at time $t$, and $u$ is a constant term (which can be interpreted as the mean of the series if $d = 0 $). The parameters $\\alpha_1, \\alpha_2, \\ldots, \\alpha_p$ represent the autoregressive (AR) terms, $\\beta_1, \\beta_2, \\ldots, \\beta_q$ represent the moving average (MA) terms, and $\\varepsilon_{t-1}, \\varepsilon_{t-2}, \\ldots, \\varepsilon_{t-q}$ are the lagged forecast errors in the prediction equation."
   ]
  },
  {
   "cell_type": "markdown",
   "id": "539acdda",
   "metadata": {},
   "source": [
    "In this study, we employed the ARIMA model to analyze fluctuations in carbon prices. Our approach commenced with an initial hypothesis based on a preliminary examination of the dataset to identify any apparent trends and autocorrelations. Utilizing diagnostic tools such as autocorrelation and partial autocorrelation plots, alongside statistical tests, we determined the optimal differencing order and the appropriate orders for the autoregressive and moving average components of the model. This step also included assessments for the inclusion of seasonal adjustments. Subsequent to model identification, we engaged in parameter estimation through Maximum Likelihood Estimation methods to accurately fit the model to the historical data. The model was then validated to ensure that the residuals approximated white noise, indicating that the model captured the essential structures in the data. Following validation, we proceeded to utilize the ARIMA model for forecasting future carbon prices, leveraging its capability to analyze and interpret underlying trends in the data over various forecasting horizons. This methodological framework underpins our analysis and forecasts presented herein."
   ]
  },
  {
   "cell_type": "markdown",
   "id": "c71a86b8",
   "metadata": {},
   "source": [
    "## 3.2 Random Forest"
   ]
  },
  {
   "cell_type": "markdown",
   "id": "153b824b",
   "metadata": {},
   "source": [
    "In this study, the Random Forest (RF) methodology was employed as the second ensemble-based predictive model for forecasting carbon prices. Random Forest is a form of the ensemble method known as Bagging, or Bootstrap Aggregating, which operates on the principle of creating multiple datasets from the original training set through bootstrap sampling. This sampling technique involves random selection with replacement, resulting in subsets where individual instances may repeat or be excluded."
   ]
  },
  {
   "cell_type": "markdown",
   "id": "3914932e",
   "metadata": {},
   "source": [
    "Renowned for its robustness, the Random Forest is inherently adept at handling large, high-dimensional datasets and mitigating overfitting—a common pitfall in complex models. The ensemble nature of Random Forest, where multiple decision trees vote on the outcome, reduces variance and enhances performance stability. Nonetheless, it may incur considerable computational expense, particularly with a large number of trees, and can be less interpretable due to its ensemble complexity."
   ]
  },
  {
   "cell_type": "markdown",
   "id": "7e07f7af",
   "metadata": {},
   "source": [
    "Implementation within this study followed a systematic approach: An ensemble of decision trees was constructed, each predicated on a distinct bootstrap sample. Key parameters, such as the number of trees (denoted as n_estimators in machine learning frameworks), maximum depth, and the number of features considered at each split, were meticulously calibrated. The decision trees were trained individually, allowing the model to capture complex, nonlinear relationships without relying on a single overarching trend. For the predictive phase, the Random Forest aggregated outputs from individual trees. In regression tasks, such as the prediction of carbon prices, the ensemble's prediction corresponds to the average of the outputs, thereby converging towards a central tendency."
   ]
  },
  {
   "cell_type": "markdown",
   "id": "8c0f9549",
   "metadata": {},
   "source": [
    "## 3.3 LSTM Model"
   ]
  },
  {
   "cell_type": "markdown",
   "id": "7e3bdceb",
   "metadata": {},
   "source": [
    "Long-Shot Term memory is a type of recurrent neural network used in commonly used in price prediction and sentiment analysis. The concept of LSTM is proposed in 1997 by Sepp Hochreiter as a solution to the vanishing gradient problem faced by recurrent neural networks(Hochreiter & Schmidhuber, 1997). The vanishing gradient problem is when the weights of earlier layers getting barely adjusted during the process of backpropagation, leading to the earlier layers of the neural network unable to learn anything. This results in the Recurrent Neural networks being incapable of recognizing long-term dependencies, making them suboptimal for analyzing complex problems."
   ]
  },
  {
   "cell_type": "markdown",
   "id": "395f72c9",
   "metadata": {},
   "source": [
    "LSTM is a special type of recurrent neural network where the hidden layers are replaced by LSTM cells. For each LSTM cell, two states are transferred to the next cell: the cell state and the hidden state. Each LSTM cell determines what information in the cell state to modify by using three gates: the forget gate, the input gate, and the output gate. \n",
    "The mathematical structure of LSTM:\n",
    "$$\n",
    "f_t = \\sigma(W_f \\cdot [h_{t-1}, x_t] + b_f)\n",
    "$$\n",
    "$$\n",
    "i_t = \\sigma(W_i \\cdot [h_{t-1}, x_t] + b_i)\n",
    "$$\n",
    "$$\n",
    "o_t = \\sigma(W_o \\cdot [h_{t-1}, x_t] + b_o)\n",
    "$$\n",
    "$$\n",
    "c_t = \\tanh(W_c \\cdot [h_{t-1}, x_t] + b_c)\n",
    "$$\n",
    "$$\n",
    "h_t = o_t \\ast \\tanh(c_t)\n",
    "$$"
   ]
  },
  {
   "cell_type": "markdown",
   "id": "d2c9e505",
   "metadata": {},
   "source": [
    "The forget gate $f_t$ regulates the removal of information from the cell state. It takes in the previous hidden state $h_{t-1}$ and the current input $x_t$ and outputs a value between 0 and 1 using a sigmoid function. The closer to zero the output is, the more the cell state information is forgotten. The input gate $i_t$ takes decides what information to store into the cell state. The input gate $i_t$ takes the previous hidden state $h_{t-1}$ and the current input $x_t$ and passes them into the sigmoid function and tanh function, respectively, multiplying the result and adding it into the cell state $c_t$."
   ]
  },
  {
   "cell_type": "markdown",
   "id": "f8401b30",
   "metadata": {},
   "source": [
    "The output gate $o_t$ determines what information to pass into the next hidden state. The decision is multiplied with the current cell state and passed onto the next LSTM cell as the hidden state. The sigmoid and tanh function serve as activation functions, preventing the input and output from getting bigger than one or negative one, and exploding or vanishing due to exponential growth or decay."
   ]
  },
  {
   "cell_type": "markdown",
   "id": "0ede4e4a",
   "metadata": {},
   "source": [
    "# Section IV Data and Descriptive Statistics"
   ]
  },
  {
   "cell_type": "code",
   "execution_count": 2,
   "id": "4160a0fe",
   "metadata": {},
   "outputs": [],
   "source": [
    "carbon_price_url = 'https://raw.githubusercontent.com/Erica-zya/Honor-Thesis/main/Data/Data_New/Daily%20Carbon%20Price.csv'\n",
    "carbon_price = pd.read_csv(carbon_price_url, header=0)\n",
    "carbon_price['Date'] = pd.to_datetime(carbon_price['Date'])\n",
    "\n",
    "energy_price_url = 'https://raw.githubusercontent.com/Erica-zya/Honor-Thesis/main/Data/Data_New/Daily%20Energy.csv'\n",
    "energy_price = pd.read_csv(energy_price_url, header=0)\n",
    "energy_price['Date'] = pd.to_datetime(energy_price['Date'])\n",
    "\n",
    "policy_url = 'https://raw.githubusercontent.com/Erica-zya/Honor-Thesis/main/Data/Data_New/Daily%20Policy.csv'\n",
    "policy = pd.read_csv(policy_url, header=0)\n",
    "policy['Date'] = pd.to_datetime(policy['Date'])\n",
    "\n",
    "market_url = 'https://raw.githubusercontent.com/Erica-zya/Honor-Thesis/main/Data/Data_New/Daily%20Market.csv'\n",
    "market = pd.read_csv(market_url, header=0)\n",
    "market['Date'] = pd.to_datetime(market['Date'])\n",
    "\n",
    "weather_url = 'https://raw.githubusercontent.com/Erica-zya/Honor-Thesis/main/Data/Data_New/Daily%20Weather.csv'\n",
    "weather = pd.read_csv(weather_url, header=0)\n",
    "weather['Date'] = pd.to_datetime(weather['Date'])\n",
    "\n",
    "# Perform the merges\n",
    "df = pd.merge(carbon_price, energy_price, on='Date', how='inner')\n",
    "df = pd.merge(df, policy, on='Date', how='inner')\n",
    "df = pd.merge(df, market, on='Date', how='inner')\n",
    "df = pd.merge(df, weather, on='Date', how='inner')\n",
    "df = df.dropna()"
   ]
  },
  {
   "cell_type": "code",
   "execution_count": 3,
   "id": "66196a66",
   "metadata": {},
   "outputs": [],
   "source": [
    "df = df.sort_values(by=['Date'])"
   ]
  },
  {
   "cell_type": "code",
   "execution_count": 4,
   "id": "f0aeda3f",
   "metadata": {},
   "outputs": [
    {
     "data": {
      "text/html": [
       "<div>\n",
       "<style scoped>\n",
       "    .dataframe tbody tr th:only-of-type {\n",
       "        vertical-align: middle;\n",
       "    }\n",
       "\n",
       "    .dataframe tbody tr th {\n",
       "        vertical-align: top;\n",
       "    }\n",
       "\n",
       "    .dataframe thead th {\n",
       "        text-align: right;\n",
       "    }\n",
       "</style>\n",
       "<table border=\"1\" class=\"dataframe\">\n",
       "  <thead>\n",
       "    <tr style=\"text-align: right;\">\n",
       "      <th></th>\n",
       "      <th>Date</th>\n",
       "      <th>Carbon</th>\n",
       "      <th>Coal</th>\n",
       "      <th>Crude Oil</th>\n",
       "      <th>Natural Gas</th>\n",
       "      <th>Fit_for_55</th>\n",
       "      <th>Law</th>\n",
       "      <th>Compromise</th>\n",
       "      <th>EPU</th>\n",
       "      <th>DAX</th>\n",
       "      <th>SPGTCLNT</th>\n",
       "      <th>FTMIB</th>\n",
       "      <th>CAC40</th>\n",
       "      <th>AEX</th>\n",
       "      <th>STOXX</th>\n",
       "      <th>Temperature</th>\n",
       "      <th>Precipitation</th>\n",
       "      <th>Solar Energy</th>\n",
       "      <th>Wind Speed</th>\n",
       "    </tr>\n",
       "  </thead>\n",
       "  <tbody>\n",
       "    <tr>\n",
       "      <th>1122</th>\n",
       "      <td>2021-01-04</td>\n",
       "      <td>33.89</td>\n",
       "      <td>69.30</td>\n",
       "      <td>51.09</td>\n",
       "      <td>19.845</td>\n",
       "      <td>0</td>\n",
       "      <td>0</td>\n",
       "      <td>0</td>\n",
       "      <td>231.37864</td>\n",
       "      <td>13726.74</td>\n",
       "      <td>2342.44</td>\n",
       "      <td>22315.87</td>\n",
       "      <td>5588.96</td>\n",
       "      <td>631.03</td>\n",
       "      <td>401.69</td>\n",
       "      <td>2.8</td>\n",
       "      <td>0.170</td>\n",
       "      <td>0.8</td>\n",
       "      <td>9.6</td>\n",
       "    </tr>\n",
       "    <tr>\n",
       "      <th>1121</th>\n",
       "      <td>2021-01-05</td>\n",
       "      <td>33.15</td>\n",
       "      <td>64.90</td>\n",
       "      <td>53.60</td>\n",
       "      <td>18.005</td>\n",
       "      <td>0</td>\n",
       "      <td>0</td>\n",
       "      <td>0</td>\n",
       "      <td>231.37864</td>\n",
       "      <td>13651.22</td>\n",
       "      <td>2390.04</td>\n",
       "      <td>22200.60</td>\n",
       "      <td>5564.60</td>\n",
       "      <td>633.62</td>\n",
       "      <td>400.94</td>\n",
       "      <td>2.7</td>\n",
       "      <td>0.012</td>\n",
       "      <td>0.6</td>\n",
       "      <td>9.4</td>\n",
       "    </tr>\n",
       "    <tr>\n",
       "      <th>1120</th>\n",
       "      <td>2021-01-06</td>\n",
       "      <td>33.83</td>\n",
       "      <td>64.25</td>\n",
       "      <td>54.30</td>\n",
       "      <td>17.565</td>\n",
       "      <td>0</td>\n",
       "      <td>0</td>\n",
       "      <td>0</td>\n",
       "      <td>231.37864</td>\n",
       "      <td>13891.97</td>\n",
       "      <td>2518.59</td>\n",
       "      <td>22734.32</td>\n",
       "      <td>5630.60</td>\n",
       "      <td>639.16</td>\n",
       "      <td>406.41</td>\n",
       "      <td>3.2</td>\n",
       "      <td>0.047</td>\n",
       "      <td>0.6</td>\n",
       "      <td>8.2</td>\n",
       "    </tr>\n",
       "    <tr>\n",
       "      <th>1119</th>\n",
       "      <td>2021-01-07</td>\n",
       "      <td>34.97</td>\n",
       "      <td>66.60</td>\n",
       "      <td>54.38</td>\n",
       "      <td>19.305</td>\n",
       "      <td>0</td>\n",
       "      <td>0</td>\n",
       "      <td>0</td>\n",
       "      <td>231.37864</td>\n",
       "      <td>13968.24</td>\n",
       "      <td>2692.75</td>\n",
       "      <td>22746.08</td>\n",
       "      <td>5669.85</td>\n",
       "      <td>637.41</td>\n",
       "      <td>408.49</td>\n",
       "      <td>2.8</td>\n",
       "      <td>0.125</td>\n",
       "      <td>1.6</td>\n",
       "      <td>7.1</td>\n",
       "    </tr>\n",
       "    <tr>\n",
       "      <th>1118</th>\n",
       "      <td>2021-01-08</td>\n",
       "      <td>35.14</td>\n",
       "      <td>68.50</td>\n",
       "      <td>55.99</td>\n",
       "      <td>20.120</td>\n",
       "      <td>0</td>\n",
       "      <td>0</td>\n",
       "      <td>0</td>\n",
       "      <td>231.37864</td>\n",
       "      <td>14049.53</td>\n",
       "      <td>2720.79</td>\n",
       "      <td>22793.94</td>\n",
       "      <td>5706.88</td>\n",
       "      <td>645.60</td>\n",
       "      <td>411.17</td>\n",
       "      <td>2.2</td>\n",
       "      <td>0.082</td>\n",
       "      <td>2.2</td>\n",
       "      <td>5.6</td>\n",
       "    </tr>\n",
       "  </tbody>\n",
       "</table>\n",
       "</div>"
      ],
      "text/plain": [
       "           Date  Carbon   Coal  Crude Oil  Natural Gas  Fit_for_55  Law  \\\n",
       "1122 2021-01-04   33.89  69.30      51.09       19.845           0    0   \n",
       "1121 2021-01-05   33.15  64.90      53.60       18.005           0    0   \n",
       "1120 2021-01-06   33.83  64.25      54.30       17.565           0    0   \n",
       "1119 2021-01-07   34.97  66.60      54.38       19.305           0    0   \n",
       "1118 2021-01-08   35.14  68.50      55.99       20.120           0    0   \n",
       "\n",
       "      Compromise        EPU       DAX  SPGTCLNT     FTMIB    CAC40     AEX  \\\n",
       "1122           0  231.37864  13726.74   2342.44  22315.87  5588.96  631.03   \n",
       "1121           0  231.37864  13651.22   2390.04  22200.60  5564.60  633.62   \n",
       "1120           0  231.37864  13891.97   2518.59  22734.32  5630.60  639.16   \n",
       "1119           0  231.37864  13968.24   2692.75  22746.08  5669.85  637.41   \n",
       "1118           0  231.37864  14049.53   2720.79  22793.94  5706.88  645.60   \n",
       "\n",
       "       STOXX  Temperature  Precipitation  Solar Energy  Wind Speed  \n",
       "1122  401.69          2.8          0.170           0.8         9.6  \n",
       "1121  400.94          2.7          0.012           0.6         9.4  \n",
       "1120  406.41          3.2          0.047           0.6         8.2  \n",
       "1119  408.49          2.8          0.125           1.6         7.1  \n",
       "1118  411.17          2.2          0.082           2.2         5.6  "
      ]
     },
     "execution_count": 4,
     "metadata": {},
     "output_type": "execute_result"
    }
   ],
   "source": [
    "df.head()"
   ]
  },
  {
   "cell_type": "code",
   "execution_count": 5,
   "id": "7c36dcd4",
   "metadata": {},
   "outputs": [
    {
     "data": {
      "text/plain": [
       "763"
      ]
     },
     "execution_count": 5,
     "metadata": {},
     "output_type": "execute_result"
    }
   ],
   "source": [
    "df['Carbon'].count()"
   ]
  },
  {
   "cell_type": "markdown",
   "id": "ccc3c20d",
   "metadata": {},
   "source": [
    "In the analysis of carbon pricing trends within the European Union's Emissions Trading System (EU ETS), this study draws upon a meticulously compiled dataset encompassing the period from January 1, 2021, to January 31, 2024. During this time frame, a total of 763 data points were collected, providing a granular view of carbon price movements. The carbon price data, sourced from Investing.com, is critical for understanding the economic implications of regulatory shifts and market dynamics under the EU's climate policy framework."
   ]
  },
  {
   "cell_type": "markdown",
   "id": "ad7cba49",
   "metadata": {},
   "source": [
    "This timeframe is deliberately aligned with the initiation of Phase 4 of the European Union's Emissions Trading System (EU ETS), marking a significant transition from the system's previous phases. The focus on this specific period is due to the substantial regulatory shifts introduced in Phase 4, which differ markedly from the earlier phases in terms of emissions reduction targets and allowance allocation mechanisms."
   ]
  },
  {
   "cell_type": "markdown",
   "id": "1a8ad47b",
   "metadata": {},
   "source": [
    "Notably, in Phase 3 of the EU ETS (2013-2020), the Union-wide cap for stationary installations was subject to an annual decrease by a linear reduction factor of 1.74%, with the 2013 cap determined based on the average total quantity of allowances issued annually during 2008-2012. Conversely, Phase 4 (2021-2030) introduces a more aggressive approach to emissions reduction, with the cap on emissions decreasing annually at an increased linear reduction factor of 2.2%. This heightened ambition reflects the EU's commitment to achieving more substantial emissions reductions and necessitates an in-depth analysis of carbon pricing trends under the new regulatory framework. The study aims to isolate the impacts of these changes on carbon pricing, underscoring the importance of understanding the dynamics introduced by Phase 4's enhanced regulatory measures."
   ]
  },
  {
   "cell_type": "code",
   "execution_count": 6,
   "id": "c7c5e891",
   "metadata": {},
   "outputs": [
    {
     "data": {
      "image/png": "[encoded data removed]",
      "text/plain": [
       "<Figure size 1000x600 with 1 Axes>"
      ]
     },
     "metadata": {},
     "output_type": "display_data"
    }
   ],
   "source": [
    "plt.figure(figsize=(10, 6))\n",
    "plt.plot(df['Date'], df['Carbon'], marker='o', markersize=1, linestyle='-')\n",
    "plt.title('Carbon Price Over Time')\n",
    "plt.xlabel('Date')\n",
    "plt.ylabel('Price')\n",
    "plt.xticks(rotation=45)  # Rotate x-axis labels for better readability\n",
    "plt.grid(True)\n",
    "plt.tight_layout()\n",
    "plt.show()"
   ]
  },
  {
   "cell_type": "code",
   "execution_count": 7,
   "id": "974f369e",
   "metadata": {
    "scrolled": false
   },
   "outputs": [
    {
     "name": "stdout",
     "output_type": "stream",
     "text": [
      "Carbon\n",
      "Mean: 72.98309305373526\n",
      "Variance: 270.6564305779435\n",
      "Standard Deviation: 16.45163914562751\n",
      "Maximum: 98.01\n",
      "Minimum: 31.96\n",
      "\n",
      "Coal\n",
      "Mean: 176.4729357798164\n",
      "Variance: 8734.749716041804\n",
      "Standard Deviation: 93.459882923326\n",
      "Maximum: 439.0\n",
      "Minimum: 63.75\n",
      "\n",
      "Crude Oil\n",
      "Mean: 83.81741808650057\n",
      "Variance: 203.24808426985655\n",
      "Standard Deviation: 14.256510241635452\n",
      "Maximum: 127.98\n",
      "Minimum: 51.09\n",
      "\n",
      "Natural Gas\n",
      "Mean: 72.44877326343381\n",
      "Variance: 2982.6553067792283\n",
      "Standard Deviation: 54.61369156886603\n",
      "Maximum: 339.195\n",
      "Minimum: 15.525\n",
      "\n",
      "Fit_for_55\n",
      "Mean: 0.8296199213630406\n",
      "Variance: 0.14153620705668177\n",
      "Standard Deviation: 0.376212980978437\n",
      "Maximum: 1\n",
      "Minimum: 0\n",
      "\n",
      "Law\n",
      "Mean: 0.21756225425950196\n",
      "Variance: 0.1704523173135469\n",
      "Standard Deviation: 0.4128587135008136\n",
      "Maximum: 1\n",
      "Minimum: 0\n",
      "\n",
      "Compromise\n",
      "Mean: 0.24508519003931847\n",
      "Variance: 0.18526124601397334\n",
      "Standard Deviation: 0.43041984853625576\n",
      "Maximum: 1\n",
      "Minimum: 0\n",
      "\n",
      "EPU\n",
      "Mean: 276.8771762858453\n",
      "Variance: 4871.8912743413875\n",
      "Standard Deviation: 69.79893462182204\n",
      "Maximum: 418.6188409\n",
      "Minimum: 141.3860555\n",
      "\n",
      "DAX\n",
      "Mean: 14980.426762778503\n",
      "Variance: 1171893.547405912\n",
      "Standard Deviation: 1082.540321376489\n",
      "Maximum: 16972.34\n",
      "Minimum: 11975.55\n",
      "\n",
      "SPGTCLNT\n",
      "Mean: 1699.2062123197886\n",
      "Variance: 87424.63869495211\n",
      "Standard Deviation: 295.6765778599179\n",
      "Maximum: 2720.79\n",
      "Minimum: 1088.34\n",
      "\n",
      "FTMIB\n",
      "Mean: 25692.047509829616\n",
      "Variance: 5831316.844890379\n",
      "Standard Deviation: 2414.811968847757\n",
      "Maximum: 30744.24\n",
      "Minimum: 20352.98\n",
      "\n",
      "CAC40\n",
      "Mean: 6722.626304062912\n",
      "Variance: 276824.6059758235\n",
      "Standard Deviation: 526.1412414702191\n",
      "Maximum: 7677.47\n",
      "Minimum: 5399.21\n",
      "\n",
      "AEX\n",
      "Mean: 732.6947051114021\n",
      "Variance: 2022.5656593289414\n",
      "Standard Deviation: 44.97294363646815\n",
      "Maximum: 827.57\n",
      "Minimum: 630.58\n",
      "\n",
      "STOXX\n",
      "Mean: 448.01124508519024\n",
      "Variance: 525.1235786314548\n",
      "Standard Deviation: 22.915575022928287\n",
      "Maximum: 494.35\n",
      "Minimum: 382.89\n",
      "\n",
      "Temperature\n",
      "Mean: 12.942463958060298\n",
      "Variance: 44.03102909154707\n",
      "Standard Deviation: 6.635588074281515\n",
      "Maximum: 31.1\n",
      "Minimum: -3.2\n",
      "\n",
      "Precipitation\n",
      "Mean: 1.5343958060288319\n",
      "Variance: 16.386130976990245\n",
      "Standard Deviation: 4.047978628524396\n",
      "Maximum: 36.032\n",
      "Minimum: 0.0\n",
      "\n",
      "Solar Energy\n",
      "Mean: 6.754128440366975\n",
      "Variance: 34.61983529581735\n",
      "Standard Deviation: 5.883862277094643\n",
      "Maximum: 27.1\n",
      "Minimum: 0.1\n",
      "\n",
      "Wind Speed\n",
      "Mean: 11.391743119266046\n",
      "Variance: 14.595351681957183\n",
      "Standard Deviation: 3.820386326270837\n",
      "Maximum: 30.7\n",
      "Minimum: 3.8\n",
      "\n"
     ]
    }
   ],
   "source": [
    "for column_name in df.columns[1:]:\n",
    "    column = df[column_name]\n",
    "    mean = column.mean()\n",
    "    variance = column.var()\n",
    "    sd = column.std()\n",
    "    max_value = column.max()\n",
    "    min_value = column.min()\n",
    "    \n",
    "    print(column_name)\n",
    "    print(\"Mean:\", mean)\n",
    "    print(\"Variance:\", variance)\n",
    "    print(\"Standard Deviation:\", sd)\n",
    "    print(\"Maximum:\", max_value)\n",
    "    print(\"Minimum:\", min_value)\n",
    "    print()"
   ]
  },
  {
   "cell_type": "markdown",
   "id": "319703dc",
   "metadata": {},
   "source": [
    "The descriptive statistics of our dataset from January 2021 to January 2024 reveal the carbon price's behavior during the EU ETS Phase 4, with a mean value of €72.98 and standard deviation indicating market volatility. The time series plot underscores these price fluctuations over the 763 observations. Complementing this, we observed varied patterns in related energy commodities and European stock indices, alongside weather variables that could influence emission levels and carbon market dynamics, all of which will be explored further in our econometric analysis."
   ]
  },
  {
   "cell_type": "markdown",
   "id": "b4fa6778",
   "metadata": {},
   "source": [
    "### Test for Multicollinearity"
   ]
  },
  {
   "cell_type": "code",
   "execution_count": 8,
   "id": "4590fe8f",
   "metadata": {},
   "outputs": [
    {
     "name": "stdout",
     "output_type": "stream",
     "text": [
      "          Feature           VIF\n",
      "0            Coal     74.107461\n",
      "1       Crude Oil    278.930559\n",
      "2     Natural Gas     24.272691\n",
      "3      Fit_for_55     38.194815\n",
      "4             Law     15.447276\n",
      "5      Compromise     12.519092\n",
      "6             EPU     65.929011\n",
      "7             DAX  12001.686917\n",
      "8        SPGTCLNT    132.011553\n",
      "9           FTMIB   5479.306812\n",
      "10          CAC40   2743.642110\n",
      "11            AEX   5818.402102\n",
      "12          STOXX  12428.629219\n",
      "13    Temperature     14.243452\n",
      "14  Precipitation      1.304320\n",
      "15   Solar Energy      7.960605\n",
      "16     Wind Speed     10.874388\n"
     ]
    }
   ],
   "source": [
    "# Drop the 'Date' and 'Carbon' columns before calculating VIF\n",
    "df_numeric = df.drop(columns=['Date', 'Carbon'])\n",
    "\n",
    "# Initialize a DataFrame to store VIF results\n",
    "vif_data = pd.DataFrame()\n",
    "vif_data[\"Feature\"] = df_numeric.columns\n",
    "vif_data[\"VIF\"] = [variance_inflation_factor(df_numeric.values, i) for i in range(df_numeric.shape[1])]\n",
    "\n",
    "print(vif_data)"
   ]
  },
  {
   "cell_type": "code",
   "execution_count": 9,
   "id": "1fb6f7a4",
   "metadata": {},
   "outputs": [
    {
     "name": "stdout",
     "output_type": "stream",
     "text": [
      "               DAX  SPGTCLNT     FTMIB     CAC40       AEX     STOXX\n",
      "DAX       1.000000 -0.283918  0.912680  0.804923  0.854027  0.881508\n",
      "SPGTCLNT -0.283918  1.000000 -0.548251 -0.620263 -0.263157 -0.262386\n",
      "FTMIB     0.912680 -0.548251  1.000000  0.908032  0.811391  0.818125\n",
      "CAC40     0.804923 -0.620263  0.908032  1.000000  0.818160  0.824418\n",
      "AEX       0.854027 -0.263157  0.811391  0.818160  1.000000  0.951225\n",
      "STOXX     0.881508 -0.262386  0.818125  0.824418  0.951225  1.000000\n"
     ]
    }
   ],
   "source": [
    "# Check correlations between stock indices\n",
    "stock_columns = ['DAX', 'SPGTCLNT', 'FTMIB', 'CAC40', 'AEX', 'STOXX']\n",
    "print(df_numeric[stock_columns].corr())"
   ]
  },
  {
   "cell_type": "code",
   "execution_count": 10,
   "id": "e2425456",
   "metadata": {},
   "outputs": [
    {
     "name": "stdout",
     "output_type": "stream",
     "text": [
      "                 Coal  Crude Oil  Natural Gas\n",
      "Coal         1.000000   0.823675     0.865181\n",
      "Crude Oil    0.823675   1.000000     0.606318\n",
      "Natural Gas  0.865181   0.606318     1.000000\n"
     ]
    }
   ],
   "source": [
    "# Check correlations between energy prices\n",
    "energy_columns = ['Coal', 'Crude Oil', 'Natural Gas']\n",
    "print(df_numeric[energy_columns].corr())"
   ]
  },
  {
   "cell_type": "markdown",
   "id": "724f4f15",
   "metadata": {},
   "source": [
    "### PAC"
   ]
  },
  {
   "cell_type": "code",
   "execution_count": 11,
   "id": "908c246f",
   "metadata": {},
   "outputs": [],
   "source": [
    "# Step 1: Combine Stock Indices using PCA\n",
    "cols_to_pca_stock = ['DAX', 'STOXX', 'FTMIB', 'CAC40', 'AEX','SPGTCLNT']\n",
    "\n",
    "# Standardize the stock index data\n",
    "scaler = StandardScaler()\n",
    "X_pca_stock = scaler.fit_transform(df[cols_to_pca_stock])\n",
    "\n",
    "# Apply PCA for stock indices\n",
    "pca_stock = PCA(n_components=1)\n",
    "X_pca_stock_reduced = pca_stock.fit_transform(X_pca_stock)\n",
    "\n",
    "# Step 2 (Optional): Combine Energy Prices using PCA\n",
    "cols_to_pca_energy = ['Crude Oil', 'Coal', 'Natural Gas']\n",
    "\n",
    "# Standardize the energy price data\n",
    "X_pca_energy = scaler.fit_transform(df[cols_to_pca_energy])\n",
    "\n",
    "# Apply PCA for energy prices\n",
    "pca_energy = PCA(n_components=1)\n",
    "X_pca_energy_reduced = pca_energy.fit_transform(X_pca_energy)\n",
    "\n",
    "# Step 3: Create df_arima without modifying df\n",
    "# Select all other columns except the original stock indices and energy prices\n",
    "other_columns = [col for col in df.columns if col not in cols_to_pca_stock + cols_to_pca_energy]\n",
    "\n",
    "# Create the new DataFrame with the PCA components and other columns\n",
    "df_arima = df[other_columns].copy()  # Copy the rest of the columns\n",
    "df_arima['PCA_Stock_Index'] = X_pca_stock_reduced\n",
    "df_arima['PCA_Energy_Prices'] = X_pca_energy_reduced"
   ]
  },
  {
   "cell_type": "code",
   "execution_count": 12,
   "id": "4be15d2f",
   "metadata": {},
   "outputs": [
    {
     "name": "stdout",
     "output_type": "stream",
     "text": [
      "             Feature        VIF\n",
      "0                EPU  11.711455\n",
      "1        Temperature   8.886121\n",
      "2      Precipitation   1.258885\n",
      "3       Solar Energy   4.239777\n",
      "4         Wind Speed   9.320415\n",
      "5    PCA_Stock_Index   1.227304\n",
      "6  PCA_Energy_Prices   1.775570\n"
     ]
    }
   ],
   "source": [
    "# Drop the 'Date' and 'Carbon' columns before calculating VIF\n",
    "df_numeric_new = df_arima.drop(columns=['Date', 'Carbon','Law','Compromise','Fit_for_55'])\n",
    "\n",
    "# Initialize a DataFrame to store VIF results\n",
    "vif_data_new = pd.DataFrame()\n",
    "vif_data_new[\"Feature\"] = df_numeric_new.columns\n",
    "vif_data_new[\"VIF\"] = [variance_inflation_factor(df_numeric_new.values, i) for i in range(df_numeric_new.shape[1])]\n",
    "\n",
    "print(vif_data_new)"
   ]
  },
  {
   "cell_type": "markdown",
   "id": "1da345fc",
   "metadata": {},
   "source": [
    "# Section V Forcasting of Carbon Price"
   ]
  },
  {
   "cell_type": "markdown",
   "id": "81a3b932",
   "metadata": {},
   "source": [
    "## 5.1 Evaluation Criteria"
   ]
  },
  {
   "cell_type": "markdown",
   "id": "ef82169d",
   "metadata": {},
   "source": [
    "## 5.2 Parameter Determination"
   ]
  },
  {
   "cell_type": "markdown",
   "id": "70426b95",
   "metadata": {},
   "source": [
    "### ARIMA Model"
   ]
  },
  {
   "cell_type": "markdown",
   "id": "e55f0cb2",
   "metadata": {},
   "source": [
    "##### AR(1)"
   ]
  },
  {
   "cell_type": "code",
   "execution_count": 13,
   "id": "b2c8edf8",
   "metadata": {},
   "outputs": [
    {
     "name": "stdout",
     "output_type": "stream",
     "text": [
      "                            AutoReg Model Results                             \n",
      "==============================================================================\n",
      "Dep. Variable:                 Carbon   No. Observations:                  763\n",
      "Model:                     AutoReg(1)   Log Likelihood               -1631.975\n",
      "Method:               Conditional MLE   S.D. of innovations              2.060\n",
      "Date:                Thu, 12 Sep 2024   AIC                           3269.951\n",
      "Time:                        14:56:51   BIC                           3283.859\n",
      "Sample:                             1   HQIC                          3275.306\n",
      "                                  763                                         \n",
      "==============================================================================\n",
      "                 coef    std err          z      P>|z|      [0.025      0.975]\n",
      "------------------------------------------------------------------------------\n",
      "const          0.8752      0.339      2.578      0.010       0.210       1.541\n",
      "Carbon.L1      0.9886      0.005    217.881      0.000       0.980       0.997\n",
      "                                    Roots                                    \n",
      "=============================================================================\n",
      "                  Real          Imaginary           Modulus         Frequency\n",
      "-----------------------------------------------------------------------------\n",
      "AR.1            1.0116           +0.0000j            1.0116            0.0000\n",
      "-----------------------------------------------------------------------------\n"
     ]
    },
    {
     "name": "stderr",
     "output_type": "stream",
     "text": [
      "C:\\Users\\Erica Zhao\\anaconda3\\envs\\honorthesis\\lib\\site-packages\\statsmodels\\tsa\\base\\tsa_model.py:471: ValueWarning: An unsupported index was provided and will be ignored when e.g. forecasting.\n",
      "  self._init_dates(dates, freq)\n"
     ]
    }
   ],
   "source": [
    "y = df_arima['Carbon']\n",
    "\n",
    "modelAR1 = AutoReg(y, lags=1)\n",
    "resultAR1 = modelAR1.fit()\n",
    "\n",
    "print(resultAR1.summary())"
   ]
  },
  {
   "cell_type": "code",
   "execution_count": 14,
   "id": "e16b3184",
   "metadata": {},
   "outputs": [
    {
     "name": "stdout",
     "output_type": "stream",
     "text": [
      "ADF Statistic: -2.496120\n",
      "p-value: 0.116421\n",
      "Critical Values:\n",
      "\t1%: -3.439\n",
      "\t5%: -2.865\n",
      "\t10%: -2.569\n"
     ]
    }
   ],
   "source": [
    "adf_result = adfuller(y)\n",
    "\n",
    "print('ADF Statistic: %f' % adf_result[0])\n",
    "print('p-value: %f' % adf_result[1])\n",
    "print('Critical Values:')\n",
    "for key, value in adf_result[4].items():\n",
    "    print('\\t%s: %.3f' % (key, value))"
   ]
  },
  {
   "cell_type": "code",
   "execution_count": 15,
   "id": "ed7519af",
   "metadata": {},
   "outputs": [
    {
     "name": "stdout",
     "output_type": "stream",
     "text": [
      "                            AutoReg Model Results                             \n",
      "==============================================================================\n",
      "Dep. Variable:                 Carbon   No. Observations:                  762\n",
      "Model:                     AutoReg(1)   Log Likelihood               -1632.661\n",
      "Method:               Conditional MLE   S.D. of innovations              2.068\n",
      "Date:                Thu, 12 Sep 2024   AIC                           3271.322\n",
      "Time:                        14:56:51   BIC                           3285.226\n",
      "Sample:                             1   HQIC                          3276.676\n",
      "                                  762                                         \n",
      "==============================================================================\n",
      "                 coef    std err          z      P>|z|      [0.025      0.975]\n",
      "------------------------------------------------------------------------------\n",
      "const          0.0428      0.075      0.571      0.568      -0.104       0.190\n",
      "Carbon.L1     -0.0448      0.036     -1.236      0.216      -0.116       0.026\n",
      "                                    Roots                                    \n",
      "=============================================================================\n",
      "                  Real          Imaginary           Modulus         Frequency\n",
      "-----------------------------------------------------------------------------\n",
      "AR.1          -22.3434           +0.0000j           22.3434            0.5000\n",
      "-----------------------------------------------------------------------------\n"
     ]
    },
    {
     "name": "stderr",
     "output_type": "stream",
     "text": [
      "C:\\Users\\Erica Zhao\\anaconda3\\envs\\honorthesis\\lib\\site-packages\\statsmodels\\tsa\\base\\tsa_model.py:471: ValueWarning: An unsupported index was provided and will be ignored when e.g. forecasting.\n",
      "  self._init_dates(dates, freq)\n"
     ]
    }
   ],
   "source": [
    "y_diff = y.diff().dropna()\n",
    "\n",
    "\n",
    "modelAR1_diff = AutoReg(y_diff, lags=1)\n",
    "resultAR1_diff = modelAR1_diff.fit()\n",
    "\n",
    "print(resultAR1_diff.summary())"
   ]
  },
  {
   "cell_type": "markdown",
   "id": "fd20b634",
   "metadata": {},
   "source": [
    "##### AR(2)"
   ]
  },
  {
   "cell_type": "code",
   "execution_count": 16,
   "id": "929d4adb",
   "metadata": {},
   "outputs": [
    {
     "name": "stdout",
     "output_type": "stream",
     "text": [
      "                            AutoReg Model Results                             \n",
      "==============================================================================\n",
      "Dep. Variable:                 Carbon   No. Observations:                  763\n",
      "Model:                     AutoReg(2)   Log Likelihood               -1629.492\n",
      "Method:               Conditional MLE   S.D. of innovations              2.059\n",
      "Date:                Thu, 12 Sep 2024   AIC                           3266.983\n",
      "Time:                        14:56:51   BIC                           3285.522\n",
      "Sample:                             2   HQIC                          3274.122\n",
      "                                  763                                         \n",
      "==============================================================================\n",
      "                 coef    std err          z      P>|z|      [0.025      0.975]\n",
      "------------------------------------------------------------------------------\n",
      "const          0.8821      0.341      2.587      0.010       0.214       1.550\n",
      "Carbon.L1      0.9469      0.036     26.151      0.000       0.876       1.018\n",
      "Carbon.L2      0.0416      0.036      1.152      0.249      -0.029       0.112\n",
      "                                    Roots                                    \n",
      "=============================================================================\n",
      "                  Real          Imaginary           Modulus         Frequency\n",
      "-----------------------------------------------------------------------------\n",
      "AR.1            1.0112           +0.0000j            1.0112            0.0000\n",
      "AR.2          -23.7929           +0.0000j           23.7929            0.5000\n",
      "-----------------------------------------------------------------------------\n"
     ]
    },
    {
     "name": "stderr",
     "output_type": "stream",
     "text": [
      "C:\\Users\\Erica Zhao\\anaconda3\\envs\\honorthesis\\lib\\site-packages\\statsmodels\\tsa\\base\\tsa_model.py:471: ValueWarning: An unsupported index was provided and will be ignored when e.g. forecasting.\n",
      "  self._init_dates(dates, freq)\n"
     ]
    }
   ],
   "source": [
    "modelAR2 = AutoReg(y, lags=2)\n",
    "resultAR2 = modelAR2.fit()\n",
    "\n",
    "print(resultAR2.summary())"
   ]
  },
  {
   "cell_type": "code",
   "execution_count": 17,
   "id": "94255166",
   "metadata": {},
   "outputs": [
    {
     "name": "stdout",
     "output_type": "stream",
     "text": [
      "ADF Statistic: -12.798021\n",
      "p-value: 0.000000\n",
      "Critical Values:\n",
      "\t1%: -3.439\n",
      "\t5%: -2.865\n",
      "\t10%: -2.569\n"
     ]
    }
   ],
   "source": [
    "residuals = resultAR2.resid\n",
    "\n",
    "if np.isnan(residuals).any() or np.isinf(residuals).any():\n",
    "    residuals = residuals[~(np.isnan(residuals) | np.isinf(residuals))]\n",
    "\n",
    "adf_test = adfuller(residuals)\n",
    "\n",
    "print('ADF Statistic: %f' % adf_test[0])\n",
    "print('p-value: %f' % adf_test[1])\n",
    "print('Critical Values:')\n",
    "for key, value in adf_test[4].items():\n",
    "    print('\\t%s: %.3f' % (key, value))\n"
   ]
  },
  {
   "cell_type": "code",
   "execution_count": 18,
   "id": "07f6ab18",
   "metadata": {},
   "outputs": [],
   "source": [
    "X = df_arima.drop(columns=['Date','Carbon'])\n",
    "_y = df_arima['Carbon']"
   ]
  },
  {
   "cell_type": "code",
   "execution_count": 19,
   "id": "5a02a1a0",
   "metadata": {},
   "outputs": [
    {
     "data": {
      "text/plain": [
       "<Figure size 1000x600 with 0 Axes>"
      ]
     },
     "metadata": {},
     "output_type": "display_data"
    },
    {
     "data": {
      "image/png": "[encoded data removed]",
      "text/plain": [
       "<Figure size 640x480 with 1 Axes>"
      ]
     },
     "metadata": {},
     "output_type": "display_data"
    }
   ],
   "source": [
    "plt.figure(figsize=(10, 6))\n",
    "plot_acf(df_arima['Carbon'], lags=5, alpha=0.05)\n",
    "plt.title('Autocorrelation Function for Carbon Price')\n",
    "plt.show()"
   ]
  },
  {
   "cell_type": "code",
   "execution_count": 20,
   "id": "7c51f4c4",
   "metadata": {},
   "outputs": [
    {
     "name": "stderr",
     "output_type": "stream",
     "text": [
      "C:\\Users\\Erica Zhao\\anaconda3\\envs\\honorthesis\\lib\\site-packages\\statsmodels\\graphics\\tsaplots.py:348: FutureWarning: The default method 'yw' can produce PACF values outside of the [-1,1] interval. After 0.13, the default will change tounadjusted Yule-Walker ('ywm'). You can use this method now by setting method='ywm'.\n",
      "  warnings.warn(\n"
     ]
    },
    {
     "data": {
      "text/plain": [
       "<Figure size 1000x600 with 0 Axes>"
      ]
     },
     "metadata": {},
     "output_type": "display_data"
    },
    {
     "data": {
      "image/png": "[encoded data removed]",
      "text/plain": [
       "<Figure size 640x480 with 1 Axes>"
      ]
     },
     "metadata": {},
     "output_type": "display_data"
    }
   ],
   "source": [
    "plt.figure(figsize=(10, 6))\n",
    "plot_pacf(_y, lags=5, alpha=0.05)\n",
    "plt.title('Partial Autocorrelation Function')\n",
    "plt.show()"
   ]
  },
  {
   "cell_type": "markdown",
   "id": "35ad24d1",
   "metadata": {},
   "source": [
    "##### ARIMA(1,0,0)"
   ]
  },
  {
   "cell_type": "code",
   "execution_count": 21,
   "id": "15a84a8c",
   "metadata": {},
   "outputs": [
    {
     "name": "stderr",
     "output_type": "stream",
     "text": [
      "C:\\Users\\Erica Zhao\\anaconda3\\envs\\honorthesis\\lib\\site-packages\\statsmodels\\tsa\\base\\tsa_model.py:471: ValueWarning: An unsupported index was provided and will be ignored when e.g. forecasting.\n",
      "  self._init_dates(dates, freq)\n",
      "C:\\Users\\Erica Zhao\\anaconda3\\envs\\honorthesis\\lib\\site-packages\\statsmodels\\tsa\\base\\tsa_model.py:471: ValueWarning: An unsupported index was provided and will be ignored when e.g. forecasting.\n",
      "  self._init_dates(dates, freq)\n",
      "C:\\Users\\Erica Zhao\\anaconda3\\envs\\honorthesis\\lib\\site-packages\\statsmodels\\tsa\\base\\tsa_model.py:471: ValueWarning: An unsupported index was provided and will be ignored when e.g. forecasting.\n",
      "  self._init_dates(dates, freq)\n"
     ]
    },
    {
     "name": "stdout",
     "output_type": "stream",
     "text": [
      "                               SARIMAX Results                                \n",
      "==============================================================================\n",
      "Dep. Variable:                 Carbon   No. Observations:                  763\n",
      "Model:                 ARIMA(1, 0, 0)   Log Likelihood               -1605.501\n",
      "Date:                Thu, 12 Sep 2024   AIC                           3237.002\n",
      "Time:                        14:56:53   BIC                           3297.287\n",
      "Sample:                             0   HQIC                          3260.212\n",
      "                                - 763                                         \n",
      "Covariance Type:                  opg                                         \n",
      "=====================================================================================\n",
      "                        coef    std err          z      P>|z|      [0.025      0.975]\n",
      "-------------------------------------------------------------------------------------\n",
      "const                51.5435    111.664      0.462      0.644    -167.313     270.400\n",
      "Fit_for_55            1.7874      3.389      0.527      0.598      -4.856       8.430\n",
      "Law                  -1.4907      2.699     -0.552      0.581      -6.782       3.800\n",
      "Compromise            2.5492    205.560      0.012      0.990    -400.342     405.440\n",
      "EPU                  -0.0373      0.004    -10.256      0.000      -0.044      -0.030\n",
      "Temperature           0.0376      0.029      1.302      0.193      -0.019       0.094\n",
      "Precipitation         0.0021      0.014      0.145      0.885      -0.026       0.030\n",
      "Solar Energy         -0.0044      0.025     -0.173      0.863      -0.054       0.045\n",
      "Wind Speed           -0.0186      0.020     -0.937      0.349      -0.057       0.020\n",
      "PCA_Stock_Index      -1.3489      0.214     -6.291      0.000      -1.769      -0.929\n",
      "PCA_Energy_Prices     0.4377      0.346      1.265      0.206      -0.241       1.116\n",
      "ar.L1                 0.9990      0.002    489.732      0.000       0.995       1.003\n",
      "sigma2                3.9070      0.134     29.148      0.000       3.644       4.170\n",
      "===================================================================================\n",
      "Ljung-Box (L1) (Q):                   6.16   Jarque-Bera (JB):               375.28\n",
      "Prob(Q):                              0.01   Prob(JB):                         0.00\n",
      "Heteroskedasticity (H):               0.92   Skew:                            -0.39\n",
      "Prob(H) (two-sided):                  0.53   Kurtosis:                         6.35\n",
      "===================================================================================\n",
      "\n",
      "Warnings:\n",
      "[1] Covariance matrix calculated using the outer product of gradients (complex-step).\n"
     ]
    },
    {
     "name": "stderr",
     "output_type": "stream",
     "text": [
      "C:\\Users\\Erica Zhao\\anaconda3\\envs\\honorthesis\\lib\\site-packages\\statsmodels\\base\\model.py:604: ConvergenceWarning: Maximum Likelihood optimization failed to converge. Check mle_retvals\n",
      "  warnings.warn(\"Maximum Likelihood optimization failed to \"\n"
     ]
    }
   ],
   "source": [
    "model_arima100 = ARIMA(_y, exog=X, order=(1,0,0))\n",
    "model_arima100_fit = model_arima100.fit()\n",
    "\n",
    "print(model_arima100_fit.summary())"
   ]
  },
  {
   "cell_type": "markdown",
   "id": "ddcbf0f0",
   "metadata": {},
   "source": [
    "##### ARIMA(1,0,1)"
   ]
  },
  {
   "cell_type": "code",
   "execution_count": 22,
   "id": "380015d7",
   "metadata": {},
   "outputs": [
    {
     "name": "stderr",
     "output_type": "stream",
     "text": [
      "C:\\Users\\Erica Zhao\\anaconda3\\envs\\honorthesis\\lib\\site-packages\\statsmodels\\tsa\\base\\tsa_model.py:471: ValueWarning: An unsupported index was provided and will be ignored when e.g. forecasting.\n",
      "  self._init_dates(dates, freq)\n",
      "C:\\Users\\Erica Zhao\\anaconda3\\envs\\honorthesis\\lib\\site-packages\\statsmodels\\tsa\\base\\tsa_model.py:471: ValueWarning: An unsupported index was provided and will be ignored when e.g. forecasting.\n",
      "  self._init_dates(dates, freq)\n",
      "C:\\Users\\Erica Zhao\\anaconda3\\envs\\honorthesis\\lib\\site-packages\\statsmodels\\tsa\\base\\tsa_model.py:471: ValueWarning: An unsupported index was provided and will be ignored when e.g. forecasting.\n",
      "  self._init_dates(dates, freq)\n"
     ]
    },
    {
     "name": "stdout",
     "output_type": "stream",
     "text": [
      "                               SARIMAX Results                                \n",
      "==============================================================================\n",
      "Dep. Variable:                 Carbon   No. Observations:                  763\n",
      "Model:                 ARIMA(1, 0, 1)   Log Likelihood               -1602.825\n",
      "Date:                Thu, 12 Sep 2024   AIC                           3233.649\n",
      "Time:                        14:56:55   BIC                           3298.571\n",
      "Sample:                             0   HQIC                          3258.645\n",
      "                                - 763                                         \n",
      "Covariance Type:                  opg                                         \n",
      "=====================================================================================\n",
      "                        coef    std err          z      P>|z|      [0.025      0.975]\n",
      "-------------------------------------------------------------------------------------\n",
      "const                51.5986    105.569      0.489      0.625    -155.312     258.509\n",
      "Fit_for_55            2.0090      2.963      0.678      0.498      -3.799       7.817\n",
      "Law                  -1.5046      2.719     -0.553      0.580      -6.834       3.825\n",
      "Compromise            2.4916     12.240      0.204      0.839     -21.498      26.482\n",
      "EPU                  -0.0391      0.004    -10.838      0.000      -0.046      -0.032\n",
      "Temperature           0.0413      0.029      1.424      0.154      -0.016       0.098\n",
      "Precipitation         0.0027      0.015      0.181      0.856      -0.026       0.031\n",
      "Solar Energy         -0.0048      0.027     -0.182      0.856      -0.057       0.047\n",
      "Wind Speed           -0.0175      0.020     -0.869      0.385      -0.057       0.022\n",
      "PCA_Stock_Index      -1.3534      0.212     -6.399      0.000      -1.768      -0.939\n",
      "PCA_Energy_Prices     0.3212      0.332      0.969      0.333      -0.329       0.971\n",
      "ar.L1                 0.9990      0.002    514.550      0.000       0.995       1.003\n",
      "ma.L1                -0.0801      0.028     -2.836      0.005      -0.135      -0.025\n",
      "sigma2                3.8616      0.141     27.334      0.000       3.585       4.139\n",
      "===================================================================================\n",
      "Ljung-Box (L1) (Q):                   0.03   Jarque-Bera (JB):               308.41\n",
      "Prob(Q):                              0.86   Prob(JB):                         0.00\n",
      "Heteroskedasticity (H):               0.95   Skew:                            -0.40\n",
      "Prob(H) (two-sided):                  0.71   Kurtosis:                         6.01\n",
      "===================================================================================\n",
      "\n",
      "Warnings:\n",
      "[1] Covariance matrix calculated using the outer product of gradients (complex-step).\n"
     ]
    },
    {
     "name": "stderr",
     "output_type": "stream",
     "text": [
      "C:\\Users\\Erica Zhao\\anaconda3\\envs\\honorthesis\\lib\\site-packages\\statsmodels\\base\\model.py:604: ConvergenceWarning: Maximum Likelihood optimization failed to converge. Check mle_retvals\n",
      "  warnings.warn(\"Maximum Likelihood optimization failed to \"\n"
     ]
    }
   ],
   "source": [
    "model_arima101 = ARIMA(_y, exog=X, order=(1,0,1))\n",
    "model_arima101_fit = model_arima101.fit()\n",
    "\n",
    "print(model_arima101_fit.summary())"
   ]
  },
  {
   "cell_type": "markdown",
   "id": "06700fde",
   "metadata": {},
   "source": [
    "##### ARIMA(1,1,0)"
   ]
  },
  {
   "cell_type": "code",
   "execution_count": 23,
   "id": "ac358426",
   "metadata": {},
   "outputs": [
    {
     "name": "stderr",
     "output_type": "stream",
     "text": [
      "C:\\Users\\Erica Zhao\\anaconda3\\envs\\honorthesis\\lib\\site-packages\\statsmodels\\tsa\\base\\tsa_model.py:471: ValueWarning: An unsupported index was provided and will be ignored when e.g. forecasting.\n",
      "  self._init_dates(dates, freq)\n",
      "C:\\Users\\Erica Zhao\\anaconda3\\envs\\honorthesis\\lib\\site-packages\\statsmodels\\tsa\\base\\tsa_model.py:471: ValueWarning: An unsupported index was provided and will be ignored when e.g. forecasting.\n",
      "  self._init_dates(dates, freq)\n",
      "C:\\Users\\Erica Zhao\\anaconda3\\envs\\honorthesis\\lib\\site-packages\\statsmodels\\tsa\\base\\tsa_model.py:471: ValueWarning: An unsupported index was provided and will be ignored when e.g. forecasting.\n",
      "  self._init_dates(dates, freq)\n"
     ]
    },
    {
     "name": "stdout",
     "output_type": "stream",
     "text": [
      "                               SARIMAX Results                                \n",
      "==============================================================================\n",
      "Dep. Variable:                 Carbon   No. Observations:                  763\n",
      "Model:                 ARIMA(1, 1, 0)   Log Likelihood               -1597.397\n",
      "Date:                Thu, 12 Sep 2024   AIC                           3218.794\n",
      "Time:                        14:56:56   BIC                           3274.425\n",
      "Sample:                             0   HQIC                          3240.214\n",
      "                                - 763                                         \n",
      "Covariance Type:                  opg                                         \n",
      "=====================================================================================\n",
      "                        coef    std err          z      P>|z|      [0.025      0.975]\n",
      "-------------------------------------------------------------------------------------\n",
      "Fit_for_55            0.5834     48.254      0.012      0.990     -93.993      95.160\n",
      "Law                  -2.9904     40.910     -0.073      0.942     -83.173      77.193\n",
      "Compromise            2.4936     11.167      0.223      0.823     -19.393      24.380\n",
      "EPU                  -0.0395      0.004    -10.990      0.000      -0.047      -0.032\n",
      "Temperature           0.0397      0.029      1.365      0.172      -0.017       0.097\n",
      "Precipitation         0.0008      0.015      0.054      0.957      -0.028       0.030\n",
      "Solar Energy         -0.0038      0.027     -0.141      0.888      -0.057       0.049\n",
      "Wind Speed           -0.0160      0.020     -0.796      0.426      -0.056       0.023\n",
      "PCA_Stock_Index      -1.4004      0.211     -6.634      0.000      -1.814      -0.987\n",
      "PCA_Energy_Prices     0.3401      0.328      1.038      0.299      -0.302       0.982\n",
      "ar.L1                -0.0923      0.028     -3.316      0.001      -0.147      -0.038\n",
      "sigma2                3.8759      0.140     27.618      0.000       3.601       4.151\n",
      "===================================================================================\n",
      "Ljung-Box (L1) (Q):                   0.03   Jarque-Bera (JB):               305.80\n",
      "Prob(Q):                              0.86   Prob(JB):                         0.00\n",
      "Heteroskedasticity (H):               0.96   Skew:                            -0.41\n",
      "Prob(H) (two-sided):                  0.74   Kurtosis:                         5.99\n",
      "===================================================================================\n",
      "\n",
      "Warnings:\n",
      "[1] Covariance matrix calculated using the outer product of gradients (complex-step).\n"
     ]
    }
   ],
   "source": [
    "model_arima110 = ARIMA(_y, exog=X, order=(1,1,0))\n",
    "model_arima110_fit = model_arima110.fit()\n",
    "\n",
    "print(model_arima110_fit.summary())"
   ]
  },
  {
   "cell_type": "markdown",
   "id": "156f35f1",
   "metadata": {},
   "source": [
    "##### ARIMA(1,1,1); Best Performing Model"
   ]
  },
  {
   "cell_type": "code",
   "execution_count": 24,
   "id": "67bc7fd6",
   "metadata": {},
   "outputs": [
    {
     "name": "stderr",
     "output_type": "stream",
     "text": [
      "C:\\Users\\Erica Zhao\\anaconda3\\envs\\honorthesis\\lib\\site-packages\\statsmodels\\tsa\\base\\tsa_model.py:471: ValueWarning: An unsupported index was provided and will be ignored when e.g. forecasting.\n",
      "  self._init_dates(dates, freq)\n",
      "C:\\Users\\Erica Zhao\\anaconda3\\envs\\honorthesis\\lib\\site-packages\\statsmodels\\tsa\\base\\tsa_model.py:471: ValueWarning: An unsupported index was provided and will be ignored when e.g. forecasting.\n",
      "  self._init_dates(dates, freq)\n",
      "C:\\Users\\Erica Zhao\\anaconda3\\envs\\honorthesis\\lib\\site-packages\\statsmodels\\tsa\\base\\tsa_model.py:471: ValueWarning: An unsupported index was provided and will be ignored when e.g. forecasting.\n",
      "  self._init_dates(dates, freq)\n"
     ]
    },
    {
     "name": "stdout",
     "output_type": "stream",
     "text": [
      "                               SARIMAX Results                                \n",
      "==============================================================================\n",
      "Dep. Variable:                 Carbon   No. Observations:                  763\n",
      "Model:                 ARIMA(1, 1, 1)   Log Likelihood               -1594.943\n",
      "Date:                Thu, 12 Sep 2024   AIC                           3215.887\n",
      "Time:                        14:56:57   BIC                           3276.154\n",
      "Sample:                             0   HQIC                          3239.092\n",
      "                                - 763                                         \n",
      "Covariance Type:                  opg                                         \n",
      "=====================================================================================\n",
      "                        coef    std err          z      P>|z|      [0.025      0.975]\n",
      "-------------------------------------------------------------------------------------\n",
      "Fit_for_55            0.6279     20.784      0.030      0.976     -40.109      41.364\n",
      "Law                  -3.0274     10.463     -0.289      0.772     -23.535      17.480\n",
      "Compromise            2.4672     12.485      0.198      0.843     -22.003      26.937\n",
      "EPU                  -0.0379      0.004    -10.727      0.000      -0.045      -0.031\n",
      "Temperature           0.0353      0.029      1.212      0.226      -0.022       0.092\n",
      "Precipitation         0.0005      0.015      0.034      0.973      -0.028       0.029\n",
      "Solar Energy         -0.0027      0.027     -0.102      0.919      -0.055       0.050\n",
      "Wind Speed           -0.0171      0.020     -0.845      0.398      -0.057       0.023\n",
      "PCA_Stock_Index      -1.4230      0.214     -6.649      0.000      -1.842      -1.003\n",
      "PCA_Energy_Prices     0.3246      0.336      0.967      0.333      -0.333       0.982\n",
      "ar.L1                -0.7580      0.118     -6.433      0.000      -0.989      -0.527\n",
      "ma.L1                 0.6781      0.131      5.186      0.000       0.422       0.934\n",
      "sigma2                3.8509      0.138     27.921      0.000       3.581       4.121\n",
      "===================================================================================\n",
      "Ljung-Box (L1) (Q):                   0.00   Jarque-Bera (JB):               321.41\n",
      "Prob(Q):                              0.96   Prob(JB):                         0.00\n",
      "Heteroskedasticity (H):               0.95   Skew:                            -0.43\n",
      "Prob(H) (two-sided):                  0.69   Kurtosis:                         6.07\n",
      "===================================================================================\n",
      "\n",
      "Warnings:\n",
      "[1] Covariance matrix calculated using the outer product of gradients (complex-step).\n"
     ]
    }
   ],
   "source": [
    "model_arima111 = ARIMA(_y, exog=X, order=(1,1,1))\n",
    "model_arima111_fit = model_arima111.fit()\n",
    "\n",
    "print(model_arima111_fit.summary())"
   ]
  },
  {
   "cell_type": "code",
   "execution_count": 25,
   "id": "4df102b5-ed5a-45af-a5e9-3d61218486c1",
   "metadata": {},
   "outputs": [
    {
     "data": {
      "image/png": "[encoded data removed]",
      "text/plain": [
       "<Figure size 640x480 with 1 Axes>"
      ]
     },
     "metadata": {},
     "output_type": "display_data"
    }
   ],
   "source": [
    "model_fit = model_arima111.fit()\n",
    "\n",
    "# Get the residuals\n",
    "residuals = model_fit.resid\n",
    "\n",
    "# Plot the ACF of residuals\n",
    "plot_acf(residuals, alpha=0.05)\n",
    "plt.title('ACF of Residuals')\n",
    "plt.show()"
   ]
  },
  {
   "cell_type": "markdown",
   "id": "3733b83a",
   "metadata": {},
   "source": [
    "##### ARIMA(2,0,0)"
   ]
  },
  {
   "cell_type": "code",
   "execution_count": 26,
   "id": "f36882ef",
   "metadata": {},
   "outputs": [
    {
     "name": "stderr",
     "output_type": "stream",
     "text": [
      "C:\\Users\\Erica Zhao\\anaconda3\\envs\\honorthesis\\lib\\site-packages\\statsmodels\\tsa\\base\\tsa_model.py:471: ValueWarning: An unsupported index was provided and will be ignored when e.g. forecasting.\n",
      "  self._init_dates(dates, freq)\n",
      "C:\\Users\\Erica Zhao\\anaconda3\\envs\\honorthesis\\lib\\site-packages\\statsmodels\\tsa\\base\\tsa_model.py:471: ValueWarning: An unsupported index was provided and will be ignored when e.g. forecasting.\n",
      "  self._init_dates(dates, freq)\n",
      "C:\\Users\\Erica Zhao\\anaconda3\\envs\\honorthesis\\lib\\site-packages\\statsmodels\\tsa\\base\\tsa_model.py:471: ValueWarning: An unsupported index was provided and will be ignored when e.g. forecasting.\n",
      "  self._init_dates(dates, freq)\n"
     ]
    },
    {
     "name": "stdout",
     "output_type": "stream",
     "text": [
      "                               SARIMAX Results                                \n",
      "==============================================================================\n",
      "Dep. Variable:                 Carbon   No. Observations:                  763\n",
      "Model:                 ARIMA(2, 0, 0)   Log Likelihood               -1602.221\n",
      "Date:                Thu, 12 Sep 2024   AIC                           3232.443\n",
      "Time:                        14:57:01   BIC                           3297.364\n",
      "Sample:                             0   HQIC                          3257.438\n",
      "                                - 763                                         \n",
      "Covariance Type:                  opg                                         \n",
      "=====================================================================================\n",
      "                        coef    std err          z      P>|z|      [0.025      0.975]\n",
      "-------------------------------------------------------------------------------------\n",
      "const                51.1643    104.310      0.491      0.624    -153.279     255.607\n",
      "Fit_for_55            1.7543      3.720      0.472      0.637      -5.537       9.046\n",
      "Law                  -1.7417      3.302     -0.527      0.598      -8.214       4.730\n",
      "Compromise            2.3643      8.862      0.267      0.790     -15.004      19.733\n",
      "EPU                  -0.0391      0.004    -10.877      0.000      -0.046      -0.032\n",
      "Temperature           0.0394      0.029      1.353      0.176      -0.018       0.097\n",
      "Precipitation         0.0022      0.015      0.146      0.884      -0.027       0.031\n",
      "Solar Energy         -0.0042      0.027     -0.156      0.876      -0.057       0.049\n",
      "Wind Speed           -0.0168      0.020     -0.833      0.405      -0.056       0.023\n",
      "PCA_Stock_Index      -1.4000      0.212     -6.596      0.000      -1.816      -0.984\n",
      "PCA_Energy_Prices     0.3509      0.328      1.070      0.284      -0.292       0.994\n",
      "ar.L1                 0.9073      0.028     32.506      0.000       0.853       0.962\n",
      "ar.L2                 0.0917      0.028      3.274      0.001       0.037       0.147\n",
      "sigma2                3.8728      0.142     27.310      0.000       3.595       4.151\n",
      "===================================================================================\n",
      "Ljung-Box (L1) (Q):                   0.02   Jarque-Bera (JB):               303.04\n",
      "Prob(Q):                              0.87   Prob(JB):                         0.00\n",
      "Heteroskedasticity (H):               0.96   Skew:                            -0.40\n",
      "Prob(H) (two-sided):                  0.74   Kurtosis:                         5.98\n",
      "===================================================================================\n",
      "\n",
      "Warnings:\n",
      "[1] Covariance matrix calculated using the outer product of gradients (complex-step).\n"
     ]
    },
    {
     "name": "stderr",
     "output_type": "stream",
     "text": [
      "C:\\Users\\Erica Zhao\\anaconda3\\envs\\honorthesis\\lib\\site-packages\\statsmodels\\base\\model.py:604: ConvergenceWarning: Maximum Likelihood optimization failed to converge. Check mle_retvals\n",
      "  warnings.warn(\"Maximum Likelihood optimization failed to \"\n"
     ]
    }
   ],
   "source": [
    "model_arima200 = ARIMA(_y, exog=X, order=(2,0,0))\n",
    "model_arima200_fit = model_arima200.fit()\n",
    "\n",
    "print(model_arima200_fit.summary())"
   ]
  },
  {
   "cell_type": "markdown",
   "id": "b65dd381",
   "metadata": {},
   "source": [
    "##### ARIMA(2,1,0)"
   ]
  },
  {
   "cell_type": "code",
   "execution_count": 27,
   "id": "8cd97410",
   "metadata": {},
   "outputs": [
    {
     "name": "stderr",
     "output_type": "stream",
     "text": [
      "C:\\Users\\Erica Zhao\\anaconda3\\envs\\honorthesis\\lib\\site-packages\\statsmodels\\tsa\\base\\tsa_model.py:471: ValueWarning: An unsupported index was provided and will be ignored when e.g. forecasting.\n",
      "  self._init_dates(dates, freq)\n",
      "C:\\Users\\Erica Zhao\\anaconda3\\envs\\honorthesis\\lib\\site-packages\\statsmodels\\tsa\\base\\tsa_model.py:471: ValueWarning: An unsupported index was provided and will be ignored when e.g. forecasting.\n",
      "  self._init_dates(dates, freq)\n",
      "C:\\Users\\Erica Zhao\\anaconda3\\envs\\honorthesis\\lib\\site-packages\\statsmodels\\tsa\\base\\tsa_model.py:471: ValueWarning: An unsupported index was provided and will be ignored when e.g. forecasting.\n",
      "  self._init_dates(dates, freq)\n"
     ]
    },
    {
     "name": "stdout",
     "output_type": "stream",
     "text": [
      "                               SARIMAX Results                                \n",
      "==============================================================================\n",
      "Dep. Variable:                 Carbon   No. Observations:                  763\n",
      "Model:                 ARIMA(2, 1, 0)   Log Likelihood               -1595.250\n",
      "Date:                Thu, 12 Sep 2024   AIC                           3216.500\n",
      "Time:                        14:57:02   BIC                           3276.767\n",
      "Sample:                             0   HQIC                          3239.705\n",
      "                                - 763                                         \n",
      "Covariance Type:                  opg                                         \n",
      "=====================================================================================\n",
      "                        coef    std err          z      P>|z|      [0.025      0.975]\n",
      "-------------------------------------------------------------------------------------\n",
      "Fit_for_55            0.7208     26.077      0.028      0.978     -50.389      51.831\n",
      "Law                  -3.0912      8.269     -0.374      0.709     -19.298      13.116\n",
      "Compromise            2.4056     11.360      0.212      0.832     -19.860      24.671\n",
      "EPU                  -0.0374      0.004    -10.525      0.000      -0.044      -0.030\n",
      "Temperature           0.0349      0.029      1.209      0.227      -0.022       0.091\n",
      "Precipitation         0.0009      0.015      0.058      0.954      -0.028       0.030\n",
      "Solar Energy         -0.0039      0.027     -0.143      0.886      -0.057       0.049\n",
      "Wind Speed           -0.0160      0.020     -0.798      0.425      -0.055       0.023\n",
      "PCA_Stock_Index      -1.4513      0.215     -6.740      0.000      -1.873      -1.029\n",
      "PCA_Energy_Prices     0.3175      0.334      0.950      0.342      -0.338       0.973\n",
      "ar.L1                -0.0843      0.028     -3.002      0.003      -0.139      -0.029\n",
      "ar.L2                 0.0767      0.032      2.394      0.017       0.014       0.139\n",
      "sigma2                3.8515      0.139     27.629      0.000       3.578       4.125\n",
      "===================================================================================\n",
      "Ljung-Box (L1) (Q):                   0.00   Jarque-Bera (JB):               342.88\n",
      "Prob(Q):                              1.00   Prob(JB):                         0.00\n",
      "Heteroskedasticity (H):               0.94   Skew:                            -0.45\n",
      "Prob(H) (two-sided):                  0.64   Kurtosis:                         6.16\n",
      "===================================================================================\n",
      "\n",
      "Warnings:\n",
      "[1] Covariance matrix calculated using the outer product of gradients (complex-step).\n"
     ]
    },
    {
     "name": "stderr",
     "output_type": "stream",
     "text": [
      "C:\\Users\\Erica Zhao\\anaconda3\\envs\\honorthesis\\lib\\site-packages\\statsmodels\\base\\model.py:604: ConvergenceWarning: Maximum Likelihood optimization failed to converge. Check mle_retvals\n",
      "  warnings.warn(\"Maximum Likelihood optimization failed to \"\n"
     ]
    }
   ],
   "source": [
    "model_arima210 = ARIMA(_y, exog=X, order=(2,1,0))\n",
    "model_arima210_fit = model_arima210.fit()\n",
    "\n",
    "print(model_arima210_fit.summary())"
   ]
  },
  {
   "cell_type": "markdown",
   "id": "291ef87a",
   "metadata": {},
   "source": [
    "##### ARIMA(2,0,1)"
   ]
  },
  {
   "cell_type": "code",
   "execution_count": 28,
   "id": "79a4afa0",
   "metadata": {},
   "outputs": [
    {
     "name": "stderr",
     "output_type": "stream",
     "text": [
      "C:\\Users\\Erica Zhao\\anaconda3\\envs\\honorthesis\\lib\\site-packages\\statsmodels\\tsa\\base\\tsa_model.py:471: ValueWarning: An unsupported index was provided and will be ignored when e.g. forecasting.\n",
      "  self._init_dates(dates, freq)\n",
      "C:\\Users\\Erica Zhao\\anaconda3\\envs\\honorthesis\\lib\\site-packages\\statsmodels\\tsa\\base\\tsa_model.py:471: ValueWarning: An unsupported index was provided and will be ignored when e.g. forecasting.\n",
      "  self._init_dates(dates, freq)\n",
      "C:\\Users\\Erica Zhao\\anaconda3\\envs\\honorthesis\\lib\\site-packages\\statsmodels\\tsa\\base\\tsa_model.py:471: ValueWarning: An unsupported index was provided and will be ignored when e.g. forecasting.\n",
      "  self._init_dates(dates, freq)\n"
     ]
    },
    {
     "name": "stdout",
     "output_type": "stream",
     "text": [
      "                               SARIMAX Results                                \n",
      "==============================================================================\n",
      "Dep. Variable:                 Carbon   No. Observations:                  763\n",
      "Model:                 ARIMA(2, 0, 1)   Log Likelihood               -1619.581\n",
      "Date:                Thu, 12 Sep 2024   AIC                           3269.163\n",
      "Time:                        14:57:04   BIC                           3338.722\n",
      "Sample:                             0   HQIC                          3295.944\n",
      "                                - 763                                         \n",
      "Covariance Type:                  opg                                         \n",
      "=====================================================================================\n",
      "                        coef    std err          z      P>|z|      [0.025      0.975]\n",
      "-------------------------------------------------------------------------------------\n",
      "const                48.6777     37.629      1.294      0.196     -25.073     122.428\n",
      "Fit_for_55           10.5785      0.597     17.734      0.000       9.409      11.748\n",
      "Law                  -8.1944      0.742    -11.044      0.000      -9.649      -6.740\n",
      "Compromise            7.7352      0.844      9.160      0.000       6.080       9.390\n",
      "EPU                  -0.0373      0.004    -10.036      0.000      -0.045      -0.030\n",
      "Temperature           0.0512      0.031      1.673      0.094      -0.009       0.111\n",
      "Precipitation         0.0081      0.015      0.537      0.591      -0.021       0.038\n",
      "Solar Energy         -0.0080      0.027     -0.291      0.771      -0.061       0.046\n",
      "Wind Speed           -0.0244      0.021     -1.165      0.244      -0.066       0.017\n",
      "PCA_Stock_Index      -1.0946      0.224     -4.887      0.000      -1.534      -0.656\n",
      "PCA_Energy_Prices     0.5289      0.351      1.506      0.132      -0.159       1.217\n",
      "ar.L1                 0.1172      0.081      1.456      0.145      -0.041       0.275\n",
      "ar.L2                 0.8736      0.079     11.017      0.000       0.718       1.029\n",
      "ma.L1                 0.8262      0.093      8.906      0.000       0.644       1.008\n",
      "sigma2                4.0606      0.157     25.782      0.000       3.752       4.369\n",
      "===================================================================================\n",
      "Ljung-Box (L1) (Q):                   0.23   Jarque-Bera (JB):               391.26\n",
      "Prob(Q):                              0.63   Prob(JB):                         0.00\n",
      "Heteroskedasticity (H):               0.90   Skew:                            -0.49\n",
      "Prob(H) (two-sided):                  0.42   Kurtosis:                         6.37\n",
      "===================================================================================\n",
      "\n",
      "Warnings:\n",
      "[1] Covariance matrix calculated using the outer product of gradients (complex-step).\n"
     ]
    },
    {
     "name": "stderr",
     "output_type": "stream",
     "text": [
      "C:\\Users\\Erica Zhao\\anaconda3\\envs\\honorthesis\\lib\\site-packages\\statsmodels\\base\\model.py:604: ConvergenceWarning: Maximum Likelihood optimization failed to converge. Check mle_retvals\n",
      "  warnings.warn(\"Maximum Likelihood optimization failed to \"\n"
     ]
    }
   ],
   "source": [
    "model_arima201 = ARIMA(_y, exog=X, order=(2,0,1))\n",
    "model_arima201_fit = model_arima201.fit()\n",
    "\n",
    "print(model_arima201_fit.summary())"
   ]
  },
  {
   "cell_type": "markdown",
   "id": "6abdbfe5",
   "metadata": {},
   "source": [
    "##### ARIMA(2,1,1)"
   ]
  },
  {
   "cell_type": "code",
   "execution_count": 29,
   "id": "108251c6",
   "metadata": {},
   "outputs": [
    {
     "name": "stderr",
     "output_type": "stream",
     "text": [
      "C:\\Users\\Erica Zhao\\anaconda3\\envs\\honorthesis\\lib\\site-packages\\statsmodels\\tsa\\base\\tsa_model.py:471: ValueWarning: An unsupported index was provided and will be ignored when e.g. forecasting.\n",
      "  self._init_dates(dates, freq)\n",
      "C:\\Users\\Erica Zhao\\anaconda3\\envs\\honorthesis\\lib\\site-packages\\statsmodels\\tsa\\base\\tsa_model.py:471: ValueWarning: An unsupported index was provided and will be ignored when e.g. forecasting.\n",
      "  self._init_dates(dates, freq)\n",
      "C:\\Users\\Erica Zhao\\anaconda3\\envs\\honorthesis\\lib\\site-packages\\statsmodels\\tsa\\base\\tsa_model.py:471: ValueWarning: An unsupported index was provided and will be ignored when e.g. forecasting.\n",
      "  self._init_dates(dates, freq)\n"
     ]
    },
    {
     "name": "stdout",
     "output_type": "stream",
     "text": [
      "                               SARIMAX Results                                \n",
      "==============================================================================\n",
      "Dep. Variable:                 Carbon   No. Observations:                  763\n",
      "Model:                 ARIMA(2, 1, 1)   Log Likelihood               -1594.977\n",
      "Date:                Thu, 12 Sep 2024   AIC                           3217.955\n",
      "Time:                        14:57:06   BIC                           3282.858\n",
      "Sample:                             0   HQIC                          3242.945\n",
      "                                - 763                                         \n",
      "Covariance Type:                  opg                                         \n",
      "=====================================================================================\n",
      "                        coef    std err          z      P>|z|      [0.025      0.975]\n",
      "-------------------------------------------------------------------------------------\n",
      "Fit_for_55            1.1959     10.832      0.110      0.912     -20.034      22.426\n",
      "Law                  -3.4480      5.234     -0.659      0.510     -13.706       6.810\n",
      "Compromise            2.0815      6.553      0.318      0.751     -10.762      14.925\n",
      "EPU                  -0.0379      0.004    -10.797      0.000      -0.045      -0.031\n",
      "Temperature           0.0354      0.029      1.225      0.221      -0.021       0.092\n",
      "Precipitation         0.0013      0.015      0.090      0.928      -0.027       0.030\n",
      "Solar Energy         -0.0034      0.027     -0.126      0.900      -0.056       0.049\n",
      "Wind Speed           -0.0178      0.020     -0.880      0.379      -0.058       0.022\n",
      "PCA_Stock_Index      -1.4232      0.215     -6.630      0.000      -1.844      -1.002\n",
      "PCA_Energy_Prices     0.3480      0.346      1.006      0.314      -0.330       1.026\n",
      "ar.L1                -0.7332      0.212     -3.451      0.001      -1.150      -0.317\n",
      "ar.L2                 0.0023      0.045      0.052      0.959      -0.087       0.091\n",
      "ma.L1                 0.6498      0.209      3.107      0.002       0.240       1.060\n",
      "sigma2                3.8396      0.143     26.758      0.000       3.558       4.121\n",
      "===================================================================================\n",
      "Ljung-Box (L1) (Q):                   0.00   Jarque-Bera (JB):               321.00\n",
      "Prob(Q):                              0.97   Prob(JB):                         0.00\n",
      "Heteroskedasticity (H):               0.95   Skew:                            -0.43\n",
      "Prob(H) (two-sided):                  0.69   Kurtosis:                         6.06\n",
      "===================================================================================\n",
      "\n",
      "Warnings:\n",
      "[1] Covariance matrix calculated using the outer product of gradients (complex-step).\n"
     ]
    },
    {
     "name": "stderr",
     "output_type": "stream",
     "text": [
      "C:\\Users\\Erica Zhao\\anaconda3\\envs\\honorthesis\\lib\\site-packages\\statsmodels\\base\\model.py:604: ConvergenceWarning: Maximum Likelihood optimization failed to converge. Check mle_retvals\n",
      "  warnings.warn(\"Maximum Likelihood optimization failed to \"\n"
     ]
    }
   ],
   "source": [
    "model_arima211 = ARIMA(_y, exog=X, order=(2,1,1))\n",
    "model_arima211_fit = model_arima211.fit()\n",
    "\n",
    "print(model_arima211_fit.summary())"
   ]
  },
  {
   "cell_type": "markdown",
   "id": "f9385248",
   "metadata": {},
   "source": [
    "## 5.3 Performance and Results"
   ]
  },
  {
   "cell_type": "markdown",
   "id": "d18063d6",
   "metadata": {},
   "source": [
    "### ARIMA Model"
   ]
  },
  {
   "cell_type": "code",
   "execution_count": 30,
   "id": "309af925",
   "metadata": {},
   "outputs": [],
   "source": [
    "X = df_arima.drop(['Date', 'Carbon'], axis=1)\n",
    "y = df_arima['Carbon']"
   ]
  },
  {
   "cell_type": "code",
   "execution_count": 31,
   "id": "364b3c90",
   "metadata": {},
   "outputs": [],
   "source": [
    "train_size = int(len(df_arima) * 0.8)\n",
    "train_indices = df_arima.index[:train_size]\n",
    "test_indices = df_arima.index[train_size:]\n",
    "\n",
    "y_train, y_test = y.loc[train_indices], y.loc[test_indices]\n",
    "X_train, X_test = X.loc[train_indices], X.loc[test_indices]"
   ]
  },
  {
   "cell_type": "code",
   "execution_count": 32,
   "id": "7babeadd",
   "metadata": {},
   "outputs": [
    {
     "name": "stderr",
     "output_type": "stream",
     "text": [
      "C:\\Users\\Erica Zhao\\anaconda3\\envs\\honorthesis\\lib\\site-packages\\statsmodels\\tsa\\base\\tsa_model.py:471: ValueWarning: An unsupported index was provided and will be ignored when e.g. forecasting.\n",
      "  self._init_dates(dates, freq)\n",
      "C:\\Users\\Erica Zhao\\anaconda3\\envs\\honorthesis\\lib\\site-packages\\statsmodels\\tsa\\base\\tsa_model.py:471: ValueWarning: An unsupported index was provided and will be ignored when e.g. forecasting.\n",
      "  self._init_dates(dates, freq)\n",
      "C:\\Users\\Erica Zhao\\anaconda3\\envs\\honorthesis\\lib\\site-packages\\statsmodels\\tsa\\base\\tsa_model.py:471: ValueWarning: An unsupported index was provided and will be ignored when e.g. forecasting.\n",
      "  self._init_dates(dates, freq)\n"
     ]
    },
    {
     "name": "stdout",
     "output_type": "stream",
     "text": [
      "                               SARIMAX Results                                \n",
      "==============================================================================\n",
      "Dep. Variable:                 Carbon   No. Observations:                  610\n",
      "Model:                 ARIMA(1, 1, 1)   Log Likelihood               -1307.670\n",
      "Date:                Thu, 12 Sep 2024   AIC                           2641.339\n",
      "Time:                        14:57:07   BIC                           2698.693\n",
      "Sample:                             0   HQIC                          2663.651\n",
      "                                - 610                                         \n",
      "Covariance Type:                  opg                                         \n",
      "=====================================================================================\n",
      "                        coef    std err          z      P>|z|      [0.025      0.975]\n",
      "-------------------------------------------------------------------------------------\n",
      "Fit_for_55            0.7701     26.126      0.029      0.976     -50.437      51.977\n",
      "Law                  -3.0574     10.096     -0.303      0.762     -22.846      16.731\n",
      "Compromise            2.4446     11.713      0.209      0.835     -20.512      25.401\n",
      "EPU                  -0.0359      0.004     -8.960      0.000      -0.044      -0.028\n",
      "Temperature           0.0319      0.036      0.876      0.381      -0.039       0.103\n",
      "Precipitation         0.0031      0.019      0.164      0.870      -0.034       0.041\n",
      "Solar Energy         -0.0131      0.032     -0.410      0.682      -0.076       0.050\n",
      "Wind Speed           -0.0123      0.025     -0.496      0.620      -0.061       0.036\n",
      "PCA_Stock_Index      -1.5571      0.248     -6.288      0.000      -2.042      -1.072\n",
      "PCA_Energy_Prices     0.1759      0.384      0.459      0.646      -0.576       0.928\n",
      "ar.L1                -0.7299      0.140     -5.226      0.000      -1.004      -0.456\n",
      "ma.L1                 0.6371      0.155      4.110      0.000       0.333       0.941\n",
      "sigma2                4.2921      0.175     24.515      0.000       3.949       4.635\n",
      "===================================================================================\n",
      "Ljung-Box (L1) (Q):                   0.00   Jarque-Bera (JB):               254.67\n",
      "Prob(Q):                              0.98   Prob(JB):                         0.00\n",
      "Heteroskedasticity (H):               3.02   Skew:                            -0.51\n",
      "Prob(H) (two-sided):                  0.00   Kurtosis:                         6.00\n",
      "===================================================================================\n",
      "\n",
      "Warnings:\n",
      "[1] Covariance matrix calculated using the outer product of gradients (complex-step).\n"
     ]
    }
   ],
   "source": [
    "arima_model = ARIMA(y_train, exog=X_train, order=(1,1,1))\n",
    "arima_model_fit = arima_model.fit()\n",
    "\n",
    "print(arima_model_fit.summary())"
   ]
  },
  {
   "cell_type": "markdown",
   "id": "240eae5f",
   "metadata": {},
   "source": [
    "#### In Sample"
   ]
  },
  {
   "cell_type": "code",
   "execution_count": 33,
   "id": "3b5e2086",
   "metadata": {},
   "outputs": [],
   "source": [
    "y_train_pred_arima = arima_model_fit.predict(in_sample=True, exog=X_train, return_conf_int=False)"
   ]
  },
  {
   "cell_type": "code",
   "execution_count": 34,
   "id": "831d8ac8",
   "metadata": {},
   "outputs": [
    {
     "data": {
      "text/html": [
       "<style>#sk-container-id-1 {color: black;background-color: white;}#sk-container-id-1 pre{padding: 0;}#sk-container-id-1 div.sk-toggleable {background-color: white;}#sk-container-id-1 label.sk-toggleable__label {cursor: pointer;display: block;width: 100%;margin-bottom: 0;padding: 0.3em;box-sizing: border-box;text-align: center;}#sk-container-id-1 label.sk-toggleable__label-arrow:before {content: \"▸\";float: left;margin-right: 0.25em;color: #696969;}#sk-container-id-1 label.sk-toggleable__label-arrow:hover:before {color: black;}#sk-container-id-1 div.sk-estimator:hover label.sk-toggleable__label-arrow:before {color: black;}#sk-container-id-1 div.sk-toggleable__content {max-height: 0;max-width: 0;overflow: hidden;text-align: left;background-color: #f0f8ff;}#sk-container-id-1 div.sk-toggleable__content pre {margin: 0.2em;color: black;border-radius: 0.25em;background-color: #f0f8ff;}#sk-container-id-1 input.sk-toggleable__control:checked~div.sk-toggleable__content {max-height: 200px;max-width: 100%;overflow: auto;}#sk-container-id-1 input.sk-toggleable__control:checked~label.sk-toggleable__label-arrow:before {content: \"▾\";}#sk-container-id-1 div.sk-estimator input.sk-toggleable__control:checked~label.sk-toggleable__label {background-color: #d4ebff;}#sk-container-id-1 div.sk-label input.sk-toggleable__control:checked~label.sk-toggleable__label {background-color: #d4ebff;}#sk-container-id-1 input.sk-hidden--visually {border: 0;clip: rect(1px 1px 1px 1px);clip: rect(1px, 1px, 1px, 1px);height: 1px;margin: -1px;overflow: hidden;padding: 0;position: absolute;width: 1px;}#sk-container-id-1 div.sk-estimator {font-family: monospace;background-color: #f0f8ff;border: 1px dotted black;border-radius: 0.25em;box-sizing: border-box;margin-bottom: 0.5em;}#sk-container-id-1 div.sk-estimator:hover {background-color: #d4ebff;}#sk-container-id-1 div.sk-parallel-item::after {content: \"\";width: 100%;border-bottom: 1px solid gray;flex-grow: 1;}#sk-container-id-1 div.sk-label:hover label.sk-toggleable__label {background-color: #d4ebff;}#sk-container-id-1 div.sk-serial::before {content: \"\";position: absolute;border-left: 1px solid gray;box-sizing: border-box;top: 0;bottom: 0;left: 50%;z-index: 0;}#sk-container-id-1 div.sk-serial {display: flex;flex-direction: column;align-items: center;background-color: white;padding-right: 0.2em;padding-left: 0.2em;position: relative;}#sk-container-id-1 div.sk-item {position: relative;z-index: 1;}#sk-container-id-1 div.sk-parallel {display: flex;align-items: stretch;justify-content: center;background-color: white;position: relative;}#sk-container-id-1 div.sk-item::before, #sk-container-id-1 div.sk-parallel-item::before {content: \"\";position: absolute;border-left: 1px solid gray;box-sizing: border-box;top: 0;bottom: 0;left: 50%;z-index: -1;}#sk-container-id-1 div.sk-parallel-item {display: flex;flex-direction: column;z-index: 1;position: relative;background-color: white;}#sk-container-id-1 div.sk-parallel-item:first-child::after {align-self: flex-end;width: 50%;}#sk-container-id-1 div.sk-parallel-item:last-child::after {align-self: flex-start;width: 50%;}#sk-container-id-1 div.sk-parallel-item:only-child::after {width: 0;}#sk-container-id-1 div.sk-dashed-wrapped {border: 1px dashed gray;margin: 0 0.4em 0.5em 0.4em;box-sizing: border-box;padding-bottom: 0.4em;background-color: white;}#sk-container-id-1 div.sk-label label {font-family: monospace;font-weight: bold;display: inline-block;line-height: 1.2em;}#sk-container-id-1 div.sk-label-container {text-align: center;}#sk-container-id-1 div.sk-container {/* jupyter's `normalize.less` sets `[hidden] { display: none; }` but bootstrap.min.css set `[hidden] { display: none !important; }` so we also need the `!important` here to be able to override the default hidden behavior on the sphinx rendered scikit-learn.org. See: https://github.com/scikit-learn/scikit-learn/issues/21755 */display: inline-block !important;position: relative;}#sk-container-id-1 div.sk-text-repr-fallback {display: none;}</style><div id=\"sk-container-id-1\" class=\"sk-top-container\"><div class=\"sk-text-repr-fallback\"><pre>LinearRegression()</pre><b>In a Jupyter environment, please rerun this cell to show the HTML representation or trust the notebook. <br />On GitHub, the HTML representation is unable to render, please try loading this page with nbviewer.org.</b></div><div class=\"sk-container\" hidden><div class=\"sk-item\"><div class=\"sk-estimator sk-toggleable\"><input class=\"sk-toggleable__control sk-hidden--visually\" id=\"sk-estimator-id-1\" type=\"checkbox\" checked><label for=\"sk-estimator-id-1\" class=\"sk-toggleable__label sk-toggleable__label-arrow\">LinearRegression</label><div class=\"sk-toggleable__content\"><pre>LinearRegression()</pre></div></div></div></div></div>"
      ],
      "text/plain": [
       "LinearRegression()"
      ]
     },
     "execution_count": 34,
     "metadata": {},
     "output_type": "execute_result"
    }
   ],
   "source": [
    "y_train_reshaped_arima = y_train.values.reshape(-1, 1)\n",
    "y_train_pred_reshaped_arima = y_train_pred_arima.values.reshape(-1, 1)\n",
    "\n",
    "reg = linear_model.LinearRegression()\n",
    "\n",
    "reg.fit(y_train_pred_reshaped_arima, y_train_reshaped_arima)"
   ]
  },
  {
   "cell_type": "code",
   "execution_count": 35,
   "id": "ee8a4d81",
   "metadata": {},
   "outputs": [
    {
     "data": {
      "text/plain": [
       "0.9740567873311189"
      ]
     },
     "execution_count": 35,
     "metadata": {},
     "output_type": "execute_result"
    }
   ],
   "source": [
    "r_squared_arima = reg.score(y_train_pred_reshaped_arima, y_train_reshaped_arima)\n",
    "r_squared_arima"
   ]
  },
  {
   "cell_type": "code",
   "execution_count": 36,
   "id": "ed323649",
   "metadata": {
    "scrolled": false
   },
   "outputs": [
    {
     "data": {
      "image/png": "[encoded data removed]",
      "text/plain": [
       "<Figure size 1500x700 with 1 Axes>"
      ]
     },
     "metadata": {},
     "output_type": "display_data"
    }
   ],
   "source": [
    "dates = df_arima['Date']\n",
    "date_train = dates[train_indices]\n",
    "\n",
    "plt.figure(figsize=(15, 7))\n",
    "plt.plot(date_train, y_train, label='Actual Carbon Price', color='blue')\n",
    "plt.plot(date_train, y_train_pred_arima, label='Predicted Carbon Price', color='red')\n",
    "plt.gca().xaxis.set_major_formatter(mdates.DateFormatter('%Y-%m-%d'))\n",
    "plt.gca().xaxis.set_major_locator(mdates.MonthLocator())\n",
    "plt.gcf().autofmt_xdate()  # Auto-format for date rotation and readability\n",
    "plt.title('Actual vs Predicted Carbon Prices')\n",
    "plt.xlabel('Date')\n",
    "plt.ylabel('Carbon Price')\n",
    "plt.legend()\n",
    "plt.show()"
   ]
  },
  {
   "cell_type": "markdown",
   "id": "5aa8b7e0",
   "metadata": {},
   "source": [
    "#### Out of Sample"
   ]
  },
  {
   "cell_type": "code",
   "execution_count": 37,
   "id": "efe4cb44",
   "metadata": {
    "scrolled": false
   },
   "outputs": [
    {
     "name": "stderr",
     "output_type": "stream",
     "text": [
      "C:\\Users\\Erica Zhao\\anaconda3\\envs\\honorthesis\\lib\\site-packages\\statsmodels\\base\\model.py:604: ConvergenceWarning: Maximum Likelihood optimization failed to converge. Check mle_retvals\n",
      "  warnings.warn(\"Maximum Likelihood optimization failed to \"\n",
      "C:\\Users\\Erica Zhao\\anaconda3\\envs\\honorthesis\\lib\\site-packages\\statsmodels\\base\\model.py:604: ConvergenceWarning: Maximum Likelihood optimization failed to converge. Check mle_retvals\n",
      "  warnings.warn(\"Maximum Likelihood optimization failed to \"\n",
      "C:\\Users\\Erica Zhao\\anaconda3\\envs\\honorthesis\\lib\\site-packages\\statsmodels\\base\\model.py:604: ConvergenceWarning: Maximum Likelihood optimization failed to converge. Check mle_retvals\n",
      "  warnings.warn(\"Maximum Likelihood optimization failed to \"\n",
      "C:\\Users\\Erica Zhao\\anaconda3\\envs\\honorthesis\\lib\\site-packages\\statsmodels\\base\\model.py:604: ConvergenceWarning: Maximum Likelihood optimization failed to converge. Check mle_retvals\n",
      "  warnings.warn(\"Maximum Likelihood optimization failed to \"\n",
      "C:\\Users\\Erica Zhao\\anaconda3\\envs\\honorthesis\\lib\\site-packages\\statsmodels\\base\\model.py:604: ConvergenceWarning: Maximum Likelihood optimization failed to converge. Check mle_retvals\n",
      "  warnings.warn(\"Maximum Likelihood optimization failed to \"\n",
      "C:\\Users\\Erica Zhao\\anaconda3\\envs\\honorthesis\\lib\\site-packages\\statsmodels\\base\\model.py:604: ConvergenceWarning: Maximum Likelihood optimization failed to converge. Check mle_retvals\n",
      "  warnings.warn(\"Maximum Likelihood optimization failed to \"\n",
      "C:\\Users\\Erica Zhao\\anaconda3\\envs\\honorthesis\\lib\\site-packages\\statsmodels\\base\\model.py:604: ConvergenceWarning: Maximum Likelihood optimization failed to converge. Check mle_retvals\n",
      "  warnings.warn(\"Maximum Likelihood optimization failed to \"\n",
      "C:\\Users\\Erica Zhao\\anaconda3\\envs\\honorthesis\\lib\\site-packages\\statsmodels\\base\\model.py:604: ConvergenceWarning: Maximum Likelihood optimization failed to converge. Check mle_retvals\n",
      "  warnings.warn(\"Maximum Likelihood optimization failed to \"\n",
      "C:\\Users\\Erica Zhao\\anaconda3\\envs\\honorthesis\\lib\\site-packages\\statsmodels\\base\\model.py:604: ConvergenceWarning: Maximum Likelihood optimization failed to converge. Check mle_retvals\n",
      "  warnings.warn(\"Maximum Likelihood optimization failed to \"\n",
      "C:\\Users\\Erica Zhao\\anaconda3\\envs\\honorthesis\\lib\\site-packages\\statsmodels\\base\\model.py:604: ConvergenceWarning: Maximum Likelihood optimization failed to converge. Check mle_retvals\n",
      "  warnings.warn(\"Maximum Likelihood optimization failed to \"\n",
      "C:\\Users\\Erica Zhao\\anaconda3\\envs\\honorthesis\\lib\\site-packages\\statsmodels\\base\\model.py:604: ConvergenceWarning: Maximum Likelihood optimization failed to converge. Check mle_retvals\n",
      "  warnings.warn(\"Maximum Likelihood optimization failed to \"\n",
      "C:\\Users\\Erica Zhao\\anaconda3\\envs\\honorthesis\\lib\\site-packages\\statsmodels\\base\\model.py:604: ConvergenceWarning: Maximum Likelihood optimization failed to converge. Check mle_retvals\n",
      "  warnings.warn(\"Maximum Likelihood optimization failed to \"\n",
      "C:\\Users\\Erica Zhao\\anaconda3\\envs\\honorthesis\\lib\\site-packages\\statsmodels\\base\\model.py:604: ConvergenceWarning: Maximum Likelihood optimization failed to converge. Check mle_retvals\n",
      "  warnings.warn(\"Maximum Likelihood optimization failed to \"\n",
      "C:\\Users\\Erica Zhao\\anaconda3\\envs\\honorthesis\\lib\\site-packages\\statsmodels\\base\\model.py:604: ConvergenceWarning: Maximum Likelihood optimization failed to converge. Check mle_retvals\n",
      "  warnings.warn(\"Maximum Likelihood optimization failed to \"\n",
      "C:\\Users\\Erica Zhao\\anaconda3\\envs\\honorthesis\\lib\\site-packages\\statsmodels\\base\\model.py:604: ConvergenceWarning: Maximum Likelihood optimization failed to converge. Check mle_retvals\n",
      "  warnings.warn(\"Maximum Likelihood optimization failed to \"\n",
      "C:\\Users\\Erica Zhao\\anaconda3\\envs\\honorthesis\\lib\\site-packages\\statsmodels\\base\\model.py:604: ConvergenceWarning: Maximum Likelihood optimization failed to converge. Check mle_retvals\n",
      "  warnings.warn(\"Maximum Likelihood optimization failed to \"\n",
      "C:\\Users\\Erica Zhao\\anaconda3\\envs\\honorthesis\\lib\\site-packages\\statsmodels\\base\\model.py:604: ConvergenceWarning: Maximum Likelihood optimization failed to converge. Check mle_retvals\n",
      "  warnings.warn(\"Maximum Likelihood optimization failed to \"\n",
      "C:\\Users\\Erica Zhao\\anaconda3\\envs\\honorthesis\\lib\\site-packages\\statsmodels\\base\\model.py:604: ConvergenceWarning: Maximum Likelihood optimization failed to converge. Check mle_retvals\n",
      "  warnings.warn(\"Maximum Likelihood optimization failed to \"\n",
      "C:\\Users\\Erica Zhao\\anaconda3\\envs\\honorthesis\\lib\\site-packages\\statsmodels\\base\\model.py:604: ConvergenceWarning: Maximum Likelihood optimization failed to converge. Check mle_retvals\n",
      "  warnings.warn(\"Maximum Likelihood optimization failed to \"\n",
      "C:\\Users\\Erica Zhao\\anaconda3\\envs\\honorthesis\\lib\\site-packages\\statsmodels\\base\\model.py:604: ConvergenceWarning: Maximum Likelihood optimization failed to converge. Check mle_retvals\n",
      "  warnings.warn(\"Maximum Likelihood optimization failed to \"\n",
      "C:\\Users\\Erica Zhao\\anaconda3\\envs\\honorthesis\\lib\\site-packages\\statsmodels\\base\\model.py:604: ConvergenceWarning: Maximum Likelihood optimization failed to converge. Check mle_retvals\n",
      "  warnings.warn(\"Maximum Likelihood optimization failed to \"\n",
      "C:\\Users\\Erica Zhao\\anaconda3\\envs\\honorthesis\\lib\\site-packages\\statsmodels\\base\\model.py:604: ConvergenceWarning: Maximum Likelihood optimization failed to converge. Check mle_retvals\n",
      "  warnings.warn(\"Maximum Likelihood optimization failed to \"\n",
      "C:\\Users\\Erica Zhao\\anaconda3\\envs\\honorthesis\\lib\\site-packages\\statsmodels\\base\\model.py:604: ConvergenceWarning: Maximum Likelihood optimization failed to converge. Check mle_retvals\n",
      "  warnings.warn(\"Maximum Likelihood optimization failed to \"\n",
      "C:\\Users\\Erica Zhao\\anaconda3\\envs\\honorthesis\\lib\\site-packages\\statsmodels\\base\\model.py:604: ConvergenceWarning: Maximum Likelihood optimization failed to converge. Check mle_retvals\n",
      "  warnings.warn(\"Maximum Likelihood optimization failed to \"\n",
      "C:\\Users\\Erica Zhao\\anaconda3\\envs\\honorthesis\\lib\\site-packages\\statsmodels\\base\\model.py:604: ConvergenceWarning: Maximum Likelihood optimization failed to converge. Check mle_retvals\n",
      "  warnings.warn(\"Maximum Likelihood optimization failed to \"\n",
      "C:\\Users\\Erica Zhao\\anaconda3\\envs\\honorthesis\\lib\\site-packages\\statsmodels\\base\\model.py:604: ConvergenceWarning: Maximum Likelihood optimization failed to converge. Check mle_retvals\n",
      "  warnings.warn(\"Maximum Likelihood optimization failed to \"\n",
      "C:\\Users\\Erica Zhao\\anaconda3\\envs\\honorthesis\\lib\\site-packages\\statsmodels\\base\\model.py:604: ConvergenceWarning: Maximum Likelihood optimization failed to converge. Check mle_retvals\n",
      "  warnings.warn(\"Maximum Likelihood optimization failed to \"\n",
      "C:\\Users\\Erica Zhao\\anaconda3\\envs\\honorthesis\\lib\\site-packages\\statsmodels\\base\\model.py:604: ConvergenceWarning: Maximum Likelihood optimization failed to converge. Check mle_retvals\n",
      "  warnings.warn(\"Maximum Likelihood optimization failed to \"\n",
      "C:\\Users\\Erica Zhao\\anaconda3\\envs\\honorthesis\\lib\\site-packages\\statsmodels\\base\\model.py:604: ConvergenceWarning: Maximum Likelihood optimization failed to converge. Check mle_retvals\n",
      "  warnings.warn(\"Maximum Likelihood optimization failed to \"\n",
      "C:\\Users\\Erica Zhao\\anaconda3\\envs\\honorthesis\\lib\\site-packages\\statsmodels\\base\\model.py:604: ConvergenceWarning: Maximum Likelihood optimization failed to converge. Check mle_retvals\n",
      "  warnings.warn(\"Maximum Likelihood optimization failed to \"\n",
      "C:\\Users\\Erica Zhao\\anaconda3\\envs\\honorthesis\\lib\\site-packages\\statsmodels\\base\\model.py:604: ConvergenceWarning: Maximum Likelihood optimization failed to converge. Check mle_retvals\n",
      "  warnings.warn(\"Maximum Likelihood optimization failed to \"\n",
      "C:\\Users\\Erica Zhao\\anaconda3\\envs\\honorthesis\\lib\\site-packages\\statsmodels\\base\\model.py:604: ConvergenceWarning: Maximum Likelihood optimization failed to converge. Check mle_retvals\n",
      "  warnings.warn(\"Maximum Likelihood optimization failed to \"\n",
      "C:\\Users\\Erica Zhao\\anaconda3\\envs\\honorthesis\\lib\\site-packages\\statsmodels\\base\\model.py:604: ConvergenceWarning: Maximum Likelihood optimization failed to converge. Check mle_retvals\n",
      "  warnings.warn(\"Maximum Likelihood optimization failed to \"\n",
      "C:\\Users\\Erica Zhao\\anaconda3\\envs\\honorthesis\\lib\\site-packages\\statsmodels\\base\\model.py:604: ConvergenceWarning: Maximum Likelihood optimization failed to converge. Check mle_retvals\n",
      "  warnings.warn(\"Maximum Likelihood optimization failed to \"\n"
     ]
    },
    {
     "name": "stderr",
     "output_type": "stream",
     "text": [
      "C:\\Users\\Erica Zhao\\anaconda3\\envs\\honorthesis\\lib\\site-packages\\statsmodels\\base\\model.py:604: ConvergenceWarning: Maximum Likelihood optimization failed to converge. Check mle_retvals\n",
      "  warnings.warn(\"Maximum Likelihood optimization failed to \"\n",
      "C:\\Users\\Erica Zhao\\anaconda3\\envs\\honorthesis\\lib\\site-packages\\statsmodels\\base\\model.py:604: ConvergenceWarning: Maximum Likelihood optimization failed to converge. Check mle_retvals\n",
      "  warnings.warn(\"Maximum Likelihood optimization failed to \"\n",
      "C:\\Users\\Erica Zhao\\anaconda3\\envs\\honorthesis\\lib\\site-packages\\statsmodels\\base\\model.py:604: ConvergenceWarning: Maximum Likelihood optimization failed to converge. Check mle_retvals\n",
      "  warnings.warn(\"Maximum Likelihood optimization failed to \"\n",
      "C:\\Users\\Erica Zhao\\anaconda3\\envs\\honorthesis\\lib\\site-packages\\statsmodels\\base\\model.py:604: ConvergenceWarning: Maximum Likelihood optimization failed to converge. Check mle_retvals\n",
      "  warnings.warn(\"Maximum Likelihood optimization failed to \"\n",
      "C:\\Users\\Erica Zhao\\anaconda3\\envs\\honorthesis\\lib\\site-packages\\statsmodels\\base\\model.py:604: ConvergenceWarning: Maximum Likelihood optimization failed to converge. Check mle_retvals\n",
      "  warnings.warn(\"Maximum Likelihood optimization failed to \"\n",
      "C:\\Users\\Erica Zhao\\anaconda3\\envs\\honorthesis\\lib\\site-packages\\statsmodels\\base\\model.py:604: ConvergenceWarning: Maximum Likelihood optimization failed to converge. Check mle_retvals\n",
      "  warnings.warn(\"Maximum Likelihood optimization failed to \"\n",
      "C:\\Users\\Erica Zhao\\anaconda3\\envs\\honorthesis\\lib\\site-packages\\statsmodels\\base\\model.py:604: ConvergenceWarning: Maximum Likelihood optimization failed to converge. Check mle_retvals\n",
      "  warnings.warn(\"Maximum Likelihood optimization failed to \"\n",
      "C:\\Users\\Erica Zhao\\anaconda3\\envs\\honorthesis\\lib\\site-packages\\statsmodels\\base\\model.py:604: ConvergenceWarning: Maximum Likelihood optimization failed to converge. Check mle_retvals\n",
      "  warnings.warn(\"Maximum Likelihood optimization failed to \"\n",
      "C:\\Users\\Erica Zhao\\anaconda3\\envs\\honorthesis\\lib\\site-packages\\statsmodels\\base\\model.py:604: ConvergenceWarning: Maximum Likelihood optimization failed to converge. Check mle_retvals\n",
      "  warnings.warn(\"Maximum Likelihood optimization failed to \"\n",
      "C:\\Users\\Erica Zhao\\anaconda3\\envs\\honorthesis\\lib\\site-packages\\statsmodels\\base\\model.py:604: ConvergenceWarning: Maximum Likelihood optimization failed to converge. Check mle_retvals\n",
      "  warnings.warn(\"Maximum Likelihood optimization failed to \"\n",
      "C:\\Users\\Erica Zhao\\anaconda3\\envs\\honorthesis\\lib\\site-packages\\statsmodels\\base\\model.py:604: ConvergenceWarning: Maximum Likelihood optimization failed to converge. Check mle_retvals\n",
      "  warnings.warn(\"Maximum Likelihood optimization failed to \"\n",
      "C:\\Users\\Erica Zhao\\anaconda3\\envs\\honorthesis\\lib\\site-packages\\statsmodels\\base\\model.py:604: ConvergenceWarning: Maximum Likelihood optimization failed to converge. Check mle_retvals\n",
      "  warnings.warn(\"Maximum Likelihood optimization failed to \"\n",
      "C:\\Users\\Erica Zhao\\anaconda3\\envs\\honorthesis\\lib\\site-packages\\statsmodels\\base\\model.py:604: ConvergenceWarning: Maximum Likelihood optimization failed to converge. Check mle_retvals\n",
      "  warnings.warn(\"Maximum Likelihood optimization failed to \"\n",
      "C:\\Users\\Erica Zhao\\anaconda3\\envs\\honorthesis\\lib\\site-packages\\statsmodels\\base\\model.py:604: ConvergenceWarning: Maximum Likelihood optimization failed to converge. Check mle_retvals\n",
      "  warnings.warn(\"Maximum Likelihood optimization failed to \"\n",
      "C:\\Users\\Erica Zhao\\anaconda3\\envs\\honorthesis\\lib\\site-packages\\statsmodels\\base\\model.py:604: ConvergenceWarning: Maximum Likelihood optimization failed to converge. Check mle_retvals\n",
      "  warnings.warn(\"Maximum Likelihood optimization failed to \"\n",
      "C:\\Users\\Erica Zhao\\anaconda3\\envs\\honorthesis\\lib\\site-packages\\statsmodels\\base\\model.py:604: ConvergenceWarning: Maximum Likelihood optimization failed to converge. Check mle_retvals\n",
      "  warnings.warn(\"Maximum Likelihood optimization failed to \"\n",
      "C:\\Users\\Erica Zhao\\anaconda3\\envs\\honorthesis\\lib\\site-packages\\statsmodels\\base\\model.py:604: ConvergenceWarning: Maximum Likelihood optimization failed to converge. Check mle_retvals\n",
      "  warnings.warn(\"Maximum Likelihood optimization failed to \"\n",
      "C:\\Users\\Erica Zhao\\anaconda3\\envs\\honorthesis\\lib\\site-packages\\statsmodels\\base\\model.py:604: ConvergenceWarning: Maximum Likelihood optimization failed to converge. Check mle_retvals\n",
      "  warnings.warn(\"Maximum Likelihood optimization failed to \"\n",
      "C:\\Users\\Erica Zhao\\anaconda3\\envs\\honorthesis\\lib\\site-packages\\statsmodels\\base\\model.py:604: ConvergenceWarning: Maximum Likelihood optimization failed to converge. Check mle_retvals\n",
      "  warnings.warn(\"Maximum Likelihood optimization failed to \"\n",
      "C:\\Users\\Erica Zhao\\anaconda3\\envs\\honorthesis\\lib\\site-packages\\statsmodels\\base\\model.py:604: ConvergenceWarning: Maximum Likelihood optimization failed to converge. Check mle_retvals\n",
      "  warnings.warn(\"Maximum Likelihood optimization failed to \"\n",
      "C:\\Users\\Erica Zhao\\anaconda3\\envs\\honorthesis\\lib\\site-packages\\statsmodels\\base\\model.py:604: ConvergenceWarning: Maximum Likelihood optimization failed to converge. Check mle_retvals\n",
      "  warnings.warn(\"Maximum Likelihood optimization failed to \"\n",
      "C:\\Users\\Erica Zhao\\anaconda3\\envs\\honorthesis\\lib\\site-packages\\statsmodels\\base\\model.py:604: ConvergenceWarning: Maximum Likelihood optimization failed to converge. Check mle_retvals\n",
      "  warnings.warn(\"Maximum Likelihood optimization failed to \"\n",
      "C:\\Users\\Erica Zhao\\anaconda3\\envs\\honorthesis\\lib\\site-packages\\statsmodels\\base\\model.py:604: ConvergenceWarning: Maximum Likelihood optimization failed to converge. Check mle_retvals\n",
      "  warnings.warn(\"Maximum Likelihood optimization failed to \"\n",
      "C:\\Users\\Erica Zhao\\anaconda3\\envs\\honorthesis\\lib\\site-packages\\statsmodels\\base\\model.py:604: ConvergenceWarning: Maximum Likelihood optimization failed to converge. Check mle_retvals\n",
      "  warnings.warn(\"Maximum Likelihood optimization failed to \"\n",
      "C:\\Users\\Erica Zhao\\anaconda3\\envs\\honorthesis\\lib\\site-packages\\statsmodels\\base\\model.py:604: ConvergenceWarning: Maximum Likelihood optimization failed to converge. Check mle_retvals\n",
      "  warnings.warn(\"Maximum Likelihood optimization failed to \"\n",
      "C:\\Users\\Erica Zhao\\anaconda3\\envs\\honorthesis\\lib\\site-packages\\statsmodels\\base\\model.py:604: ConvergenceWarning: Maximum Likelihood optimization failed to converge. Check mle_retvals\n",
      "  warnings.warn(\"Maximum Likelihood optimization failed to \"\n",
      "C:\\Users\\Erica Zhao\\anaconda3\\envs\\honorthesis\\lib\\site-packages\\statsmodels\\base\\model.py:604: ConvergenceWarning: Maximum Likelihood optimization failed to converge. Check mle_retvals\n",
      "  warnings.warn(\"Maximum Likelihood optimization failed to \"\n",
      "C:\\Users\\Erica Zhao\\anaconda3\\envs\\honorthesis\\lib\\site-packages\\statsmodels\\base\\model.py:604: ConvergenceWarning: Maximum Likelihood optimization failed to converge. Check mle_retvals\n",
      "  warnings.warn(\"Maximum Likelihood optimization failed to \"\n",
      "C:\\Users\\Erica Zhao\\anaconda3\\envs\\honorthesis\\lib\\site-packages\\statsmodels\\base\\model.py:604: ConvergenceWarning: Maximum Likelihood optimization failed to converge. Check mle_retvals\n",
      "  warnings.warn(\"Maximum Likelihood optimization failed to \"\n",
      "C:\\Users\\Erica Zhao\\anaconda3\\envs\\honorthesis\\lib\\site-packages\\statsmodels\\base\\model.py:604: ConvergenceWarning: Maximum Likelihood optimization failed to converge. Check mle_retvals\n",
      "  warnings.warn(\"Maximum Likelihood optimization failed to \"\n",
      "C:\\Users\\Erica Zhao\\anaconda3\\envs\\honorthesis\\lib\\site-packages\\statsmodels\\base\\model.py:604: ConvergenceWarning: Maximum Likelihood optimization failed to converge. Check mle_retvals\n",
      "  warnings.warn(\"Maximum Likelihood optimization failed to \"\n",
      "C:\\Users\\Erica Zhao\\anaconda3\\envs\\honorthesis\\lib\\site-packages\\statsmodels\\base\\model.py:604: ConvergenceWarning: Maximum Likelihood optimization failed to converge. Check mle_retvals\n",
      "  warnings.warn(\"Maximum Likelihood optimization failed to \"\n",
      "C:\\Users\\Erica Zhao\\anaconda3\\envs\\honorthesis\\lib\\site-packages\\statsmodels\\base\\model.py:604: ConvergenceWarning: Maximum Likelihood optimization failed to converge. Check mle_retvals\n",
      "  warnings.warn(\"Maximum Likelihood optimization failed to \"\n",
      "C:\\Users\\Erica Zhao\\anaconda3\\envs\\honorthesis\\lib\\site-packages\\statsmodels\\base\\model.py:604: ConvergenceWarning: Maximum Likelihood optimization failed to converge. Check mle_retvals\n",
      "  warnings.warn(\"Maximum Likelihood optimization failed to \"\n"
     ]
    },
    {
     "name": "stderr",
     "output_type": "stream",
     "text": [
      "C:\\Users\\Erica Zhao\\anaconda3\\envs\\honorthesis\\lib\\site-packages\\statsmodels\\base\\model.py:604: ConvergenceWarning: Maximum Likelihood optimization failed to converge. Check mle_retvals\n",
      "  warnings.warn(\"Maximum Likelihood optimization failed to \"\n",
      "C:\\Users\\Erica Zhao\\anaconda3\\envs\\honorthesis\\lib\\site-packages\\statsmodels\\base\\model.py:604: ConvergenceWarning: Maximum Likelihood optimization failed to converge. Check mle_retvals\n",
      "  warnings.warn(\"Maximum Likelihood optimization failed to \"\n",
      "C:\\Users\\Erica Zhao\\anaconda3\\envs\\honorthesis\\lib\\site-packages\\statsmodels\\base\\model.py:604: ConvergenceWarning: Maximum Likelihood optimization failed to converge. Check mle_retvals\n",
      "  warnings.warn(\"Maximum Likelihood optimization failed to \"\n",
      "C:\\Users\\Erica Zhao\\anaconda3\\envs\\honorthesis\\lib\\site-packages\\statsmodels\\base\\model.py:604: ConvergenceWarning: Maximum Likelihood optimization failed to converge. Check mle_retvals\n",
      "  warnings.warn(\"Maximum Likelihood optimization failed to \"\n",
      "C:\\Users\\Erica Zhao\\anaconda3\\envs\\honorthesis\\lib\\site-packages\\statsmodels\\base\\model.py:604: ConvergenceWarning: Maximum Likelihood optimization failed to converge. Check mle_retvals\n",
      "  warnings.warn(\"Maximum Likelihood optimization failed to \"\n",
      "C:\\Users\\Erica Zhao\\anaconda3\\envs\\honorthesis\\lib\\site-packages\\statsmodels\\base\\model.py:604: ConvergenceWarning: Maximum Likelihood optimization failed to converge. Check mle_retvals\n",
      "  warnings.warn(\"Maximum Likelihood optimization failed to \"\n",
      "C:\\Users\\Erica Zhao\\anaconda3\\envs\\honorthesis\\lib\\site-packages\\statsmodels\\base\\model.py:604: ConvergenceWarning: Maximum Likelihood optimization failed to converge. Check mle_retvals\n",
      "  warnings.warn(\"Maximum Likelihood optimization failed to \"\n",
      "C:\\Users\\Erica Zhao\\anaconda3\\envs\\honorthesis\\lib\\site-packages\\statsmodels\\base\\model.py:604: ConvergenceWarning: Maximum Likelihood optimization failed to converge. Check mle_retvals\n",
      "  warnings.warn(\"Maximum Likelihood optimization failed to \"\n",
      "C:\\Users\\Erica Zhao\\anaconda3\\envs\\honorthesis\\lib\\site-packages\\statsmodels\\base\\model.py:604: ConvergenceWarning: Maximum Likelihood optimization failed to converge. Check mle_retvals\n",
      "  warnings.warn(\"Maximum Likelihood optimization failed to \"\n",
      "C:\\Users\\Erica Zhao\\anaconda3\\envs\\honorthesis\\lib\\site-packages\\statsmodels\\base\\model.py:604: ConvergenceWarning: Maximum Likelihood optimization failed to converge. Check mle_retvals\n",
      "  warnings.warn(\"Maximum Likelihood optimization failed to \"\n",
      "C:\\Users\\Erica Zhao\\anaconda3\\envs\\honorthesis\\lib\\site-packages\\statsmodels\\base\\model.py:604: ConvergenceWarning: Maximum Likelihood optimization failed to converge. Check mle_retvals\n",
      "  warnings.warn(\"Maximum Likelihood optimization failed to \"\n",
      "C:\\Users\\Erica Zhao\\anaconda3\\envs\\honorthesis\\lib\\site-packages\\statsmodels\\base\\model.py:604: ConvergenceWarning: Maximum Likelihood optimization failed to converge. Check mle_retvals\n",
      "  warnings.warn(\"Maximum Likelihood optimization failed to \"\n",
      "C:\\Users\\Erica Zhao\\anaconda3\\envs\\honorthesis\\lib\\site-packages\\statsmodels\\base\\model.py:604: ConvergenceWarning: Maximum Likelihood optimization failed to converge. Check mle_retvals\n",
      "  warnings.warn(\"Maximum Likelihood optimization failed to \"\n",
      "C:\\Users\\Erica Zhao\\anaconda3\\envs\\honorthesis\\lib\\site-packages\\statsmodels\\base\\model.py:604: ConvergenceWarning: Maximum Likelihood optimization failed to converge. Check mle_retvals\n",
      "  warnings.warn(\"Maximum Likelihood optimization failed to \"\n",
      "C:\\Users\\Erica Zhao\\anaconda3\\envs\\honorthesis\\lib\\site-packages\\statsmodels\\base\\model.py:604: ConvergenceWarning: Maximum Likelihood optimization failed to converge. Check mle_retvals\n",
      "  warnings.warn(\"Maximum Likelihood optimization failed to \"\n",
      "C:\\Users\\Erica Zhao\\anaconda3\\envs\\honorthesis\\lib\\site-packages\\statsmodels\\base\\model.py:604: ConvergenceWarning: Maximum Likelihood optimization failed to converge. Check mle_retvals\n",
      "  warnings.warn(\"Maximum Likelihood optimization failed to \"\n",
      "C:\\Users\\Erica Zhao\\anaconda3\\envs\\honorthesis\\lib\\site-packages\\statsmodels\\base\\model.py:604: ConvergenceWarning: Maximum Likelihood optimization failed to converge. Check mle_retvals\n",
      "  warnings.warn(\"Maximum Likelihood optimization failed to \"\n",
      "C:\\Users\\Erica Zhao\\anaconda3\\envs\\honorthesis\\lib\\site-packages\\statsmodels\\base\\model.py:604: ConvergenceWarning: Maximum Likelihood optimization failed to converge. Check mle_retvals\n",
      "  warnings.warn(\"Maximum Likelihood optimization failed to \"\n",
      "C:\\Users\\Erica Zhao\\anaconda3\\envs\\honorthesis\\lib\\site-packages\\statsmodels\\base\\model.py:604: ConvergenceWarning: Maximum Likelihood optimization failed to converge. Check mle_retvals\n",
      "  warnings.warn(\"Maximum Likelihood optimization failed to \"\n",
      "C:\\Users\\Erica Zhao\\anaconda3\\envs\\honorthesis\\lib\\site-packages\\statsmodels\\base\\model.py:604: ConvergenceWarning: Maximum Likelihood optimization failed to converge. Check mle_retvals\n",
      "  warnings.warn(\"Maximum Likelihood optimization failed to \"\n",
      "C:\\Users\\Erica Zhao\\anaconda3\\envs\\honorthesis\\lib\\site-packages\\statsmodels\\base\\model.py:604: ConvergenceWarning: Maximum Likelihood optimization failed to converge. Check mle_retvals\n",
      "  warnings.warn(\"Maximum Likelihood optimization failed to \"\n",
      "C:\\Users\\Erica Zhao\\anaconda3\\envs\\honorthesis\\lib\\site-packages\\statsmodels\\base\\model.py:604: ConvergenceWarning: Maximum Likelihood optimization failed to converge. Check mle_retvals\n",
      "  warnings.warn(\"Maximum Likelihood optimization failed to \"\n",
      "C:\\Users\\Erica Zhao\\anaconda3\\envs\\honorthesis\\lib\\site-packages\\statsmodels\\base\\model.py:604: ConvergenceWarning: Maximum Likelihood optimization failed to converge. Check mle_retvals\n",
      "  warnings.warn(\"Maximum Likelihood optimization failed to \"\n",
      "C:\\Users\\Erica Zhao\\anaconda3\\envs\\honorthesis\\lib\\site-packages\\statsmodels\\base\\model.py:604: ConvergenceWarning: Maximum Likelihood optimization failed to converge. Check mle_retvals\n",
      "  warnings.warn(\"Maximum Likelihood optimization failed to \"\n",
      "C:\\Users\\Erica Zhao\\anaconda3\\envs\\honorthesis\\lib\\site-packages\\statsmodels\\base\\model.py:604: ConvergenceWarning: Maximum Likelihood optimization failed to converge. Check mle_retvals\n",
      "  warnings.warn(\"Maximum Likelihood optimization failed to \"\n",
      "C:\\Users\\Erica Zhao\\anaconda3\\envs\\honorthesis\\lib\\site-packages\\statsmodels\\base\\model.py:604: ConvergenceWarning: Maximum Likelihood optimization failed to converge. Check mle_retvals\n",
      "  warnings.warn(\"Maximum Likelihood optimization failed to \"\n",
      "C:\\Users\\Erica Zhao\\anaconda3\\envs\\honorthesis\\lib\\site-packages\\statsmodels\\base\\model.py:604: ConvergenceWarning: Maximum Likelihood optimization failed to converge. Check mle_retvals\n",
      "  warnings.warn(\"Maximum Likelihood optimization failed to \"\n",
      "C:\\Users\\Erica Zhao\\anaconda3\\envs\\honorthesis\\lib\\site-packages\\statsmodels\\base\\model.py:604: ConvergenceWarning: Maximum Likelihood optimization failed to converge. Check mle_retvals\n",
      "  warnings.warn(\"Maximum Likelihood optimization failed to \"\n",
      "C:\\Users\\Erica Zhao\\anaconda3\\envs\\honorthesis\\lib\\site-packages\\statsmodels\\base\\model.py:604: ConvergenceWarning: Maximum Likelihood optimization failed to converge. Check mle_retvals\n",
      "  warnings.warn(\"Maximum Likelihood optimization failed to \"\n",
      "C:\\Users\\Erica Zhao\\anaconda3\\envs\\honorthesis\\lib\\site-packages\\statsmodels\\base\\model.py:604: ConvergenceWarning: Maximum Likelihood optimization failed to converge. Check mle_retvals\n",
      "  warnings.warn(\"Maximum Likelihood optimization failed to \"\n",
      "C:\\Users\\Erica Zhao\\anaconda3\\envs\\honorthesis\\lib\\site-packages\\statsmodels\\base\\model.py:604: ConvergenceWarning: Maximum Likelihood optimization failed to converge. Check mle_retvals\n",
      "  warnings.warn(\"Maximum Likelihood optimization failed to \"\n",
      "C:\\Users\\Erica Zhao\\anaconda3\\envs\\honorthesis\\lib\\site-packages\\statsmodels\\base\\model.py:604: ConvergenceWarning: Maximum Likelihood optimization failed to converge. Check mle_retvals\n",
      "  warnings.warn(\"Maximum Likelihood optimization failed to \"\n",
      "C:\\Users\\Erica Zhao\\anaconda3\\envs\\honorthesis\\lib\\site-packages\\statsmodels\\base\\model.py:604: ConvergenceWarning: Maximum Likelihood optimization failed to converge. Check mle_retvals\n",
      "  warnings.warn(\"Maximum Likelihood optimization failed to \"\n",
      "C:\\Users\\Erica Zhao\\anaconda3\\envs\\honorthesis\\lib\\site-packages\\statsmodels\\base\\model.py:604: ConvergenceWarning: Maximum Likelihood optimization failed to converge. Check mle_retvals\n",
      "  warnings.warn(\"Maximum Likelihood optimization failed to \"\n"
     ]
    },
    {
     "name": "stderr",
     "output_type": "stream",
     "text": [
      "C:\\Users\\Erica Zhao\\anaconda3\\envs\\honorthesis\\lib\\site-packages\\statsmodels\\base\\model.py:604: ConvergenceWarning: Maximum Likelihood optimization failed to converge. Check mle_retvals\n",
      "  warnings.warn(\"Maximum Likelihood optimization failed to \"\n",
      "C:\\Users\\Erica Zhao\\anaconda3\\envs\\honorthesis\\lib\\site-packages\\statsmodels\\base\\model.py:604: ConvergenceWarning: Maximum Likelihood optimization failed to converge. Check mle_retvals\n",
      "  warnings.warn(\"Maximum Likelihood optimization failed to \"\n",
      "C:\\Users\\Erica Zhao\\anaconda3\\envs\\honorthesis\\lib\\site-packages\\statsmodels\\base\\model.py:604: ConvergenceWarning: Maximum Likelihood optimization failed to converge. Check mle_retvals\n",
      "  warnings.warn(\"Maximum Likelihood optimization failed to \"\n",
      "C:\\Users\\Erica Zhao\\anaconda3\\envs\\honorthesis\\lib\\site-packages\\statsmodels\\base\\model.py:604: ConvergenceWarning: Maximum Likelihood optimization failed to converge. Check mle_retvals\n",
      "  warnings.warn(\"Maximum Likelihood optimization failed to \"\n",
      "C:\\Users\\Erica Zhao\\anaconda3\\envs\\honorthesis\\lib\\site-packages\\statsmodels\\base\\model.py:604: ConvergenceWarning: Maximum Likelihood optimization failed to converge. Check mle_retvals\n",
      "  warnings.warn(\"Maximum Likelihood optimization failed to \"\n",
      "C:\\Users\\Erica Zhao\\anaconda3\\envs\\honorthesis\\lib\\site-packages\\statsmodels\\base\\model.py:604: ConvergenceWarning: Maximum Likelihood optimization failed to converge. Check mle_retvals\n",
      "  warnings.warn(\"Maximum Likelihood optimization failed to \"\n",
      "C:\\Users\\Erica Zhao\\anaconda3\\envs\\honorthesis\\lib\\site-packages\\statsmodels\\base\\model.py:604: ConvergenceWarning: Maximum Likelihood optimization failed to converge. Check mle_retvals\n",
      "  warnings.warn(\"Maximum Likelihood optimization failed to \"\n",
      "C:\\Users\\Erica Zhao\\anaconda3\\envs\\honorthesis\\lib\\site-packages\\statsmodels\\base\\model.py:604: ConvergenceWarning: Maximum Likelihood optimization failed to converge. Check mle_retvals\n",
      "  warnings.warn(\"Maximum Likelihood optimization failed to \"\n",
      "C:\\Users\\Erica Zhao\\anaconda3\\envs\\honorthesis\\lib\\site-packages\\statsmodels\\base\\model.py:604: ConvergenceWarning: Maximum Likelihood optimization failed to converge. Check mle_retvals\n",
      "  warnings.warn(\"Maximum Likelihood optimization failed to \"\n",
      "C:\\Users\\Erica Zhao\\anaconda3\\envs\\honorthesis\\lib\\site-packages\\statsmodels\\base\\model.py:604: ConvergenceWarning: Maximum Likelihood optimization failed to converge. Check mle_retvals\n",
      "  warnings.warn(\"Maximum Likelihood optimization failed to \"\n",
      "C:\\Users\\Erica Zhao\\anaconda3\\envs\\honorthesis\\lib\\site-packages\\statsmodels\\base\\model.py:604: ConvergenceWarning: Maximum Likelihood optimization failed to converge. Check mle_retvals\n",
      "  warnings.warn(\"Maximum Likelihood optimization failed to \"\n",
      "C:\\Users\\Erica Zhao\\anaconda3\\envs\\honorthesis\\lib\\site-packages\\statsmodels\\base\\model.py:604: ConvergenceWarning: Maximum Likelihood optimization failed to converge. Check mle_retvals\n",
      "  warnings.warn(\"Maximum Likelihood optimization failed to \"\n",
      "C:\\Users\\Erica Zhao\\anaconda3\\envs\\honorthesis\\lib\\site-packages\\statsmodels\\base\\model.py:604: ConvergenceWarning: Maximum Likelihood optimization failed to converge. Check mle_retvals\n",
      "  warnings.warn(\"Maximum Likelihood optimization failed to \"\n",
      "C:\\Users\\Erica Zhao\\anaconda3\\envs\\honorthesis\\lib\\site-packages\\statsmodels\\base\\model.py:604: ConvergenceWarning: Maximum Likelihood optimization failed to converge. Check mle_retvals\n",
      "  warnings.warn(\"Maximum Likelihood optimization failed to \"\n",
      "C:\\Users\\Erica Zhao\\anaconda3\\envs\\honorthesis\\lib\\site-packages\\statsmodels\\base\\model.py:604: ConvergenceWarning: Maximum Likelihood optimization failed to converge. Check mle_retvals\n",
      "  warnings.warn(\"Maximum Likelihood optimization failed to \"\n",
      "C:\\Users\\Erica Zhao\\anaconda3\\envs\\honorthesis\\lib\\site-packages\\statsmodels\\base\\model.py:604: ConvergenceWarning: Maximum Likelihood optimization failed to converge. Check mle_retvals\n",
      "  warnings.warn(\"Maximum Likelihood optimization failed to \"\n",
      "C:\\Users\\Erica Zhao\\anaconda3\\envs\\honorthesis\\lib\\site-packages\\statsmodels\\base\\model.py:604: ConvergenceWarning: Maximum Likelihood optimization failed to converge. Check mle_retvals\n",
      "  warnings.warn(\"Maximum Likelihood optimization failed to \"\n",
      "C:\\Users\\Erica Zhao\\anaconda3\\envs\\honorthesis\\lib\\site-packages\\statsmodels\\base\\model.py:604: ConvergenceWarning: Maximum Likelihood optimization failed to converge. Check mle_retvals\n",
      "  warnings.warn(\"Maximum Likelihood optimization failed to \"\n",
      "C:\\Users\\Erica Zhao\\anaconda3\\envs\\honorthesis\\lib\\site-packages\\statsmodels\\base\\model.py:604: ConvergenceWarning: Maximum Likelihood optimization failed to converge. Check mle_retvals\n",
      "  warnings.warn(\"Maximum Likelihood optimization failed to \"\n",
      "C:\\Users\\Erica Zhao\\anaconda3\\envs\\honorthesis\\lib\\site-packages\\statsmodels\\base\\model.py:604: ConvergenceWarning: Maximum Likelihood optimization failed to converge. Check mle_retvals\n",
      "  warnings.warn(\"Maximum Likelihood optimization failed to \"\n",
      "C:\\Users\\Erica Zhao\\anaconda3\\envs\\honorthesis\\lib\\site-packages\\statsmodels\\base\\model.py:604: ConvergenceWarning: Maximum Likelihood optimization failed to converge. Check mle_retvals\n",
      "  warnings.warn(\"Maximum Likelihood optimization failed to \"\n",
      "C:\\Users\\Erica Zhao\\anaconda3\\envs\\honorthesis\\lib\\site-packages\\statsmodels\\base\\model.py:604: ConvergenceWarning: Maximum Likelihood optimization failed to converge. Check mle_retvals\n",
      "  warnings.warn(\"Maximum Likelihood optimization failed to \"\n",
      "C:\\Users\\Erica Zhao\\anaconda3\\envs\\honorthesis\\lib\\site-packages\\statsmodels\\base\\model.py:604: ConvergenceWarning: Maximum Likelihood optimization failed to converge. Check mle_retvals\n",
      "  warnings.warn(\"Maximum Likelihood optimization failed to \"\n",
      "C:\\Users\\Erica Zhao\\anaconda3\\envs\\honorthesis\\lib\\site-packages\\statsmodels\\base\\model.py:604: ConvergenceWarning: Maximum Likelihood optimization failed to converge. Check mle_retvals\n",
      "  warnings.warn(\"Maximum Likelihood optimization failed to \"\n",
      "C:\\Users\\Erica Zhao\\anaconda3\\envs\\honorthesis\\lib\\site-packages\\statsmodels\\base\\model.py:604: ConvergenceWarning: Maximum Likelihood optimization failed to converge. Check mle_retvals\n",
      "  warnings.warn(\"Maximum Likelihood optimization failed to \"\n",
      "C:\\Users\\Erica Zhao\\anaconda3\\envs\\honorthesis\\lib\\site-packages\\statsmodels\\base\\model.py:604: ConvergenceWarning: Maximum Likelihood optimization failed to converge. Check mle_retvals\n",
      "  warnings.warn(\"Maximum Likelihood optimization failed to \"\n",
      "C:\\Users\\Erica Zhao\\anaconda3\\envs\\honorthesis\\lib\\site-packages\\statsmodels\\base\\model.py:604: ConvergenceWarning: Maximum Likelihood optimization failed to converge. Check mle_retvals\n",
      "  warnings.warn(\"Maximum Likelihood optimization failed to \"\n",
      "C:\\Users\\Erica Zhao\\anaconda3\\envs\\honorthesis\\lib\\site-packages\\statsmodels\\base\\model.py:604: ConvergenceWarning: Maximum Likelihood optimization failed to converge. Check mle_retvals\n",
      "  warnings.warn(\"Maximum Likelihood optimization failed to \"\n",
      "C:\\Users\\Erica Zhao\\anaconda3\\envs\\honorthesis\\lib\\site-packages\\statsmodels\\base\\model.py:604: ConvergenceWarning: Maximum Likelihood optimization failed to converge. Check mle_retvals\n",
      "  warnings.warn(\"Maximum Likelihood optimization failed to \"\n",
      "C:\\Users\\Erica Zhao\\anaconda3\\envs\\honorthesis\\lib\\site-packages\\statsmodels\\base\\model.py:604: ConvergenceWarning: Maximum Likelihood optimization failed to converge. Check mle_retvals\n",
      "  warnings.warn(\"Maximum Likelihood optimization failed to \"\n",
      "C:\\Users\\Erica Zhao\\anaconda3\\envs\\honorthesis\\lib\\site-packages\\statsmodels\\base\\model.py:604: ConvergenceWarning: Maximum Likelihood optimization failed to converge. Check mle_retvals\n",
      "  warnings.warn(\"Maximum Likelihood optimization failed to \"\n",
      "C:\\Users\\Erica Zhao\\anaconda3\\envs\\honorthesis\\lib\\site-packages\\statsmodels\\base\\model.py:604: ConvergenceWarning: Maximum Likelihood optimization failed to converge. Check mle_retvals\n",
      "  warnings.warn(\"Maximum Likelihood optimization failed to \"\n",
      "C:\\Users\\Erica Zhao\\anaconda3\\envs\\honorthesis\\lib\\site-packages\\statsmodels\\base\\model.py:604: ConvergenceWarning: Maximum Likelihood optimization failed to converge. Check mle_retvals\n",
      "  warnings.warn(\"Maximum Likelihood optimization failed to \"\n",
      "C:\\Users\\Erica Zhao\\anaconda3\\envs\\honorthesis\\lib\\site-packages\\statsmodels\\base\\model.py:604: ConvergenceWarning: Maximum Likelihood optimization failed to converge. Check mle_retvals\n",
      "  warnings.warn(\"Maximum Likelihood optimization failed to \"\n"
     ]
    },
    {
     "name": "stderr",
     "output_type": "stream",
     "text": [
      "C:\\Users\\Erica Zhao\\anaconda3\\envs\\honorthesis\\lib\\site-packages\\statsmodels\\base\\model.py:604: ConvergenceWarning: Maximum Likelihood optimization failed to converge. Check mle_retvals\n",
      "  warnings.warn(\"Maximum Likelihood optimization failed to \"\n",
      "C:\\Users\\Erica Zhao\\anaconda3\\envs\\honorthesis\\lib\\site-packages\\statsmodels\\base\\model.py:604: ConvergenceWarning: Maximum Likelihood optimization failed to converge. Check mle_retvals\n",
      "  warnings.warn(\"Maximum Likelihood optimization failed to \"\n",
      "C:\\Users\\Erica Zhao\\anaconda3\\envs\\honorthesis\\lib\\site-packages\\statsmodels\\base\\model.py:604: ConvergenceWarning: Maximum Likelihood optimization failed to converge. Check mle_retvals\n",
      "  warnings.warn(\"Maximum Likelihood optimization failed to \"\n",
      "C:\\Users\\Erica Zhao\\anaconda3\\envs\\honorthesis\\lib\\site-packages\\statsmodels\\base\\model.py:604: ConvergenceWarning: Maximum Likelihood optimization failed to converge. Check mle_retvals\n",
      "  warnings.warn(\"Maximum Likelihood optimization failed to \"\n",
      "C:\\Users\\Erica Zhao\\anaconda3\\envs\\honorthesis\\lib\\site-packages\\statsmodels\\base\\model.py:604: ConvergenceWarning: Maximum Likelihood optimization failed to converge. Check mle_retvals\n",
      "  warnings.warn(\"Maximum Likelihood optimization failed to \"\n",
      "C:\\Users\\Erica Zhao\\anaconda3\\envs\\honorthesis\\lib\\site-packages\\statsmodels\\base\\model.py:604: ConvergenceWarning: Maximum Likelihood optimization failed to converge. Check mle_retvals\n",
      "  warnings.warn(\"Maximum Likelihood optimization failed to \"\n",
      "C:\\Users\\Erica Zhao\\anaconda3\\envs\\honorthesis\\lib\\site-packages\\statsmodels\\base\\model.py:604: ConvergenceWarning: Maximum Likelihood optimization failed to converge. Check mle_retvals\n",
      "  warnings.warn(\"Maximum Likelihood optimization failed to \"\n"
     ]
    }
   ],
   "source": [
    "# Perform out-of-sample test with daily actual data updates\n",
    "y_test_pred_arima = []  # Store predictions\n",
    "history = y_train.tolist()  # Initialize with training data\n",
    "exog_history = X_train.values.tolist()\n",
    "\n",
    "# Loop through test set to predict each day and update with actual data\n",
    "for t in range(len(y_test)):\n",
    "    X_input = X_test.iloc[t].values.reshape(1, -1)  # Exogenous variables for day t\n",
    "    arima_test_model = ARIMA(history, exog=exog_history, order=(1,1,1))\n",
    "    arima_test_model_fit = arima_test_model.fit()\n",
    "    \n",
    "    # Predict the next value\n",
    "    forecast = arima_test_model_fit.forecast(exog=X_input)\n",
    "    y_test_pred_arima.append(forecast[0])\n",
    "    \n",
    "    # Update history with actual data for next iteration\n",
    "    history.append(y_test.iloc[t])\n",
    "    exog_history.append(X_input[0])"
   ]
  },
  {
   "cell_type": "code",
   "execution_count": 38,
   "id": "1b7e3c90",
   "metadata": {},
   "outputs": [
    {
     "data": {
      "image/png": "[encoded data removed]",
      "text/plain": [
       "<Figure size 1500x700 with 1 Axes>"
      ]
     },
     "metadata": {},
     "output_type": "display_data"
    }
   ],
   "source": [
    "dates = df_arima['Date']\n",
    "date_test = dates[test_indices]\n",
    "\n",
    "plt.figure(figsize=(15, 7))\n",
    "plt.plot(date_test, y_test, label='Actual Carbon Price', color='blue')\n",
    "plt.plot(date_test, y_test_pred_arima, label='Predicted Carbon Price', color='red')\n",
    "plt.gca().xaxis.set_major_formatter(mdates.DateFormatter('%Y-%m-%d'))\n",
    "plt.gca().xaxis.set_major_locator(mdates.MonthLocator())\n",
    "plt.gcf().autofmt_xdate()  # Auto-format for date rotation and readability\n",
    "plt.title('Actual vs Predicted Carbon Prices')\n",
    "plt.xlabel('Date')\n",
    "plt.ylabel('Carbon Price')\n",
    "plt.legend()\n",
    "plt.show()"
   ]
  },
  {
   "cell_type": "code",
   "execution_count": 39,
   "id": "0c7c77ff",
   "metadata": {},
   "outputs": [
    {
     "name": "stdout",
     "output_type": "stream",
     "text": [
      "White test statistic: 123.17069178423309\n",
      "p-value of the White test: 0.1670806754077111\n"
     ]
    }
   ],
   "source": [
    "residuals = y_test - y_test_pred_arima\n",
    "\n",
    "# Perform White test\n",
    "exog = np.column_stack([X_test, X_test**2])  # Include the original exogenous variables and their squares\n",
    "white_test = het_white(residuals, exog)\n",
    "\n",
    "# Extract test results\n",
    "white_stat, white_p_val, _, _ = white_test\n",
    "\n",
    "print(f\"White test statistic: {white_stat}\")\n",
    "print(f\"p-value of the White test: {white_p_val}\")"
   ]
  },
  {
   "cell_type": "code",
   "execution_count": 40,
   "id": "87039244",
   "metadata": {},
   "outputs": [
    {
     "name": "stdout",
     "output_type": "stream",
     "text": [
      "Out-of-Sample RMSE: 1.4581698865801782\n",
      "Out-of-Sample MSE: 2.12625941812925\n",
      "Out-of-Sample MAE: 1.18773992970182\n",
      "Out-of-Sample MAPE: 1.5255132565089642%\n"
     ]
    }
   ],
   "source": [
    "# Calculate RMSE\n",
    "rmse = np.sqrt(mean_squared_error(y_test, y_test_pred_arima))\n",
    "print(f\"Out-of-Sample RMSE: {rmse}\")\n",
    "\n",
    "# Calculate MSE\n",
    "mse = mean_squared_error(y_test, y_test_pred_arima)\n",
    "print(f\"Out-of-Sample MSE: {mse}\")\n",
    "\n",
    "# Calculate MAE\n",
    "mae = mean_absolute_error(y_test, y_test_pred_arima)\n",
    "print(f\"Out-of-Sample MAE: {mae}\")\n",
    "\n",
    "# Calculate MAPE (Mean Absolute Percentage Error)\n",
    "mape = np.mean(np.abs((y_test - y_test_pred_arima) / y_test)) * 100\n",
    "print(f\"Out-of-Sample MAPE: {mape}%\") "
   ]
  },
  {
   "cell_type": "markdown",
   "id": "af4043e4",
   "metadata": {},
   "source": [
    "### Random Forest"
   ]
  },
  {
   "cell_type": "markdown",
   "id": "e2bc2bcc",
   "metadata": {},
   "source": [
    "##### Times Series Random Forest"
   ]
  },
  {
   "cell_type": "code",
   "execution_count": 41,
   "id": "14f9ca2e",
   "metadata": {},
   "outputs": [],
   "source": [
    "X = df.drop(['Date', 'Carbon'], axis=1)\n",
    "y = df['Carbon']"
   ]
  },
  {
   "cell_type": "code",
   "execution_count": 42,
   "id": "2735468b",
   "metadata": {},
   "outputs": [],
   "source": [
    "train_size = int(len(df_arima) * 0.8)\n",
    "train_indices = df.index[:train_size]\n",
    "test_indices = df.index[train_size:]\n",
    "\n",
    "y_train, y_test = y.loc[train_indices], y.loc[test_indices]\n",
    "X_train, X_test = X.loc[train_indices], X.loc[test_indices]"
   ]
  },
  {
   "cell_type": "code",
   "execution_count": 44,
   "id": "39c89ab5",
   "metadata": {
    "scrolled": true
   },
   "outputs": [
    {
     "name": "stdout",
     "output_type": "stream",
     "text": [
      "Fitting 3 folds for each of 675 candidates, totalling 2025 fits\n",
      "Best parameters found:  {'max_depth': 10, 'max_features': 'sqrt', 'min_samples_leaf': 1, 'min_samples_split': 2, 'n_estimators': 100}\n"
     ]
    }
   ],
   "source": [
    "from sklearn.model_selection import GridSearchCV, cross_val_score\n",
    "\n",
    "\n",
    "# Define the parameter grid to search over\n",
    "param_grid = {\n",
    "    'n_estimators': [100, 200, 300, 400, 500],  # Number of trees\n",
    "    'max_depth': [5, 10, 15, 20, None],         # Maximum depth of each tree\n",
    "    'min_samples_split': [2, 5, 10],            # Minimum samples required to split an internal node\n",
    "    'min_samples_leaf': [1, 2, 4],              # Minimum samples required to be at a leaf node\n",
    "    'max_features': ['auto', 'sqrt', 'log2']    # Number of features to consider at each split\n",
    "}\n",
    "\n",
    "# Initialize the RandomForestRegressor\n",
    "rf = RandomForestRegressor(random_state=42)\n",
    "\n",
    "# Set up the grid search\n",
    "grid_search = GridSearchCV(estimator=rf, param_grid=param_grid, \n",
    "                           cv=3, n_jobs=-1, verbose=2)\n",
    "\n",
    "# Fit the grid search to the data\n",
    "grid_search.fit(X_train, y_train)\n",
    "\n",
    "# Output the best parameters\n",
    "print(\"Best parameters found: \", grid_search.best_params_)\n",
    "best_rf_model = grid_search.best_estimator_"
   ]
  },
  {
   "cell_type": "code",
   "execution_count": 46,
   "id": "6ab89e53",
   "metadata": {},
   "outputs": [
    {
     "data": {
      "text/html": [
       "<style>#sk-container-id-2 {color: black;background-color: white;}#sk-container-id-2 pre{padding: 0;}#sk-container-id-2 div.sk-toggleable {background-color: white;}#sk-container-id-2 label.sk-toggleable__label {cursor: pointer;display: block;width: 100%;margin-bottom: 0;padding: 0.3em;box-sizing: border-box;text-align: center;}#sk-container-id-2 label.sk-toggleable__label-arrow:before {content: \"▸\";float: left;margin-right: 0.25em;color: #696969;}#sk-container-id-2 label.sk-toggleable__label-arrow:hover:before {color: black;}#sk-container-id-2 div.sk-estimator:hover label.sk-toggleable__label-arrow:before {color: black;}#sk-container-id-2 div.sk-toggleable__content {max-height: 0;max-width: 0;overflow: hidden;text-align: left;background-color: #f0f8ff;}#sk-container-id-2 div.sk-toggleable__content pre {margin: 0.2em;color: black;border-radius: 0.25em;background-color: #f0f8ff;}#sk-container-id-2 input.sk-toggleable__control:checked~div.sk-toggleable__content {max-height: 200px;max-width: 100%;overflow: auto;}#sk-container-id-2 input.sk-toggleable__control:checked~label.sk-toggleable__label-arrow:before {content: \"▾\";}#sk-container-id-2 div.sk-estimator input.sk-toggleable__control:checked~label.sk-toggleable__label {background-color: #d4ebff;}#sk-container-id-2 div.sk-label input.sk-toggleable__control:checked~label.sk-toggleable__label {background-color: #d4ebff;}#sk-container-id-2 input.sk-hidden--visually {border: 0;clip: rect(1px 1px 1px 1px);clip: rect(1px, 1px, 1px, 1px);height: 1px;margin: -1px;overflow: hidden;padding: 0;position: absolute;width: 1px;}#sk-container-id-2 div.sk-estimator {font-family: monospace;background-color: #f0f8ff;border: 1px dotted black;border-radius: 0.25em;box-sizing: border-box;margin-bottom: 0.5em;}#sk-container-id-2 div.sk-estimator:hover {background-color: #d4ebff;}#sk-container-id-2 div.sk-parallel-item::after {content: \"\";width: 100%;border-bottom: 1px solid gray;flex-grow: 1;}#sk-container-id-2 div.sk-label:hover label.sk-toggleable__label {background-color: #d4ebff;}#sk-container-id-2 div.sk-serial::before {content: \"\";position: absolute;border-left: 1px solid gray;box-sizing: border-box;top: 0;bottom: 0;left: 50%;z-index: 0;}#sk-container-id-2 div.sk-serial {display: flex;flex-direction: column;align-items: center;background-color: white;padding-right: 0.2em;padding-left: 0.2em;position: relative;}#sk-container-id-2 div.sk-item {position: relative;z-index: 1;}#sk-container-id-2 div.sk-parallel {display: flex;align-items: stretch;justify-content: center;background-color: white;position: relative;}#sk-container-id-2 div.sk-item::before, #sk-container-id-2 div.sk-parallel-item::before {content: \"\";position: absolute;border-left: 1px solid gray;box-sizing: border-box;top: 0;bottom: 0;left: 50%;z-index: -1;}#sk-container-id-2 div.sk-parallel-item {display: flex;flex-direction: column;z-index: 1;position: relative;background-color: white;}#sk-container-id-2 div.sk-parallel-item:first-child::after {align-self: flex-end;width: 50%;}#sk-container-id-2 div.sk-parallel-item:last-child::after {align-self: flex-start;width: 50%;}#sk-container-id-2 div.sk-parallel-item:only-child::after {width: 0;}#sk-container-id-2 div.sk-dashed-wrapped {border: 1px dashed gray;margin: 0 0.4em 0.5em 0.4em;box-sizing: border-box;padding-bottom: 0.4em;background-color: white;}#sk-container-id-2 div.sk-label label {font-family: monospace;font-weight: bold;display: inline-block;line-height: 1.2em;}#sk-container-id-2 div.sk-label-container {text-align: center;}#sk-container-id-2 div.sk-container {/* jupyter's `normalize.less` sets `[hidden] { display: none; }` but bootstrap.min.css set `[hidden] { display: none !important; }` so we also need the `!important` here to be able to override the default hidden behavior on the sphinx rendered scikit-learn.org. See: https://github.com/scikit-learn/scikit-learn/issues/21755 */display: inline-block !important;position: relative;}#sk-container-id-2 div.sk-text-repr-fallback {display: none;}</style><div id=\"sk-container-id-2\" class=\"sk-top-container\"><div class=\"sk-text-repr-fallback\"><pre>RandomForestRegressor(max_depth=10, max_features=&#x27;sqrt&#x27;, random_state=42)</pre><b>In a Jupyter environment, please rerun this cell to show the HTML representation or trust the notebook. <br />On GitHub, the HTML representation is unable to render, please try loading this page with nbviewer.org.</b></div><div class=\"sk-container\" hidden><div class=\"sk-item\"><div class=\"sk-estimator sk-toggleable\"><input class=\"sk-toggleable__control sk-hidden--visually\" id=\"sk-estimator-id-2\" type=\"checkbox\" checked><label for=\"sk-estimator-id-2\" class=\"sk-toggleable__label sk-toggleable__label-arrow\">RandomForestRegressor</label><div class=\"sk-toggleable__content\"><pre>RandomForestRegressor(max_depth=10, max_features=&#x27;sqrt&#x27;, random_state=42)</pre></div></div></div></div></div>"
      ],
      "text/plain": [
       "RandomForestRegressor(max_depth=10, max_features='sqrt', random_state=42)"
      ]
     },
     "execution_count": 46,
     "metadata": {},
     "output_type": "execute_result"
    }
   ],
   "source": [
    "# Use the best estimator from GridSearchCV\n",
    "best_rf_model.fit(X_train, y_train)"
   ]
  },
  {
   "cell_type": "markdown",
   "id": "eda4a791",
   "metadata": {},
   "source": [
    "#### In Sample"
   ]
  },
  {
   "cell_type": "code",
   "execution_count": 51,
   "id": "69c7199f",
   "metadata": {},
   "outputs": [
    {
     "name": "stdout",
     "output_type": "stream",
     "text": [
      "R-squared value: 0.9927733519140569\n"
     ]
    }
   ],
   "source": [
    "y_train_pred_rf = best_rf_model.predict(X_train)\n",
    "\n",
    "# Reshape the data for sklearn (linear regression expects 2D arrays)\n",
    "y_train_pred_rf_reshaped = y_train_pred_rf.reshape(-1, 1)\n",
    "y_train_reshaped = y_train.values.reshape(-1, 1)  # Convert to array and reshape if needed\n",
    "\n",
    "# Initialize the Linear Regression model\n",
    "reg = linear_model.LinearRegression()\n",
    "\n",
    "# Fit the linear regression model on the predicted and actual values\n",
    "reg.fit(y_train_pred_rf_reshaped, y_train_reshaped)\n",
    "\n",
    "# Calculate the R-squared value\n",
    "r_squared = r2_score(y_train_reshaped, y_train_pred_rf_reshaped)\n",
    "print(\"R-squared value:\", r_squared)"
   ]
  },
  {
   "cell_type": "markdown",
   "id": "0820b36a",
   "metadata": {},
   "source": [
    "#### Out of Sample"
   ]
  },
  {
   "cell_type": "code",
   "execution_count": 48,
   "id": "67c3db06",
   "metadata": {},
   "outputs": [],
   "source": [
    "# Initialize with training data\n",
    "history_X_rf = X_train.values.tolist()  # Start with the exogenous variables (training set)\n",
    "history_y_rf = y_train.tolist()  # Start with the target values (training set)\n",
    "\n",
    "# Store predictions\n",
    "y_test_pred_rf = []\n",
    "\n",
    "# Loop through the test set, predicting day by day, and updating the history\n",
    "for t in range(len(y_test)):\n",
    "    # Get the exogenous input for day t\n",
    "    X_input = X_test.iloc[t].values.reshape(1, -1)\n",
    "    \n",
    "    # Train a new Random Forest model on the current history\n",
    "    rf_test_model = RandomForestRegressor(n_estimators=100, max_depth=10, random_state=42)\n",
    "    rf_test_model.fit(np.array(history_X_rf), np.array(history_y_rf))\n",
    "    \n",
    "    # Predict the next value (carbon price for day t)\n",
    "    forecast = rf_test_model.predict(X_input)\n",
    "    y_test_pred_rf.append(forecast[0])  # Store the prediction\n",
    "    \n",
    "    # Update history with the actual test data for the next iteration\n",
    "    history_y_rf.append(y_test.iloc[t])  # Append the actual value for day t\n",
    "    history_X_rf.append(X_input[0])  # Append the exogenous variables for day t\n"
   ]
  },
  {
   "cell_type": "code",
   "execution_count": 49,
   "id": "8c8755fe",
   "metadata": {},
   "outputs": [
    {
     "data": {
      "image/png": "[encoded data removed]",
      "text/plain": [
       "<Figure size 1500x700 with 1 Axes>"
      ]
     },
     "metadata": {},
     "output_type": "display_data"
    }
   ],
   "source": [
    "dates = df['Date']\n",
    "date_test = dates[test_indices]\n",
    "\n",
    "plt.figure(figsize=(15, 7))\n",
    "plt.plot(date_test, y_test, label='Actual Carbon Price', color='blue')\n",
    "plt.plot(date_test, y_test_pred_rf, label='Predicted Carbon Price', color='red')\n",
    "plt.gca().xaxis.set_major_formatter(mdates.DateFormatter('%Y-%m-%d'))\n",
    "plt.gca().xaxis.set_major_locator(mdates.MonthLocator())\n",
    "plt.gcf().autofmt_xdate()  # Auto-format for date rotation and readability\n",
    "plt.title('Actual vs Predicted Carbon Prices')\n",
    "plt.xlabel('Date')\n",
    "plt.ylabel('Carbon Price')\n",
    "plt.legend()\n",
    "plt.show()"
   ]
  },
  {
   "cell_type": "code",
   "execution_count": 52,
   "id": "e31f76ac",
   "metadata": {},
   "outputs": [
    {
     "name": "stdout",
     "output_type": "stream",
     "text": [
      "Out-of-Sample RMSE: 3.330066008067116\n",
      "Out-of-Sample MSE: 11.089339618084056\n",
      "Out-of-Sample MAE: 2.502941345083126\n",
      "Out-of-Sample MAPE: 3.313294959769168%\n"
     ]
    }
   ],
   "source": [
    "# Calculate RMSE\n",
    "rmse = np.sqrt(mean_squared_error(y_test, y_test_pred_rf))\n",
    "print(f\"Out-of-Sample RMSE: {rmse}\")\n",
    "\n",
    "# Calculate MSE\n",
    "mse = mean_squared_error(y_test, y_test_pred_rf)\n",
    "print(f\"Out-of-Sample MSE: {mse}\")\n",
    "\n",
    "# Calculate MAE\n",
    "mae = mean_absolute_error(y_test, y_test_pred_rf)\n",
    "print(f\"Out-of-Sample MAE: {mae}\")\n",
    "\n",
    "# Calculate MAPE (Mean Absolute Percentage Error)\n",
    "mape = np.mean(np.abs((y_test - y_test_pred_rf) / y_test)) * 100\n",
    "print(f\"Out-of-Sample MAPE: {mape}%\") "
   ]
  },
  {
   "cell_type": "markdown",
   "id": "4f6e786f",
   "metadata": {},
   "source": [
    "#### Cross Validation"
   ]
  },
  {
   "cell_type": "code",
   "execution_count": 53,
   "id": "4b481135",
   "metadata": {},
   "outputs": [],
   "source": [
    "from sklearn.model_selection import TimeSeriesSplit, cross_val_score"
   ]
  },
  {
   "cell_type": "code",
   "execution_count": 54,
   "id": "9bb4236f",
   "metadata": {},
   "outputs": [],
   "source": [
    "# Define TimeSeriesSplit\n",
    "tscv = TimeSeriesSplit(n_splits=5)  # 5 splits for example, adjust based on your data"
   ]
  },
  {
   "cell_type": "code",
   "execution_count": 55,
   "id": "7e118d16",
   "metadata": {},
   "outputs": [
    {
     "name": "stdout",
     "output_type": "stream",
     "text": [
      "Time-Series Cross-Validation RMSE for each fold: [ 7.60631899 22.722582   11.72020425  9.3399703  19.28543569]\n",
      "Average RMSE across folds: 14.134902247613732\n"
     ]
    }
   ],
   "source": [
    "# Initialize the RandomForestRegressor with your chosen hyperparameters\n",
    "rf_model = RandomForestRegressor(\n",
    "    max_depth=10,\n",
    "    max_features='sqrt',\n",
    "    min_samples_leaf=1,\n",
    "    min_samples_split=2,\n",
    "    n_estimators=100,\n",
    "    random_state=42\n",
    ")\n",
    "\n",
    "# Perform cross-validation\n",
    "cv_results = cross_val_score(rf_model, X_train, y_train, cv=tscv, scoring='neg_mean_squared_error')\n",
    "\n",
    "# Convert negative MSE to positive RMSE\n",
    "rmse_cv = np.sqrt(-cv_results)\n",
    "\n",
    "# Output the cross-validation results\n",
    "print(\"Time-Series Cross-Validation RMSE for each fold:\", rmse_cv)\n",
    "print(\"Average RMSE across folds:\", np.mean(rmse_cv))"
   ]
  },
  {
   "cell_type": "code",
   "execution_count": 56,
   "id": "903559a5",
   "metadata": {},
   "outputs": [],
   "source": [
    "# Train the best model on the full training set\n",
    "rf_model.fit(X_train, y_train)\n",
    "\n",
    "# Predict on the test data\n",
    "y_test_pred_rf_new = rf_model.predict(X_test)"
   ]
  },
  {
   "cell_type": "code",
   "execution_count": 57,
   "id": "cb0e3be3",
   "metadata": {},
   "outputs": [
    {
     "name": "stdout",
     "output_type": "stream",
     "text": [
      "Out-of-Sample RMSE: 11.610330340592903\n",
      "Out-of-Sample MAE: 9.41920476286142\n",
      "Out-of-Sample MAPE: 12.881075147984788%\n"
     ]
    }
   ],
   "source": [
    "# Calculate RMSE\n",
    "rmse = np.sqrt(mean_squared_error(y_test, y_test_pred_rf_new))\n",
    "print(f\"Out-of-Sample RMSE: {rmse}\")\n",
    "\n",
    "# Calculate MAE\n",
    "mae = mean_absolute_error(y_test, y_test_pred_rf_new)\n",
    "print(f\"Out-of-Sample MAE: {mae}\")\n",
    "\n",
    "# Calculate MAPE (Mean Absolute Percentage Error)\n",
    "mape = np.mean(np.abs((y_test - y_test_pred_rf_new) / y_test)) * 100\n",
    "print(f\"Out-of-Sample MAPE: {mape}%\")"
   ]
  },
  {
   "cell_type": "markdown",
   "id": "a75214ec",
   "metadata": {},
   "source": [
    "### LSTM Model"
   ]
  },
  {
   "cell_type": "code",
   "execution_count": null,
   "id": "dab1e5ba",
   "metadata": {},
   "outputs": [],
   "source": [
    "# Normalize features\n",
    "scaler_features = MinMaxScaler(feature_range=(0, 1))\n",
    "scaler_target = MinMaxScaler(feature_range=(0, 1))\n",
    "\n",
    "# Assuming 'features' and 'target' are already defined as:\n",
    "features = df.drop(['Date', 'Carbon', 'log_value', 'diff_log_value'], axis=1)\n",
    "target = df['Carbon']\n",
    "\n",
    "features_scaled = scaler_features.fit_transform(features)\n",
    "target_scaled = scaler_target.fit_transform(target.values.reshape(-1, 1))\n",
    "\n",
    "# Calculate the split point\n",
    "train_size = int(len(features_scaled) * 0.8)\n",
    "test_size = len(features_scaled) - train_size\n",
    "\n",
    "# Split the data into training and testing sets\n",
    "X_train, X_test = features_scaled[:train_size], features_scaled[train_size:]\n",
    "y_train, y_test = target_scaled[:train_size], target_scaled[train_size:]\n",
    "\n",
    "# Reshape input to be [samples, time steps, features] which is required for LSTM\n",
    "X_train = X_train.reshape((X_train.shape[0], 1, X_train.shape[1]))\n",
    "X_test = X_test.reshape((X_test.shape[0], 1, X_test.shape[1]))"
   ]
  },
  {
   "cell_type": "code",
   "execution_count": null,
   "id": "8213c53d",
   "metadata": {},
   "outputs": [],
   "source": [
    "model = Sequential()\n",
    "model.add(LSTM(50, input_shape=(X_train.shape[1], X_train.shape[2]), return_sequences=True))  # return full sequence\n",
    "model.add(LSTM(50))  # Now this LSTM can handle the input shape\n",
    "model.add(Dense(1))\n",
    "model.compile(loss='mean_squared_error', optimizer='adam')"
   ]
  },
  {
   "cell_type": "code",
   "execution_count": null,
   "id": "1baacf46",
   "metadata": {},
   "outputs": [],
   "source": [
    "# Fit the model\n",
    "model.fit(X_train, y_train, epochs=50, batch_size=72, verbose=1)"
   ]
  },
  {
   "cell_type": "code",
   "execution_count": null,
   "id": "09562a8d",
   "metadata": {},
   "outputs": [],
   "source": [
    "# Make predictions\n",
    "y_train_pred = model.predict(X_train)\n",
    "\n",
    "# Inverse transform predictions and actual values for accurate error measurement\n",
    "y_train_pred = scaler_target.inverse_transform(y_train_pred)  # Predictions back to original scale\n",
    "y_train_original = scaler_target.inverse_transform(y_train)  # Actual values back to original scale\n",
    "\n",
    "# Calculate RMSE\n",
    "from sklearn.metrics import mean_squared_error\n",
    "train_rmse = np.sqrt(mean_squared_error(y_train_original, y_train_pred))\n",
    "print('Train RMSE:', train_rmse)"
   ]
  },
  {
   "cell_type": "code",
   "execution_count": null,
   "id": "ccbc1a6e",
   "metadata": {},
   "outputs": [],
   "source": [
    "y_train_reshaped = y_train.reshape(-1, 1)\n",
    "y_train_pred_reshaped = y_train_pred.reshape(-1, 1)\n",
    "\n",
    "reg = linear_model.LinearRegression()\n",
    "reg.fit(y_train_pred_reshaped, y_train_reshaped)"
   ]
  },
  {
   "cell_type": "code",
   "execution_count": null,
   "id": "d455d764",
   "metadata": {
    "scrolled": true
   },
   "outputs": [],
   "source": [
    "r_squared = reg.score(y_train_pred_reshaped, y_train_reshaped)\n",
    "r_squared"
   ]
  },
  {
   "cell_type": "code",
   "execution_count": null,
   "id": "a382ffac",
   "metadata": {},
   "outputs": [],
   "source": [
    "# Correct extraction of dates for the training set\n",
    "train_dates = df['Date'].iloc[train_indices].reset_index(drop=True)\n",
    "\n",
    "# Reshape y_train_pred if necessary (flattening if it comes out with an extra dimension)\n",
    "y_train_pred_flat = y_train_pred.flatten()  # Assuming y_train_pred might be coming as (n, 1) from LSTM\n",
    "\n",
    "plt.figure(figsize=(15, 7))\n",
    "plt.plot(train_dates, y_train_original, label='Actual Carbon Price', color='blue')\n",
    "plt.plot(train_dates, y_train_pred_flat, label='Predicted Carbon Price', color='red')\n",
    "plt.gca().xaxis.set_major_formatter(mdates.DateFormatter('%Y-%m-%d'))\n",
    "plt.gca().xaxis.set_major_locator(mdates.MonthLocator())\n",
    "plt.gcf().autofmt_xdate()  # Auto-format for date rotation and readability\n",
    "plt.title('Actual vs Predicted Carbon Prices')\n",
    "plt.xlabel('Date')\n",
    "plt.ylabel('Carbon Price')\n",
    "plt.legend()\n",
    "plt.show()"
   ]
  },
  {
   "cell_type": "code",
   "execution_count": null,
   "id": "f16aa7f0",
   "metadata": {},
   "outputs": [],
   "source": [
    "from sklearn.model_selection import RandomizedSearchCV\n",
    "from tensorflow.keras.models import Sequential\n",
    "from tensorflow.keras.layers import LSTM, Dense\n",
    "from tensorflow.keras.optimizers import SGD, RMSprop, Adagrad, Adadelta, Adam, Adamax, Nadam\n",
    "from tensorflow.keras.wrappers.scikit_learn import KerasRegressor\n",
    "\n",
    "\n",
    "param_grid = {\n",
    "    'batch_size': [1, 2, 3, 4, 5],\n",
    "    'epochs': [10, 50, 100],\n",
    "    'optimizer': ['sgd', 'rmsprop', 'adagrad', 'adadelta', 'adam', 'adamax', 'nadam']\n",
    "}\n",
    "\n",
    "\n",
    "grid = RandomizedSearchCV(estimator=model, param_distributions=param_grid, n_jobs=-1, cv=3, scoring='neg_mean_squared_error')\n",
    "grid_result = grid.fit(X_train, y_train)\n",
    "\n",
    "\n",
    "print(\"Best: %f using %s\" % (grid_result.best_score_, grid_result.best_params_))\n",
    "means = grid_result.cv_results_['mean_test_score']\n",
    "stds = grid_result.cv_results_['std_test_score']\n",
    "params = grid_result.cv_results_['params']\n",
    "for mean, stdev, param in zip(means, stds, params):\n",
    "    print(\"%f (%f) with: %r\" % (mean, stdev, param))\n"
   ]
  },
  {
   "cell_type": "markdown",
   "id": "52b4711c",
   "metadata": {},
   "source": [
    "## 5.4 Discussion"
   ]
  },
  {
   "cell_type": "markdown",
   "id": "dc3ef2cc",
   "metadata": {},
   "source": [
    "# Section VI Conclusion"
   ]
  },
  {
   "cell_type": "code",
   "execution_count": null,
   "id": "9dd9df4a",
   "metadata": {},
   "outputs": [],
   "source": []
  }
 ],
 "metadata": {
  "kernelspec": {
   "display_name": "Python (thesis)",
   "language": "python",
   "name": "honorthesis"
  },
  "language_info": {
   "codemirror_mode": {
    "name": "ipython",
    "version": 3
   },
   "file_extension": ".py",
   "mimetype": "text/x-python",
   "name": "python",
   "nbconvert_exporter": "python",
   "pygments_lexer": "ipython3",
   "version": "3.8.19"
  }
 },
 "nbformat": 4,
 "nbformat_minor": 5
}
