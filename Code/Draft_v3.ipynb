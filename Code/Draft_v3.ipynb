{
 "cells": [
  {
   "cell_type": "code",
   "execution_count": 1,
   "id": "8a07aa96",
   "metadata": {
    "scrolled": false
   },
   "outputs": [
    {
     "name": "stdout",
     "output_type": "stream",
     "text": [
      "Requirement already satisfied: pandas in c:\\users\\erica zhao\\anaconda3\\lib\\site-packages (1.2.4)\n",
      "Requirement already satisfied: matplotlib in c:\\users\\erica zhao\\anaconda3\\lib\\site-packages (3.3.4)\n",
      "Requirement already satisfied: scikit-learn in c:\\users\\erica zhao\\anaconda3\\lib\\site-packages (0.24.1)\n",
      "Requirement already satisfied: tensorflow in c:\\users\\erica zhao\\anaconda3\\lib\\site-packages (2.13.0)\n",
      "Requirement already satisfied: numpy>=1.15 in c:\\users\\erica zhao\\anaconda3\\lib\\site-packages (from matplotlib) (1.22.4)\n",
      "Requirement already satisfied: kiwisolver>=1.0.1 in c:\\users\\erica zhao\\anaconda3\\lib\\site-packages (from matplotlib) (1.3.1)\n",
      "Requirement already satisfied: pyparsing!=2.0.4,!=2.1.2,!=2.1.6,>=2.0.3 in c:\\users\\erica zhao\\anaconda3\\lib\\site-packages (from matplotlib) (2.4.7)\n",
      "Requirement already satisfied: cycler>=0.10 in c:\\users\\erica zhao\\anaconda3\\lib\\site-packages (from matplotlib) (0.10.0)\n",
      "Requirement already satisfied: python-dateutil>=2.1 in c:\\users\\erica zhao\\anaconda3\\lib\\site-packages (from matplotlib) (2.8.1)\n",
      "Requirement already satisfied: pillow>=6.2.0 in c:\\users\\erica zhao\\anaconda3\\lib\\site-packages (from matplotlib) (8.2.0)\n",
      "Requirement already satisfied: six in c:\\users\\erica zhao\\anaconda3\\lib\\site-packages (from cycler>=0.10->matplotlib) (1.15.0)\n",
      "Requirement already satisfied: pytz>=2017.3 in c:\\users\\erica zhao\\anaconda3\\lib\\site-packages (from pandas) (2021.1)\n",
      "Requirement already satisfied: scipy>=0.19.1 in c:\\users\\erica zhao\\anaconda3\\lib\\site-packages (from scikit-learn) (1.6.2)\n",
      "Requirement already satisfied: threadpoolctl>=2.0.0 in c:\\users\\erica zhao\\anaconda3\\lib\\site-packages (from scikit-learn) (2.1.0)\n",
      "Requirement already satisfied: joblib>=0.11 in c:\\users\\erica zhao\\anaconda3\\lib\\site-packages (from scikit-learn) (1.0.1)\n",
      "Requirement already satisfied: tensorflow-intel==2.13.0 in c:\\users\\erica zhao\\anaconda3\\lib\\site-packages (from tensorflow) (2.13.0)\n",
      "Requirement already satisfied: flatbuffers>=23.1.21 in c:\\users\\erica zhao\\anaconda3\\lib\\site-packages (from tensorflow-intel==2.13.0->tensorflow) (24.3.25)\n",
      "Requirement already satisfied: grpcio<2.0,>=1.24.3 in c:\\users\\erica zhao\\anaconda3\\lib\\site-packages (from tensorflow-intel==2.13.0->tensorflow) (1.62.1)\n",
      "Requirement already satisfied: google-pasta>=0.1.1 in c:\\users\\erica zhao\\anaconda3\\lib\\site-packages (from tensorflow-intel==2.13.0->tensorflow) (0.2.0)\n",
      "Requirement already satisfied: astunparse>=1.6.0 in c:\\users\\erica zhao\\anaconda3\\lib\\site-packages (from tensorflow-intel==2.13.0->tensorflow) (1.6.3)\n",
      "Requirement already satisfied: tensorflow-estimator<2.14,>=2.13.0 in c:\\users\\erica zhao\\anaconda3\\lib\\site-packages (from tensorflow-intel==2.13.0->tensorflow) (2.13.0)\n",
      "Requirement already satisfied: protobuf!=4.21.0,!=4.21.1,!=4.21.2,!=4.21.3,!=4.21.4,!=4.21.5,<5.0.0dev,>=3.20.3 in c:\\users\\erica zhao\\anaconda3\\lib\\site-packages (from tensorflow-intel==2.13.0->tensorflow) (4.25.3)\n",
      "Requirement already satisfied: keras<2.14,>=2.13.1 in c:\\users\\erica zhao\\anaconda3\\lib\\site-packages (from tensorflow-intel==2.13.0->tensorflow) (2.13.1)\n",
      "Requirement already satisfied: packaging in c:\\users\\erica zhao\\anaconda3\\lib\\site-packages (from tensorflow-intel==2.13.0->tensorflow) (20.9)\n",
      "Requirement already satisfied: h5py>=2.9.0 in c:\\users\\erica zhao\\anaconda3\\lib\\site-packages (from tensorflow-intel==2.13.0->tensorflow) (2.10.0)\n",
      "Requirement already satisfied: setuptools in c:\\users\\erica zhao\\anaconda3\\lib\\site-packages (from tensorflow-intel==2.13.0->tensorflow) (52.0.0.post20210125)\n",
      "Requirement already satisfied: absl-py>=1.0.0 in c:\\users\\erica zhao\\anaconda3\\lib\\site-packages (from tensorflow-intel==2.13.0->tensorflow) (2.1.0)\n",
      "Requirement already satisfied: typing-extensions<4.6.0,>=3.6.6 in c:\\users\\erica zhao\\anaconda3\\lib\\site-packages (from tensorflow-intel==2.13.0->tensorflow) (3.7.4.3)\n",
      "Requirement already satisfied: wrapt>=1.11.0 in c:\\users\\erica zhao\\anaconda3\\lib\\site-packages (from tensorflow-intel==2.13.0->tensorflow) (1.12.1)\n",
      "Requirement already satisfied: termcolor>=1.1.0 in c:\\users\\erica zhao\\anaconda3\\lib\\site-packages (from tensorflow-intel==2.13.0->tensorflow) (2.4.0)\n",
      "Requirement already satisfied: libclang>=13.0.0 in c:\\users\\erica zhao\\anaconda3\\lib\\site-packages (from tensorflow-intel==2.13.0->tensorflow) (18.1.1)\n",
      "Requirement already satisfied: tensorflow-io-gcs-filesystem>=0.23.1 in c:\\users\\erica zhao\\anaconda3\\lib\\site-packages (from tensorflow-intel==2.13.0->tensorflow) (0.31.0)\n",
      "Requirement already satisfied: gast<=0.4.0,>=0.2.1 in c:\\users\\erica zhao\\anaconda3\\lib\\site-packages (from tensorflow-intel==2.13.0->tensorflow) (0.4.0)\n",
      "Requirement already satisfied: opt-einsum>=2.3.2 in c:\\users\\erica zhao\\anaconda3\\lib\\site-packages (from tensorflow-intel==2.13.0->tensorflow) (3.3.0)\n",
      "Requirement already satisfied: tensorboard<2.14,>=2.13 in c:\\users\\erica zhao\\anaconda3\\lib\\site-packages (from tensorflow-intel==2.13.0->tensorflow) (2.13.0)\n",
      "Requirement already satisfied: wheel<1.0,>=0.23.0 in c:\\users\\erica zhao\\anaconda3\\lib\\site-packages (from astunparse>=1.6.0->tensorflow-intel==2.13.0->tensorflow) (0.36.2)\n",
      "Requirement already satisfied: requests<3,>=2.21.0 in c:\\users\\erica zhao\\anaconda3\\lib\\site-packages (from tensorboard<2.14,>=2.13->tensorflow-intel==2.13.0->tensorflow) (2.25.1)\n",
      "Requirement already satisfied: google-auth<3,>=1.6.3 in c:\\users\\erica zhao\\anaconda3\\lib\\site-packages (from tensorboard<2.14,>=2.13->tensorflow-intel==2.13.0->tensorflow) (2.29.0)\n",
      "Requirement already satisfied: google-auth-oauthlib<1.1,>=0.5 in c:\\users\\erica zhao\\anaconda3\\lib\\site-packages (from tensorboard<2.14,>=2.13->tensorflow-intel==2.13.0->tensorflow) (1.0.0)\n",
      "Requirement already satisfied: tensorboard-data-server<0.8.0,>=0.7.0 in c:\\users\\erica zhao\\anaconda3\\lib\\site-packages (from tensorboard<2.14,>=2.13->tensorflow-intel==2.13.0->tensorflow) (0.7.2)\n",
      "Requirement already satisfied: werkzeug>=1.0.1 in c:\\users\\erica zhao\\anaconda3\\lib\\site-packages (from tensorboard<2.14,>=2.13->tensorflow-intel==2.13.0->tensorflow) (1.0.1)\n",
      "Requirement already satisfied: markdown>=2.6.8 in c:\\users\\erica zhao\\anaconda3\\lib\\site-packages (from tensorboard<2.14,>=2.13->tensorflow-intel==2.13.0->tensorflow) (3.6)\n",
      "Requirement already satisfied: cachetools<6.0,>=2.0.0 in c:\\users\\erica zhao\\anaconda3\\lib\\site-packages (from google-auth<3,>=1.6.3->tensorboard<2.14,>=2.13->tensorflow-intel==2.13.0->tensorflow) (5.3.3)\n",
      "Requirement already satisfied: pyasn1-modules>=0.2.1 in c:\\users\\erica zhao\\anaconda3\\lib\\site-packages (from google-auth<3,>=1.6.3->tensorboard<2.14,>=2.13->tensorflow-intel==2.13.0->tensorflow) (0.4.0)\n",
      "Requirement already satisfied: rsa<5,>=3.1.4 in c:\\users\\erica zhao\\anaconda3\\lib\\site-packages (from google-auth<3,>=1.6.3->tensorboard<2.14,>=2.13->tensorflow-intel==2.13.0->tensorflow) (4.9)\n",
      "Requirement already satisfied: requests-oauthlib>=0.7.0 in c:\\users\\erica zhao\\anaconda3\\lib\\site-packages (from google-auth-oauthlib<1.1,>=0.5->tensorboard<2.14,>=2.13->tensorflow-intel==2.13.0->tensorflow) (2.0.0)\n",
      "Requirement already satisfied: importlib-metadata>=4.4 in c:\\users\\erica zhao\\anaconda3\\lib\\site-packages (from markdown>=2.6.8->tensorboard<2.14,>=2.13->tensorflow-intel==2.13.0->tensorflow) (7.1.0)\n",
      "Requirement already satisfied: zipp>=0.5 in c:\\users\\erica zhao\\anaconda3\\lib\\site-packages (from importlib-metadata>=4.4->markdown>=2.6.8->tensorboard<2.14,>=2.13->tensorflow-intel==2.13.0->tensorflow) (3.4.1)\n",
      "Requirement already satisfied: pyasn1<0.7.0,>=0.4.6 in c:\\users\\erica zhao\\anaconda3\\lib\\site-packages (from pyasn1-modules>=0.2.1->google-auth<3,>=1.6.3->tensorboard<2.14,>=2.13->tensorflow-intel==2.13.0->tensorflow) (0.6.0)\n",
      "Requirement already satisfied: certifi>=2017.4.17 in c:\\users\\erica zhao\\anaconda3\\lib\\site-packages (from requests<3,>=2.21.0->tensorboard<2.14,>=2.13->tensorflow-intel==2.13.0->tensorflow) (2020.12.5)\n",
      "Requirement already satisfied: chardet<5,>=3.0.2 in c:\\users\\erica zhao\\anaconda3\\lib\\site-packages (from requests<3,>=2.21.0->tensorboard<2.14,>=2.13->tensorflow-intel==2.13.0->tensorflow) (4.0.0)\n",
      "Requirement already satisfied: idna<3,>=2.5 in c:\\users\\erica zhao\\anaconda3\\lib\\site-packages (from requests<3,>=2.21.0->tensorboard<2.14,>=2.13->tensorflow-intel==2.13.0->tensorflow) (2.10)\n",
      "Requirement already satisfied: urllib3<1.27,>=1.21.1 in c:\\users\\erica zhao\\anaconda3\\lib\\site-packages (from requests<3,>=2.21.0->tensorboard<2.14,>=2.13->tensorflow-intel==2.13.0->tensorflow) (1.26.4)\n",
      "Requirement already satisfied: oauthlib>=3.0.0 in c:\\users\\erica zhao\\anaconda3\\lib\\site-packages (from requests-oauthlib>=0.7.0->google-auth-oauthlib<1.1,>=0.5->tensorboard<2.14,>=2.13->tensorflow-intel==2.13.0->tensorflow) (3.2.2)\n"
     ]
    }
   ],
   "source": [
    "!pip install pandas matplotlib scikit-learn tensorflow\n",
    "import pandas as pd\n",
    "import numpy as np\n",
    "from sklearn.ensemble import RandomForestRegressor\n",
    "from sklearn.model_selection import train_test_split\n",
    "from sklearn.metrics import mean_squared_error\n",
    "\n",
    "import numpy as np\n",
    "import matplotlib.pyplot as plt\n",
    "import matplotlib.dates as mdates\n",
    "from statsmodels.tsa.ar_model import AutoReg\n",
    "from statsmodels.tsa.arima.model import ARIMA\n",
    "import matplotlib.pyplot as plt\n",
    "from statsmodels.graphics.tsaplots import plot_acf\n",
    "from statsmodels.graphics.tsaplots import plot_pacf\n",
    "\n",
    "from sklearn.preprocessing import MinMaxScaler\n",
    "from sklearn.model_selection import train_test_split\n",
    "from tensorflow.keras.models import Sequential\n",
    "from tensorflow.keras.layers import Dense, LSTM\n",
    "from tensorflow.keras.optimizers import Adam\n",
    "\n",
    "from sklearn import linear_model\n",
    "\n",
    "from statsmodels.tsa.stattools import adfuller\n",
    "from numpy import log\n",
    "from sklearn.metrics import r2_score"
   ]
  },
  {
   "cell_type": "markdown",
   "id": "b648310d",
   "metadata": {},
   "source": [
    "# Section I Introduction"
   ]
  },
  {
   "cell_type": "markdown",
   "id": "b6b8c054",
   "metadata": {},
   "source": [
    "# Section II Literature Review"
   ]
  },
  {
   "cell_type": "markdown",
   "id": "b84c4b98",
   "metadata": {},
   "source": [
    "# Section III Methodology"
   ]
  },
  {
   "cell_type": "markdown",
   "id": "6a14eaa2",
   "metadata": {},
   "source": [
    "## 3.1 ARIMA Model"
   ]
  },
  {
   "cell_type": "markdown",
   "id": "c6a0da89",
   "metadata": {},
   "source": [
    "ARIMA model has notable strengths for forecasting carbon prices, utilizing its robust capability to process time series data and capture the dynamic patterns in the volatile carbon prices. These features facilitate a comprehensive analysis, making ARIMA an ideal choice for short-term forecasting. However, we also need to acknowledge its potential limitations, such as the assumption of linearity and the need for data stationarity, which may cause potential issues."
   ]
  },
  {
   "cell_type": "markdown",
   "id": "7346b333",
   "metadata": {},
   "source": [
    "Central to the ARIMA model is its ability to integrate autoregressive (AR) processes, differencing (I) to achieve stationarity, and moving average (MA) processes into a unified structure. The model is parameterized by three integers: $p$, $d$, and $q$, which denote the autoregressive order, the degree of differencing, and the moving average order, respectively. Mathematically, the ARIMA($p$,$d$,$q$) model is expressed as:\n",
    "$$\n",
    "x_t = u + \\alpha_1 x_{t-1} + \\alpha_2 x_{t-2} + \\ldots + \\alpha_p x_{t-p} - \\beta_1 \\varepsilon_{t-1} - \\beta_2 \\varepsilon_{t-2} - \\ldots - \\beta_q \\varepsilon_{t-q} + \\varepsilon_t\n",
    "$$"
   ]
  },
  {
   "cell_type": "markdown",
   "id": "36d7ba22",
   "metadata": {},
   "source": [
    "Here, $x_t$ represents the forcasted carbon price at time $t$, and $u$ is a constant term (which can be interpreted as the mean of the series if $d = 0 $). The parameters $\\alpha_1, \\alpha_2, \\ldots, \\alpha_p$ represent the autoregressive (AR) terms, $\\beta_1, \\beta_2, \\ldots, \\beta_q$ represent the moving average (MA) terms, and $\\varepsilon_{t-1}, \\varepsilon_{t-2}, \\ldots, \\varepsilon_{t-q}$ are the lagged forecast errors in the prediction equation."
   ]
  },
  {
   "cell_type": "markdown",
   "id": "539acdda",
   "metadata": {},
   "source": [
    "In this study, we employed the ARIMA model to analyze fluctuations in carbon prices. Our approach commenced with an initial hypothesis based on a preliminary examination of the dataset to identify any apparent trends and autocorrelations. Utilizing diagnostic tools such as autocorrelation and partial autocorrelation plots, alongside statistical tests, we determined the optimal differencing order and the appropriate orders for the autoregressive and moving average components of the model. This step also included assessments for the inclusion of seasonal adjustments. Subsequent to model identification, we engaged in parameter estimation through Maximum Likelihood Estimation methods to accurately fit the model to the historical data. The model was then validated to ensure that the residuals approximated white noise, indicating that the model captured the essential structures in the data. Following validation, we proceeded to utilize the ARIMA model for forecasting future carbon prices, leveraging its capability to analyze and interpret underlying trends in the data over various forecasting horizons. This methodological framework underpins our analysis and forecasts presented herein."
   ]
  },
  {
   "cell_type": "markdown",
   "id": "c71a86b8",
   "metadata": {},
   "source": [
    "## 3.2 Random Forest"
   ]
  },
  {
   "cell_type": "markdown",
   "id": "153b824b",
   "metadata": {},
   "source": [
    "In this study, the Random Forest (RF) methodology was employed as the second ensemble-based predictive model for forecasting carbon prices. Random Forest is a form of the ensemble method known as Bagging, or Bootstrap Aggregating, which operates on the principle of creating multiple datasets from the original training set through bootstrap sampling. This sampling technique involves random selection with replacement, resulting in subsets where individual instances may repeat or be excluded."
   ]
  },
  {
   "cell_type": "markdown",
   "id": "3914932e",
   "metadata": {},
   "source": [
    "Renowned for its robustness, the Random Forest is inherently adept at handling large, high-dimensional datasets and mitigating overfitting—a common pitfall in complex models. The ensemble nature of Random Forest, where multiple decision trees vote on the outcome, reduces variance and enhances performance stability. Nonetheless, it may incur considerable computational expense, particularly with a large number of trees, and can be less interpretable due to its ensemble complexity."
   ]
  },
  {
   "cell_type": "markdown",
   "id": "7e07f7af",
   "metadata": {},
   "source": [
    "Implementation within this study followed a systematic approach: An ensemble of decision trees was constructed, each predicated on a distinct bootstrap sample. Key parameters, such as the number of trees (denoted as n_estimators in machine learning frameworks), maximum depth, and the number of features considered at each split, were meticulously calibrated. The decision trees were trained individually, allowing the model to capture complex, nonlinear relationships without relying on a single overarching trend. For the predictive phase, the Random Forest aggregated outputs from individual trees. In regression tasks, such as the prediction of carbon prices, the ensemble's prediction corresponds to the average of the outputs, thereby converging towards a central tendency."
   ]
  },
  {
   "cell_type": "markdown",
   "id": "8c0f9549",
   "metadata": {},
   "source": [
    "## 3.3 LSTM Model"
   ]
  },
  {
   "cell_type": "markdown",
   "id": "7e3bdceb",
   "metadata": {},
   "source": [
    "Long-Shot Term memory is a type of recurrent neural network used in commonly used in price prediction and sentiment analysis. The concept of LSTM is proposed in 1997 by Sepp Hochreiter as a solution to the vanishing gradient problem faced by recurrent neural networks(Hochreiter & Schmidhuber, 1997). The vanishing gradient problem is when the weights of earlier layers getting barely adjusted during the process of backpropagation, leading to the earlier layers of the neural network unable to learn anything. This results in the Recurrent Neural networks being incapable of recognizing long-term dependencies, making them suboptimal for analyzing complex problems."
   ]
  },
  {
   "cell_type": "markdown",
   "id": "395f72c9",
   "metadata": {},
   "source": [
    "LSTM is a special type of recurrent neural network where the hidden layers are replaced by LSTM cells. For each LSTM cell, two states are transferred to the next cell: the cell state and the hidden state. Each LSTM cell determines what information in the cell state to modify by using three gates: the forget gate, the input gate, and the output gate. \n",
    "The mathematical structure of LSTM:\n",
    "$$\n",
    "f_t = \\sigma(W_f \\cdot [h_{t-1}, x_t] + b_f)\n",
    "$$\n",
    "$$\n",
    "i_t = \\sigma(W_i \\cdot [h_{t-1}, x_t] + b_i)\n",
    "$$\n",
    "$$\n",
    "o_t = \\sigma(W_o \\cdot [h_{t-1}, x_t] + b_o)\n",
    "$$\n",
    "$$\n",
    "c_t = \\tanh(W_c \\cdot [h_{t-1}, x_t] + b_c)\n",
    "$$\n",
    "$$\n",
    "h_t = o_t \\ast \\tanh(c_t)\n",
    "$$"
   ]
  },
  {
   "cell_type": "markdown",
   "id": "d2c9e505",
   "metadata": {},
   "source": [
    "The forget gate $f_t$ regulates the removal of information from the cell state. It takes in the previous hidden state $h_{t-1}$ and the current input $x_t$ and outputs a value between 0 and 1 using a sigmoid function. The closer to zero the output is, the more the cell state information is forgotten. The input gate $i_t$ takes decides what information to store into the cell state. The input gate $i_t$ takes the previous hidden state $h_{t-1}$ and the current input $x_t$ and passes them into the sigmoid function and tanh function, respectively, multiplying the result and adding it into the cell state $c_t$."
   ]
  },
  {
   "cell_type": "markdown",
   "id": "f8401b30",
   "metadata": {},
   "source": [
    "The output gate $o_t$ determines what information to pass into the next hidden state. The decision is multiplied with the current cell state and passed onto the next LSTM cell as the hidden state. The sigmoid and tanh function serve as activation functions, preventing the input and output from getting bigger than one or negative one, and exploding or vanishing due to exponential growth or decay."
   ]
  },
  {
   "cell_type": "markdown",
   "id": "0ede4e4a",
   "metadata": {},
   "source": [
    "# Section IV Data and Descriptive Statistics"
   ]
  },
  {
   "cell_type": "code",
   "execution_count": 2,
   "id": "4160a0fe",
   "metadata": {},
   "outputs": [],
   "source": [
    "carbon_price_url = 'https://raw.githubusercontent.com/Erica-zya/Honor-Thesis/main/Data/Data_New/Daily%20Carbon%20Price.csv'\n",
    "carbon_price = pd.read_csv(carbon_price_url, header=0)\n",
    "carbon_price['Date'] = pd.to_datetime(carbon_price['Date'])\n",
    "\n",
    "energy_price_url = 'https://raw.githubusercontent.com/Erica-zya/Honor-Thesis/main/Data/Data_New/Daily%20Energy.csv'\n",
    "energy_price = pd.read_csv(energy_price_url, header=0)\n",
    "energy_price['Date'] = pd.to_datetime(energy_price['Date'])\n",
    "\n",
    "policy_url = 'https://raw.githubusercontent.com/Erica-zya/Honor-Thesis/main/Data/Data_New/Daily%20Policy.csv'\n",
    "policy = pd.read_csv(policy_url, header=0)\n",
    "policy['Date'] = pd.to_datetime(policy['Date'])\n",
    "\n",
    "market_url = 'https://raw.githubusercontent.com/Erica-zya/Honor-Thesis/main/Data/Data_New/Daily%20Market.csv'\n",
    "market = pd.read_csv(market_url, header=0)\n",
    "market['Date'] = pd.to_datetime(market['Date'])\n",
    "\n",
    "weather_url = 'https://raw.githubusercontent.com/Erica-zya/Honor-Thesis/main/Data/Data_New/Daily%20Weather.csv'\n",
    "weather = pd.read_csv(weather_url, header=0)\n",
    "weather['Date'] = pd.to_datetime(weather['Date'])\n",
    "\n",
    "# Perform the merges\n",
    "df = pd.merge(carbon_price, energy_price, on='Date', how='inner')\n",
    "df = pd.merge(df, policy, on='Date', how='inner')\n",
    "df = pd.merge(df, market, on='Date', how='inner')\n",
    "df = pd.merge(df, weather, on='Date', how='inner')\n",
    "df = df.dropna()"
   ]
  },
  {
   "cell_type": "code",
   "execution_count": 3,
   "id": "66196a66",
   "metadata": {},
   "outputs": [],
   "source": [
    "df = df.sort_values(by=['Date'])"
   ]
  },
  {
   "cell_type": "code",
   "execution_count": 4,
   "id": "f0aeda3f",
   "metadata": {
    "scrolled": true
   },
   "outputs": [
    {
     "data": {
      "text/html": [
       "<div>\n",
       "<style scoped>\n",
       "    .dataframe tbody tr th:only-of-type {\n",
       "        vertical-align: middle;\n",
       "    }\n",
       "\n",
       "    .dataframe tbody tr th {\n",
       "        vertical-align: top;\n",
       "    }\n",
       "\n",
       "    .dataframe thead th {\n",
       "        text-align: right;\n",
       "    }\n",
       "</style>\n",
       "<table border=\"1\" class=\"dataframe\">\n",
       "  <thead>\n",
       "    <tr style=\"text-align: right;\">\n",
       "      <th></th>\n",
       "      <th>Date</th>\n",
       "      <th>Carbon</th>\n",
       "      <th>Coal</th>\n",
       "      <th>Crude Oil</th>\n",
       "      <th>Natural Gas</th>\n",
       "      <th>Fit_for_55</th>\n",
       "      <th>Law</th>\n",
       "      <th>Compromise</th>\n",
       "      <th>EPU</th>\n",
       "      <th>DAX</th>\n",
       "      <th>SPGTCLNT</th>\n",
       "      <th>FTMIB</th>\n",
       "      <th>CAC40</th>\n",
       "      <th>AEX</th>\n",
       "      <th>STOXX</th>\n",
       "      <th>Temperature</th>\n",
       "      <th>Precipitation</th>\n",
       "      <th>Solar Energy</th>\n",
       "      <th>Wind Speed</th>\n",
       "    </tr>\n",
       "  </thead>\n",
       "  <tbody>\n",
       "    <tr>\n",
       "      <th>1122</th>\n",
       "      <td>2021-01-04</td>\n",
       "      <td>33.89</td>\n",
       "      <td>69.30</td>\n",
       "      <td>51.09</td>\n",
       "      <td>19.845</td>\n",
       "      <td>0</td>\n",
       "      <td>0</td>\n",
       "      <td>0</td>\n",
       "      <td>231.37864</td>\n",
       "      <td>13726.74</td>\n",
       "      <td>2342.44</td>\n",
       "      <td>22315.87</td>\n",
       "      <td>5588.96</td>\n",
       "      <td>631.03</td>\n",
       "      <td>401.69</td>\n",
       "      <td>2.8</td>\n",
       "      <td>0.170</td>\n",
       "      <td>0.8</td>\n",
       "      <td>9.6</td>\n",
       "    </tr>\n",
       "    <tr>\n",
       "      <th>1121</th>\n",
       "      <td>2021-01-05</td>\n",
       "      <td>33.15</td>\n",
       "      <td>64.90</td>\n",
       "      <td>53.60</td>\n",
       "      <td>18.005</td>\n",
       "      <td>0</td>\n",
       "      <td>0</td>\n",
       "      <td>0</td>\n",
       "      <td>231.37864</td>\n",
       "      <td>13651.22</td>\n",
       "      <td>2390.04</td>\n",
       "      <td>22200.60</td>\n",
       "      <td>5564.60</td>\n",
       "      <td>633.62</td>\n",
       "      <td>400.94</td>\n",
       "      <td>2.7</td>\n",
       "      <td>0.012</td>\n",
       "      <td>0.6</td>\n",
       "      <td>9.4</td>\n",
       "    </tr>\n",
       "    <tr>\n",
       "      <th>1120</th>\n",
       "      <td>2021-01-06</td>\n",
       "      <td>33.83</td>\n",
       "      <td>64.25</td>\n",
       "      <td>54.30</td>\n",
       "      <td>17.565</td>\n",
       "      <td>0</td>\n",
       "      <td>0</td>\n",
       "      <td>0</td>\n",
       "      <td>231.37864</td>\n",
       "      <td>13891.97</td>\n",
       "      <td>2518.59</td>\n",
       "      <td>22734.32</td>\n",
       "      <td>5630.60</td>\n",
       "      <td>639.16</td>\n",
       "      <td>406.41</td>\n",
       "      <td>3.2</td>\n",
       "      <td>0.047</td>\n",
       "      <td>0.6</td>\n",
       "      <td>8.2</td>\n",
       "    </tr>\n",
       "    <tr>\n",
       "      <th>1119</th>\n",
       "      <td>2021-01-07</td>\n",
       "      <td>34.97</td>\n",
       "      <td>66.60</td>\n",
       "      <td>54.38</td>\n",
       "      <td>19.305</td>\n",
       "      <td>0</td>\n",
       "      <td>0</td>\n",
       "      <td>0</td>\n",
       "      <td>231.37864</td>\n",
       "      <td>13968.24</td>\n",
       "      <td>2692.75</td>\n",
       "      <td>22746.08</td>\n",
       "      <td>5669.85</td>\n",
       "      <td>637.41</td>\n",
       "      <td>408.49</td>\n",
       "      <td>2.8</td>\n",
       "      <td>0.125</td>\n",
       "      <td>1.6</td>\n",
       "      <td>7.1</td>\n",
       "    </tr>\n",
       "    <tr>\n",
       "      <th>1118</th>\n",
       "      <td>2021-01-08</td>\n",
       "      <td>35.14</td>\n",
       "      <td>68.50</td>\n",
       "      <td>55.99</td>\n",
       "      <td>20.120</td>\n",
       "      <td>0</td>\n",
       "      <td>0</td>\n",
       "      <td>0</td>\n",
       "      <td>231.37864</td>\n",
       "      <td>14049.53</td>\n",
       "      <td>2720.79</td>\n",
       "      <td>22793.94</td>\n",
       "      <td>5706.88</td>\n",
       "      <td>645.60</td>\n",
       "      <td>411.17</td>\n",
       "      <td>2.2</td>\n",
       "      <td>0.082</td>\n",
       "      <td>2.2</td>\n",
       "      <td>5.6</td>\n",
       "    </tr>\n",
       "  </tbody>\n",
       "</table>\n",
       "</div>"
      ],
      "text/plain": [
       "           Date  Carbon   Coal  Crude Oil  Natural Gas  Fit_for_55  Law  \\\n",
       "1122 2021-01-04   33.89  69.30      51.09       19.845           0    0   \n",
       "1121 2021-01-05   33.15  64.90      53.60       18.005           0    0   \n",
       "1120 2021-01-06   33.83  64.25      54.30       17.565           0    0   \n",
       "1119 2021-01-07   34.97  66.60      54.38       19.305           0    0   \n",
       "1118 2021-01-08   35.14  68.50      55.99       20.120           0    0   \n",
       "\n",
       "      Compromise        EPU       DAX  SPGTCLNT     FTMIB    CAC40     AEX  \\\n",
       "1122           0  231.37864  13726.74   2342.44  22315.87  5588.96  631.03   \n",
       "1121           0  231.37864  13651.22   2390.04  22200.60  5564.60  633.62   \n",
       "1120           0  231.37864  13891.97   2518.59  22734.32  5630.60  639.16   \n",
       "1119           0  231.37864  13968.24   2692.75  22746.08  5669.85  637.41   \n",
       "1118           0  231.37864  14049.53   2720.79  22793.94  5706.88  645.60   \n",
       "\n",
       "       STOXX  Temperature  Precipitation  Solar Energy  Wind Speed  \n",
       "1122  401.69          2.8          0.170           0.8         9.6  \n",
       "1121  400.94          2.7          0.012           0.6         9.4  \n",
       "1120  406.41          3.2          0.047           0.6         8.2  \n",
       "1119  408.49          2.8          0.125           1.6         7.1  \n",
       "1118  411.17          2.2          0.082           2.2         5.6  "
      ]
     },
     "execution_count": 4,
     "metadata": {},
     "output_type": "execute_result"
    }
   ],
   "source": [
    "df.head()"
   ]
  },
  {
   "cell_type": "code",
   "execution_count": 5,
   "id": "7c36dcd4",
   "metadata": {},
   "outputs": [
    {
     "data": {
      "text/plain": [
       "763"
      ]
     },
     "execution_count": 5,
     "metadata": {},
     "output_type": "execute_result"
    }
   ],
   "source": [
    "df['Carbon'].count()"
   ]
  },
  {
   "cell_type": "markdown",
   "id": "ccc3c20d",
   "metadata": {},
   "source": [
    "In the analysis of carbon pricing trends within the European Union's Emissions Trading System (EU ETS), this study draws upon a meticulously compiled dataset encompassing the period from January 1, 2021, to January 31, 2024. During this time frame, a total of 763 data points were collected, providing a granular view of carbon price movements. The carbon price data, sourced from Investing.com, is critical for understanding the economic implications of regulatory shifts and market dynamics under the EU's climate policy framework."
   ]
  },
  {
   "cell_type": "markdown",
   "id": "ad7cba49",
   "metadata": {},
   "source": [
    "This timeframe is deliberately aligned with the initiation of Phase 4 of the European Union's Emissions Trading System (EU ETS), marking a significant transition from the system's previous phases. The focus on this specific period is due to the substantial regulatory shifts introduced in Phase 4, which differ markedly from the earlier phases in terms of emissions reduction targets and allowance allocation mechanisms."
   ]
  },
  {
   "cell_type": "markdown",
   "id": "1a8ad47b",
   "metadata": {},
   "source": [
    "Notably, in Phase 3 of the EU ETS (2013-2020), the Union-wide cap for stationary installations was subject to an annual decrease by a linear reduction factor of 1.74%, with the 2013 cap determined based on the average total quantity of allowances issued annually during 2008-2012. Conversely, Phase 4 (2021-2030) introduces a more aggressive approach to emissions reduction, with the cap on emissions decreasing annually at an increased linear reduction factor of 2.2%. This heightened ambition reflects the EU's commitment to achieving more substantial emissions reductions and necessitates an in-depth analysis of carbon pricing trends under the new regulatory framework. The study aims to isolate the impacts of these changes on carbon pricing, underscoring the importance of understanding the dynamics introduced by Phase 4's enhanced regulatory measures."
   ]
  },
  {
   "cell_type": "code",
   "execution_count": 6,
   "id": "c7c5e891",
   "metadata": {
    "scrolled": false
   },
   "outputs": [
    {
     "data": {
      "image/png": "[encoded data removed]",
      "text/plain": [
       "<Figure size 720x432 with 1 Axes>"
      ]
     },
     "metadata": {
      "needs_background": "light"
     },
     "output_type": "display_data"
    }
   ],
   "source": [
    "plt.figure(figsize=(10, 6))\n",
    "plt.plot(df['Date'], df['Carbon'], marker='o', markersize=1, linestyle='-')\n",
    "plt.title('Carbon Price Over Time')\n",
    "plt.xlabel('Date')\n",
    "plt.ylabel('Price')\n",
    "plt.xticks(rotation=45)  # Rotate x-axis labels for better readability\n",
    "plt.grid(True)\n",
    "plt.tight_layout()\n",
    "plt.show()"
   ]
  },
  {
   "cell_type": "code",
   "execution_count": 7,
   "id": "974f369e",
   "metadata": {
    "scrolled": false
   },
   "outputs": [
    {
     "name": "stdout",
     "output_type": "stream",
     "text": [
      "Carbon\n",
      "Mean: 72.98309305373526\n",
      "Variance: 270.6564305779435\n",
      "Standard Deviation: 16.45163914562751\n",
      "Maximum: 98.01\n",
      "Minimum: 31.96\n",
      "\n",
      "Coal\n",
      "Mean: 176.4729357798164\n",
      "Variance: 8734.749716041804\n",
      "Standard Deviation: 93.459882923326\n",
      "Maximum: 439.0\n",
      "Minimum: 63.75\n",
      "\n",
      "Crude Oil\n",
      "Mean: 83.81741808650057\n",
      "Variance: 203.24808426985655\n",
      "Standard Deviation: 14.256510241635452\n",
      "Maximum: 127.98\n",
      "Minimum: 51.09\n",
      "\n",
      "Natural Gas\n",
      "Mean: 72.44877326343381\n",
      "Variance: 2982.6553067792283\n",
      "Standard Deviation: 54.61369156886603\n",
      "Maximum: 339.195\n",
      "Minimum: 15.525\n",
      "\n",
      "Fit_for_55\n",
      "Mean: 0.8296199213630406\n",
      "Variance: 0.14153620705668177\n",
      "Standard Deviation: 0.376212980978437\n",
      "Maximum: 1\n",
      "Minimum: 0\n",
      "\n",
      "Law\n",
      "Mean: 0.21756225425950196\n",
      "Variance: 0.1704523173135469\n",
      "Standard Deviation: 0.4128587135008136\n",
      "Maximum: 1\n",
      "Minimum: 0\n",
      "\n",
      "Compromise\n",
      "Mean: 0.24508519003931847\n",
      "Variance: 0.18526124601397334\n",
      "Standard Deviation: 0.43041984853625576\n",
      "Maximum: 1\n",
      "Minimum: 0\n",
      "\n",
      "EPU\n",
      "Mean: 276.8771762858453\n",
      "Variance: 4871.8912743413875\n",
      "Standard Deviation: 69.79893462182204\n",
      "Maximum: 418.6188409\n",
      "Minimum: 141.3860555\n",
      "\n",
      "DAX\n",
      "Mean: 14980.426762778503\n",
      "Variance: 1171893.547405912\n",
      "Standard Deviation: 1082.540321376489\n",
      "Maximum: 16972.34\n",
      "Minimum: 11975.55\n",
      "\n",
      "SPGTCLNT\n",
      "Mean: 1699.2062123197886\n",
      "Variance: 87424.63869495211\n",
      "Standard Deviation: 295.6765778599179\n",
      "Maximum: 2720.79\n",
      "Minimum: 1088.34\n",
      "\n",
      "FTMIB\n",
      "Mean: 25692.047509829616\n",
      "Variance: 5831316.844890379\n",
      "Standard Deviation: 2414.811968847757\n",
      "Maximum: 30744.24\n",
      "Minimum: 20352.98\n",
      "\n",
      "CAC40\n",
      "Mean: 6722.626304062912\n",
      "Variance: 276824.6059758235\n",
      "Standard Deviation: 526.1412414702191\n",
      "Maximum: 7677.47\n",
      "Minimum: 5399.21\n",
      "\n",
      "AEX\n",
      "Mean: 732.6947051114021\n",
      "Variance: 2022.5656593289414\n",
      "Standard Deviation: 44.97294363646815\n",
      "Maximum: 827.57\n",
      "Minimum: 630.58\n",
      "\n",
      "STOXX\n",
      "Mean: 448.01124508519024\n",
      "Variance: 525.1235786314548\n",
      "Standard Deviation: 22.915575022928287\n",
      "Maximum: 494.35\n",
      "Minimum: 382.89\n",
      "\n",
      "Temperature\n",
      "Mean: 12.942463958060298\n",
      "Variance: 44.03102909154707\n",
      "Standard Deviation: 6.635588074281515\n",
      "Maximum: 31.1\n",
      "Minimum: -3.2\n",
      "\n",
      "Precipitation\n",
      "Mean: 1.5343958060288319\n",
      "Variance: 16.386130976990245\n",
      "Standard Deviation: 4.047978628524396\n",
      "Maximum: 36.032\n",
      "Minimum: 0.0\n",
      "\n",
      "Solar Energy\n",
      "Mean: 6.754128440366975\n",
      "Variance: 34.61983529581735\n",
      "Standard Deviation: 5.883862277094643\n",
      "Maximum: 27.1\n",
      "Minimum: 0.1\n",
      "\n",
      "Wind Speed\n",
      "Mean: 11.391743119266046\n",
      "Variance: 14.595351681957183\n",
      "Standard Deviation: 3.820386326270837\n",
      "Maximum: 30.7\n",
      "Minimum: 3.8\n",
      "\n"
     ]
    }
   ],
   "source": [
    "for column_name in df.columns[1:]:\n",
    "    column = df[column_name]\n",
    "    mean = column.mean()\n",
    "    variance = column.var()\n",
    "    sd = column.std()\n",
    "    max_value = column.max()\n",
    "    min_value = column.min()\n",
    "    \n",
    "    print(column_name)\n",
    "    print(\"Mean:\", mean)\n",
    "    print(\"Variance:\", variance)\n",
    "    print(\"Standard Deviation:\", sd)\n",
    "    print(\"Maximum:\", max_value)\n",
    "    print(\"Minimum:\", min_value)\n",
    "    print()"
   ]
  },
  {
   "cell_type": "markdown",
   "id": "319703dc",
   "metadata": {},
   "source": [
    "The descriptive statistics of our dataset from January 2021 to January 2024 reveal the carbon price's behavior during the EU ETS Phase 4, with a mean value of €72.98 and standard deviation indicating market volatility. The time series plot underscores these price fluctuations over the 763 observations. Complementing this, we observed varied patterns in related energy commodities and European stock indices, alongside weather variables that could influence emission levels and carbon market dynamics, all of which will be explored further in our econometric analysis."
   ]
  },
  {
   "cell_type": "markdown",
   "id": "1da345fc",
   "metadata": {},
   "source": [
    "# Section V Forcasting of Carbon Price"
   ]
  },
  {
   "cell_type": "markdown",
   "id": "81a3b932",
   "metadata": {},
   "source": [
    "## 5.1 Evaluation Criteria"
   ]
  },
  {
   "cell_type": "markdown",
   "id": "ef82169d",
   "metadata": {},
   "source": [
    "## 5.2 Parameter Determination"
   ]
  },
  {
   "cell_type": "markdown",
   "id": "70426b95",
   "metadata": {},
   "source": [
    "### AR Model"
   ]
  },
  {
   "cell_type": "markdown",
   "id": "e55f0cb2",
   "metadata": {},
   "source": [
    "##### AR(1)"
   ]
  },
  {
   "cell_type": "code",
   "execution_count": 8,
   "id": "b2c8edf8",
   "metadata": {},
   "outputs": [
    {
     "name": "stdout",
     "output_type": "stream",
     "text": [
      "                            AutoReg Model Results                             \n",
      "==============================================================================\n",
      "Dep. Variable:                 Carbon   No. Observations:                  763\n",
      "Model:                     AutoReg(1)   Log Likelihood               -1631.975\n",
      "Method:               Conditional MLE   S.D. of innovations              2.060\n",
      "Date:                Tue, 16 Apr 2024   AIC                              1.453\n",
      "Time:                        08:49:54   BIC                              1.472\n",
      "Sample:                             1   HQIC                             1.460\n",
      "                                  763                                         \n",
      "==============================================================================\n",
      "                 coef    std err          z      P>|z|      [0.025      0.975]\n",
      "------------------------------------------------------------------------------\n",
      "intercept      0.8752      0.339      2.578      0.010       0.210       1.541\n",
      "Carbon.L1      0.9886      0.005    217.881      0.000       0.980       0.997\n",
      "                                    Roots                                    \n",
      "=============================================================================\n",
      "                  Real          Imaginary           Modulus         Frequency\n",
      "-----------------------------------------------------------------------------\n",
      "AR.1            1.0116           +0.0000j            1.0116            0.0000\n",
      "-----------------------------------------------------------------------------\n"
     ]
    },
    {
     "name": "stderr",
     "output_type": "stream",
     "text": [
      "C:\\Users\\Erica Zhao\\anaconda3\\lib\\site-packages\\statsmodels\\tsa\\base\\tsa_model.py:578: ValueWarning: An unsupported index was provided and will be ignored when e.g. forecasting.\n",
      "  warnings.warn('An unsupported index was provided and will be'\n",
      "C:\\Users\\Erica Zhao\\anaconda3\\lib\\site-packages\\statsmodels\\tsa\\ar_model.py:248: FutureWarning: The parameter names will change after 0.12 is released. Set old_names to False to use the new names now. Set old_names to True to use the old names. \n",
      "  warnings.warn(\n"
     ]
    }
   ],
   "source": [
    "y = df['Carbon']\n",
    "\n",
    "modelAR1 = AutoReg(y, lags=1)\n",
    "resultAR1 = modelAR1.fit()\n",
    "\n",
    "print(resultAR1.summary())"
   ]
  },
  {
   "cell_type": "code",
   "execution_count": 9,
   "id": "e16b3184",
   "metadata": {},
   "outputs": [
    {
     "name": "stdout",
     "output_type": "stream",
     "text": [
      "ADF Statistic: -2.496120\n",
      "p-value: 0.116421\n",
      "Critical Values:\n",
      "\t1%: -3.439\n",
      "\t5%: -2.865\n",
      "\t10%: -2.569\n"
     ]
    }
   ],
   "source": [
    "adf_result = adfuller(y)\n",
    "\n",
    "print('ADF Statistic: %f' % adf_result[0])\n",
    "print('p-value: %f' % adf_result[1])\n",
    "print('Critical Values:')\n",
    "for key, value in adf_result[4].items():\n",
    "    print('\\t%s: %.3f' % (key, value))"
   ]
  },
  {
   "cell_type": "code",
   "execution_count": 10,
   "id": "ed7519af",
   "metadata": {},
   "outputs": [
    {
     "name": "stdout",
     "output_type": "stream",
     "text": [
      "                            AutoReg Model Results                             \n",
      "==============================================================================\n",
      "Dep. Variable:                 Carbon   No. Observations:                  762\n",
      "Model:                     AutoReg(1)   Log Likelihood               -1632.661\n",
      "Method:               Conditional MLE   S.D. of innovations              2.068\n",
      "Date:                Tue, 16 Apr 2024   AIC                              1.461\n",
      "Time:                        08:49:54   BIC                              1.479\n",
      "Sample:                             1   HQIC                             1.468\n",
      "                                  762                                         \n",
      "==============================================================================\n",
      "                 coef    std err          z      P>|z|      [0.025      0.975]\n",
      "------------------------------------------------------------------------------\n",
      "intercept      0.0428      0.075      0.571      0.568      -0.104       0.190\n",
      "Carbon.L1     -0.0448      0.036     -1.236      0.216      -0.116       0.026\n",
      "                                    Roots                                    \n",
      "=============================================================================\n",
      "                  Real          Imaginary           Modulus         Frequency\n",
      "-----------------------------------------------------------------------------\n",
      "AR.1          -22.3434           +0.0000j           22.3434            0.5000\n",
      "-----------------------------------------------------------------------------\n"
     ]
    },
    {
     "name": "stderr",
     "output_type": "stream",
     "text": [
      "C:\\Users\\Erica Zhao\\anaconda3\\lib\\site-packages\\statsmodels\\tsa\\base\\tsa_model.py:578: ValueWarning: An unsupported index was provided and will be ignored when e.g. forecasting.\n",
      "  warnings.warn('An unsupported index was provided and will be'\n",
      "C:\\Users\\Erica Zhao\\anaconda3\\lib\\site-packages\\statsmodels\\tsa\\ar_model.py:248: FutureWarning: The parameter names will change after 0.12 is released. Set old_names to False to use the new names now. Set old_names to True to use the old names. \n",
      "  warnings.warn(\n"
     ]
    }
   ],
   "source": [
    "y_diff = y.diff().dropna()\n",
    "\n",
    "\n",
    "modelAR1_diff = AutoReg(y_diff, lags=1)\n",
    "resultAR1_diff = modelAR1_diff.fit()\n",
    "\n",
    "print(resultAR1_diff.summary())"
   ]
  },
  {
   "cell_type": "markdown",
   "id": "fd20b634",
   "metadata": {},
   "source": [
    "##### AR(2)"
   ]
  },
  {
   "cell_type": "code",
   "execution_count": 11,
   "id": "929d4adb",
   "metadata": {
    "scrolled": false
   },
   "outputs": [
    {
     "name": "stdout",
     "output_type": "stream",
     "text": [
      "                            AutoReg Model Results                             \n",
      "==============================================================================\n",
      "Dep. Variable:                 Carbon   No. Observations:                  763\n",
      "Model:                     AutoReg(2)   Log Likelihood               -1629.492\n",
      "Method:               Conditional MLE   S.D. of innovations              2.059\n",
      "Date:                Tue, 16 Apr 2024   AIC                              1.455\n",
      "Time:                        08:49:54   BIC                              1.479\n",
      "Sample:                             2   HQIC                             1.465\n",
      "                                  763                                         \n",
      "==============================================================================\n",
      "                 coef    std err          z      P>|z|      [0.025      0.975]\n",
      "------------------------------------------------------------------------------\n",
      "intercept      0.8821      0.341      2.587      0.010       0.214       1.550\n",
      "Carbon.L1      0.9469      0.036     26.151      0.000       0.876       1.018\n",
      "Carbon.L2      0.0416      0.036      1.152      0.249      -0.029       0.112\n",
      "                                    Roots                                    \n",
      "=============================================================================\n",
      "                  Real          Imaginary           Modulus         Frequency\n",
      "-----------------------------------------------------------------------------\n",
      "AR.1            1.0112           +0.0000j            1.0112            0.0000\n",
      "AR.2          -23.7929           +0.0000j           23.7929            0.5000\n",
      "-----------------------------------------------------------------------------\n"
     ]
    },
    {
     "name": "stderr",
     "output_type": "stream",
     "text": [
      "C:\\Users\\Erica Zhao\\anaconda3\\lib\\site-packages\\statsmodels\\tsa\\base\\tsa_model.py:578: ValueWarning: An unsupported index was provided and will be ignored when e.g. forecasting.\n",
      "  warnings.warn('An unsupported index was provided and will be'\n",
      "C:\\Users\\Erica Zhao\\anaconda3\\lib\\site-packages\\statsmodels\\tsa\\ar_model.py:248: FutureWarning: The parameter names will change after 0.12 is released. Set old_names to False to use the new names now. Set old_names to True to use the old names. \n",
      "  warnings.warn(\n"
     ]
    }
   ],
   "source": [
    "modelAR2 = AutoReg(y, lags=2)\n",
    "resultAR2 = modelAR2.fit()\n",
    "\n",
    "print(resultAR2.summary())"
   ]
  },
  {
   "cell_type": "code",
   "execution_count": 12,
   "id": "94255166",
   "metadata": {},
   "outputs": [
    {
     "name": "stdout",
     "output_type": "stream",
     "text": [
      "ADF Statistic: -23.224452\n",
      "p-value: 0.000000\n",
      "Critical Values:\n",
      "\t1%: -3.443\n",
      "\t5%: -2.867\n",
      "\t10%: -2.570\n"
     ]
    }
   ],
   "source": [
    "residuals = resultAR2.resid\n",
    "\n",
    "if np.isnan(residuals).any() or np.isinf(residuals).any():\n",
    "    residuals = residuals[~(np.isnan(residuals) | np.isinf(residuals))]\n",
    "\n",
    "adf_test = adfuller(residuals)\n",
    "\n",
    "print('ADF Statistic: %f' % adf_test[0])\n",
    "print('p-value: %f' % adf_test[1])\n",
    "print('Critical Values:')\n",
    "for key, value in adf_test[4].items():\n",
    "    print('\\t%s: %.3f' % (key, value))\n"
   ]
  },
  {
   "cell_type": "markdown",
   "id": "09724253",
   "metadata": {},
   "source": [
    "### ARIMA Model"
   ]
  },
  {
   "cell_type": "code",
   "execution_count": 13,
   "id": "07f6ab18",
   "metadata": {},
   "outputs": [],
   "source": [
    "X = df.drop(columns=['Date','Carbon'])\n",
    "_y = df['Carbon']"
   ]
  },
  {
   "cell_type": "code",
   "execution_count": 14,
   "id": "5a02a1a0",
   "metadata": {
    "scrolled": true
   },
   "outputs": [
    {
     "data": {
      "text/plain": [
       "<Figure size 720x432 with 0 Axes>"
      ]
     },
     "metadata": {},
     "output_type": "display_data"
    },
    {
     "data": {
      "image/png": "[encoded data removed]",
      "text/plain": [
       "<Figure size 432x288 with 1 Axes>"
      ]
     },
     "metadata": {
      "needs_background": "light"
     },
     "output_type": "display_data"
    }
   ],
   "source": [
    "plt.figure(figsize=(10, 6))\n",
    "plot_acf(df['Carbon'], lags=5, alpha=0.05)\n",
    "plt.title('Autocorrelation Function for Carbon Price')\n",
    "plt.show()"
   ]
  },
  {
   "cell_type": "code",
   "execution_count": 15,
   "id": "7c51f4c4",
   "metadata": {
    "scrolled": true
   },
   "outputs": [
    {
     "data": {
      "text/plain": [
       "<Figure size 720x432 with 0 Axes>"
      ]
     },
     "metadata": {},
     "output_type": "display_data"
    },
    {
     "data": {
      "image/png": "[encoded data removed]",
      "text/plain": [
       "<Figure size 432x288 with 1 Axes>"
      ]
     },
     "metadata": {
      "needs_background": "light"
     },
     "output_type": "display_data"
    }
   ],
   "source": [
    "plt.figure(figsize=(10, 6))\n",
    "plot_pacf(_y, lags=5, alpha=0.05)\n",
    "plt.title('Partial Autocorrelation Function')\n",
    "plt.show()"
   ]
  },
  {
   "cell_type": "markdown",
   "id": "35ad24d1",
   "metadata": {},
   "source": [
    "##### ARIMA(1,0,0)"
   ]
  },
  {
   "cell_type": "code",
   "execution_count": 16,
   "id": "15a84a8c",
   "metadata": {},
   "outputs": [
    {
     "name": "stderr",
     "output_type": "stream",
     "text": [
      "C:\\Users\\Erica Zhao\\anaconda3\\lib\\site-packages\\statsmodels\\tsa\\base\\tsa_model.py:578: ValueWarning: An unsupported index was provided and will be ignored when e.g. forecasting.\n",
      "  warnings.warn('An unsupported index was provided and will be'\n",
      "C:\\Users\\Erica Zhao\\anaconda3\\lib\\site-packages\\statsmodels\\tsa\\base\\tsa_model.py:578: ValueWarning: An unsupported index was provided and will be ignored when e.g. forecasting.\n",
      "  warnings.warn('An unsupported index was provided and will be'\n",
      "C:\\Users\\Erica Zhao\\anaconda3\\lib\\site-packages\\statsmodels\\tsa\\base\\tsa_model.py:578: ValueWarning: An unsupported index was provided and will be ignored when e.g. forecasting.\n",
      "  warnings.warn('An unsupported index was provided and will be'\n"
     ]
    },
    {
     "name": "stdout",
     "output_type": "stream",
     "text": [
      "                               SARIMAX Results                                \n",
      "==============================================================================\n",
      "Dep. Variable:                 Carbon   No. Observations:                  763\n",
      "Model:                 ARIMA(1, 0, 0)   Log Likelihood               -1663.504\n",
      "Date:                Tue, 16 Apr 2024   AIC                           3367.008\n",
      "Time:                        08:49:57   BIC                           3459.753\n",
      "Sample:                             0   HQIC                          3402.716\n",
      "                                - 763                                         \n",
      "Covariance Type:                  opg                                         \n",
      "=================================================================================\n",
      "                    coef    std err          z      P>|z|      [0.025      0.975]\n",
      "---------------------------------------------------------------------------------\n",
      "const            17.3400     11.196      1.549      0.121      -4.605      39.284\n",
      "Coal             -0.0035      0.007     -0.502      0.616      -0.017       0.010\n",
      "Crude Oil         0.1825      0.041      4.474      0.000       0.103       0.262\n",
      "Natural Gas       0.0193      0.011      1.765      0.078      -0.002       0.041\n",
      "Fit_for_55        9.3797      0.882     10.639      0.000       7.652      11.108\n",
      "Law               2.9441      1.355      2.172      0.030       0.287       5.601\n",
      "Compromise       -2.2875      1.053     -2.172      0.030      -4.351      -0.224\n",
      "EPU              -0.0290      0.005     -5.945      0.000      -0.038      -0.019\n",
      "DAX              -0.0053      0.002     -2.750      0.006      -0.009      -0.002\n",
      "SPGTCLNT         -0.0030      0.003     -1.046      0.296      -0.009       0.003\n",
      "FTMIB            -0.0014      0.001     -1.847      0.065      -0.003    8.35e-05\n",
      "CAC40             0.0248      0.003      7.117      0.000       0.018       0.032\n",
      "AEX              -0.0345      0.029     -1.190      0.234      -0.091       0.022\n",
      "STOXX             0.0390      0.082      0.478      0.633      -0.121       0.199\n",
      "Temperature       0.0093      0.038      0.245      0.806      -0.065       0.084\n",
      "Precipitation     0.0125      0.020      0.632      0.528      -0.026       0.051\n",
      "Solar Energy     -0.0121      0.036     -0.333      0.739      -0.084       0.059\n",
      "Wind Speed       -0.0571      0.026     -2.176      0.030      -0.108      -0.006\n",
      "ar.L1             0.9111      0.012     75.296      0.000       0.887       0.935\n",
      "sigma2            5.3796      0.296     18.149      0.000       4.799       5.961\n",
      "===================================================================================\n",
      "Ljung-Box (L1) (Q):                   1.21   Jarque-Bera (JB):                85.75\n",
      "Prob(Q):                              0.27   Prob(JB):                         0.00\n",
      "Heteroskedasticity (H):               1.04   Skew:                            -0.22\n",
      "Prob(H) (two-sided):                  0.78   Kurtosis:                         4.58\n",
      "===================================================================================\n",
      "\n",
      "Warnings:\n",
      "[1] Covariance matrix calculated using the outer product of gradients (complex-step).\n"
     ]
    }
   ],
   "source": [
    "model_arima100 = ARIMA(_y, exog=X, order=(1,0,0))\n",
    "model_arima100_fit = model_arima100.fit()\n",
    "\n",
    "print(model_arima100_fit.summary())"
   ]
  },
  {
   "cell_type": "markdown",
   "id": "ddcbf0f0",
   "metadata": {},
   "source": [
    "##### ARIMA(1,0,1)"
   ]
  },
  {
   "cell_type": "code",
   "execution_count": 17,
   "id": "380015d7",
   "metadata": {
    "scrolled": false
   },
   "outputs": [
    {
     "name": "stderr",
     "output_type": "stream",
     "text": [
      "C:\\Users\\Erica Zhao\\anaconda3\\lib\\site-packages\\statsmodels\\tsa\\base\\tsa_model.py:578: ValueWarning: An unsupported index was provided and will be ignored when e.g. forecasting.\n",
      "  warnings.warn('An unsupported index was provided and will be'\n",
      "C:\\Users\\Erica Zhao\\anaconda3\\lib\\site-packages\\statsmodels\\tsa\\base\\tsa_model.py:578: ValueWarning: An unsupported index was provided and will be ignored when e.g. forecasting.\n",
      "  warnings.warn('An unsupported index was provided and will be'\n",
      "C:\\Users\\Erica Zhao\\anaconda3\\lib\\site-packages\\statsmodels\\tsa\\base\\tsa_model.py:578: ValueWarning: An unsupported index was provided and will be ignored when e.g. forecasting.\n",
      "  warnings.warn('An unsupported index was provided and will be'\n"
     ]
    },
    {
     "name": "stdout",
     "output_type": "stream",
     "text": [
      "                               SARIMAX Results                                \n",
      "==============================================================================\n",
      "Dep. Variable:                 Carbon   No. Observations:                  763\n",
      "Model:                 ARIMA(1, 0, 1)   Log Likelihood               -1681.078\n",
      "Date:                Tue, 16 Apr 2024   AIC                           3404.155\n",
      "Time:                        08:50:01   BIC                           3501.538\n",
      "Sample:                             0   HQIC                          3441.649\n",
      "                                - 763                                         \n",
      "Covariance Type:                  opg                                         \n",
      "=================================================================================\n",
      "                    coef    std err          z      P>|z|      [0.025      0.975]\n",
      "---------------------------------------------------------------------------------\n",
      "const            17.3399     10.929      1.587      0.113      -4.081      38.761\n",
      "Coal             -0.0206      0.007     -2.897      0.004      -0.035      -0.007\n",
      "Crude Oil         0.2966      0.040      7.462      0.000       0.219       0.375\n",
      "Natural Gas       0.0028      0.011      0.263      0.793      -0.018       0.024\n",
      "Fit_for_55        9.3800      0.914     10.265      0.000       7.589      11.171\n",
      "Law               2.9450      1.446      2.036      0.042       0.110       5.780\n",
      "Compromise       -2.2884      1.187     -1.928      0.054      -4.615       0.038\n",
      "EPU              -0.0158      0.005     -3.374      0.001      -0.025      -0.007\n",
      "DAX              -0.0044      0.002     -2.246      0.025      -0.008      -0.001\n",
      "SPGTCLNT         -0.0050      0.003     -1.700      0.089      -0.011       0.001\n",
      "FTMIB            -0.0021      0.001     -2.684      0.007      -0.004      -0.001\n",
      "CAC40             0.0297      0.003      8.666      0.000       0.023       0.036\n",
      "AEX              -0.0873      0.030     -2.884      0.004      -0.147      -0.028\n",
      "STOXX             0.0473      0.087      0.545      0.585      -0.123       0.217\n",
      "Temperature      -0.0031      0.039     -0.078      0.938      -0.080       0.074\n",
      "Precipitation     0.0314      0.019      1.660      0.097      -0.006       0.069\n",
      "Solar Energy      0.0500      0.039      1.298      0.194      -0.026       0.126\n",
      "Wind Speed        0.0078      0.028      0.281      0.779      -0.046       0.062\n",
      "ar.L1             0.9173      0.015     62.997      0.000       0.889       0.946\n",
      "ma.L1            -0.0358      0.042     -0.849      0.396      -0.118       0.047\n",
      "sigma2            5.6220      0.320     17.546      0.000       4.994       6.250\n",
      "===================================================================================\n",
      "Ljung-Box (L1) (Q):                   0.95   Jarque-Bera (JB):                68.24\n",
      "Prob(Q):                              0.33   Prob(JB):                         0.00\n",
      "Heteroskedasticity (H):               1.09   Skew:                            -0.24\n",
      "Prob(H) (two-sided):                  0.51   Kurtosis:                         4.39\n",
      "===================================================================================\n",
      "\n",
      "Warnings:\n",
      "[1] Covariance matrix calculated using the outer product of gradients (complex-step).\n"
     ]
    }
   ],
   "source": [
    "model_arima101 = ARIMA(_y, exog=X, order=(1,0,1))\n",
    "model_arima101_fit = model_arima101.fit()\n",
    "\n",
    "print(model_arima101_fit.summary())"
   ]
  },
  {
   "cell_type": "markdown",
   "id": "06700fde",
   "metadata": {},
   "source": [
    "##### ARIMA(1,1,0)"
   ]
  },
  {
   "cell_type": "code",
   "execution_count": 18,
   "id": "ac358426",
   "metadata": {},
   "outputs": [
    {
     "name": "stderr",
     "output_type": "stream",
     "text": [
      "C:\\Users\\Erica Zhao\\anaconda3\\lib\\site-packages\\statsmodels\\tsa\\base\\tsa_model.py:578: ValueWarning: An unsupported index was provided and will be ignored when e.g. forecasting.\n",
      "  warnings.warn('An unsupported index was provided and will be'\n",
      "C:\\Users\\Erica Zhao\\anaconda3\\lib\\site-packages\\statsmodels\\tsa\\base\\tsa_model.py:578: ValueWarning: An unsupported index was provided and will be ignored when e.g. forecasting.\n",
      "  warnings.warn('An unsupported index was provided and will be'\n",
      "C:\\Users\\Erica Zhao\\anaconda3\\lib\\site-packages\\statsmodels\\tsa\\base\\tsa_model.py:578: ValueWarning: An unsupported index was provided and will be ignored when e.g. forecasting.\n",
      "  warnings.warn('An unsupported index was provided and will be'\n"
     ]
    },
    {
     "name": "stdout",
     "output_type": "stream",
     "text": [
      "                               SARIMAX Results                                \n",
      "==============================================================================\n",
      "Dep. Variable:                 Carbon   No. Observations:                  763\n",
      "Model:                 ARIMA(1, 1, 0)   Log Likelihood               -1587.702\n",
      "Date:                Tue, 16 Apr 2024   AIC                           3213.405\n",
      "Time:                        08:50:04   BIC                           3301.488\n",
      "Sample:                             0   HQIC                          3247.320\n",
      "                                - 763                                         \n",
      "Covariance Type:                  opg                                         \n",
      "=================================================================================\n",
      "                    coef    std err          z      P>|z|      [0.025      0.975]\n",
      "---------------------------------------------------------------------------------\n",
      "Coal             -0.0032      0.007     -0.459      0.646      -0.017       0.010\n",
      "Crude Oil         0.0446      0.036      1.241      0.215      -0.026       0.115\n",
      "Natural Gas       0.0136      0.008      1.764      0.078      -0.002       0.029\n",
      "Fit_for_55        0.4908     39.842      0.012      0.990     -77.599      78.581\n",
      "Law              -2.9831     25.617     -0.116      0.907     -53.191      47.225\n",
      "Compromise        2.7217      9.666      0.282      0.778     -16.223      21.666\n",
      "EPU              -0.0390      0.004     -8.854      0.000      -0.048      -0.030\n",
      "DAX               0.0018      0.002      1.197      0.231      -0.001       0.005\n",
      "SPGTCLNT         -0.0037      0.002     -1.610      0.107      -0.008       0.001\n",
      "FTMIB             0.0008      0.001      1.396      0.163      -0.000       0.002\n",
      "CAC40             0.0110      0.004      3.077      0.002       0.004       0.018\n",
      "AEX               0.0091      0.022      0.407      0.684      -0.035       0.053\n",
      "STOXX            -0.2122      0.066     -3.218      0.001      -0.341      -0.083\n",
      "Temperature       0.0439      0.029      1.529      0.126      -0.012       0.100\n",
      "Precipitation     0.0023      0.015      0.156      0.876      -0.026       0.031\n",
      "Solar Energy     -0.0046      0.026     -0.173      0.863      -0.056       0.047\n",
      "Wind Speed       -0.0203      0.020     -1.006      0.314      -0.060       0.019\n",
      "ar.L1            -0.1056      0.030     -3.564      0.000      -0.164      -0.048\n",
      "sigma2            3.7839      0.146     25.895      0.000       3.497       4.070\n",
      "===================================================================================\n",
      "Ljung-Box (L1) (Q):                   0.01   Jarque-Bera (JB):               251.19\n",
      "Prob(Q):                              0.91   Prob(JB):                         0.00\n",
      "Heteroskedasticity (H):               1.00   Skew:                            -0.37\n",
      "Prob(H) (two-sided):                  0.98   Kurtosis:                         5.71\n",
      "===================================================================================\n",
      "\n",
      "Warnings:\n",
      "[1] Covariance matrix calculated using the outer product of gradients (complex-step).\n"
     ]
    }
   ],
   "source": [
    "model_arima110 = ARIMA(_y, exog=X, order=(1,1,0))\n",
    "model_arima110_fit = model_arima110.fit()\n",
    "\n",
    "print(model_arima110_fit.summary())"
   ]
  },
  {
   "cell_type": "markdown",
   "id": "156f35f1",
   "metadata": {},
   "source": [
    "##### ARIMA(1,1,1); Best Performing Model"
   ]
  },
  {
   "cell_type": "code",
   "execution_count": 19,
   "id": "67bc7fd6",
   "metadata": {
    "scrolled": false
   },
   "outputs": [
    {
     "name": "stderr",
     "output_type": "stream",
     "text": [
      "C:\\Users\\Erica Zhao\\anaconda3\\lib\\site-packages\\statsmodels\\tsa\\base\\tsa_model.py:578: ValueWarning: An unsupported index was provided and will be ignored when e.g. forecasting.\n",
      "  warnings.warn('An unsupported index was provided and will be'\n",
      "C:\\Users\\Erica Zhao\\anaconda3\\lib\\site-packages\\statsmodels\\tsa\\base\\tsa_model.py:578: ValueWarning: An unsupported index was provided and will be ignored when e.g. forecasting.\n",
      "  warnings.warn('An unsupported index was provided and will be'\n",
      "C:\\Users\\Erica Zhao\\anaconda3\\lib\\site-packages\\statsmodels\\tsa\\base\\tsa_model.py:578: ValueWarning: An unsupported index was provided and will be ignored when e.g. forecasting.\n",
      "  warnings.warn('An unsupported index was provided and will be'\n"
     ]
    },
    {
     "name": "stdout",
     "output_type": "stream",
     "text": [
      "                               SARIMAX Results                                \n",
      "==============================================================================\n",
      "Dep. Variable:                 Carbon   No. Observations:                  763\n",
      "Model:                 ARIMA(1, 1, 1)   Log Likelihood               -1585.450\n",
      "Date:                Tue, 16 Apr 2024   AIC                           3210.900\n",
      "Time:                        08:50:08   BIC                           3303.619\n",
      "Sample:                             0   HQIC                          3246.600\n",
      "                                - 763                                         \n",
      "Covariance Type:                  opg                                         \n",
      "=================================================================================\n",
      "                    coef    std err          z      P>|z|      [0.025      0.975]\n",
      "---------------------------------------------------------------------------------\n",
      "Coal             -0.0039      0.008     -0.514      0.607      -0.019       0.011\n",
      "Crude Oil         0.0394      0.036      1.101      0.271      -0.031       0.110\n",
      "Natural Gas       0.0156      0.008      1.965      0.049    3.72e-05       0.031\n",
      "Fit_for_55        0.4909     15.424      0.032      0.975     -29.739      30.721\n",
      "Law              -2.9832     10.218     -0.292      0.770     -23.010      17.043\n",
      "Compromise        2.7216      9.603      0.283      0.777     -16.100      21.543\n",
      "EPU              -0.0379      0.005     -8.360      0.000      -0.047      -0.029\n",
      "DAX               0.0021      0.002      1.378      0.168      -0.001       0.005\n",
      "SPGTCLNT         -0.0037      0.002     -1.617      0.106      -0.008       0.001\n",
      "FTMIB             0.0007      0.001      1.326      0.185      -0.000       0.002\n",
      "CAC40             0.0107      0.004      2.988      0.003       0.004       0.018\n",
      "AEX               0.0085      0.023      0.375      0.707      -0.036       0.053\n",
      "STOXX            -0.2107      0.066     -3.188      0.001      -0.340      -0.081\n",
      "Temperature       0.0415      0.029      1.447      0.148      -0.015       0.098\n",
      "Precipitation     0.0027      0.014      0.189      0.850      -0.026       0.031\n",
      "Solar Energy     -0.0043      0.027     -0.160      0.873      -0.057       0.048\n",
      "Wind Speed       -0.0209      0.020     -1.028      0.304      -0.061       0.019\n",
      "ar.L1            -0.5984      0.175     -3.422      0.001      -0.941      -0.256\n",
      "ma.L1             0.4901      0.189      2.594      0.009       0.120       0.860\n",
      "sigma2            3.7636      0.144     26.062      0.000       3.481       4.047\n",
      "===================================================================================\n",
      "Ljung-Box (L1) (Q):                   0.06   Jarque-Bera (JB):               263.65\n",
      "Prob(Q):                              0.81   Prob(JB):                         0.00\n",
      "Heteroskedasticity (H):               0.99   Skew:                            -0.40\n",
      "Prob(H) (two-sided):                  0.97   Kurtosis:                         5.77\n",
      "===================================================================================\n",
      "\n",
      "Warnings:\n",
      "[1] Covariance matrix calculated using the outer product of gradients (complex-step).\n"
     ]
    }
   ],
   "source": [
    "model_arima111 = ARIMA(_y, exog=X, order=(1,1,1))\n",
    "model_arima111_fit = model_arima111.fit()\n",
    "\n",
    "print(model_arima111_fit.summary())"
   ]
  },
  {
   "cell_type": "markdown",
   "id": "3733b83a",
   "metadata": {},
   "source": [
    "##### ARIMA(2,0,0)"
   ]
  },
  {
   "cell_type": "code",
   "execution_count": 20,
   "id": "f36882ef",
   "metadata": {
    "scrolled": false
   },
   "outputs": [
    {
     "name": "stderr",
     "output_type": "stream",
     "text": [
      "C:\\Users\\Erica Zhao\\anaconda3\\lib\\site-packages\\statsmodels\\tsa\\base\\tsa_model.py:578: ValueWarning: An unsupported index was provided and will be ignored when e.g. forecasting.\n",
      "  warnings.warn('An unsupported index was provided and will be'\n",
      "C:\\Users\\Erica Zhao\\anaconda3\\lib\\site-packages\\statsmodels\\tsa\\base\\tsa_model.py:578: ValueWarning: An unsupported index was provided and will be ignored when e.g. forecasting.\n",
      "  warnings.warn('An unsupported index was provided and will be'\n",
      "C:\\Users\\Erica Zhao\\anaconda3\\lib\\site-packages\\statsmodels\\tsa\\base\\tsa_model.py:578: ValueWarning: An unsupported index was provided and will be ignored when e.g. forecasting.\n",
      "  warnings.warn('An unsupported index was provided and will be'\n"
     ]
    },
    {
     "name": "stdout",
     "output_type": "stream",
     "text": [
      "                               SARIMAX Results                                \n",
      "==============================================================================\n",
      "Dep. Variable:                 Carbon   No. Observations:                  763\n",
      "Model:                 ARIMA(2, 0, 0)   Log Likelihood               -1665.401\n",
      "Date:                Tue, 16 Apr 2024   AIC                           3372.801\n",
      "Time:                        08:50:14   BIC                           3470.184\n",
      "Sample:                             0   HQIC                          3410.295\n",
      "                                - 763                                         \n",
      "Covariance Type:                  opg                                         \n",
      "=================================================================================\n",
      "                    coef    std err          z      P>|z|      [0.025      0.975]\n",
      "---------------------------------------------------------------------------------\n",
      "const            17.3399     11.187      1.550      0.121      -4.586      39.266\n",
      "Coal              0.0043      0.007      0.626      0.531      -0.009       0.018\n",
      "Crude Oil         0.2223      0.042      5.352      0.000       0.141       0.304\n",
      "Natural Gas       0.0010      0.010      0.098      0.922      -0.019       0.022\n",
      "Fit_for_55        9.3798      0.857     10.948      0.000       7.701      11.059\n",
      "Law               2.9444      1.332      2.210      0.027       0.333       5.556\n",
      "Compromise       -2.2879      1.092     -2.096      0.036      -4.428      -0.148\n",
      "EPU              -0.0309      0.005     -6.227      0.000      -0.041      -0.021\n",
      "DAX              -0.0045      0.002     -2.289      0.022      -0.008      -0.001\n",
      "SPGTCLNT         -0.0058      0.003     -1.978      0.048      -0.012   -5.14e-05\n",
      "FTMIB            -0.0014      0.001     -1.840      0.066      -0.003    9.01e-05\n",
      "CAC40             0.0252      0.004      7.084      0.000       0.018       0.032\n",
      "AEX              -0.0520      0.030     -1.734      0.083      -0.111       0.007\n",
      "STOXX             0.0428      0.085      0.503      0.615      -0.124       0.210\n",
      "Temperature       0.0052      0.039      0.133      0.894      -0.072       0.082\n",
      "Precipitation    -0.0035      0.019     -0.179      0.858      -0.042       0.035\n",
      "Solar Energy      0.0110      0.039      0.285      0.776      -0.065       0.087\n",
      "Wind Speed       -0.0544      0.027     -2.028      0.043      -0.107      -0.002\n",
      "ar.L1             0.8494      0.038     22.621      0.000       0.776       0.923\n",
      "ar.L2             0.0673      0.039      1.721      0.085      -0.009       0.144\n",
      "sigma2            5.4721      0.308     17.765      0.000       4.868       6.076\n",
      "===================================================================================\n",
      "Ljung-Box (L1) (Q):                   6.47   Jarque-Bera (JB):                66.39\n",
      "Prob(Q):                              0.01   Prob(JB):                         0.00\n",
      "Heteroskedasticity (H):               1.05   Skew:                            -0.20\n",
      "Prob(H) (two-sided):                  0.69   Kurtosis:                         4.39\n",
      "===================================================================================\n",
      "\n",
      "Warnings:\n",
      "[1] Covariance matrix calculated using the outer product of gradients (complex-step).\n"
     ]
    }
   ],
   "source": [
    "model_arima200 = ARIMA(_y, exog=X, order=(2,0,0))\n",
    "model_arima200_fit = model_arima200.fit()\n",
    "\n",
    "print(model_arima200_fit.summary())"
   ]
  },
  {
   "cell_type": "markdown",
   "id": "b65dd381",
   "metadata": {},
   "source": [
    "##### ARIMA(2,1,0)"
   ]
  },
  {
   "cell_type": "code",
   "execution_count": 21,
   "id": "8cd97410",
   "metadata": {
    "scrolled": false
   },
   "outputs": [
    {
     "name": "stderr",
     "output_type": "stream",
     "text": [
      "C:\\Users\\Erica Zhao\\anaconda3\\lib\\site-packages\\statsmodels\\tsa\\base\\tsa_model.py:578: ValueWarning: An unsupported index was provided and will be ignored when e.g. forecasting.\n",
      "  warnings.warn('An unsupported index was provided and will be'\n",
      "C:\\Users\\Erica Zhao\\anaconda3\\lib\\site-packages\\statsmodels\\tsa\\base\\tsa_model.py:578: ValueWarning: An unsupported index was provided and will be ignored when e.g. forecasting.\n",
      "  warnings.warn('An unsupported index was provided and will be'\n",
      "C:\\Users\\Erica Zhao\\anaconda3\\lib\\site-packages\\statsmodels\\tsa\\base\\tsa_model.py:578: ValueWarning: An unsupported index was provided and will be ignored when e.g. forecasting.\n",
      "  warnings.warn('An unsupported index was provided and will be'\n"
     ]
    },
    {
     "name": "stdout",
     "output_type": "stream",
     "text": [
      "                               SARIMAX Results                                \n",
      "==============================================================================\n",
      "Dep. Variable:                 Carbon   No. Observations:                  763\n",
      "Model:                 ARIMA(2, 1, 0)   Log Likelihood               -1585.258\n",
      "Date:                Tue, 16 Apr 2024   AIC                           3210.515\n",
      "Time:                        08:50:17   BIC                           3303.234\n",
      "Sample:                             0   HQIC                          3246.215\n",
      "                                - 763                                         \n",
      "Covariance Type:                  opg                                         \n",
      "=================================================================================\n",
      "                    coef    std err          z      P>|z|      [0.025      0.975]\n",
      "---------------------------------------------------------------------------------\n",
      "Coal             -0.0039      0.008     -0.519      0.604      -0.019       0.011\n",
      "Crude Oil         0.0434      0.035      1.226      0.220      -0.026       0.113\n",
      "Natural Gas       0.0153      0.008      1.967      0.049    5.15e-05       0.031\n",
      "Fit_for_55        0.4909     14.922      0.033      0.974     -28.755      29.737\n",
      "Law              -2.9832      8.099     -0.368      0.713     -18.856      12.890\n",
      "Compromise        2.7217     10.715      0.254      0.799     -18.279      23.723\n",
      "EPU              -0.0370      0.004     -8.568      0.000      -0.046      -0.029\n",
      "DAX               0.0023      0.002      1.459      0.145      -0.001       0.005\n",
      "SPGTCLNT         -0.0040      0.002     -1.779      0.075      -0.008       0.000\n",
      "FTMIB             0.0007      0.001      1.267      0.205      -0.000       0.002\n",
      "CAC40             0.0105      0.004      2.957      0.003       0.004       0.018\n",
      "AEX               0.0114      0.023      0.505      0.614      -0.033       0.056\n",
      "STOXX            -0.2130      0.067     -3.166      0.002      -0.345      -0.081\n",
      "Temperature       0.0403      0.029      1.413      0.158      -0.016       0.096\n",
      "Precipitation     0.0019      0.014      0.129      0.897      -0.026       0.030\n",
      "Solar Energy     -0.0047      0.026     -0.178      0.859      -0.057       0.047\n",
      "Wind Speed       -0.0194      0.020     -0.969      0.332      -0.059       0.020\n",
      "ar.L1            -0.0973      0.030     -3.227      0.001      -0.156      -0.038\n",
      "ar.L2             0.0802      0.034      2.352      0.019       0.013       0.147\n",
      "sigma2            3.7631      0.146     25.753      0.000       3.477       4.050\n",
      "===================================================================================\n",
      "Ljung-Box (L1) (Q):                   0.01   Jarque-Bera (JB):               284.25\n",
      "Prob(Q):                              0.93   Prob(JB):                         0.00\n",
      "Heteroskedasticity (H):               0.98   Skew:                            -0.41\n",
      "Prob(H) (two-sided):                  0.89   Kurtosis:                         5.88\n",
      "===================================================================================\n",
      "\n",
      "Warnings:\n",
      "[1] Covariance matrix calculated using the outer product of gradients (complex-step).\n"
     ]
    }
   ],
   "source": [
    "model_arima210 = ARIMA(_y, exog=X, order=(2,1,0))\n",
    "model_arima210_fit = model_arima210.fit()\n",
    "\n",
    "print(model_arima210_fit.summary())"
   ]
  },
  {
   "cell_type": "markdown",
   "id": "291ef87a",
   "metadata": {},
   "source": [
    "##### ARIMA(2,0,1)"
   ]
  },
  {
   "cell_type": "code",
   "execution_count": 22,
   "id": "79a4afa0",
   "metadata": {},
   "outputs": [
    {
     "name": "stderr",
     "output_type": "stream",
     "text": [
      "C:\\Users\\Erica Zhao\\anaconda3\\lib\\site-packages\\statsmodels\\tsa\\base\\tsa_model.py:578: ValueWarning: An unsupported index was provided and will be ignored when e.g. forecasting.\n",
      "  warnings.warn('An unsupported index was provided and will be'\n",
      "C:\\Users\\Erica Zhao\\anaconda3\\lib\\site-packages\\statsmodels\\tsa\\base\\tsa_model.py:578: ValueWarning: An unsupported index was provided and will be ignored when e.g. forecasting.\n",
      "  warnings.warn('An unsupported index was provided and will be'\n",
      "C:\\Users\\Erica Zhao\\anaconda3\\lib\\site-packages\\statsmodels\\tsa\\base\\tsa_model.py:578: ValueWarning: An unsupported index was provided and will be ignored when e.g. forecasting.\n",
      "  warnings.warn('An unsupported index was provided and will be'\n"
     ]
    },
    {
     "name": "stdout",
     "output_type": "stream",
     "text": [
      "                               SARIMAX Results                                \n",
      "==============================================================================\n",
      "Dep. Variable:                 Carbon   No. Observations:                  763\n",
      "Model:                 ARIMA(2, 0, 1)   Log Likelihood               -1662.953\n",
      "Date:                Tue, 16 Apr 2024   AIC                           3369.905\n",
      "Time:                        08:50:20   BIC                           3471.925\n",
      "Sample:                             0   HQIC                          3409.184\n",
      "                                - 763                                         \n",
      "Covariance Type:                  opg                                         \n",
      "=================================================================================\n",
      "                    coef    std err          z      P>|z|      [0.025      0.975]\n",
      "---------------------------------------------------------------------------------\n",
      "const            17.3399     11.392      1.522      0.128      -4.988      39.668\n",
      "Coal              0.0048      0.007      0.641      0.522      -0.010       0.019\n",
      "Crude Oil         0.2188      0.042      5.206      0.000       0.136       0.301\n",
      "Natural Gas       0.0026      0.011      0.247      0.805      -0.018       0.023\n",
      "Fit_for_55        9.3798      0.862     10.876      0.000       7.690      11.070\n",
      "Law               2.9444      1.351      2.180      0.029       0.297       5.592\n",
      "Compromise       -2.2879      1.119     -2.045      0.041      -4.481      -0.095\n",
      "EPU              -0.0282      0.005     -5.495      0.000      -0.038      -0.018\n",
      "DAX              -0.0038      0.002     -1.873      0.061      -0.008       0.000\n",
      "SPGTCLNT         -0.0065      0.003     -2.226      0.026      -0.012      -0.001\n",
      "FTMIB            -0.0016      0.001     -2.082      0.037      -0.003   -9.35e-05\n",
      "CAC40             0.0243      0.004      6.723      0.000       0.017       0.031\n",
      "AEX              -0.0512      0.030     -1.692      0.091      -0.110       0.008\n",
      "STOXX             0.0422      0.087      0.484      0.628      -0.129       0.213\n",
      "Temperature       0.0045      0.039      0.114      0.909      -0.073       0.082\n",
      "Precipitation    -0.0042      0.020     -0.213      0.831      -0.043       0.034\n",
      "Solar Energy      0.0091      0.039      0.234      0.815      -0.067       0.085\n",
      "Wind Speed       -0.0562      0.027     -2.084      0.037      -0.109      -0.003\n",
      "ar.L1             0.4181      0.455      0.918      0.358      -0.474       1.310\n",
      "ar.L2             0.4661      0.415      1.122      0.262      -0.348       1.280\n",
      "ma.L1             0.4390      0.469      0.936      0.349      -0.480       1.358\n",
      "sigma2            5.4714      0.311     17.602      0.000       4.862       6.081\n",
      "===================================================================================\n",
      "Ljung-Box (L1) (Q):                   5.59   Jarque-Bera (JB):                79.76\n",
      "Prob(Q):                              0.02   Prob(JB):                         0.00\n",
      "Heteroskedasticity (H):               1.04   Skew:                            -0.23\n",
      "Prob(H) (two-sided):                  0.73   Kurtosis:                         4.52\n",
      "===================================================================================\n",
      "\n",
      "Warnings:\n",
      "[1] Covariance matrix calculated using the outer product of gradients (complex-step).\n"
     ]
    }
   ],
   "source": [
    "model_arima201 = ARIMA(_y, exog=X, order=(2,0,1))\n",
    "model_arima201_fit = model_arima201.fit()\n",
    "\n",
    "print(model_arima201_fit.summary())"
   ]
  },
  {
   "cell_type": "markdown",
   "id": "6abdbfe5",
   "metadata": {},
   "source": [
    "##### ARIMA(2,1,1)"
   ]
  },
  {
   "cell_type": "code",
   "execution_count": 23,
   "id": "108251c6",
   "metadata": {},
   "outputs": [
    {
     "name": "stderr",
     "output_type": "stream",
     "text": [
      "C:\\Users\\Erica Zhao\\anaconda3\\lib\\site-packages\\statsmodels\\tsa\\base\\tsa_model.py:578: ValueWarning: An unsupported index was provided and will be ignored when e.g. forecasting.\n",
      "  warnings.warn('An unsupported index was provided and will be'\n",
      "C:\\Users\\Erica Zhao\\anaconda3\\lib\\site-packages\\statsmodels\\tsa\\base\\tsa_model.py:578: ValueWarning: An unsupported index was provided and will be ignored when e.g. forecasting.\n",
      "  warnings.warn('An unsupported index was provided and will be'\n",
      "C:\\Users\\Erica Zhao\\anaconda3\\lib\\site-packages\\statsmodels\\tsa\\base\\tsa_model.py:578: ValueWarning: An unsupported index was provided and will be ignored when e.g. forecasting.\n",
      "  warnings.warn('An unsupported index was provided and will be'\n"
     ]
    },
    {
     "name": "stdout",
     "output_type": "stream",
     "text": [
      "                               SARIMAX Results                                \n",
      "==============================================================================\n",
      "Dep. Variable:                 Carbon   No. Observations:                  763\n",
      "Model:                 ARIMA(2, 1, 1)   Log Likelihood               -1585.250\n",
      "Date:                Tue, 16 Apr 2024   AIC                           3212.500\n",
      "Time:                        08:50:24   BIC                           3309.855\n",
      "Sample:                             0   HQIC                          3249.985\n",
      "                                - 763                                         \n",
      "Covariance Type:                  opg                                         \n",
      "=================================================================================\n",
      "                    coef    std err          z      P>|z|      [0.025      0.975]\n",
      "---------------------------------------------------------------------------------\n",
      "Coal             -0.0040      0.008     -0.515      0.606      -0.019       0.011\n",
      "Crude Oil         0.0425      0.036      1.176      0.240      -0.028       0.113\n",
      "Natural Gas       0.0153      0.008      1.959      0.050   -6.43e-06       0.031\n",
      "Fit_for_55        0.4909     14.547      0.034      0.973     -28.021      29.003\n",
      "Law              -2.9832      8.084     -0.369      0.712     -18.828      12.862\n",
      "Compromise        2.7217     10.422      0.261      0.794     -17.705      23.149\n",
      "EPU              -0.0371      0.005     -7.734      0.000      -0.046      -0.028\n",
      "DAX               0.0023      0.002      1.448      0.148      -0.001       0.005\n",
      "SPGTCLNT         -0.0040      0.002     -1.744      0.081      -0.008       0.000\n",
      "FTMIB             0.0007      0.001      1.296      0.195      -0.000       0.002\n",
      "CAC40             0.0105      0.004      2.940      0.003       0.003       0.017\n",
      "AEX               0.0110      0.023      0.486      0.627      -0.033       0.055\n",
      "STOXX            -0.2131      0.067     -3.164      0.002      -0.345      -0.081\n",
      "Temperature       0.0400      0.029      1.398      0.162      -0.016       0.096\n",
      "Precipitation     0.0019      0.014      0.130      0.897      -0.027       0.030\n",
      "Solar Energy     -0.0046      0.027     -0.174      0.862      -0.057       0.048\n",
      "Wind Speed       -0.0192      0.020     -0.946      0.344      -0.059       0.021\n",
      "ar.L1            -0.1327      0.408     -0.325      0.745      -0.932       0.667\n",
      "ar.L2             0.0770      0.060      1.286      0.198      -0.040       0.194\n",
      "ma.L1             0.0327      0.408      0.080      0.936      -0.766       0.832\n",
      "sigma2            3.7657      0.146     25.730      0.000       3.479       4.053\n",
      "===================================================================================\n",
      "Ljung-Box (L1) (Q):                   0.00   Jarque-Bera (JB):               283.07\n",
      "Prob(Q):                              0.99   Prob(JB):                         0.00\n",
      "Heteroskedasticity (H):               0.98   Skew:                            -0.41\n",
      "Prob(H) (two-sided):                  0.89   Kurtosis:                         5.87\n",
      "===================================================================================\n",
      "\n",
      "Warnings:\n",
      "[1] Covariance matrix calculated using the outer product of gradients (complex-step).\n"
     ]
    }
   ],
   "source": [
    "model_arima211 = ARIMA(_y, exog=X, order=(2,1,1))\n",
    "model_arima211_fit = model_arima211.fit()\n",
    "\n",
    "print(model_arima211_fit.summary())"
   ]
  },
  {
   "cell_type": "markdown",
   "id": "f9385248",
   "metadata": {},
   "source": [
    "## 5.3 Performance and Results"
   ]
  },
  {
   "cell_type": "markdown",
   "id": "d18063d6",
   "metadata": {},
   "source": [
    "### ARIMA Model"
   ]
  },
  {
   "cell_type": "code",
   "execution_count": 24,
   "id": "309af925",
   "metadata": {},
   "outputs": [],
   "source": [
    "X = df.drop(['Date', 'Carbon'], axis=1)\n",
    "y = df['Carbon']"
   ]
  },
  {
   "cell_type": "code",
   "execution_count": 25,
   "id": "364b3c90",
   "metadata": {},
   "outputs": [],
   "source": [
    "train_size = int(len(df) * 0.8)\n",
    "train_indices = df.index[:train_size]\n",
    "test_indices = df.index[train_size:]\n",
    "\n",
    "y_train, y_test = y.loc[train_indices], y.loc[test_indices]\n",
    "X_train, X_test = X.loc[train_indices], X.loc[test_indices]"
   ]
  },
  {
   "cell_type": "code",
   "execution_count": 26,
   "id": "7babeadd",
   "metadata": {},
   "outputs": [
    {
     "name": "stderr",
     "output_type": "stream",
     "text": [
      "C:\\Users\\Erica Zhao\\anaconda3\\lib\\site-packages\\statsmodels\\tsa\\base\\tsa_model.py:578: ValueWarning: An unsupported index was provided and will be ignored when e.g. forecasting.\n",
      "  warnings.warn('An unsupported index was provided and will be'\n",
      "C:\\Users\\Erica Zhao\\anaconda3\\lib\\site-packages\\statsmodels\\tsa\\base\\tsa_model.py:578: ValueWarning: An unsupported index was provided and will be ignored when e.g. forecasting.\n",
      "  warnings.warn('An unsupported index was provided and will be'\n",
      "C:\\Users\\Erica Zhao\\anaconda3\\lib\\site-packages\\statsmodels\\tsa\\base\\tsa_model.py:578: ValueWarning: An unsupported index was provided and will be ignored when e.g. forecasting.\n",
      "  warnings.warn('An unsupported index was provided and will be'\n"
     ]
    },
    {
     "name": "stdout",
     "output_type": "stream",
     "text": [
      "                               SARIMAX Results                                \n",
      "==============================================================================\n",
      "Dep. Variable:                 Carbon   No. Observations:                  610\n",
      "Model:                 ARIMA(1, 1, 1)   Log Likelihood               -1295.332\n",
      "Date:                Tue, 16 Apr 2024   AIC                           2630.663\n",
      "Time:                        08:50:28   BIC                           2718.900\n",
      "Sample:                             0   HQIC                          2664.989\n",
      "                                - 610                                         \n",
      "Covariance Type:                  opg                                         \n",
      "=================================================================================\n",
      "                    coef    std err          z      P>|z|      [0.025      0.975]\n",
      "---------------------------------------------------------------------------------\n",
      "Coal             -0.0048      0.008     -0.578      0.564      -0.021       0.012\n",
      "Crude Oil         0.0461      0.041      1.125      0.261      -0.034       0.126\n",
      "Natural Gas       0.0134      0.009      1.488      0.137      -0.004       0.031\n",
      "Fit_for_55        0.6993     16.720      0.042      0.967     -32.070      33.469\n",
      "Law              -2.9465      8.590     -0.343      0.732     -19.783      13.890\n",
      "Compromise        2.8523      9.275      0.308      0.758     -15.327      21.032\n",
      "EPU              -0.0350      0.005     -6.748      0.000      -0.045      -0.025\n",
      "DAX               0.0021      0.002      1.167      0.243      -0.001       0.006\n",
      "SPGTCLNT         -0.0038      0.003     -1.464      0.143      -0.009       0.001\n",
      "FTMIB             0.0008      0.001      1.294      0.196      -0.000       0.002\n",
      "CAC40             0.0149      0.004      3.531      0.000       0.007       0.023\n",
      "AEX               0.0050      0.027      0.187      0.852      -0.048       0.058\n",
      "STOXX            -0.2685      0.076     -3.542      0.000      -0.417      -0.120\n",
      "Temperature       0.0371      0.035      1.052      0.293      -0.032       0.106\n",
      "Precipitation     0.0098      0.019      0.508      0.611      -0.028       0.047\n",
      "Solar Energy     -0.0124      0.032     -0.392      0.695      -0.074       0.050\n",
      "Wind Speed       -0.0171      0.025     -0.697      0.486      -0.065       0.031\n",
      "ar.L1            -0.6389      0.164     -3.906      0.000      -0.960      -0.318\n",
      "ma.L1             0.5163      0.181      2.858      0.004       0.162       0.870\n",
      "sigma2            4.1316      0.179     23.085      0.000       3.781       4.482\n",
      "===================================================================================\n",
      "Ljung-Box (L1) (Q):                   0.00   Jarque-Bera (JB):               204.84\n",
      "Prob(Q):                              0.99   Prob(JB):                         0.00\n",
      "Heteroskedasticity (H):               2.99   Skew:                            -0.49\n",
      "Prob(H) (two-sided):                  0.00   Kurtosis:                         5.67\n",
      "===================================================================================\n",
      "\n",
      "Warnings:\n",
      "[1] Covariance matrix calculated using the outer product of gradients (complex-step).\n"
     ]
    },
    {
     "name": "stderr",
     "output_type": "stream",
     "text": [
      "C:\\Users\\Erica Zhao\\anaconda3\\lib\\site-packages\\statsmodels\\base\\model.py:566: ConvergenceWarning: Maximum Likelihood optimization failed to converge. Check mle_retvals\n",
      "  warnings.warn(\"Maximum Likelihood optimization failed to \"\n"
     ]
    }
   ],
   "source": [
    "model_arima111 = ARIMA(y_train, exog=X_train, order=(1,1,1))\n",
    "model_arima111_fit = model_arima111.fit()\n",
    "\n",
    "print(model_arima111_fit.summary())"
   ]
  },
  {
   "cell_type": "code",
   "execution_count": 27,
   "id": "3b5e2086",
   "metadata": {
    "scrolled": true
   },
   "outputs": [
    {
     "name": "stderr",
     "output_type": "stream",
     "text": [
      "C:\\Users\\Erica Zhao\\anaconda3\\lib\\site-packages\\statsmodels\\tsa\\base\\tsa_model.py:376: ValueWarning: No supported index is available. Prediction results will be given with an integer index beginning at `start`.\n",
      "  warnings.warn('No supported index is available.'\n"
     ]
    }
   ],
   "source": [
    "forecast = model_arima111_fit.get_forecast(steps=len(y_test), exog=X_test)\n",
    "y_pred = forecast.predicted_mean\n",
    "forecast_conf_int = forecast.conf_int()"
   ]
  },
  {
   "cell_type": "code",
   "execution_count": 28,
   "id": "f9756d01",
   "metadata": {},
   "outputs": [
    {
     "name": "stdout",
     "output_type": "stream",
     "text": [
      "RMSE: 16.818980260074905\n"
     ]
    }
   ],
   "source": [
    "mse = mean_squared_error(y_test, y_pred)\n",
    "rmse = np.sqrt(mse)\n",
    "\n",
    "print(f\"RMSE: {rmse}\")"
   ]
  },
  {
   "cell_type": "code",
   "execution_count": 29,
   "id": "831d8ac8",
   "metadata": {},
   "outputs": [
    {
     "data": {
      "text/plain": [
       "LinearRegression()"
      ]
     },
     "execution_count": 29,
     "metadata": {},
     "output_type": "execute_result"
    }
   ],
   "source": [
    "y_test_reshaped = y_test.values.reshape(-1, 1)\n",
    "y_pred_reshaped = y_pred.values.reshape(-1, 1)\n",
    "\n",
    "reg = linear_model.LinearRegression()\n",
    "\n",
    "reg.fit(y_pred_reshaped, y_test_reshaped)"
   ]
  },
  {
   "cell_type": "code",
   "execution_count": 30,
   "id": "ee8a4d81",
   "metadata": {},
   "outputs": [
    {
     "data": {
      "text/plain": [
       "0.04984134783067562"
      ]
     },
     "execution_count": 30,
     "metadata": {},
     "output_type": "execute_result"
    }
   ],
   "source": [
    "r_squared = reg.score(y_pred_reshaped, y_test_reshaped)\n",
    "r_squared"
   ]
  },
  {
   "cell_type": "code",
   "execution_count": 31,
   "id": "ed323649",
   "metadata": {},
   "outputs": [
    {
     "data": {
      "image/png": "[encoded data removed]",
      "text/plain": [
       "<Figure size 1080x504 with 1 Axes>"
      ]
     },
     "metadata": {
      "needs_background": "light"
     },
     "output_type": "display_data"
    }
   ],
   "source": [
    "dates = df['Date']\n",
    "date_test = dates[test_indices]\n",
    "\n",
    "plt.figure(figsize=(15, 7))\n",
    "plt.plot(date_test, y_test, label='Actual Price', color='blue')\n",
    "plt.plot(date_test, y_pred, label='Predicted Price', color='red')\n",
    "plt.gca().xaxis.set_major_formatter(mdates.DateFormatter('%Y-%m-%d'))\n",
    "plt.gca().xaxis.set_major_locator(mdates.DayLocator(interval=15))  # Set interval accordingly\n",
    "plt.gcf().autofmt_xdate()\n",
    "plt.title('Actual and Predicted Carbon Prices')\n",
    "plt.xlabel('Date')\n",
    "plt.ylabel('Price')\n",
    "plt.legend()\n",
    "plt.grid(True)\n",
    "plt.tight_layout()  # Adjust layout to prevent clipping of labels\n",
    "plt.show()"
   ]
  },
  {
   "cell_type": "markdown",
   "id": "af4043e4",
   "metadata": {},
   "source": [
    "### Random Forest"
   ]
  },
  {
   "cell_type": "code",
   "execution_count": 32,
   "id": "3030add5",
   "metadata": {},
   "outputs": [],
   "source": [
    "X = df.drop(['Date', 'Carbon'], axis=1)\n",
    "y = df['Carbon']"
   ]
  },
  {
   "cell_type": "code",
   "execution_count": 33,
   "id": "65f1abdd",
   "metadata": {},
   "outputs": [],
   "source": [
    "X_train, X_test, y_train, y_test = train_test_split(X, y, test_size=0.2, random_state=42)"
   ]
  },
  {
   "cell_type": "code",
   "execution_count": 34,
   "id": "d55ff4a2",
   "metadata": {},
   "outputs": [],
   "source": [
    "random_forest_model = RandomForestRegressor(n_estimators=100, random_state=42)\n",
    "\n",
    "random_forest_model.fit(X_train, y_train)\n",
    "\n",
    "y_pred = random_forest_model.predict(X_test)"
   ]
  },
  {
   "cell_type": "code",
   "execution_count": 35,
   "id": "0fde7f55",
   "metadata": {},
   "outputs": [
    {
     "name": "stdout",
     "output_type": "stream",
     "text": [
      "RMSE: 2.6609662459634595\n"
     ]
    }
   ],
   "source": [
    "mse = mean_squared_error(y_test, y_pred)\n",
    "rmse = np.sqrt(mse)\n",
    "\n",
    "print(f\"RMSE: {rmse}\")"
   ]
  },
  {
   "cell_type": "code",
   "execution_count": 36,
   "id": "f296b048",
   "metadata": {},
   "outputs": [
    {
     "name": "stdout",
     "output_type": "stream",
     "text": [
      "EPU              0.415181\n",
      "Fit_for_55       0.319354\n",
      "SPGTCLNT         0.058783\n",
      "Crude Oil        0.044213\n",
      "Coal             0.040282\n",
      "Natural Gas      0.026496\n",
      "AEX              0.024216\n",
      "FTMIB            0.022152\n",
      "CAC40            0.012450\n",
      "STOXX            0.011578\n",
      "Solar Energy     0.007807\n",
      "DAX              0.007780\n",
      "Temperature      0.005068\n",
      "Wind Speed       0.003308\n",
      "Precipitation    0.001236\n",
      "Compromise       0.000087\n",
      "Law              0.000010\n",
      "dtype: float64\n"
     ]
    }
   ],
   "source": [
    "# importance of variables\n",
    "feature_importances = pd.Series(random_forest_model.feature_importances_, index=X.columns).sort_values(ascending=False)\n",
    "print(feature_importances)"
   ]
  },
  {
   "cell_type": "code",
   "execution_count": 37,
   "id": "3d8c1b6f",
   "metadata": {},
   "outputs": [
    {
     "data": {
      "text/plain": [
       "LinearRegression()"
      ]
     },
     "execution_count": 37,
     "metadata": {},
     "output_type": "execute_result"
    }
   ],
   "source": [
    "y_test_reshaped = y_test.values.reshape(-1, 1)\n",
    "y_pred_reshaped = y_pred.reshape(-1, 1)\n",
    "\n",
    "reg = linear_model.LinearRegression()\n",
    "reg.fit(y_pred_reshaped, y_test_reshaped)"
   ]
  },
  {
   "cell_type": "code",
   "execution_count": 38,
   "id": "aeecaf36",
   "metadata": {},
   "outputs": [
    {
     "data": {
      "text/plain": [
       "0.9744560186516574"
      ]
     },
     "execution_count": 38,
     "metadata": {},
     "output_type": "execute_result"
    }
   ],
   "source": [
    "r_squared = reg.score(y_pred_reshaped, y_test_reshaped)\n",
    "r_squared"
   ]
  },
  {
   "cell_type": "code",
   "execution_count": null,
   "id": "cbbfee7a",
   "metadata": {},
   "outputs": [],
   "source": []
  },
  {
   "cell_type": "code",
   "execution_count": null,
   "id": "a8ec067d",
   "metadata": {},
   "outputs": [],
   "source": []
  },
  {
   "cell_type": "markdown",
   "id": "e2bc2bcc",
   "metadata": {},
   "source": [
    "##### Times Series Random Forest"
   ]
  },
  {
   "cell_type": "code",
   "execution_count": 39,
   "id": "0352b148",
   "metadata": {},
   "outputs": [
    {
     "name": "stdout",
     "output_type": "stream",
     "text": [
      "p-value: 0.116421\n"
     ]
    }
   ],
   "source": [
    "result = adfuller(df['Carbon'])\n",
    "print('p-value: %f' % result[1])"
   ]
  },
  {
   "cell_type": "code",
   "execution_count": 40,
   "id": "48abe8f3",
   "metadata": {},
   "outputs": [
    {
     "name": "stdout",
     "output_type": "stream",
     "text": [
      "p-value: 0.000000\n"
     ]
    }
   ],
   "source": [
    "df['log_value'] = np.log(df['Carbon'])\n",
    "\n",
    "df['diff_log_value'] = df['log_value'].diff().dropna()\n",
    "\n",
    "result = adfuller(df['diff_log_value'].dropna())\n",
    "print('p-value: %f' % result[1])"
   ]
  },
  {
   "cell_type": "code",
   "execution_count": 41,
   "id": "f6b705a9",
   "metadata": {},
   "outputs": [],
   "source": [
    "df = df.dropna()\n",
    "df['month'] = df['Date'].dt.month\n",
    "\n",
    "X = df.drop(['Date', 'Carbon', 'log_value', 'diff_log_value'], axis=1)\n",
    "y = df['diff_log_value']\n",
    "\n",
    "train_size = int(len(df) * 0.8)\n",
    "train_indices = df.index[:train_size]\n",
    "test_indices = df.index[train_size:]\n",
    "\n",
    "y_train, y_test = y.loc[train_indices], y.loc[test_indices]\n",
    "X_train, X_test = X.loc[train_indices], X.loc[test_indices]"
   ]
  },
  {
   "cell_type": "code",
   "execution_count": 42,
   "id": "8db4e989",
   "metadata": {},
   "outputs": [
    {
     "name": "stdout",
     "output_type": "stream",
     "text": [
      "Test RMSE: 181.09191915218094\n"
     ]
    }
   ],
   "source": [
    "random_forest_model = RandomForestRegressor(n_estimators=300, random_state=42)\n",
    "random_forest_model.fit(X_train, y_train)\n",
    "\n",
    "y_pred_diff = random_forest_model.predict(X_test)\n",
    "\n",
    "last_log_value = df['log_value'].iloc[train_size - 1]\n",
    "\n",
    "y_pred = np.r_[last_log_value, y_pred_diff].cumsum()[1:]\n",
    "\n",
    "y_pred = np.exp(y_pred)\n",
    "\n",
    "y_test_actual = df['Carbon'].iloc[train_size:]\n",
    "\n",
    "rmse = np.sqrt(mean_squared_error(y_test_actual, y_pred))\n",
    "print(f\"Test RMSE: {rmse}\")"
   ]
  },
  {
   "cell_type": "code",
   "execution_count": 43,
   "id": "92b9c5c4",
   "metadata": {},
   "outputs": [
    {
     "data": {
      "text/plain": [
       "-513.0994702891285"
      ]
     },
     "execution_count": 43,
     "metadata": {},
     "output_type": "execute_result"
    }
   ],
   "source": [
    "y_test_actual_reshaped = y_test_actual.values.reshape(-1, 1)\n",
    "y_pred_reshaped = y_pred.reshape(-1, 1)\n",
    "\n",
    "reg = linear_model.LinearRegression()\n",
    "reg.fit(y_pred_reshaped, y_test_actual_reshaped)\n",
    "\n",
    "r_squared = r2_score(y_test_actual_reshaped, y_pred)\n",
    "r_squared"
   ]
  },
  {
   "cell_type": "code",
   "execution_count": 44,
   "id": "7f0c8f67",
   "metadata": {},
   "outputs": [
    {
     "data": {
      "image/png": "[encoded data removed]",
      "text/plain": [
       "<Figure size 1080x504 with 1 Axes>"
      ]
     },
     "metadata": {
      "needs_background": "light"
     },
     "output_type": "display_data"
    }
   ],
   "source": [
    "# Extract the corresponding dates for the test set for plotting\n",
    "test_dates = df['Date'].iloc[train_size:]\n",
    "\n",
    "plt.figure(figsize=(15, 7))\n",
    "plt.plot(test_dates, y_test_actual, label='Actual Carbon Price', color='blue')\n",
    "plt.plot(test_dates, y_pred, label='Predicted Carbon Price', color='red')\n",
    "plt.gca().xaxis.set_major_formatter(mdates.DateFormatter('%Y-%m-%d'))\n",
    "plt.gca().xaxis.set_major_locator(mdates.MonthLocator())\n",
    "plt.gcf().autofmt_xdate()  # Rotation\n",
    "plt.title('Actual vs Predicted Carbon Prices')\n",
    "plt.xlabel('Date')\n",
    "plt.ylabel('Carbon Price')\n",
    "plt.legend()\n",
    "plt.show()"
   ]
  },
  {
   "cell_type": "markdown",
   "id": "a75214ec",
   "metadata": {},
   "source": [
    "### LSTM Model"
   ]
  },
  {
   "cell_type": "code",
   "execution_count": 45,
   "id": "9aba1944",
   "metadata": {},
   "outputs": [],
   "source": [
    "features = df.drop(['Date', 'Carbon', 'log_value', 'diff_log_value'], axis=1)\n",
    "target = df['Carbon']"
   ]
  },
  {
   "cell_type": "code",
   "execution_count": 46,
   "id": "dab1e5ba",
   "metadata": {},
   "outputs": [],
   "source": [
    "scaler = MinMaxScaler(feature_range=(0, 1))\n",
    "features_scaled = scaler.fit_transform(features)\n",
    "\n",
    "def create_dataset(X, y, time_steps=1):\n",
    "    Xs, ys = [], []\n",
    "    for i in range(len(X) - time_steps):\n",
    "        Xs.append(X[i:(i + time_steps), :])\n",
    "        ys.append(y[i + time_steps])\n",
    "    return np.array(Xs), np.array(ys)"
   ]
  },
  {
   "cell_type": "code",
   "execution_count": 47,
   "id": "8213c53d",
   "metadata": {},
   "outputs": [],
   "source": [
    "time_steps = 10\n",
    "X, y = create_dataset(features_scaled, target.values, time_steps)\n",
    "\n",
    "train_size = int(len(X) * 0.8)\n",
    "train_indices = slice(0, train_size)\n",
    "test_indices = slice(train_size, len(X))\n",
    "\n",
    "y_train, y_test = y[train_indices], y[test_indices]\n",
    "X_train, X_test = X[train_indices], X[test_indices]"
   ]
  },
  {
   "cell_type": "code",
   "execution_count": 48,
   "id": "1baacf46",
   "metadata": {},
   "outputs": [
    {
     "name": "stdout",
     "output_type": "stream",
     "text": [
      "Epoch 1/15\n",
      "36/36 [==============================] - 3s 24ms/step - loss: 5662.4404 - val_loss: 7657.9390\n",
      "Epoch 2/15\n",
      "36/36 [==============================] - 0s 7ms/step - loss: 1457.7650 - val_loss: 100.8096\n",
      "Epoch 3/15\n",
      "36/36 [==============================] - 0s 7ms/step - loss: 137.3770 - val_loss: 71.2552\n",
      "Epoch 4/15\n",
      "36/36 [==============================] - 0s 8ms/step - loss: 117.3836 - val_loss: 264.6761\n",
      "Epoch 5/15\n",
      "36/36 [==============================] - 0s 8ms/step - loss: 86.2985 - val_loss: 129.6240\n",
      "Epoch 6/15\n",
      "36/36 [==============================] - 0s 8ms/step - loss: 79.2628 - val_loss: 211.6061\n",
      "Epoch 7/15\n",
      "36/36 [==============================] - 0s 9ms/step - loss: 72.9512 - val_loss: 110.7955\n",
      "Epoch 8/15\n",
      "36/36 [==============================] - 0s 8ms/step - loss: 66.4472 - val_loss: 44.2078\n",
      "Epoch 9/15\n",
      "36/36 [==============================] - 0s 8ms/step - loss: 61.3720 - val_loss: 82.7104\n",
      "Epoch 10/15\n",
      "36/36 [==============================] - 0s 8ms/step - loss: 59.2517 - val_loss: 43.2167\n",
      "Epoch 11/15\n",
      "36/36 [==============================] - 0s 8ms/step - loss: 53.7835 - val_loss: 45.4720\n",
      "Epoch 12/15\n",
      "36/36 [==============================] - 0s 8ms/step - loss: 49.7111 - val_loss: 50.6741\n",
      "Epoch 13/15\n",
      "36/36 [==============================] - 0s 8ms/step - loss: 50.7319 - val_loss: 101.5345\n",
      "Epoch 14/15\n",
      "36/36 [==============================] - 0s 9ms/step - loss: 48.2024 - val_loss: 33.0334\n",
      "Epoch 15/15\n",
      "36/36 [==============================] - 0s 8ms/step - loss: 41.6221 - val_loss: 45.2975\n",
      "5/5 [==============================] - 0s 4ms/step\n"
     ]
    }
   ],
   "source": [
    "model = Sequential()\n",
    "model.add(LSTM(50, activation='relu', input_shape=(X_train.shape[1], X_train.shape[2])))\n",
    "model.add(Dense(1))\n",
    "model.compile(optimizer=Adam(learning_rate=0.01), loss='mean_squared_error')\n",
    "\n",
    "model.fit(X_train, y_train, epochs=15, batch_size=15, validation_split=0.1, verbose=1)\n",
    "y_pred = model.predict(X_test)"
   ]
  },
  {
   "cell_type": "code",
   "execution_count": 49,
   "id": "09562a8d",
   "metadata": {},
   "outputs": [
    {
     "name": "stdout",
     "output_type": "stream",
     "text": [
      "5/5 [==============================] - 0s 6ms/step - loss: 375.4199\n",
      "RMSE: 19.375754458597058\n"
     ]
    }
   ],
   "source": [
    "mse = model.evaluate(X_test, y_test)\n",
    "rmse = np.sqrt(mse)\n",
    "\n",
    "print(f\"RMSE: {rmse}\")"
   ]
  },
  {
   "cell_type": "code",
   "execution_count": 50,
   "id": "ccbc1a6e",
   "metadata": {},
   "outputs": [
    {
     "data": {
      "text/plain": [
       "LinearRegression()"
      ]
     },
     "execution_count": 50,
     "metadata": {},
     "output_type": "execute_result"
    }
   ],
   "source": [
    "y_test_reshaped = y_test.reshape(-1, 1)\n",
    "y_pred_reshaped = y_pred.reshape(-1, 1)\n",
    "\n",
    "reg = linear_model.LinearRegression()\n",
    "reg.fit(y_pred_reshaped, y_test_reshaped)"
   ]
  },
  {
   "cell_type": "code",
   "execution_count": 51,
   "id": "d455d764",
   "metadata": {},
   "outputs": [
    {
     "data": {
      "text/plain": [
       "0.6988803543948192"
      ]
     },
     "execution_count": 51,
     "metadata": {},
     "output_type": "execute_result"
    }
   ],
   "source": [
    "r_squared = reg.score(y_pred_reshaped, y_test_reshaped)\n",
    "r_squared"
   ]
  },
  {
   "cell_type": "code",
   "execution_count": 52,
   "id": "a382ffac",
   "metadata": {},
   "outputs": [
    {
     "data": {
      "image/png": "[encoded data removed]",
      "text/plain": [
       "<Figure size 720x432 with 1 Axes>"
      ]
     },
     "metadata": {
      "needs_background": "light"
     },
     "output_type": "display_data"
    }
   ],
   "source": [
    "plt.figure(figsize=(10, 6))\n",
    "plt.plot(y_test, label='Actual')\n",
    "plt.plot(y_pred, label='Predicted')\n",
    "plt.title('Prediction vs Actual Carbon Price')\n",
    "plt.xlabel('Date')\n",
    "plt.ylabel('Carbon Price')\n",
    "plt.legend()\n",
    "plt.show()"
   ]
  },
  {
   "cell_type": "markdown",
   "id": "52b4711c",
   "metadata": {},
   "source": [
    "## 5.4 Discussion"
   ]
  },
  {
   "cell_type": "markdown",
   "id": "dc3ef2cc",
   "metadata": {},
   "source": [
    "# Section VI Conclusion"
   ]
  },
  {
   "cell_type": "code",
   "execution_count": null,
   "id": "9dd9df4a",
   "metadata": {},
   "outputs": [],
   "source": []
  }
 ],
 "metadata": {
  "kernelspec": {
   "display_name": "Python 3",
   "language": "python",
   "name": "python3"
  },
  "language_info": {
   "codemirror_mode": {
    "name": "ipython",
    "version": 3
   },
   "file_extension": ".py",
   "mimetype": "text/x-python",
   "name": "python",
   "nbconvert_exporter": "python",
   "pygments_lexer": "ipython3",
   "version": "3.8.8"
  }
 },
 "nbformat": 4,
 "nbformat_minor": 5
}
