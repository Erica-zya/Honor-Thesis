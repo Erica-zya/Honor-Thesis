{
 "cells": [
  {
   "cell_type": "code",
   "execution_count": 1,
   "id": "8a07aa96",
   "metadata": {
    "scrolled": false
   },
   "outputs": [
    {
     "name": "stdout",
     "output_type": "stream",
     "text": [
      "Requirement already satisfied: pandas in c:\\users\\erica zhao\\anaconda3\\lib\\site-packages (1.2.4)\n",
      "Requirement already satisfied: scikit-learn in c:\\users\\erica zhao\\anaconda3\\lib\\site-packages (0.24.1)\n",
      "Requirement already satisfied: matplotlib in c:\\users\\erica zhao\\anaconda3\\lib\\site-packages (3.3.4)\n",
      "Requirement already satisfied: pyparsing!=2.0.4,!=2.1.2,!=2.1.6,>=2.0.3 in c:\\users\\erica zhao\\anaconda3\\lib\\site-packages (from matplotlib) (2.4.7)\n",
      "Requirement already satisfied: python-dateutil>=2.1 in c:\\users\\erica zhao\\anaconda3\\lib\\site-packages (from matplotlib) (2.8.1)\n",
      "Requirement already satisfied: pillow>=6.2.0 in c:\\users\\erica zhao\\anaconda3\\lib\\site-packages (from matplotlib) (8.2.0)\n",
      "Requirement already satisfied: kiwisolver>=1.0.1 in c:\\users\\erica zhao\\anaconda3\\lib\\site-packages (from matplotlib) (1.3.1)\n",
      "Requirement already satisfied: numpy>=1.15 in c:\\users\\erica zhao\\anaconda3\\lib\\site-packages (from matplotlib) (1.20.1)\n",
      "Requirement already satisfied: cycler>=0.10 in c:\\users\\erica zhao\\anaconda3\\lib\\site-packages (from matplotlib) (0.10.0)\n",
      "Requirement already satisfied: six in c:\\users\\erica zhao\\anaconda3\\lib\\site-packages (from cycler>=0.10->matplotlib) (1.15.0)\n",
      "Requirement already satisfied: pytz>=2017.3 in c:\\users\\erica zhao\\anaconda3\\lib\\site-packages (from pandas) (2021.1)\n",
      "Requirement already satisfied: joblib>=0.11 in c:\\users\\erica zhao\\anaconda3\\lib\\site-packages (from scikit-learn) (1.0.1)\n",
      "Requirement already satisfied: threadpoolctl>=2.0.0 in c:\\users\\erica zhao\\anaconda3\\lib\\site-packages (from scikit-learn) (2.1.0)\n",
      "Requirement already satisfied: scipy>=0.19.1 in c:\\users\\erica zhao\\anaconda3\\lib\\site-packages (from scikit-learn) (1.6.2)\n"
     ]
    }
   ],
   "source": [
    "!pip install pandas scikit-learn matplotlib\n",
    "import pandas as pd\n",
    "import numpy as np\n",
    "from sklearn.ensemble import RandomForestRegressor\n",
    "from sklearn.model_selection import train_test_split\n",
    "from sklearn.metrics import mean_squared_error\n",
    "import numpy as np\n",
    "import matplotlib.pyplot as plt\n",
    "from statsmodels.tsa.ar_model import AutoReg\n",
    "from statsmodels.tsa.arima.model import ARIMA\n",
    "import matplotlib.pyplot as plt\n",
    "from statsmodels.graphics.tsaplots import plot_acf\n",
    "from statsmodels.graphics.tsaplots import plot_pacf"
   ]
  },
  {
   "cell_type": "markdown",
   "id": "b648310d",
   "metadata": {},
   "source": [
    "# Section I Introduction"
   ]
  },
  {
   "cell_type": "markdown",
   "id": "b6b8c054",
   "metadata": {},
   "source": [
    "# Section II Literature Review"
   ]
  },
  {
   "cell_type": "markdown",
   "id": "b84c4b98",
   "metadata": {},
   "source": [
    "# Section III Methodology"
   ]
  },
  {
   "cell_type": "markdown",
   "id": "6a14eaa2",
   "metadata": {},
   "source": [
    "## 3.1 ARIMA Model"
   ]
  },
  {
   "cell_type": "markdown",
   "id": "c6a0da89",
   "metadata": {},
   "source": [
    "ARIMA model has notable strengths for forecasting carbon prices, utilizing its robust capability to process time series data and capture the dynamic patterns in the volatile carbon prices. These features facilitate a comprehensive analysis, making ARIMA an ideal choice for short-term forecasting. However, we also need to acknowledge its potential limitations, such as the assumption of linearity and the need for data stationarity, which may cause potential issues."
   ]
  },
  {
   "cell_type": "markdown",
   "id": "7346b333",
   "metadata": {},
   "source": [
    "Central to the ARIMA model is its ability to integrate autoregressive (AR) processes, differencing (I) to achieve stationarity, and moving average (MA) processes into a unified structure. The model is parameterized by three integers: $p$, $d$, and $q$, which denote the autoregressive order, the degree of differencing, and the moving average order, respectively. Mathematically, the ARIMA($p$,$d$,$q$) model is expressed as:\n",
    "$$\n",
    "x_t = u + \\alpha_1 x_{t-1} + \\alpha_2 x_{t-2} + \\ldots + \\alpha_p x_{t-p} - \\beta_1 \\varepsilon_{t-1} - \\beta_2 \\varepsilon_{t-2} - \\ldots - \\beta_q \\varepsilon_{t-q} + \\varepsilon_t\n",
    "$$"
   ]
  },
  {
   "cell_type": "markdown",
   "id": "36d7ba22",
   "metadata": {},
   "source": [
    "Here, $x_t$ represents the forcasted carbon price at time $t$, and $u$ is a constant term (which can be interpreted as the mean of the series if $d = 0 $). The parameters $\\alpha_1, \\alpha_2, \\ldots, \\alpha_p$ represent the autoregressive (AR) terms, $\\beta_1, \\beta_2, \\ldots, \\beta_q$ represent the moving average (MA) terms, and $\\varepsilon_{t-1}, \\varepsilon_{t-2}, \\ldots, \\varepsilon_{t-q}$ are the lagged forecast errors in the prediction equation."
   ]
  },
  {
   "cell_type": "markdown",
   "id": "539acdda",
   "metadata": {},
   "source": [
    "In this study, we employed the ARIMA model to analyze fluctuations in carbon prices. Our approach commenced with an initial hypothesis based on a preliminary examination of the dataset to identify any apparent trends and autocorrelations. Utilizing diagnostic tools such as autocorrelation and partial autocorrelation plots, alongside statistical tests, we determined the optimal differencing order and the appropriate orders for the autoregressive and moving average components of the model. This step also included assessments for the inclusion of seasonal adjustments. Subsequent to model identification, we engaged in parameter estimation through Maximum Likelihood Estimation methods to accurately fit the model to the historical data. The model was then validated to ensure that the residuals approximated white noise, indicating that the model captured the essential structures in the data. Following validation, we proceeded to utilize the ARIMA model for forecasting future carbon prices, leveraging its capability to analyze and interpret underlying trends in the data over various forecasting horizons. This methodological framework underpins our analysis and forecasts presented herein."
   ]
  },
  {
   "cell_type": "markdown",
   "id": "c71a86b8",
   "metadata": {},
   "source": [
    "## 3.2 Random Forest"
   ]
  },
  {
   "cell_type": "markdown",
   "id": "153b824b",
   "metadata": {},
   "source": [
    "In this study, the Random Forest (RF) methodology was employed as the second ensemble-based predictive model for forecasting carbon prices. Random Forest is a form of the ensemble method known as Bagging, or Bootstrap Aggregating, which operates on the principle of creating multiple datasets from the original training set through bootstrap sampling. This sampling technique involves random selection with replacement, resulting in subsets where individual instances may repeat or be excluded."
   ]
  },
  {
   "cell_type": "markdown",
   "id": "ed3bb781",
   "metadata": {},
   "source": [
    "Renowned for its robustness, the Random Forest is inherently adept at handling large, high-dimensional datasets and mitigating overfitting—a common pitfall in complex models. The ensemble nature of Random Forest, where multiple decision trees vote on the outcome, reduces variance and enhances performance stability. Nonetheless, it may incur considerable computational expense, particularly with a large number of trees, and can be less interpretable due to its ensemble complexity."
   ]
  },
  {
   "cell_type": "markdown",
   "id": "409c2189",
   "metadata": {},
   "source": [
    "Implementation within this study followed a systematic approach: An ensemble of decision trees was constructed, each predicated on a distinct bootstrap sample. Key parameters, such as the number of trees (denoted as n_estimators in machine learning frameworks), maximum depth, and the number of features considered at each split, were meticulously calibrated. The decision trees were trained individually, allowing the model to capture complex, nonlinear relationships without relying on a single overarching trend. For the predictive phase, the Random Forest aggregated outputs from individual trees. In regression tasks, such as the prediction of carbon prices, the ensemble's prediction corresponds to the average of the outputs, thereby converging towards a central tendency."
   ]
  },
  {
   "cell_type": "markdown",
   "id": "8c0f9549",
   "metadata": {},
   "source": [
    "## 3.3 LSTM Model"
   ]
  },
  {
   "cell_type": "markdown",
   "id": "0ede4e4a",
   "metadata": {},
   "source": [
    "# Section IV Data and Descriptive Statistics"
   ]
  },
  {
   "cell_type": "code",
   "execution_count": 2,
   "id": "4160a0fe",
   "metadata": {},
   "outputs": [],
   "source": [
    "carbon_price_url = 'https://raw.githubusercontent.com/Erica-zya/Honor-Thesis/main/Data/Data_New/Daily%20Carbon%20Price.csv'\n",
    "carbon_price = pd.read_csv(carbon_price_url, header=0)\n",
    "carbon_price['Date'] = pd.to_datetime(carbon_price['Date'])\n",
    "\n",
    "energy_price_url = 'https://raw.githubusercontent.com/Erica-zya/Honor-Thesis/main/Data/Data_New/Daily%20Energy.csv'\n",
    "energy_price = pd.read_csv(energy_price_url, header=0)\n",
    "energy_price['Date'] = pd.to_datetime(energy_price['Date'])\n",
    "\n",
    "policy_url = 'https://raw.githubusercontent.com/Erica-zya/Honor-Thesis/main/Data/Data_New/Daily%20Policy.csv'\n",
    "policy = pd.read_csv(policy_url, header=0)\n",
    "policy['Date'] = pd.to_datetime(policy['Date'])\n",
    "\n",
    "market_url = 'https://raw.githubusercontent.com/Erica-zya/Honor-Thesis/main/Data/Data_New/Daily%20Market.csv'\n",
    "market = pd.read_csv(market_url, header=0)\n",
    "market['Date'] = pd.to_datetime(market['Date'])\n",
    "\n",
    "weather_url = 'https://raw.githubusercontent.com/Erica-zya/Honor-Thesis/main/Data/Data_New/Daily%20Weather.csv'\n",
    "weather = pd.read_csv(weather_url, header=0)\n",
    "weather['Date'] = pd.to_datetime(weather['Date'])\n",
    "\n",
    "# Perform the merges\n",
    "df = pd.merge(carbon_price, energy_price, on='Date', how='inner')\n",
    "df = pd.merge(df, policy, on='Date', how='inner')\n",
    "df = pd.merge(df, market, on='Date', how='inner')\n",
    "df = pd.merge(df, weather, on='Date', how='inner')\n",
    "df = df.dropna()"
   ]
  },
  {
   "cell_type": "code",
   "execution_count": 3,
   "id": "f0aeda3f",
   "metadata": {
    "scrolled": true
   },
   "outputs": [
    {
     "data": {
      "text/html": [
       "<div>\n",
       "<style scoped>\n",
       "    .dataframe tbody tr th:only-of-type {\n",
       "        vertical-align: middle;\n",
       "    }\n",
       "\n",
       "    .dataframe tbody tr th {\n",
       "        vertical-align: top;\n",
       "    }\n",
       "\n",
       "    .dataframe thead th {\n",
       "        text-align: right;\n",
       "    }\n",
       "</style>\n",
       "<table border=\"1\" class=\"dataframe\">\n",
       "  <thead>\n",
       "    <tr style=\"text-align: right;\">\n",
       "      <th></th>\n",
       "      <th>Date</th>\n",
       "      <th>Carbon</th>\n",
       "      <th>Coal</th>\n",
       "      <th>Crude Oil</th>\n",
       "      <th>Natural Gas</th>\n",
       "      <th>Fit_for_55</th>\n",
       "      <th>Law</th>\n",
       "      <th>Compromise</th>\n",
       "      <th>EPU</th>\n",
       "      <th>DAX</th>\n",
       "      <th>SPGTCLNT</th>\n",
       "      <th>FTMIB</th>\n",
       "      <th>CAC40</th>\n",
       "      <th>AEX</th>\n",
       "      <th>STOXX</th>\n",
       "      <th>Temperature</th>\n",
       "      <th>Precipitation</th>\n",
       "      <th>Solar Energy</th>\n",
       "      <th>Wind Speed</th>\n",
       "    </tr>\n",
       "  </thead>\n",
       "  <tbody>\n",
       "    <tr>\n",
       "      <th>0</th>\n",
       "      <td>2024-01-31</td>\n",
       "      <td>64.40</td>\n",
       "      <td>99.60</td>\n",
       "      <td>81.71</td>\n",
       "      <td>30.235</td>\n",
       "      <td>1</td>\n",
       "      <td>1</td>\n",
       "      <td>1</td>\n",
       "      <td>321.779981</td>\n",
       "      <td>16903.76</td>\n",
       "      <td>1190.37</td>\n",
       "      <td>30744.24</td>\n",
       "      <td>7656.75</td>\n",
       "      <td>818.21</td>\n",
       "      <td>485.67</td>\n",
       "      <td>7.6</td>\n",
       "      <td>0.000</td>\n",
       "      <td>1.9</td>\n",
       "      <td>8.4</td>\n",
       "    </tr>\n",
       "    <tr>\n",
       "      <th>1</th>\n",
       "      <td>2024-01-30</td>\n",
       "      <td>64.02</td>\n",
       "      <td>96.15</td>\n",
       "      <td>82.87</td>\n",
       "      <td>29.391</td>\n",
       "      <td>1</td>\n",
       "      <td>1</td>\n",
       "      <td>1</td>\n",
       "      <td>321.779981</td>\n",
       "      <td>16972.34</td>\n",
       "      <td>1185.53</td>\n",
       "      <td>30623.27</td>\n",
       "      <td>7677.47</td>\n",
       "      <td>820.64</td>\n",
       "      <td>485.63</td>\n",
       "      <td>9.9</td>\n",
       "      <td>0.000</td>\n",
       "      <td>1.2</td>\n",
       "      <td>8.0</td>\n",
       "    </tr>\n",
       "    <tr>\n",
       "      <th>2</th>\n",
       "      <td>2024-01-29</td>\n",
       "      <td>61.77</td>\n",
       "      <td>94.30</td>\n",
       "      <td>82.40</td>\n",
       "      <td>28.175</td>\n",
       "      <td>1</td>\n",
       "      <td>1</td>\n",
       "      <td>1</td>\n",
       "      <td>321.779981</td>\n",
       "      <td>16941.71</td>\n",
       "      <td>1198.50</td>\n",
       "      <td>30233.61</td>\n",
       "      <td>7640.81</td>\n",
       "      <td>819.91</td>\n",
       "      <td>484.84</td>\n",
       "      <td>8.6</td>\n",
       "      <td>0.000</td>\n",
       "      <td>1.8</td>\n",
       "      <td>9.4</td>\n",
       "    </tr>\n",
       "    <tr>\n",
       "      <th>5</th>\n",
       "      <td>2024-01-26</td>\n",
       "      <td>63.10</td>\n",
       "      <td>106.00</td>\n",
       "      <td>83.55</td>\n",
       "      <td>28.079</td>\n",
       "      <td>1</td>\n",
       "      <td>1</td>\n",
       "      <td>1</td>\n",
       "      <td>321.779981</td>\n",
       "      <td>16961.39</td>\n",
       "      <td>1188.55</td>\n",
       "      <td>30379.33</td>\n",
       "      <td>7634.14</td>\n",
       "      <td>817.74</td>\n",
       "      <td>483.84</td>\n",
       "      <td>9.9</td>\n",
       "      <td>0.742</td>\n",
       "      <td>2.0</td>\n",
       "      <td>13.5</td>\n",
       "    </tr>\n",
       "    <tr>\n",
       "      <th>6</th>\n",
       "      <td>2024-01-25</td>\n",
       "      <td>63.41</td>\n",
       "      <td>105.60</td>\n",
       "      <td>82.43</td>\n",
       "      <td>27.785</td>\n",
       "      <td>1</td>\n",
       "      <td>1</td>\n",
       "      <td>1</td>\n",
       "      <td>321.779981</td>\n",
       "      <td>16906.92</td>\n",
       "      <td>1194.79</td>\n",
       "      <td>30157.80</td>\n",
       "      <td>7464.20</td>\n",
       "      <td>814.87</td>\n",
       "      <td>478.53</td>\n",
       "      <td>11.2</td>\n",
       "      <td>0.728</td>\n",
       "      <td>1.0</td>\n",
       "      <td>8.4</td>\n",
       "    </tr>\n",
       "  </tbody>\n",
       "</table>\n",
       "</div>"
      ],
      "text/plain": [
       "        Date  Carbon    Coal  Crude Oil  Natural Gas  Fit_for_55  Law  \\\n",
       "0 2024-01-31   64.40   99.60      81.71       30.235           1    1   \n",
       "1 2024-01-30   64.02   96.15      82.87       29.391           1    1   \n",
       "2 2024-01-29   61.77   94.30      82.40       28.175           1    1   \n",
       "5 2024-01-26   63.10  106.00      83.55       28.079           1    1   \n",
       "6 2024-01-25   63.41  105.60      82.43       27.785           1    1   \n",
       "\n",
       "   Compromise         EPU       DAX  SPGTCLNT     FTMIB    CAC40     AEX  \\\n",
       "0           1  321.779981  16903.76   1190.37  30744.24  7656.75  818.21   \n",
       "1           1  321.779981  16972.34   1185.53  30623.27  7677.47  820.64   \n",
       "2           1  321.779981  16941.71   1198.50  30233.61  7640.81  819.91   \n",
       "5           1  321.779981  16961.39   1188.55  30379.33  7634.14  817.74   \n",
       "6           1  321.779981  16906.92   1194.79  30157.80  7464.20  814.87   \n",
       "\n",
       "    STOXX  Temperature  Precipitation  Solar Energy  Wind Speed  \n",
       "0  485.67          7.6          0.000           1.9         8.4  \n",
       "1  485.63          9.9          0.000           1.2         8.0  \n",
       "2  484.84          8.6          0.000           1.8         9.4  \n",
       "5  483.84          9.9          0.742           2.0        13.5  \n",
       "6  478.53         11.2          0.728           1.0         8.4  "
      ]
     },
     "execution_count": 3,
     "metadata": {},
     "output_type": "execute_result"
    }
   ],
   "source": [
    "df.head()"
   ]
  },
  {
   "cell_type": "code",
   "execution_count": 4,
   "id": "7c36dcd4",
   "metadata": {},
   "outputs": [
    {
     "data": {
      "text/plain": [
       "763"
      ]
     },
     "execution_count": 4,
     "metadata": {},
     "output_type": "execute_result"
    }
   ],
   "source": [
    "df['Carbon'].count()"
   ]
  },
  {
   "cell_type": "markdown",
   "id": "ccc3c20d",
   "metadata": {},
   "source": [
    "In the analysis of carbon pricing trends within the European Union's Emissions Trading System (EU ETS), this study draws upon a meticulously compiled dataset encompassing the period from January 1, 2021, to January 31, 2024. During this time frame, a total of 763 data points were collected, providing a granular view of carbon price movements. The carbon price data, sourced from Investing.com, is critical for understanding the economic implications of regulatory shifts and market dynamics under the EU's climate policy framework."
   ]
  },
  {
   "cell_type": "markdown",
   "id": "ad7cba49",
   "metadata": {},
   "source": [
    "This timeframe is deliberately aligned with the initiation of Phase 4 of the European Union's Emissions Trading System (EU ETS), marking a significant transition from the system's previous phases. The focus on this specific period is due to the substantial regulatory shifts introduced in Phase 4, which differ markedly from the earlier phases in terms of emissions reduction targets and allowance allocation mechanisms."
   ]
  },
  {
   "cell_type": "markdown",
   "id": "1a8ad47b",
   "metadata": {},
   "source": [
    "Notably, in Phase 3 of the EU ETS (2013-2020), the Union-wide cap for stationary installations was subject to an annual decrease by a linear reduction factor of 1.74%, with the 2013 cap determined based on the average total quantity of allowances issued annually during 2008-2012. Conversely, Phase 4 (2021-2030) introduces a more aggressive approach to emissions reduction, with the cap on emissions decreasing annually at an increased linear reduction factor of 2.2%. This heightened ambition reflects the EU's commitment to achieving more substantial emissions reductions and necessitates an in-depth analysis of carbon pricing trends under the new regulatory framework. The study aims to isolate the impacts of these changes on carbon pricing, underscoring the importance of understanding the dynamics introduced by Phase 4's enhanced regulatory measures."
   ]
  },
  {
   "cell_type": "code",
   "execution_count": 5,
   "id": "c7c5e891",
   "metadata": {
    "scrolled": false
   },
   "outputs": [
    {
     "data": {
      "image/png": "[encoded data removed]",
      "text/plain": [
       "<Figure size 720x432 with 1 Axes>"
      ]
     },
     "metadata": {
      "needs_background": "light"
     },
     "output_type": "display_data"
    }
   ],
   "source": [
    "plt.figure(figsize=(10, 6))\n",
    "plt.plot(df['Date'], df['Carbon'], marker='o', markersize=1, linestyle='-')\n",
    "plt.title('Carbon Price Over Time')\n",
    "plt.xlabel('Date')\n",
    "plt.ylabel('Price')\n",
    "plt.xticks(rotation=45)  # Rotate x-axis labels for better readability\n",
    "plt.grid(True)\n",
    "plt.tight_layout()\n",
    "plt.show()"
   ]
  },
  {
   "cell_type": "code",
   "execution_count": 6,
   "id": "974f369e",
   "metadata": {
    "scrolled": false
   },
   "outputs": [
    {
     "name": "stdout",
     "output_type": "stream",
     "text": [
      "Carbon\n",
      "Mean: 72.98309305373526\n",
      "Variance: 270.6564305779436\n",
      "Standard Deviation: 16.451639145627514\n",
      "Maximum: 98.01\n",
      "Minimum: 31.96\n",
      "\n",
      "Coal\n",
      "Mean: 176.4729357798166\n",
      "Variance: 8734.74971604181\n",
      "Standard Deviation: 93.45988292332603\n",
      "Maximum: 439.0\n",
      "Minimum: 63.75\n",
      "\n",
      "Crude Oil\n",
      "Mean: 83.81741808650057\n",
      "Variance: 203.24808426985607\n",
      "Standard Deviation: 14.256510241635436\n",
      "Maximum: 127.98\n",
      "Minimum: 51.09\n",
      "\n",
      "Natural Gas\n",
      "Mean: 72.44877326343386\n",
      "Variance: 2982.6553067792393\n",
      "Standard Deviation: 54.61369156886613\n",
      "Maximum: 339.195\n",
      "Minimum: 15.525\n",
      "\n",
      "Fit_for_55\n",
      "Mean: 0.8296199213630406\n",
      "Variance: 0.1415362070566876\n",
      "Standard Deviation: 0.3762129809784447\n",
      "Maximum: 1\n",
      "Minimum: 0\n",
      "\n",
      "Law\n",
      "Mean: 0.21756225425950196\n",
      "Variance: 0.17045231731355004\n",
      "Standard Deviation: 0.41285871350081743\n",
      "Maximum: 1\n",
      "Minimum: 0\n",
      "\n",
      "Compromise\n",
      "Mean: 0.24508519003931847\n",
      "Variance: 0.18526124601397495\n",
      "Standard Deviation: 0.43041984853625764\n",
      "Maximum: 1\n",
      "Minimum: 0\n",
      "\n",
      "EPU\n",
      "Mean: 276.877176285846\n",
      "Variance: 4871.89127434141\n",
      "Standard Deviation: 69.7989346218222\n",
      "Maximum: 418.6188409\n",
      "Minimum: 141.3860555\n",
      "\n",
      "DAX\n",
      "Mean: 14980.426762778521\n",
      "Variance: 1171893.5474059123\n",
      "Standard Deviation: 1082.5403213764891\n",
      "Maximum: 16972.34\n",
      "Minimum: 11975.55\n",
      "\n",
      "SPGTCLNT\n",
      "Mean: 1699.2062123197911\n",
      "Variance: 87424.6386949523\n",
      "Standard Deviation: 295.67657785991827\n",
      "Maximum: 2720.79\n",
      "Minimum: 1088.34\n",
      "\n",
      "FTMIB\n",
      "Mean: 25692.047509829656\n",
      "Variance: 5831316.844890379\n",
      "Standard Deviation: 2414.811968847757\n",
      "Maximum: 30744.24\n",
      "Minimum: 20352.98\n",
      "\n",
      "CAC40\n",
      "Mean: 6722.626304062907\n",
      "Variance: 276824.60597582324\n",
      "Standard Deviation: 526.1412414702189\n",
      "Maximum: 7677.47\n",
      "Minimum: 5399.21\n",
      "\n",
      "AEX\n",
      "Mean: 732.6947051114023\n",
      "Variance: 2022.5656593289386\n",
      "Standard Deviation: 44.97294363646812\n",
      "Maximum: 827.57\n",
      "Minimum: 630.58\n",
      "\n",
      "STOXX\n",
      "Mean: 448.01124508518967\n",
      "Variance: 525.1235786314563\n",
      "Standard Deviation: 22.915575022928323\n",
      "Maximum: 494.35\n",
      "Minimum: 382.89\n",
      "\n",
      "Temperature\n",
      "Mean: 12.942463958060296\n",
      "Variance: 44.03102909154704\n",
      "Standard Deviation: 6.635588074281513\n",
      "Maximum: 31.1\n",
      "Minimum: -3.2\n",
      "\n",
      "Precipitation\n",
      "Mean: 1.5343958060288325\n",
      "Variance: 16.386130976990227\n",
      "Standard Deviation: 4.047978628524393\n",
      "Maximum: 36.032\n",
      "Minimum: 0.0\n",
      "\n",
      "Solar Energy\n",
      "Mean: 6.754128440366971\n",
      "Variance: 34.61983529581742\n",
      "Standard Deviation: 5.883862277094648\n",
      "Maximum: 27.1\n",
      "Minimum: 0.1\n",
      "\n",
      "Wind Speed\n",
      "Mean: 11.391743119266048\n",
      "Variance: 14.595351681957187\n",
      "Standard Deviation: 3.8203863262708375\n",
      "Maximum: 30.7\n",
      "Minimum: 3.8\n",
      "\n"
     ]
    }
   ],
   "source": [
    "for column_name in df.columns[1:]:\n",
    "    column = df[column_name]\n",
    "    mean = column.mean()\n",
    "    variance = column.var()\n",
    "    sd = column.std()\n",
    "    max_value = column.max()\n",
    "    min_value = column.min()\n",
    "    \n",
    "    print(column_name)\n",
    "    print(\"Mean:\", mean)\n",
    "    print(\"Variance:\", variance)\n",
    "    print(\"Standard Deviation:\", sd)\n",
    "    print(\"Maximum:\", max_value)\n",
    "    print(\"Minimum:\", min_value)\n",
    "    print()"
   ]
  },
  {
   "cell_type": "markdown",
   "id": "319703dc",
   "metadata": {},
   "source": [
    "The descriptive statistics of our dataset from January 2021 to January 2024 reveal the carbon price's behavior during the EU ETS Phase 4, with a mean value of €72.98 and standard deviation indicating market volatility. The time series plot underscores these price fluctuations over the 763 observations. Complementing this, we observed varied patterns in related energy commodities and European stock indices, alongside weather variables that could influence emission levels and carbon market dynamics, all of which will be explored further in our econometric analysis."
   ]
  },
  {
   "cell_type": "markdown",
   "id": "1da345fc",
   "metadata": {},
   "source": [
    "# Section V Forcasting of Carbon Price"
   ]
  },
  {
   "cell_type": "markdown",
   "id": "81a3b932",
   "metadata": {},
   "source": [
    "## 5.1 Evaluation Criteria"
   ]
  },
  {
   "cell_type": "markdown",
   "id": "ef82169d",
   "metadata": {},
   "source": [
    "## 5.2 Parameter Determination"
   ]
  },
  {
   "cell_type": "markdown",
   "id": "70426b95",
   "metadata": {},
   "source": [
    "### AR Model"
   ]
  },
  {
   "cell_type": "markdown",
   "id": "e55f0cb2",
   "metadata": {},
   "source": [
    "##### AR(1)"
   ]
  },
  {
   "cell_type": "code",
   "execution_count": 7,
   "id": "b2c8edf8",
   "metadata": {},
   "outputs": [
    {
     "name": "stdout",
     "output_type": "stream",
     "text": [
      "                            AutoReg Model Results                             \n",
      "==============================================================================\n",
      "Dep. Variable:                 Carbon   No. Observations:                  763\n",
      "Model:                     AutoReg(1)   Log Likelihood               -1634.677\n",
      "Method:               Conditional MLE   S.D. of innovations              2.067\n",
      "Date:                Mon, 08 Apr 2024   AIC                              1.460\n",
      "Time:                        14:46:20   BIC                              1.479\n",
      "Sample:                             1   HQIC                             1.468\n",
      "                                  763                                         \n",
      "==============================================================================\n",
      "                 coef    std err          z      P>|z|      [0.025      0.975]\n",
      "------------------------------------------------------------------------------\n",
      "intercept      0.2818      0.342      0.824      0.410      -0.389       0.952\n",
      "Carbon.L1      0.9956      0.005    217.881      0.000       0.987       1.005\n",
      "                                    Roots                                    \n",
      "=============================================================================\n",
      "                  Real          Imaginary           Modulus         Frequency\n",
      "-----------------------------------------------------------------------------\n",
      "AR.1            1.0044           +0.0000j            1.0044            0.0000\n",
      "-----------------------------------------------------------------------------\n"
     ]
    },
    {
     "name": "stderr",
     "output_type": "stream",
     "text": [
      "C:\\Users\\Erica Zhao\\anaconda3\\lib\\site-packages\\statsmodels\\tsa\\base\\tsa_model.py:578: ValueWarning: An unsupported index was provided and will be ignored when e.g. forecasting.\n",
      "  warnings.warn('An unsupported index was provided and will be'\n",
      "C:\\Users\\Erica Zhao\\anaconda3\\lib\\site-packages\\statsmodels\\tsa\\ar_model.py:248: FutureWarning: The parameter names will change after 0.12 is released. Set old_names to False to use the new names now. Set old_names to True to use the old names. \n",
      "  warnings.warn(\n"
     ]
    }
   ],
   "source": [
    "y = df['Carbon']\n",
    "\n",
    "modelAR1 = AutoReg(y, lags=1)\n",
    "resultAR1 = modelAR1.fit()\n",
    "\n",
    "print(resultAR1.summary())"
   ]
  },
  {
   "cell_type": "code",
   "execution_count": 8,
   "id": "e16b3184",
   "metadata": {},
   "outputs": [
    {
     "name": "stdout",
     "output_type": "stream",
     "text": [
      "ADF Statistic: -0.860279\n",
      "p-value: 0.800772\n",
      "Critical Values:\n",
      "\t1%: -3.439\n",
      "\t5%: -2.865\n",
      "\t10%: -2.569\n"
     ]
    }
   ],
   "source": [
    "from statsmodels.tsa.stattools import adfuller\n",
    "\n",
    "adf_result = adfuller(y)\n",
    "\n",
    "print('ADF Statistic: %f' % adf_result[0])\n",
    "print('p-value: %f' % adf_result[1])\n",
    "print('Critical Values:')\n",
    "for key, value in adf_result[4].items():\n",
    "    print('\\t%s: %.3f' % (key, value))"
   ]
  },
  {
   "cell_type": "code",
   "execution_count": 9,
   "id": "ed7519af",
   "metadata": {},
   "outputs": [
    {
     "name": "stdout",
     "output_type": "stream",
     "text": [
      "                            AutoReg Model Results                             \n",
      "==============================================================================\n",
      "Dep. Variable:                 Carbon   No. Observations:                  762\n",
      "Model:                     AutoReg(1)   Log Likelihood               -1632.719\n",
      "Method:               Conditional MLE   S.D. of innovations              2.068\n",
      "Date:                Mon, 08 Apr 2024   AIC                              1.461\n",
      "Time:                        14:46:21   BIC                              1.479\n",
      "Sample:                             1   HQIC                             1.468\n",
      "                                  762                                         \n",
      "==============================================================================\n",
      "                 coef    std err          z      P>|z|      [0.025      0.975]\n",
      "------------------------------------------------------------------------------\n",
      "intercept     -0.0414      0.075     -0.553      0.581      -0.188       0.106\n",
      "Carbon.L1     -0.0448      0.036     -1.236      0.216      -0.116       0.026\n",
      "                                    Roots                                    \n",
      "=============================================================================\n",
      "                  Real          Imaginary           Modulus         Frequency\n",
      "-----------------------------------------------------------------------------\n",
      "AR.1          -22.3400           +0.0000j           22.3400            0.5000\n",
      "-----------------------------------------------------------------------------\n"
     ]
    },
    {
     "name": "stderr",
     "output_type": "stream",
     "text": [
      "C:\\Users\\Erica Zhao\\anaconda3\\lib\\site-packages\\statsmodels\\tsa\\base\\tsa_model.py:578: ValueWarning: An unsupported index was provided and will be ignored when e.g. forecasting.\n",
      "  warnings.warn('An unsupported index was provided and will be'\n",
      "C:\\Users\\Erica Zhao\\anaconda3\\lib\\site-packages\\statsmodels\\tsa\\ar_model.py:248: FutureWarning: The parameter names will change after 0.12 is released. Set old_names to False to use the new names now. Set old_names to True to use the old names. \n",
      "  warnings.warn(\n"
     ]
    }
   ],
   "source": [
    "y_diff = y.diff().dropna()\n",
    "\n",
    "\n",
    "modelAR1_diff = AutoReg(y_diff, lags=1)\n",
    "resultAR1_diff = modelAR1_diff.fit()\n",
    "\n",
    "print(resultAR1_diff.summary())"
   ]
  },
  {
   "cell_type": "markdown",
   "id": "fd20b634",
   "metadata": {},
   "source": [
    "##### AR(2)"
   ]
  },
  {
   "cell_type": "code",
   "execution_count": 10,
   "id": "929d4adb",
   "metadata": {
    "scrolled": false
   },
   "outputs": [
    {
     "name": "stdout",
     "output_type": "stream",
     "text": [
      "                            AutoReg Model Results                             \n",
      "==============================================================================\n",
      "Dep. Variable:                 Carbon   No. Observations:                  763\n",
      "Model:                     AutoReg(2)   Log Likelihood               -1632.351\n",
      "Method:               Conditional MLE   S.D. of innovations              2.067\n",
      "Date:                Mon, 08 Apr 2024   AIC                              1.463\n",
      "Time:                        14:46:21   BIC                              1.487\n",
      "Sample:                             2   HQIC                             1.472\n",
      "                                  763                                         \n",
      "==============================================================================\n",
      "                 coef    std err          z      P>|z|      [0.025      0.975]\n",
      "------------------------------------------------------------------------------\n",
      "intercept      0.2461      0.344      0.716      0.474      -0.427       0.920\n",
      "Carbon.L1      0.9542      0.036     26.344      0.000       0.883       1.025\n",
      "Carbon.L2      0.0419      0.036      1.152      0.249      -0.029       0.113\n",
      "                                    Roots                                    \n",
      "=============================================================================\n",
      "                  Real          Imaginary           Modulus         Frequency\n",
      "-----------------------------------------------------------------------------\n",
      "AR.1            1.0038           +0.0000j            1.0038            0.0000\n",
      "AR.2          -23.7879           +0.0000j           23.7879            0.5000\n",
      "-----------------------------------------------------------------------------\n"
     ]
    },
    {
     "name": "stderr",
     "output_type": "stream",
     "text": [
      "C:\\Users\\Erica Zhao\\anaconda3\\lib\\site-packages\\statsmodels\\tsa\\base\\tsa_model.py:578: ValueWarning: An unsupported index was provided and will be ignored when e.g. forecasting.\n",
      "  warnings.warn('An unsupported index was provided and will be'\n",
      "C:\\Users\\Erica Zhao\\anaconda3\\lib\\site-packages\\statsmodels\\tsa\\ar_model.py:248: FutureWarning: The parameter names will change after 0.12 is released. Set old_names to False to use the new names now. Set old_names to True to use the old names. \n",
      "  warnings.warn(\n"
     ]
    }
   ],
   "source": [
    "modelAR2 = AutoReg(y, lags=2)\n",
    "resultAR2 = modelAR2.fit()\n",
    "\n",
    "print(resultAR2.summary())"
   ]
  },
  {
   "cell_type": "code",
   "execution_count": 11,
   "id": "94255166",
   "metadata": {},
   "outputs": [
    {
     "name": "stdout",
     "output_type": "stream",
     "text": [
      "ADF Statistic: -23.324922\n",
      "p-value: 0.000000\n",
      "Critical Values:\n",
      "\t1%: -3.443\n",
      "\t5%: -2.867\n",
      "\t10%: -2.570\n"
     ]
    }
   ],
   "source": [
    "residuals = resultAR2.resid\n",
    "\n",
    "if np.isnan(residuals).any() or np.isinf(residuals).any():\n",
    "    residuals = residuals[~(np.isnan(residuals) | np.isinf(residuals))]\n",
    "\n",
    "adf_test = adfuller(residuals)\n",
    "\n",
    "print('ADF Statistic: %f' % adf_test[0])\n",
    "print('p-value: %f' % adf_test[1])\n",
    "print('Critical Values:')\n",
    "for key, value in adf_test[4].items():\n",
    "    print('\\t%s: %.3f' % (key, value))\n"
   ]
  },
  {
   "cell_type": "markdown",
   "id": "09724253",
   "metadata": {},
   "source": [
    "### ARIMA Model"
   ]
  },
  {
   "cell_type": "code",
   "execution_count": 12,
   "id": "07f6ab18",
   "metadata": {},
   "outputs": [],
   "source": [
    "X = df.drop(columns=['Date','Carbon'])\n",
    "_y = df['Carbon']"
   ]
  },
  {
   "cell_type": "code",
   "execution_count": 13,
   "id": "5a02a1a0",
   "metadata": {
    "scrolled": true
   },
   "outputs": [
    {
     "data": {
      "text/plain": [
       "<Figure size 720x432 with 0 Axes>"
      ]
     },
     "metadata": {},
     "output_type": "display_data"
    },
    {
     "data": {
      "image/png": "[encoded data removed]",
      "text/plain": [
       "<Figure size 432x288 with 1 Axes>"
      ]
     },
     "metadata": {
      "needs_background": "light"
     },
     "output_type": "display_data"
    }
   ],
   "source": [
    "plt.figure(figsize=(10, 6))\n",
    "plot_acf(df['Carbon'], lags=5, alpha=0.05)\n",
    "plt.title('Autocorrelation Function for Carbon Price')\n",
    "plt.show()"
   ]
  },
  {
   "cell_type": "code",
   "execution_count": 14,
   "id": "7c51f4c4",
   "metadata": {
    "scrolled": true
   },
   "outputs": [
    {
     "data": {
      "text/plain": [
       "<Figure size 720x432 with 0 Axes>"
      ]
     },
     "metadata": {},
     "output_type": "display_data"
    },
    {
     "data": {
      "image/png": "[encoded data removed]",
      "text/plain": [
       "<Figure size 432x288 with 1 Axes>"
      ]
     },
     "metadata": {
      "needs_background": "light"
     },
     "output_type": "display_data"
    }
   ],
   "source": [
    "plt.figure(figsize=(10, 6))\n",
    "plot_pacf(_y, lags=5, alpha=0.05)\n",
    "plt.title('Partial Autocorrelation Function')\n",
    "plt.show()"
   ]
  },
  {
   "cell_type": "markdown",
   "id": "35ad24d1",
   "metadata": {},
   "source": [
    "##### ARIMA(1,0,0)"
   ]
  },
  {
   "cell_type": "code",
   "execution_count": 15,
   "id": "15a84a8c",
   "metadata": {},
   "outputs": [
    {
     "name": "stderr",
     "output_type": "stream",
     "text": [
      "C:\\Users\\Erica Zhao\\anaconda3\\lib\\site-packages\\statsmodels\\tsa\\base\\tsa_model.py:578: ValueWarning: An unsupported index was provided and will be ignored when e.g. forecasting.\n",
      "  warnings.warn('An unsupported index was provided and will be'\n",
      "C:\\Users\\Erica Zhao\\anaconda3\\lib\\site-packages\\statsmodels\\tsa\\base\\tsa_model.py:578: ValueWarning: An unsupported index was provided and will be ignored when e.g. forecasting.\n",
      "  warnings.warn('An unsupported index was provided and will be'\n",
      "C:\\Users\\Erica Zhao\\anaconda3\\lib\\site-packages\\statsmodels\\tsa\\base\\tsa_model.py:578: ValueWarning: An unsupported index was provided and will be ignored when e.g. forecasting.\n",
      "  warnings.warn('An unsupported index was provided and will be'\n"
     ]
    },
    {
     "name": "stdout",
     "output_type": "stream",
     "text": [
      "                               SARIMAX Results                                \n",
      "==============================================================================\n",
      "Dep. Variable:                 Carbon   No. Observations:                  763\n",
      "Model:                 ARIMA(1, 0, 0)   Log Likelihood               -1676.669\n",
      "Date:                Mon, 08 Apr 2024   AIC                           3393.337\n",
      "Time:                        14:46:27   BIC                           3486.083\n",
      "Sample:                             0   HQIC                          3429.045\n",
      "                                - 763                                         \n",
      "Covariance Type:                  opg                                         \n",
      "=================================================================================\n",
      "                    coef    std err          z      P>|z|      [0.025      0.975]\n",
      "---------------------------------------------------------------------------------\n",
      "const            17.3399     10.978      1.580      0.114      -4.176      38.856\n",
      "Coal             -0.0049      0.008     -0.614      0.539      -0.020       0.011\n",
      "Crude Oil         0.2873      0.038      7.631      0.000       0.213       0.361\n",
      "Natural Gas       0.0111      0.010      1.164      0.244      -0.008       0.030\n",
      "Fit_for_55        9.3800      1.074      8.736      0.000       7.276      11.484\n",
      "Law               2.9449      1.243      2.369      0.018       0.508       5.382\n",
      "Compromise       -2.2883      1.159     -1.974      0.048      -4.560      -0.017\n",
      "EPU              -0.0335      0.005     -6.321      0.000      -0.044      -0.023\n",
      "DAX              -0.0038      0.002     -2.023      0.043      -0.007      -0.000\n",
      "SPGTCLNT         -0.0057      0.003     -2.036      0.042      -0.011      -0.000\n",
      "FTMIB            -0.0017      0.001     -2.444      0.015      -0.003      -0.000\n",
      "CAC40             0.0264      0.004      6.982      0.000       0.019       0.034\n",
      "AEX              -0.0789      0.030     -2.595      0.009      -0.139      -0.019\n",
      "STOXX             0.0481      0.082      0.588      0.556      -0.112       0.208\n",
      "Temperature      -0.0032      0.041     -0.077      0.938      -0.084       0.078\n",
      "Precipitation     0.0305      0.022      1.392      0.164      -0.012       0.073\n",
      "Solar Energy      0.0430      0.034      1.277      0.201      -0.023       0.109\n",
      "Wind Speed        0.0008      0.028      0.030      0.976      -0.054       0.056\n",
      "ar.L1             0.9049      0.014     64.106      0.000       0.877       0.933\n",
      "sigma2            5.5699      0.281     19.797      0.000       5.018       6.121\n",
      "===================================================================================\n",
      "Ljung-Box (L1) (Q):                   0.38   Jarque-Bera (JB):               194.70\n",
      "Prob(Q):                              0.54   Prob(JB):                         0.00\n",
      "Heteroskedasticity (H):               0.94   Skew:                             0.36\n",
      "Prob(H) (two-sided):                  0.60   Kurtosis:                         5.37\n",
      "===================================================================================\n",
      "\n",
      "Warnings:\n",
      "[1] Covariance matrix calculated using the outer product of gradients (complex-step).\n"
     ]
    },
    {
     "name": "stderr",
     "output_type": "stream",
     "text": [
      "C:\\Users\\Erica Zhao\\anaconda3\\lib\\site-packages\\statsmodels\\base\\model.py:566: ConvergenceWarning: Maximum Likelihood optimization failed to converge. Check mle_retvals\n",
      "  warnings.warn(\"Maximum Likelihood optimization failed to \"\n"
     ]
    }
   ],
   "source": [
    "model_arima100 = ARIMA(_y, exog=X, order=(1,0,0))\n",
    "model_arima100_fit = model_arima100.fit()\n",
    "\n",
    "print(model_arima100_fit.summary())"
   ]
  },
  {
   "cell_type": "markdown",
   "id": "ddcbf0f0",
   "metadata": {},
   "source": [
    "##### ARIMA(1,0,1)"
   ]
  },
  {
   "cell_type": "code",
   "execution_count": 16,
   "id": "380015d7",
   "metadata": {
    "scrolled": false
   },
   "outputs": [
    {
     "name": "stderr",
     "output_type": "stream",
     "text": [
      "C:\\Users\\Erica Zhao\\anaconda3\\lib\\site-packages\\statsmodels\\tsa\\base\\tsa_model.py:578: ValueWarning: An unsupported index was provided and will be ignored when e.g. forecasting.\n",
      "  warnings.warn('An unsupported index was provided and will be'\n",
      "C:\\Users\\Erica Zhao\\anaconda3\\lib\\site-packages\\statsmodels\\tsa\\base\\tsa_model.py:578: ValueWarning: An unsupported index was provided and will be ignored when e.g. forecasting.\n",
      "  warnings.warn('An unsupported index was provided and will be'\n",
      "C:\\Users\\Erica Zhao\\anaconda3\\lib\\site-packages\\statsmodels\\tsa\\base\\tsa_model.py:578: ValueWarning: An unsupported index was provided and will be ignored when e.g. forecasting.\n",
      "  warnings.warn('An unsupported index was provided and will be'\n"
     ]
    },
    {
     "name": "stdout",
     "output_type": "stream",
     "text": [
      "                               SARIMAX Results                                \n",
      "==============================================================================\n",
      "Dep. Variable:                 Carbon   No. Observations:                  763\n",
      "Model:                 ARIMA(1, 0, 1)   Log Likelihood               -1683.086\n",
      "Date:                Mon, 08 Apr 2024   AIC                           3408.172\n",
      "Time:                        14:46:31   BIC                           3505.554\n",
      "Sample:                             0   HQIC                          3445.665\n",
      "                                - 763                                         \n",
      "Covariance Type:                  opg                                         \n",
      "=================================================================================\n",
      "                    coef    std err          z      P>|z|      [0.025      0.975]\n",
      "---------------------------------------------------------------------------------\n",
      "const            17.3399     11.018      1.574      0.116      -4.254      38.934\n",
      "Coal             -0.0163      0.008     -1.992      0.046      -0.032      -0.000\n",
      "Crude Oil         0.2955      0.037      8.002      0.000       0.223       0.368\n",
      "Natural Gas       0.0050      0.009      0.538      0.591      -0.013       0.023\n",
      "Fit_for_55        9.3800      1.078      8.704      0.000       7.268      11.492\n",
      "Law               2.9450      1.398      2.106      0.035       0.204       5.686\n",
      "Compromise       -2.2884      1.246     -1.836      0.066      -4.731       0.154\n",
      "EPU              -0.0143      0.005     -3.105      0.002      -0.023      -0.005\n",
      "DAX              -0.0043      0.002     -2.290      0.022      -0.008      -0.001\n",
      "SPGTCLNT         -0.0037      0.003     -1.339      0.181      -0.009       0.002\n",
      "FTMIB            -0.0024      0.001     -3.450      0.001      -0.004      -0.001\n",
      "CAC40             0.0299      0.004      8.224      0.000       0.023       0.037\n",
      "AEX              -0.0851      0.031     -2.754      0.006      -0.146      -0.025\n",
      "STOXX             0.0482      0.083      0.581      0.561      -0.114       0.211\n",
      "Temperature      -0.0032      0.041     -0.078      0.938      -0.083       0.077\n",
      "Precipitation     0.0316      0.022      1.455      0.146      -0.011       0.074\n",
      "Solar Energy      0.0489      0.034      1.424      0.154      -0.018       0.116\n",
      "Wind Speed        0.0067      0.028      0.237      0.813      -0.049       0.062\n",
      "ar.L1             0.9101      0.016     56.671      0.000       0.879       0.942\n",
      "ma.L1            -0.0338      0.044     -0.762      0.446      -0.121       0.053\n",
      "sigma2            5.5845      0.289     19.324      0.000       5.018       6.151\n",
      "===================================================================================\n",
      "Ljung-Box (L1) (Q):                   1.58   Jarque-Bera (JB):               193.69\n",
      "Prob(Q):                              0.21   Prob(JB):                         0.00\n",
      "Heteroskedasticity (H):               0.91   Skew:                             0.37\n",
      "Prob(H) (two-sided):                  0.44   Kurtosis:                         5.35\n",
      "===================================================================================\n",
      "\n",
      "Warnings:\n",
      "[1] Covariance matrix calculated using the outer product of gradients (complex-step).\n"
     ]
    }
   ],
   "source": [
    "model_arima101 = ARIMA(_y, exog=X, order=(1,0,1))\n",
    "model_arima101_fit = model_arima101.fit()\n",
    "\n",
    "print(model_arima101_fit.summary())"
   ]
  },
  {
   "cell_type": "markdown",
   "id": "06700fde",
   "metadata": {},
   "source": [
    "##### ARIMA(1,1,0)"
   ]
  },
  {
   "cell_type": "code",
   "execution_count": 17,
   "id": "ac358426",
   "metadata": {},
   "outputs": [
    {
     "name": "stderr",
     "output_type": "stream",
     "text": [
      "C:\\Users\\Erica Zhao\\anaconda3\\lib\\site-packages\\statsmodels\\tsa\\base\\tsa_model.py:578: ValueWarning: An unsupported index was provided and will be ignored when e.g. forecasting.\n",
      "  warnings.warn('An unsupported index was provided and will be'\n",
      "C:\\Users\\Erica Zhao\\anaconda3\\lib\\site-packages\\statsmodels\\tsa\\base\\tsa_model.py:578: ValueWarning: An unsupported index was provided and will be ignored when e.g. forecasting.\n",
      "  warnings.warn('An unsupported index was provided and will be'\n",
      "C:\\Users\\Erica Zhao\\anaconda3\\lib\\site-packages\\statsmodels\\tsa\\base\\tsa_model.py:578: ValueWarning: An unsupported index was provided and will be ignored when e.g. forecasting.\n",
      "  warnings.warn('An unsupported index was provided and will be'\n"
     ]
    },
    {
     "name": "stdout",
     "output_type": "stream",
     "text": [
      "                               SARIMAX Results                                \n",
      "==============================================================================\n",
      "Dep. Variable:                 Carbon   No. Observations:                  763\n",
      "Model:                 ARIMA(1, 1, 0)   Log Likelihood               -1587.702\n",
      "Date:                Mon, 08 Apr 2024   AIC                           3213.405\n",
      "Time:                        14:46:34   BIC                           3301.488\n",
      "Sample:                             0   HQIC                          3247.320\n",
      "                                - 763                                         \n",
      "Covariance Type:                  opg                                         \n",
      "=================================================================================\n",
      "                    coef    std err          z      P>|z|      [0.025      0.975]\n",
      "---------------------------------------------------------------------------------\n",
      "Coal             -0.0032      0.007     -0.460      0.645      -0.017       0.010\n",
      "Crude Oil         0.0447      0.037      1.204      0.228      -0.028       0.117\n",
      "Natural Gas       0.0136      0.008      1.791      0.073      -0.001       0.029\n",
      "Fit_for_55        0.4908     30.120      0.016      0.987     -58.543      59.525\n",
      "Law              -2.9831     17.549     -0.170      0.865     -37.379      31.413\n",
      "Compromise        2.7217     10.646      0.256      0.798     -18.144      23.587\n",
      "EPU              -0.0390      0.005     -8.488      0.000      -0.048      -0.030\n",
      "DAX               0.0019      0.002      1.212      0.225      -0.001       0.005\n",
      "SPGTCLNT         -0.0037      0.002     -1.694      0.090      -0.008       0.001\n",
      "FTMIB             0.0008      0.001      1.410      0.159      -0.000       0.002\n",
      "CAC40             0.0110      0.004      3.111      0.002       0.004       0.018\n",
      "AEX               0.0090      0.023      0.396      0.692      -0.036       0.054\n",
      "STOXX            -0.2122      0.068     -3.123      0.002      -0.345      -0.079\n",
      "Temperature       0.0439      0.029      1.539      0.124      -0.012       0.100\n",
      "Precipitation     0.0023      0.014      0.160      0.873      -0.026       0.030\n",
      "Solar Energy     -0.0046      0.025     -0.181      0.856      -0.054       0.045\n",
      "Wind Speed       -0.0203      0.020     -0.994      0.320      -0.060       0.020\n",
      "ar.L1            -0.1055      0.029     -3.599      0.000      -0.163      -0.048\n",
      "sigma2            3.7834      0.145     26.114      0.000       3.499       4.067\n",
      "===================================================================================\n",
      "Ljung-Box (L1) (Q):                   0.01   Jarque-Bera (JB):               279.70\n",
      "Prob(Q):                              0.91   Prob(JB):                         0.00\n",
      "Heteroskedasticity (H):               1.00   Skew:                             0.33\n",
      "Prob(H) (two-sided):                  1.00   Kurtosis:                         5.89\n",
      "===================================================================================\n",
      "\n",
      "Warnings:\n",
      "[1] Covariance matrix calculated using the outer product of gradients (complex-step).\n"
     ]
    }
   ],
   "source": [
    "model_arima110 = ARIMA(_y, exog=X, order=(1,1,0))\n",
    "model_arima110_fit = model_arima110.fit()\n",
    "\n",
    "print(model_arima110_fit.summary())"
   ]
  },
  {
   "cell_type": "markdown",
   "id": "156f35f1",
   "metadata": {},
   "source": [
    "##### ARIMA(1,1,1); Best Performing Model"
   ]
  },
  {
   "cell_type": "code",
   "execution_count": 18,
   "id": "67bc7fd6",
   "metadata": {
    "scrolled": false
   },
   "outputs": [
    {
     "name": "stderr",
     "output_type": "stream",
     "text": [
      "C:\\Users\\Erica Zhao\\anaconda3\\lib\\site-packages\\statsmodels\\tsa\\base\\tsa_model.py:578: ValueWarning: An unsupported index was provided and will be ignored when e.g. forecasting.\n",
      "  warnings.warn('An unsupported index was provided and will be'\n",
      "C:\\Users\\Erica Zhao\\anaconda3\\lib\\site-packages\\statsmodels\\tsa\\base\\tsa_model.py:578: ValueWarning: An unsupported index was provided and will be ignored when e.g. forecasting.\n",
      "  warnings.warn('An unsupported index was provided and will be'\n",
      "C:\\Users\\Erica Zhao\\anaconda3\\lib\\site-packages\\statsmodels\\tsa\\base\\tsa_model.py:578: ValueWarning: An unsupported index was provided and will be ignored when e.g. forecasting.\n",
      "  warnings.warn('An unsupported index was provided and will be'\n"
     ]
    },
    {
     "name": "stdout",
     "output_type": "stream",
     "text": [
      "                               SARIMAX Results                                \n",
      "==============================================================================\n",
      "Dep. Variable:                 Carbon   No. Observations:                  763\n",
      "Model:                 ARIMA(1, 1, 1)   Log Likelihood               -1585.450\n",
      "Date:                Mon, 08 Apr 2024   AIC                           3210.899\n",
      "Time:                        14:46:41   BIC                           3303.618\n",
      "Sample:                             0   HQIC                          3246.599\n",
      "                                - 763                                         \n",
      "Covariance Type:                  opg                                         \n",
      "=================================================================================\n",
      "                    coef    std err          z      P>|z|      [0.025      0.975]\n",
      "---------------------------------------------------------------------------------\n",
      "Coal             -0.0040      0.007     -0.573      0.567      -0.018       0.010\n",
      "Crude Oil         0.0395      0.037      1.076      0.282      -0.032       0.112\n",
      "Natural Gas       0.0153      0.008      1.986      0.047       0.000       0.030\n",
      "Fit_for_55        0.4909     21.805      0.023      0.982     -42.246      43.228\n",
      "Law              -2.9832      7.592     -0.393      0.694     -17.864      11.898\n",
      "Compromise        2.7216      8.843      0.308      0.758     -14.610      20.054\n",
      "EPU              -0.0378      0.005     -7.701      0.000      -0.047      -0.028\n",
      "DAX               0.0021      0.002      1.383      0.167      -0.001       0.005\n",
      "SPGTCLNT         -0.0037      0.002     -1.686      0.092      -0.008       0.001\n",
      "FTMIB             0.0007      0.001      1.343      0.179      -0.000       0.002\n",
      "CAC40             0.0108      0.004      3.064      0.002       0.004       0.018\n",
      "AEX               0.0087      0.023      0.382      0.702      -0.036       0.053\n",
      "STOXX            -0.2107      0.068     -3.100      0.002      -0.344      -0.077\n",
      "Temperature       0.0415      0.028      1.459      0.145      -0.014       0.097\n",
      "Precipitation     0.0028      0.014      0.197      0.844      -0.025       0.030\n",
      "Solar Energy     -0.0043      0.025     -0.172      0.863      -0.053       0.045\n",
      "Wind Speed       -0.0210      0.020     -1.040      0.298      -0.060       0.019\n",
      "ar.L1            -0.5980      0.177     -3.387      0.001      -0.944      -0.252\n",
      "ma.L1             0.4898      0.191      2.571      0.010       0.116       0.863\n",
      "sigma2            3.7628      0.145     25.869      0.000       3.478       4.048\n",
      "===================================================================================\n",
      "Ljung-Box (L1) (Q):                   0.06   Jarque-Bera (JB):               261.58\n",
      "Prob(Q):                              0.81   Prob(JB):                         0.00\n",
      "Heteroskedasticity (H):               1.01   Skew:                             0.35\n",
      "Prob(H) (two-sided):                  0.96   Kurtosis:                         5.78\n",
      "===================================================================================\n",
      "\n",
      "Warnings:\n",
      "[1] Covariance matrix calculated using the outer product of gradients (complex-step).\n"
     ]
    }
   ],
   "source": [
    "model_arima111 = ARIMA(_y, exog=X, order=(1,1,1))\n",
    "model_arima111_fit = model_arima111.fit()\n",
    "\n",
    "print(model_arima111_fit.summary())"
   ]
  },
  {
   "cell_type": "markdown",
   "id": "3733b83a",
   "metadata": {},
   "source": [
    "##### ARIMA(2,0,0)"
   ]
  },
  {
   "cell_type": "code",
   "execution_count": 19,
   "id": "f36882ef",
   "metadata": {
    "scrolled": false
   },
   "outputs": [
    {
     "name": "stderr",
     "output_type": "stream",
     "text": [
      "C:\\Users\\Erica Zhao\\anaconda3\\lib\\site-packages\\statsmodels\\tsa\\base\\tsa_model.py:578: ValueWarning: An unsupported index was provided and will be ignored when e.g. forecasting.\n",
      "  warnings.warn('An unsupported index was provided and will be'\n",
      "C:\\Users\\Erica Zhao\\anaconda3\\lib\\site-packages\\statsmodels\\tsa\\base\\tsa_model.py:578: ValueWarning: An unsupported index was provided and will be ignored when e.g. forecasting.\n",
      "  warnings.warn('An unsupported index was provided and will be'\n",
      "C:\\Users\\Erica Zhao\\anaconda3\\lib\\site-packages\\statsmodels\\tsa\\base\\tsa_model.py:578: ValueWarning: An unsupported index was provided and will be ignored when e.g. forecasting.\n",
      "  warnings.warn('An unsupported index was provided and will be'\n"
     ]
    },
    {
     "name": "stdout",
     "output_type": "stream",
     "text": [
      "                               SARIMAX Results                                \n",
      "==============================================================================\n",
      "Dep. Variable:                 Carbon   No. Observations:                  763\n",
      "Model:                 ARIMA(2, 0, 0)   Log Likelihood               -1678.536\n",
      "Date:                Mon, 08 Apr 2024   AIC                           3399.072\n",
      "Time:                        14:46:47   BIC                           3496.454\n",
      "Sample:                             0   HQIC                          3436.565\n",
      "                                - 763                                         \n",
      "Covariance Type:                  opg                                         \n",
      "=================================================================================\n",
      "                    coef    std err          z      P>|z|      [0.025      0.975]\n",
      "---------------------------------------------------------------------------------\n",
      "const            17.3399     10.978      1.579      0.114      -4.177      38.857\n",
      "Coal             -0.0156      0.008     -1.878      0.060      -0.032       0.001\n",
      "Crude Oil         0.2931      0.037      7.839      0.000       0.220       0.366\n",
      "Natural Gas       0.0054      0.009      0.592      0.554      -0.013       0.023\n",
      "Fit_for_55        9.3800      1.084      8.652      0.000       7.255      11.505\n",
      "Law               2.9450      1.309      2.250      0.024       0.380       5.510\n",
      "Compromise       -2.2884      1.268     -1.805      0.071      -4.773       0.196\n",
      "EPU              -0.0178      0.005     -3.733      0.000      -0.027      -0.008\n",
      "DAX              -0.0031      0.002     -1.664      0.096      -0.007       0.001\n",
      "SPGTCLNT         -0.0063      0.003     -2.245      0.025      -0.012      -0.001\n",
      "FTMIB            -0.0019      0.001     -2.804      0.005      -0.003      -0.001\n",
      "CAC40             0.0265      0.004      7.020      0.000       0.019       0.034\n",
      "AEX              -0.0844      0.031     -2.713      0.007      -0.145      -0.023\n",
      "STOXX             0.0478      0.084      0.572      0.568      -0.116       0.212\n",
      "Temperature      -0.0029      0.041     -0.070      0.945      -0.084       0.078\n",
      "Precipitation     0.0310      0.022      1.395      0.163      -0.013       0.075\n",
      "Solar Energy      0.0478      0.034      1.391      0.164      -0.020       0.115\n",
      "Wind Speed        0.0053      0.029      0.184      0.854      -0.051       0.061\n",
      "ar.L1             0.8569      0.039     21.992      0.000       0.781       0.933\n",
      "ar.L2             0.0517      0.041      1.268      0.205      -0.028       0.132\n",
      "sigma2            5.5757      0.291     19.163      0.000       5.005       6.146\n",
      "===================================================================================\n",
      "Ljung-Box (L1) (Q):                   3.48   Jarque-Bera (JB):               199.26\n",
      "Prob(Q):                              0.06   Prob(JB):                         0.00\n",
      "Heteroskedasticity (H):               0.91   Skew:                             0.37\n",
      "Prob(H) (two-sided):                  0.46   Kurtosis:                         5.39\n",
      "===================================================================================\n",
      "\n",
      "Warnings:\n",
      "[1] Covariance matrix calculated using the outer product of gradients (complex-step).\n"
     ]
    },
    {
     "name": "stderr",
     "output_type": "stream",
     "text": [
      "C:\\Users\\Erica Zhao\\anaconda3\\lib\\site-packages\\statsmodels\\base\\model.py:566: ConvergenceWarning: Maximum Likelihood optimization failed to converge. Check mle_retvals\n",
      "  warnings.warn(\"Maximum Likelihood optimization failed to \"\n"
     ]
    }
   ],
   "source": [
    "model_arima200 = ARIMA(_y, exog=X, order=(2,0,0))\n",
    "model_arima200_fit = model_arima200.fit()\n",
    "\n",
    "print(model_arima200_fit.summary())"
   ]
  },
  {
   "cell_type": "markdown",
   "id": "b65dd381",
   "metadata": {},
   "source": [
    "##### ARIMA(2,1,0)"
   ]
  },
  {
   "cell_type": "code",
   "execution_count": 20,
   "id": "8cd97410",
   "metadata": {
    "scrolled": false
   },
   "outputs": [
    {
     "name": "stderr",
     "output_type": "stream",
     "text": [
      "C:\\Users\\Erica Zhao\\anaconda3\\lib\\site-packages\\statsmodels\\tsa\\base\\tsa_model.py:578: ValueWarning: An unsupported index was provided and will be ignored when e.g. forecasting.\n",
      "  warnings.warn('An unsupported index was provided and will be'\n",
      "C:\\Users\\Erica Zhao\\anaconda3\\lib\\site-packages\\statsmodels\\tsa\\base\\tsa_model.py:578: ValueWarning: An unsupported index was provided and will be ignored when e.g. forecasting.\n",
      "  warnings.warn('An unsupported index was provided and will be'\n",
      "C:\\Users\\Erica Zhao\\anaconda3\\lib\\site-packages\\statsmodels\\tsa\\base\\tsa_model.py:578: ValueWarning: An unsupported index was provided and will be ignored when e.g. forecasting.\n",
      "  warnings.warn('An unsupported index was provided and will be'\n"
     ]
    },
    {
     "name": "stdout",
     "output_type": "stream",
     "text": [
      "                               SARIMAX Results                                \n",
      "==============================================================================\n",
      "Dep. Variable:                 Carbon   No. Observations:                  763\n",
      "Model:                 ARIMA(2, 1, 0)   Log Likelihood               -1585.252\n",
      "Date:                Mon, 08 Apr 2024   AIC                           3210.503\n",
      "Time:                        14:46:50   BIC                           3303.222\n",
      "Sample:                             0   HQIC                          3246.203\n",
      "                                - 763                                         \n",
      "Covariance Type:                  opg                                         \n",
      "=================================================================================\n",
      "                    coef    std err          z      P>|z|      [0.025      0.975]\n",
      "---------------------------------------------------------------------------------\n",
      "Coal             -0.0039      0.007     -0.566      0.571      -0.018       0.010\n",
      "Crude Oil         0.0430      0.036      1.179      0.238      -0.028       0.115\n",
      "Natural Gas       0.0152      0.008      1.982      0.047       0.000       0.030\n",
      "Fit_for_55        0.4909     15.994      0.031      0.976     -30.857      31.838\n",
      "Law              -2.9832      6.818     -0.438      0.662     -16.347      10.380\n",
      "Compromise        2.7217      9.890      0.275      0.783     -16.662      22.105\n",
      "EPU              -0.0368      0.005     -8.084      0.000      -0.046      -0.028\n",
      "DAX               0.0023      0.001      1.510      0.131      -0.001       0.005\n",
      "SPGTCLNT         -0.0040      0.002     -1.810      0.070      -0.008       0.000\n",
      "FTMIB             0.0007      0.001      1.333      0.183      -0.000       0.002\n",
      "CAC40             0.0104      0.004      2.969      0.003       0.004       0.017\n",
      "AEX               0.0113      0.024      0.482      0.630      -0.035       0.058\n",
      "STOXX            -0.2131      0.068     -3.134      0.002      -0.346      -0.080\n",
      "Temperature       0.0402      0.028      1.421      0.155      -0.015       0.096\n",
      "Precipitation     0.0019      0.014      0.133      0.894      -0.026       0.029\n",
      "Solar Energy     -0.0047      0.025     -0.185      0.854      -0.054       0.045\n",
      "Wind Speed       -0.0193      0.020     -0.964      0.335      -0.059       0.020\n",
      "ar.L1            -0.0978      0.029     -3.362      0.001      -0.155      -0.041\n",
      "ar.L2             0.0804      0.034      2.351      0.019       0.013       0.148\n",
      "sigma2            3.7603      0.147     25.566      0.000       3.472       4.049\n",
      "===================================================================================\n",
      "Ljung-Box (L1) (Q):                   0.01   Jarque-Bera (JB):               251.49\n",
      "Prob(Q):                              0.94   Prob(JB):                         0.00\n",
      "Heteroskedasticity (H):               1.02   Skew:                             0.34\n",
      "Prob(H) (two-sided):                  0.87   Kurtosis:                         5.73\n",
      "===================================================================================\n",
      "\n",
      "Warnings:\n",
      "[1] Covariance matrix calculated using the outer product of gradients (complex-step).\n"
     ]
    }
   ],
   "source": [
    "model_arima210 = ARIMA(_y, exog=X, order=(2,1,0))\n",
    "model_arima210_fit = model_arima210.fit()\n",
    "\n",
    "print(model_arima210_fit.summary())"
   ]
  },
  {
   "cell_type": "markdown",
   "id": "291ef87a",
   "metadata": {},
   "source": [
    "##### ARIMA(2,0,1)"
   ]
  },
  {
   "cell_type": "code",
   "execution_count": 21,
   "id": "79a4afa0",
   "metadata": {},
   "outputs": [
    {
     "name": "stderr",
     "output_type": "stream",
     "text": [
      "C:\\Users\\Erica Zhao\\anaconda3\\lib\\site-packages\\statsmodels\\tsa\\base\\tsa_model.py:578: ValueWarning: An unsupported index was provided and will be ignored when e.g. forecasting.\n",
      "  warnings.warn('An unsupported index was provided and will be'\n",
      "C:\\Users\\Erica Zhao\\anaconda3\\lib\\site-packages\\statsmodels\\tsa\\base\\tsa_model.py:578: ValueWarning: An unsupported index was provided and will be ignored when e.g. forecasting.\n",
      "  warnings.warn('An unsupported index was provided and will be'\n",
      "C:\\Users\\Erica Zhao\\anaconda3\\lib\\site-packages\\statsmodels\\tsa\\base\\tsa_model.py:578: ValueWarning: An unsupported index was provided and will be ignored when e.g. forecasting.\n",
      "  warnings.warn('An unsupported index was provided and will be'\n"
     ]
    },
    {
     "name": "stdout",
     "output_type": "stream",
     "text": [
      "                               SARIMAX Results                                \n",
      "==============================================================================\n",
      "Dep. Variable:                 Carbon   No. Observations:                  763\n",
      "Model:                 ARIMA(2, 0, 1)   Log Likelihood               -1678.286\n",
      "Date:                Mon, 08 Apr 2024   AIC                           3400.572\n",
      "Time:                        14:46:57   BIC                           3502.592\n",
      "Sample:                             0   HQIC                          3439.851\n",
      "                                - 763                                         \n",
      "Covariance Type:                  opg                                         \n",
      "=================================================================================\n",
      "                    coef    std err          z      P>|z|      [0.025      0.975]\n",
      "---------------------------------------------------------------------------------\n",
      "const            17.3399     11.066      1.567      0.117      -4.349      39.029\n",
      "Coal             -0.0161      0.008     -1.925      0.054      -0.032       0.000\n",
      "Crude Oil         0.2936      0.037      7.844      0.000       0.220       0.367\n",
      "Natural Gas       0.0058      0.009      0.627      0.531      -0.012       0.024\n",
      "Fit_for_55        9.3800      1.085      8.645      0.000       7.253      11.507\n",
      "Law               2.9450      1.313      2.243      0.025       0.371       5.519\n",
      "Compromise       -2.2884      1.276     -1.793      0.073      -4.790       0.213\n",
      "EPU              -0.0167      0.005     -3.318      0.001      -0.027      -0.007\n",
      "DAX              -0.0030      0.002     -1.613      0.107      -0.007       0.001\n",
      "SPGTCLNT         -0.0066      0.003     -2.308      0.021      -0.012      -0.001\n",
      "FTMIB            -0.0021      0.001     -2.971      0.003      -0.003      -0.001\n",
      "CAC40             0.0267      0.004      7.057      0.000       0.019       0.034\n",
      "AEX              -0.0848      0.031     -2.740      0.006      -0.145      -0.024\n",
      "STOXX             0.0478      0.085      0.564      0.573      -0.118       0.214\n",
      "Temperature      -0.0034      0.041     -0.082      0.934      -0.085       0.078\n",
      "Precipitation     0.0311      0.022      1.401      0.161      -0.012       0.075\n",
      "Solar Energy      0.0481      0.034      1.394      0.163      -0.019       0.116\n",
      "Wind Speed        0.0056      0.029      0.197      0.844      -0.050       0.062\n",
      "ar.L1             0.4240      0.630      0.673      0.501      -0.811       1.659\n",
      "ar.L2             0.4440      0.569      0.780      0.435      -0.672       1.560\n",
      "ma.L1             0.4360      0.646      0.675      0.500      -0.830       1.702\n",
      "sigma2            5.5787      0.293     19.023      0.000       5.004       6.154\n",
      "===================================================================================\n",
      "Ljung-Box (L1) (Q):                   3.16   Jarque-Bera (JB):               201.00\n",
      "Prob(Q):                              0.08   Prob(JB):                         0.00\n",
      "Heteroskedasticity (H):               0.91   Skew:                             0.38\n",
      "Prob(H) (two-sided):                  0.46   Kurtosis:                         5.40\n",
      "===================================================================================\n",
      "\n",
      "Warnings:\n",
      "[1] Covariance matrix calculated using the outer product of gradients (complex-step).\n"
     ]
    },
    {
     "name": "stderr",
     "output_type": "stream",
     "text": [
      "C:\\Users\\Erica Zhao\\anaconda3\\lib\\site-packages\\statsmodels\\base\\model.py:566: ConvergenceWarning: Maximum Likelihood optimization failed to converge. Check mle_retvals\n",
      "  warnings.warn(\"Maximum Likelihood optimization failed to \"\n"
     ]
    }
   ],
   "source": [
    "model_arima201 = ARIMA(_y, exog=X, order=(2,0,1))\n",
    "model_arima201_fit = model_arima201.fit()\n",
    "\n",
    "print(model_arima201_fit.summary())"
   ]
  },
  {
   "cell_type": "markdown",
   "id": "6abdbfe5",
   "metadata": {},
   "source": [
    "##### ARIMA(2,1,1)"
   ]
  },
  {
   "cell_type": "code",
   "execution_count": 22,
   "id": "108251c6",
   "metadata": {},
   "outputs": [
    {
     "name": "stderr",
     "output_type": "stream",
     "text": [
      "C:\\Users\\Erica Zhao\\anaconda3\\lib\\site-packages\\statsmodels\\tsa\\base\\tsa_model.py:578: ValueWarning: An unsupported index was provided and will be ignored when e.g. forecasting.\n",
      "  warnings.warn('An unsupported index was provided and will be'\n",
      "C:\\Users\\Erica Zhao\\anaconda3\\lib\\site-packages\\statsmodels\\tsa\\base\\tsa_model.py:578: ValueWarning: An unsupported index was provided and will be ignored when e.g. forecasting.\n",
      "  warnings.warn('An unsupported index was provided and will be'\n",
      "C:\\Users\\Erica Zhao\\anaconda3\\lib\\site-packages\\statsmodels\\tsa\\base\\tsa_model.py:578: ValueWarning: An unsupported index was provided and will be ignored when e.g. forecasting.\n",
      "  warnings.warn('An unsupported index was provided and will be'\n"
     ]
    },
    {
     "name": "stdout",
     "output_type": "stream",
     "text": [
      "                               SARIMAX Results                                \n",
      "==============================================================================\n",
      "Dep. Variable:                 Carbon   No. Observations:                  763\n",
      "Model:                 ARIMA(2, 1, 1)   Log Likelihood               -1585.249\n",
      "Date:                Mon, 08 Apr 2024   AIC                           3212.498\n",
      "Time:                        14:47:01   BIC                           3309.853\n",
      "Sample:                             0   HQIC                          3249.983\n",
      "                                - 763                                         \n",
      "Covariance Type:                  opg                                         \n",
      "=================================================================================\n",
      "                    coef    std err          z      P>|z|      [0.025      0.975]\n",
      "---------------------------------------------------------------------------------\n",
      "Coal             -0.0040      0.007     -0.578      0.563      -0.018       0.010\n",
      "Crude Oil         0.0430      0.037      1.175      0.240      -0.029       0.115\n",
      "Natural Gas       0.0153      0.008      1.992      0.046       0.000       0.030\n",
      "Fit_for_55        0.4909     16.177      0.030      0.976     -31.215      32.196\n",
      "Law              -2.9832      6.794     -0.439      0.661     -16.298      10.332\n",
      "Compromise        2.7217      9.707      0.280      0.779     -16.304      21.747\n",
      "EPU              -0.0369      0.005     -8.023      0.000      -0.046      -0.028\n",
      "DAX               0.0023      0.001      1.512      0.131      -0.001       0.005\n",
      "SPGTCLNT         -0.0040      0.002     -1.767      0.077      -0.008       0.000\n",
      "FTMIB             0.0007      0.001      1.308      0.191      -0.000       0.002\n",
      "CAC40             0.0104      0.004      2.941      0.003       0.003       0.017\n",
      "AEX               0.0112      0.024      0.477      0.634      -0.035       0.057\n",
      "STOXX            -0.2130      0.068     -3.124      0.002      -0.347      -0.079\n",
      "Temperature       0.0401      0.028      1.418      0.156      -0.015       0.096\n",
      "Precipitation     0.0019      0.014      0.137      0.891      -0.026       0.030\n",
      "Solar Energy     -0.0047      0.025     -0.185      0.853      -0.055       0.045\n",
      "Wind Speed       -0.0195      0.020     -0.970      0.332      -0.059       0.020\n",
      "ar.L1            -0.1324      0.378     -0.350      0.726      -0.874       0.609\n",
      "ar.L2             0.0768      0.055      1.390      0.164      -0.031       0.185\n",
      "ma.L1             0.0328      0.380      0.086      0.931      -0.712       0.778\n",
      "sigma2            3.7642      0.148     25.453      0.000       3.474       4.054\n",
      "===================================================================================\n",
      "Ljung-Box (L1) (Q):                   0.00   Jarque-Bera (JB):               251.55\n",
      "Prob(Q):                              0.98   Prob(JB):                         0.00\n",
      "Heteroskedasticity (H):               1.02   Skew:                             0.34\n",
      "Prob(H) (two-sided):                  0.88   Kurtosis:                         5.73\n",
      "===================================================================================\n",
      "\n",
      "Warnings:\n",
      "[1] Covariance matrix calculated using the outer product of gradients (complex-step).\n"
     ]
    }
   ],
   "source": [
    "model_arima211 = ARIMA(_y, exog=X, order=(2,1,1))\n",
    "model_arima211_fit = model_arima211.fit()\n",
    "\n",
    "print(model_arima211_fit.summary())"
   ]
  },
  {
   "cell_type": "markdown",
   "id": "f9385248",
   "metadata": {},
   "source": [
    "## 5.3 Performance and Results"
   ]
  },
  {
   "cell_type": "code",
   "execution_count": 39,
   "id": "677bcab6",
   "metadata": {},
   "outputs": [],
   "source": [
    "X = df.drop(['Date', 'Carbon'], axis=1)\n",
    "y = df['Carbon']"
   ]
  },
  {
   "cell_type": "markdown",
   "id": "d18063d6",
   "metadata": {},
   "source": [
    "### ARIMA Model"
   ]
  },
  {
   "cell_type": "code",
   "execution_count": 40,
   "id": "e9ec693b",
   "metadata": {},
   "outputs": [],
   "source": [
    "train_size = int(len(df) * 0.8)\n",
    "train_indices = df.index[:train_size]\n",
    "test_indices = df.index[train_size:]\n",
    "\n",
    "y_train, y_test = y.loc[train_indices], y.loc[test_indices]\n",
    "X_train, X_test = X.loc[train_indices], X.loc[test_indices]"
   ]
  },
  {
   "cell_type": "code",
   "execution_count": 41,
   "id": "7babeadd",
   "metadata": {},
   "outputs": [
    {
     "name": "stderr",
     "output_type": "stream",
     "text": [
      "C:\\Users\\Erica Zhao\\anaconda3\\lib\\site-packages\\statsmodels\\tsa\\base\\tsa_model.py:578: ValueWarning: An unsupported index was provided and will be ignored when e.g. forecasting.\n",
      "  warnings.warn('An unsupported index was provided and will be'\n",
      "C:\\Users\\Erica Zhao\\anaconda3\\lib\\site-packages\\statsmodels\\tsa\\base\\tsa_model.py:578: ValueWarning: An unsupported index was provided and will be ignored when e.g. forecasting.\n",
      "  warnings.warn('An unsupported index was provided and will be'\n",
      "C:\\Users\\Erica Zhao\\anaconda3\\lib\\site-packages\\statsmodels\\tsa\\base\\tsa_model.py:578: ValueWarning: An unsupported index was provided and will be ignored when e.g. forecasting.\n",
      "  warnings.warn('An unsupported index was provided and will be'\n"
     ]
    },
    {
     "name": "stdout",
     "output_type": "stream",
     "text": [
      "                               SARIMAX Results                                \n",
      "==============================================================================\n",
      "Dep. Variable:                 Carbon   No. Observations:                  610\n",
      "Model:                 ARIMA(1, 1, 1)   Log Likelihood               -1311.150\n",
      "Date:                Mon, 08 Apr 2024   AIC                           2662.300\n",
      "Time:                        14:55:09   BIC                           2750.536\n",
      "Sample:                             0   HQIC                          2696.626\n",
      "                                - 610                                         \n",
      "Covariance Type:                  opg                                         \n",
      "=================================================================================\n",
      "                    coef    std err          z      P>|z|      [0.025      0.975]\n",
      "---------------------------------------------------------------------------------\n",
      "Coal             -0.0042      0.008     -0.514      0.607      -0.020       0.012\n",
      "Crude Oil         0.0429      0.044      0.980      0.327      -0.043       0.129\n",
      "Natural Gas       0.0152      0.009      1.668      0.095      -0.003       0.033\n",
      "Fit_for_55    -4.907e-11   1.03e-08     -0.005      0.996   -2.02e-08    2.01e-08\n",
      "Law              -3.0699      8.513     -0.361      0.718     -19.754      13.614\n",
      "Compromise        2.8246      9.762      0.289      0.772     -16.309      21.959\n",
      "EPU              -0.0428      0.006     -6.945      0.000      -0.055      -0.031\n",
      "DAX               0.0017      0.002      0.924      0.355      -0.002       0.005\n",
      "SPGTCLNT         -0.0086      0.003     -3.038      0.002      -0.014      -0.003\n",
      "FTMIB             0.0009      0.001      1.399      0.162      -0.000       0.002\n",
      "CAC40             0.0112      0.004      2.653      0.008       0.003       0.019\n",
      "AEX               0.0099      0.027      0.363      0.716      -0.043       0.063\n",
      "STOXX            -0.2031      0.080     -2.534      0.011      -0.360      -0.046\n",
      "Temperature       0.0690      0.036      1.919      0.055      -0.001       0.140\n",
      "Precipitation     0.0070      0.017      0.424      0.672      -0.026       0.040\n",
      "Solar Energy      0.0068      0.033      0.206      0.837      -0.058       0.071\n",
      "Wind Speed       -0.0318      0.025     -1.282      0.200      -0.080       0.017\n",
      "ar.L1            -0.5759      0.202     -2.856      0.004      -0.971      -0.181\n",
      "ma.L1             0.4568      0.218      2.098      0.036       0.030       0.884\n",
      "sigma2            4.3532      0.201     21.668      0.000       3.959       4.747\n",
      "===================================================================================\n",
      "Ljung-Box (L1) (Q):                   0.08   Jarque-Bera (JB):               141.23\n",
      "Prob(Q):                              0.78   Prob(JB):                         0.00\n",
      "Heteroskedasticity (H):               2.54   Skew:                             0.28\n",
      "Prob(H) (two-sided):                  0.00   Kurtosis:                         5.29\n",
      "===================================================================================\n",
      "\n",
      "Warnings:\n",
      "[1] Covariance matrix calculated using the outer product of gradients (complex-step).\n",
      "[2] Covariance matrix is singular or near-singular, with condition number 1.67e+20. Standard errors may be unstable.\n"
     ]
    }
   ],
   "source": [
    "model_arima111 = ARIMA(y_train, exog=X_train, order=(1,1,1))\n",
    "model_arima111_fit = model_arima111.fit()\n",
    "\n",
    "print(model_arima111_fit.summary())"
   ]
  },
  {
   "cell_type": "code",
   "execution_count": 42,
   "id": "3b5e2086",
   "metadata": {},
   "outputs": [
    {
     "name": "stderr",
     "output_type": "stream",
     "text": [
      "C:\\Users\\Erica Zhao\\anaconda3\\lib\\site-packages\\statsmodels\\tsa\\base\\tsa_model.py:376: ValueWarning: No supported index is available. Prediction results will be given with an integer index beginning at `start`.\n",
      "  warnings.warn('No supported index is available.'\n"
     ]
    }
   ],
   "source": [
    "forecast = model_arima111_fit.get_forecast(steps=len(y_test), exog=X_test)\n",
    "y_pred = forecast.predicted_mean\n",
    "forecast_conf_int = forecast.conf_int()"
   ]
  },
  {
   "cell_type": "code",
   "execution_count": 43,
   "id": "f9756d01",
   "metadata": {},
   "outputs": [
    {
     "name": "stdout",
     "output_type": "stream",
     "text": [
      "RMSE: 6.600513955565015\n"
     ]
    }
   ],
   "source": [
    "mse = mean_squared_error(y_test, forecast_pred)\n",
    "rmse = np.sqrt(mse)\n",
    "\n",
    "print(f\"RMSE: {rmse}\")"
   ]
  },
  {
   "cell_type": "markdown",
   "id": "af4043e4",
   "metadata": {},
   "source": [
    "### Random Forest"
   ]
  },
  {
   "cell_type": "code",
   "execution_count": 44,
   "id": "81178340",
   "metadata": {},
   "outputs": [],
   "source": [
    "X_train, X_test, y_train, y_test = train_test_split(X, y, test_size=0.2, random_state=42)"
   ]
  },
  {
   "cell_type": "code",
   "execution_count": 45,
   "id": "d55ff4a2",
   "metadata": {},
   "outputs": [],
   "source": [
    "random_forest_model = RandomForestRegressor(n_estimators=100, random_state=42)\n",
    "\n",
    "random_forest_model.fit(X_train, y_train)\n",
    "\n",
    "y_pred = random_forest_model.predict(X_test)"
   ]
  },
  {
   "cell_type": "code",
   "execution_count": 46,
   "id": "0fde7f55",
   "metadata": {},
   "outputs": [
    {
     "name": "stdout",
     "output_type": "stream",
     "text": [
      "RMSE: 2.4830201770835325\n"
     ]
    }
   ],
   "source": [
    "mse = mean_squared_error(y_test, y_pred)\n",
    "rmse = np.sqrt(mse)\n",
    "\n",
    "print(f\"RMSE: {rmse}\")"
   ]
  },
  {
   "cell_type": "code",
   "execution_count": 47,
   "id": "f296b048",
   "metadata": {},
   "outputs": [
    {
     "name": "stdout",
     "output_type": "stream",
     "text": [
      "EPU              0.512976\n",
      "Fit_for_55       0.196444\n",
      "SPGTCLNT         0.076453\n",
      "Crude Oil        0.044933\n",
      "Coal             0.041055\n",
      "FTMIB            0.031502\n",
      "Natural Gas      0.027423\n",
      "AEX              0.021751\n",
      "CAC40            0.012578\n",
      "STOXX            0.011108\n",
      "Solar Energy     0.008974\n",
      "DAX              0.006486\n",
      "Temperature      0.004435\n",
      "Wind Speed       0.002428\n",
      "Precipitation    0.001408\n",
      "Law              0.000027\n",
      "Compromise       0.000017\n",
      "dtype: float64\n"
     ]
    }
   ],
   "source": [
    "# importance of variables\n",
    "feature_importances = pd.Series(random_forest_model.feature_importances_, index=X.columns).sort_values(ascending=False)\n",
    "print(feature_importances)"
   ]
  },
  {
   "cell_type": "markdown",
   "id": "a75214ec",
   "metadata": {},
   "source": [
    "### LSTM Model"
   ]
  },
  {
   "cell_type": "markdown",
   "id": "52b4711c",
   "metadata": {},
   "source": [
    "## 5.4 Discussion"
   ]
  },
  {
   "cell_type": "markdown",
   "id": "dc3ef2cc",
   "metadata": {},
   "source": [
    "# Section VI Conclusion"
   ]
  },
  {
   "cell_type": "code",
   "execution_count": null,
   "id": "9dd9df4a",
   "metadata": {},
   "outputs": [],
   "source": []
  }
 ],
 "metadata": {
  "kernelspec": {
   "display_name": "Python 3",
   "language": "python",
   "name": "python3"
  },
  "language_info": {
   "codemirror_mode": {
    "name": "ipython",
    "version": 3
   },
   "file_extension": ".py",
   "mimetype": "text/x-python",
   "name": "python",
   "nbconvert_exporter": "python",
   "pygments_lexer": "ipython3",
   "version": "3.8.8"
  }
 },
 "nbformat": 4,
 "nbformat_minor": 5
}
